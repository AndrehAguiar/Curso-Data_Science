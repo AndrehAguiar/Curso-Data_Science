{
  "nbformat": 4,
  "nbformat_minor": 0,
  "metadata": {
    "colab": {
      "name": "Curso_Data-Science.ipynb",
      "provenance": [],
      "collapsed_sections": [],
      "include_colab_link": true
    },
    "kernelspec": {
      "name": "python3",
      "display_name": "Python 3"
    }
  },
  "cells": [
    {
      "cell_type": "markdown",
      "metadata": {
        "id": "view-in-github",
        "colab_type": "text"
      },
      "source": [
        "<a href=\"https://colab.research.google.com/github/AndrehAguiar/Curso-Data_Science/blob/master/Curso_Data_Science.ipynb\" target=\"_parent\"><img src=\"https://colab.research.google.com/assets/colab-badge.svg\" alt=\"Open In Colab\"/></a>"
      ]
    },
    {
      "cell_type": "code",
      "metadata": {
        "id": "_iQzxfDSHMuW",
        "colab_type": "code",
        "colab": {}
      },
      "source": [
        "from google.colab import drive, files\n",
        "# drive.mount('/content/drive')\n",
        "cont_bac = {}\n",
        "cont_hum = {}\n",
        "comb = ['A', 'T', 'C', 'G']\n",
        "saida = open(\"dna.html\",\"w\")\n",
        "\n",
        "# DNA Bacteria\n",
        "with open(\"/content/drive/My Drive/Colab Notebooks/CSVs/bacteria.fasta\") as file_bac:\n",
        "    linhas = [k.strip() for k in file_bac]\n",
        "\n",
        "if linhas[0].startswith('>'):\n",
        "    header = linhas[0]\n",
        "    seq_bac = ''.join(linhas[1:])\n",
        "else:\n",
        "    header = \"\"\n",
        "    seq_bac = ''.join(linhas)\n",
        "    \n",
        "entrada_bac = seq_bac.replace(\"\\n\",\"\")\n",
        "\n",
        "for i in comb:\n",
        "    for j in comb:\n",
        "        cont_hum[i+j] = 0\n",
        "        cont_bac[i+j] = 0\n",
        "\n",
        "for l in range(len(entrada_bac)-1):   \n",
        "    cont_bac[entrada_bac[l]+entrada_bac[l+1]] += 1\n",
        "\n",
        "saida.write(\"<h2>Comparação de DNA (Bactéria / Humano)</h2><div style='color:#fff; display:inline-block'><div style='margin:0 20px 20px 0; float:left; display:grid; grid-template-columns:100px 100px 100px 100px; grid-template-rows:100px 100px 100px 100px'>\")\n",
        "\n",
        "for l in cont_bac:\n",
        "  transp = cont_bac[l]/max(cont_bac.values())\n",
        "  saida.write(\"<div style='border:1px solid #111; background-color:rgba(0, 0, 0,\"+str(transp)+\"')>\"+l+\"</div>\")\n",
        "\n",
        "saida.write(\"</div>\")\n",
        "saida.write(\"<div style='margin:0 20px 20px 0; float:left; display:grid; grid-template-columns:100px 100px 100px 100px; grid-template-rows:100px 100px 100px 100px'>\")\n",
        "\n",
        "# DNA Humano\n",
        "with open(\"/content/drive/My Drive/Colab Notebooks/CSVs/human.fasta\") as file_hum:\n",
        "    linhas = [k.strip() for k in file_hum]\n",
        "\n",
        "if linhas[0].startswith('>'):\n",
        "    header = linhas[0]\n",
        "    seq_hum = ''.join(linhas[1:])\n",
        "else:\n",
        "    header = \"\"\n",
        "    seq_hum = ''.join(linhas)\n",
        "    \n",
        "entrada_hum = seq_hum.replace(\"\\n\",\"\")\n",
        "\n",
        "for k in range(len(entrada_hum)-1):   \n",
        "    cont_hum[entrada_hum[k]+entrada_hum[k+1]] += 1\n",
        "    \n",
        "for k in cont_hum:\n",
        "  transp = cont_hum[k]/max(cont_hum.values())\n",
        "  saida.write(\"<div style='border:1px solid #111; background-color:rgba(0, 0, 0,\"+str(transp)+\"')>\"+k+\"</div>\")\n",
        "\n",
        "saida.write(\"</div></div>\")\n",
        "saida.close()\n",
        "files.download(\"dna.html\")"
      ],
      "execution_count": 0,
      "outputs": []
    }
  ]
}