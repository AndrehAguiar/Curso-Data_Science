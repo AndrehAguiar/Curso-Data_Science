{
 "cells": [
  {
   "cell_type": "markdown",
   "metadata": {},
   "source": [
    "## Maths for Data Science by DataTrained"
   ]
  },
  {
   "cell_type": "markdown",
   "metadata": {},
   "source": [
    "### Understand how to work with vectors in Python and Basis and Projection of Vectors in Python"
   ]
  },
  {
   "cell_type": "code",
   "execution_count": 1,
   "metadata": {},
   "outputs": [],
   "source": [
    "import numpy as np\n",
    "import numpy.linalg as la\n",
    "import matplotlib.pyplot as plt"
   ]
  },
  {
   "cell_type": "code",
   "execution_count": 2,
   "metadata": {},
   "outputs": [
    {
     "name": "stdout",
     "output_type": "stream",
     "text": [
      "Confirm 1/la.norm * la.norm = 1.0\n",
      "Length of vector v: 2.8284271247461903\n",
      "Vector vunit in same direction as v: [0.70710678 0.70710678]\n",
      "Dot product vunit with ihat +ve when facing same direction: 0.7071067811865475\n"
     ]
    },
    {
     "data": {
      "image/png": "[encoded data removed]",
      "text/plain": [
       "<Figure size 720x720 with 1 Axes>"
      ]
     },
     "metadata": {
      "needs_background": "light"
     },
     "output_type": "display_data"
    }
   ],
   "source": [
    "# unit basics vectors (typical Cartesian axis basics vector)\n",
    "ihat = np.array([1,0])\n",
    "jhat = np.array([0,1])\n",
    "\n",
    "# The vector v\n",
    "v = np.array([ 2, 2 ])\n",
    "\n",
    "# Now we define a scalar s, such that s multiplied by the magnitude of the vector v = 1\n",
    "# We do this operation just to create a unit vector in the same direction as the vector v\n",
    "# Note that the magnitude of the vector v is = 2.82843 or (2*(root 2))\n",
    "len = la.norm(v)\n",
    "s = 1/la.norm(v)\n",
    "\n",
    "# We can confirm this by multiplying by la.norm, thus the proof s * la.norm(v) = 1\n",
    "check = s * la.norm(v)\n",
    "\n",
    "# Now we calculate the unit vector (scale) based on the scalar computed\n",
    "vunit = v*s\n",
    "\n",
    "# Dot product of vunit with unit basics vector ihat\n",
    "# This dot product is +ve when both vector are facing the same direction\n",
    "# Not using np.dot as numpy docs recomend '@' when the operators are vectors\n",
    "dp = vunit @ ihat\n",
    "\n",
    "# Configure plot values, formating etc.\n",
    "# Note that projection of vunit on ihat, jhat is vunit @ ihat, vunit @ jhat\n",
    "# Demonstrating that the dot product is the cosine between two vectos\n",
    "plt.figure(figsize=(10,10))\n",
    "plt.plot([0, v[0]], [0, v[1]], 'b:', label='v', linewidth=3)\n",
    "plt.plot([0, vunit[0]], [0, vunit[1]], 'r:', linestyle='-', label='vunit', linewidth=3)\n",
    "plt.plot([0, 1], [0, 0], 'r:', label='ihat', linewidth=4)\n",
    "plt.plot([0, 0], [0, 1], 'r:', label='jhat', linewidth=4)\n",
    "plt.plot([0, vunit[0]], [0,0], 'k', label='prj on x', linewidth=2)\n",
    "plt.plot([0,0], [0, vunit[1]], 'k', label='prj on y', linewidth=2)\n",
    "\n",
    "# Generate the plot width axis, grid, legend\n",
    "print(f\"\\\n",
    "Confirm 1/la.norm * la.norm = {check}\\n\\\n",
    "Length of vector v: {len}\\n\\\n",
    "Vector vunit in same direction as v: {vunit}\\n\\\n",
    "Dot product vunit with ihat +ve when facing same direction: {dp}\\\n",
    "\")\n",
    "plt.axis('square')\n",
    "plt.axis((-1,3,-1,3))\n",
    "plt.grid()\n",
    "plt.legend()\n",
    "plt.show()"
   ]
  },
  {
   "cell_type": "markdown",
   "metadata": {},
   "source": [
    "### Work with Matrices"
   ]
  },
  {
   "cell_type": "code",
   "execution_count": 3,
   "metadata": {},
   "outputs": [],
   "source": [
    "A = np.matrix([[1,2],[3,4]])"
   ]
  },
  {
   "cell_type": "code",
   "execution_count": 4,
   "metadata": {},
   "outputs": [],
   "source": [
    "B = 5 + A"
   ]
  },
  {
   "cell_type": "code",
   "execution_count": 5,
   "metadata": {},
   "outputs": [],
   "source": [
    "C = A + B"
   ]
  },
  {
   "cell_type": "code",
   "execution_count": 6,
   "metadata": {},
   "outputs": [
    {
     "name": "stdout",
     "output_type": "stream",
     "text": [
      "A = [[1 2]\n",
      " [3 4]]\n",
      "B = [[6 7]\n",
      " [8 9]]\n",
      "C = [[ 7  9]\n",
      " [11 13]]\n"
     ]
    }
   ],
   "source": [
    "print(f'A = {A}',f'B = {B}',f'C = {C}', sep='\\n')"
   ]
  },
  {
   "cell_type": "markdown",
   "metadata": {},
   "source": [
    "### Matrix Multiplication"
   ]
  },
  {
   "cell_type": "code",
   "execution_count": 7,
   "metadata": {},
   "outputs": [
    {
     "name": "stdout",
     "output_type": "stream",
     "text": [
      "[[19 22]\n",
      " [43 50]]\n"
     ]
    }
   ],
   "source": [
    "# Generate two 2x2 matrices A, B\n",
    "# Resultant C will have A rows and B cols\n",
    "# Therefore C has 2 rows and 2 cols\n",
    "\n",
    "A = np.matrix([[1,2],\n",
    "               [3,4]])\n",
    "\n",
    "B = np.matrix([[5,6],\n",
    "               [7,8]])\n",
    "\n",
    "C = A * B\n",
    "print(C)"
   ]
  },
  {
   "cell_type": "code",
   "execution_count": 8,
   "metadata": {},
   "outputs": [
    {
     "name": "stdout",
     "output_type": "stream",
     "text": [
      "A\n",
      "[[1 2]]\n",
      "[[3 4]]\n",
      "B\n",
      "[[5 6]]\n",
      "[[7 8]]\n",
      "\n",
      "[(1 * 5) + (2 * 7)][(1 * 6) + (2 * 8)]\n",
      "[(3 * 5) + (4 * 7)][(3 * 6) + (4 * 8)]\n",
      "========================================\n",
      "[5 + 14][6 + 16]\n",
      "[15 + 28][18 + 32]\n",
      "====================\n",
      "[[19 22]]\n",
      "[[43 50]]\n",
      "==========\n"
     ]
    }
   ],
   "source": [
    "print('A',*A,'B',*B,sep='\\n')\n",
    "\n",
    "print(f'\\n\\\n",
    "[({A[0,0]} * {B[0,0]}) + ({A[0,1]} * {B[1,0]})]\\\n",
    "[({A[0,0]} * {B[0,1]}) + ({A[0,1]} * {B[1,1]})]\\n\\\n",
    "[({A[1,0]} * {B[0,0]}) + ({A[1,1]} * {B[1,0]})]\\\n",
    "[({A[1,0]} * {B[0,1]}) + ({A[1,1]} * {B[1,1]})]\\n\\\n",
    "{(\"=\")*40}')\n",
    "print(f'\\\n",
    "[{A[0,0] * B[0,0]} + {A[0,1] * B[1,0]}]\\\n",
    "[{A[0,0] * B[0,1]} + {A[0,1] * B[1,1]}]\\n\\\n",
    "[{A[1,0] * B[0,0]} + {A[1,1] * B[1,0]}]\\\n",
    "[{A[1,0] * B[0,1]} + {A[1,1] * B[1,1]}]\\n\\\n",
    "{(\"=\")*20}')\n",
    "print(f'\\\n",
    "[[{A[0,0] * B[0,0] + A[0,1] * B[1,0]} \\\n",
    "{A[0,0] * B[0,1] + A[0,1] * B[1,1]}]]\\n\\\n",
    "[[{A[1,0] * B[0,0] + A[1,1] * B[1,0]} \\\n",
    "{A[1,0] * B[0,1] + A[1,1] * B[1,1]}]]\\n\\\n",
    "{(\"=\")*10}')"
   ]
  },
  {
   "cell_type": "code",
   "execution_count": 9,
   "metadata": {},
   "outputs": [
    {
     "name": "stdout",
     "output_type": "stream",
     "text": [
      "[[19 22]]\n",
      "[[43 50]]\n"
     ]
    }
   ],
   "source": [
    "print(*np.matrix([[(A[0,0]*B[0,0]) + (A[0,1]*B[1,0]),\n",
    "        (A[0,0]*B[0,1]) + (A[0,1]*B[1,1])],\n",
    "          [(A[1,0]*B[0,0]) + (A[1,1]*B[1,0]),\n",
    "        (A[1,0]*B[0,1]) + (A[1,1]*B[1,1])]]),sep='\\n')"
   ]
  },
  {
   "cell_type": "code",
   "execution_count": 10,
   "metadata": {},
   "outputs": [
    {
     "name": "stdout",
     "output_type": "stream",
     "text": [
      "[[17]\n",
      " [39]]\n"
     ]
    }
   ],
   "source": [
    "# Generate a 2x2 matrix A and a vector x\n",
    "# C will have A rows and x cols\n",
    "# Therefore C has 2 rows and 1 cols\n",
    "A = np.matrix([[1,2],[3,4]])\n",
    "x = np.matrix([[5],[6]])\n",
    "C = A * x\n",
    "print(C)"
   ]
  },
  {
   "cell_type": "code",
   "execution_count": 11,
   "metadata": {
    "scrolled": true
   },
   "outputs": [
    {
     "name": "stdout",
     "output_type": "stream",
     "text": [
      "A\n",
      "[[1 2]]\n",
      "[[3 4]]\n",
      "x\n",
      "[[5]]\n",
      "[[6]]\n",
      "\n",
      "[(1 * 5) + (2 * 6)]\n",
      "[(3 * 5) + (4 * 6)]\n",
      "====================\n",
      "[5 + 12]\n",
      "[15 + 24]\n",
      "==========\n",
      "[17]\n",
      "[39]\n",
      "=====\n"
     ]
    }
   ],
   "source": [
    "print('A',*A,'x',*x,sep='\\n')\n",
    "\n",
    "print(f'\\n\\\n",
    "[({A[0,0]} * {x[0,0]}) + ({A[0,1]} * {x[1,0]})]\\n\\\n",
    "[({A[1,0]} * {x[0,0]}) + ({A[1,1]} * {x[1,0]})]\\n\\\n",
    "{(\"=\")*20}')\n",
    "\n",
    "print(f'\\\n",
    "[{A[0,0] * x[0,0]} + {A[0,1] * x[1,0]}]\\n\\\n",
    "[{A[1,0] * x[0,0]} + {A[1,1] * x[1,0]}]\\n\\\n",
    "{(\"=\")*10}')\n",
    "\n",
    "print(f'\\\n",
    "[{A[0,0] * x[0,0] + A[0,1] * x[1,0]}]\\n\\\n",
    "[{A[1,0] * x[0,0] + A[1,1] * x[1,0]}]\\n\\\n",
    "{(\"=\")*5}')"
   ]
  },
  {
   "cell_type": "markdown",
   "metadata": {},
   "source": [
    "### Matrix Division"
   ]
  },
  {
   "cell_type": "code",
   "execution_count": 12,
   "metadata": {},
   "outputs": [
    {
     "name": "stdout",
     "output_type": "stream",
     "text": [
      "-2.0\n"
     ]
    }
   ],
   "source": [
    "# Using two 2x2 matrices A, B\n",
    "# So 1 & 2 are met: divisor is square and #cols A = #rows B\n",
    "# Verify that determinant is non-zero\n",
    "B_det = la.det(B)\n",
    "print(round(B_det))"
   ]
  },
  {
   "cell_type": "code",
   "execution_count": 13,
   "metadata": {},
   "outputs": [
    {
     "name": "stdout",
     "output_type": "stream",
     "text": [
      "B\n",
      "[[5 6]]\n",
      "[[7 8]]\n",
      "\n",
      "det = (5 * 8) - (7 * 6)\n",
      "det = 40 - 42\n",
      "det = -2.0\n"
     ]
    }
   ],
   "source": [
    "print('B',*B,sep='\\n')\n",
    "print(f'\\ndet = ({B[0,0]} * {B[1,1]}) - ({B[1,0]} * {B[0,1]})')\n",
    "print(f'det = {B[0,0] * B[1,1]} - {B[1,0] * B[0,1]}')\n",
    "print(f'det = {float(B[0,0] * B[1,1] - B[1,0] * B[0,1])}')"
   ]
  },
  {
   "cell_type": "code",
   "execution_count": 14,
   "metadata": {},
   "outputs": [
    {
     "name": "stdout",
     "output_type": "stream",
     "text": [
      "[[-4.   3. ]\n",
      " [ 3.5 -2.5]]\n"
     ]
    }
   ],
   "source": [
    "# Invert matrix B\n",
    "B_inv = la.inv(B)\n",
    "print(B_inv)"
   ]
  },
  {
   "cell_type": "code",
   "execution_count": 15,
   "metadata": {
    "scrolled": true
   },
   "outputs": [
    {
     "name": "stdout",
     "output_type": "stream",
     "text": [
      "B\n",
      "[[5 6]]\n",
      "[[7 8]]\n",
      "\n",
      "Invet B\n",
      "1/det * [8  -6] \n",
      "        [-7  5]\n",
      "====================\n",
      "\n",
      "Invet B\n",
      "-0.5 * [8  -6] \n",
      "       [-7  5]\n",
      "====================\n",
      "\n",
      "Invet B\n",
      "[-4.0  3.0] \n",
      "[3.5  -2.5]\n",
      "====================\n"
     ]
    }
   ],
   "source": [
    "print('B',*B,sep='\\n')\n",
    "print(f'\\nInvet B\\n\\\n",
    "1/det * [{B[1,1]}  {B[0,1]*-1}] \\n\\\n",
    "        [{B[1,0]*-1}  {B[0,0]}]\\n\\\n",
    "{\"=\"*20}')\n",
    "\n",
    "print(f'\\nInvet B\\n\\\n",
    "{1/B_det.round(1)} * [{B[1,1]}  {B[0,1]*-1}] \\n\\\n",
    "       [{B[1,0]*-1}  {B[0,0]}]\\n\\\n",
    "{\"=\"*20}')\n",
    "\n",
    "print(f'\\nInvet B\\n\\\n",
    "[{(1/B_det.round(1)) * B[1,1]}  {((1/B_det.round(1))*B[0,1])*-1}] \\n\\\n",
    "[{(1/B_det.round(1))*(B[1,0])*-1}  {(1/B_det.round(1))*(B[0,0])}]\\n\\\n",
    "{\"=\"*20}')"
   ]
  },
  {
   "cell_type": "code",
   "execution_count": 16,
   "metadata": {},
   "outputs": [
    {
     "name": "stdout",
     "output_type": "stream",
     "text": [
      "[[1. 0.]\n",
      " [0. 1.]]\n"
     ]
    }
   ],
   "source": [
    "# for confirmation of inversion, B * B_inv shound give identity matrix I\n",
    "print(B @ B_inv)"
   ]
  },
  {
   "cell_type": "code",
   "execution_count": 17,
   "metadata": {},
   "outputs": [
    {
     "name": "stdout",
     "output_type": "stream",
     "text": [
      "[[ 5.  4.]\n",
      " [-4. -3.]]\n",
      "[[ 3. -2.]\n",
      " [ 2. -1.]]\n"
     ]
    }
   ],
   "source": [
    "# Multiply them to complete the operation\n",
    "# There may be two solutions so obtain both\n",
    "print(B_inv @ A)\n",
    "print(A @ B_inv)"
   ]
  },
  {
   "cell_type": "markdown",
   "metadata": {},
   "source": [
    "### Linear Transformations"
   ]
  },
  {
   "cell_type": "code",
   "execution_count": 18,
   "metadata": {},
   "outputs": [
    {
     "data": {
      "image/png": "[encoded data removed]",
      "text/plain": [
       "<Figure size 720x720 with 1 Axes>"
      ]
     },
     "metadata": {
      "needs_background": "light"
     },
     "output_type": "display_data"
    }
   ],
   "source": [
    "v1 = np.array([ 1, 1 ])\n",
    "\n",
    "plt.figure(figsize=(10,10))\n",
    "plt.plot([0, v1[0]], [0, v1[1]],'b',label='v', linewidth=2)\n",
    "plt.plot([0,1],[0,0],'r',label='ihat')\n",
    "plt.plot([0,0],[0,1],'r',label='jhat')\n",
    "\n",
    "plt.legend()\n",
    "plt.axis('square')\n",
    "plt.axis((-0.5,1.5,-0.5,1.5))\n",
    "plt.grid()\n",
    "plt.show()"
   ]
  },
  {
   "cell_type": "markdown",
   "metadata": {},
   "source": [
    "Operations:\n",
    "1. Scale\n",
    "2. Rotate\n",
    "3. Shear"
   ]
  },
  {
   "cell_type": "code",
   "execution_count": 19,
   "metadata": {},
   "outputs": [
    {
     "name": "stdout",
     "output_type": "stream",
     "text": [
      "Scale:\n",
      "[[2 0]\n",
      " [0 3]]\n",
      "[2 3]\n",
      "\n",
      "Rotate:\n",
      "[[ 0 -1]\n",
      " [ 1  0]]\n",
      "[-1  1]\n",
      "\n",
      "Shear:\n",
      "[[1 1]\n",
      " [0 1]]\n",
      "[2 1]\n",
      "\n"
     ]
    },
    {
     "data": {
      "image/png": "[encoded data removed]",
      "text/plain": [
       "<Figure size 720x720 with 1 Axes>"
      ]
     },
     "metadata": {
      "needs_background": "light"
     },
     "output_type": "display_data"
    }
   ],
   "source": [
    "# Original vector = v1\n",
    "# scale (different numbers along the diagonal transform matrix)\n",
    "# 2  0\n",
    "# 0  3\n",
    "TFM_Scale = np.array([[2, 0],[0, 3]])\n",
    "v2 = TFM_Scale @ v1\n",
    "print(f'Scale:\\n{TFM_Scale}\\n{v2}\\n')\n",
    "\n",
    "# Rotate (90 degree counter clockwise rotation)\n",
    "# 0  -1\n",
    "# 1   0\n",
    "TFM_Rotate = np.array([[0, -1],[1, 0]])\n",
    "v3 = TFM_Rotate @ v1\n",
    "print(f'Rotate:\\n{TFM_Rotate}\\n{v3}\\n')\n",
    "\n",
    "# Shear (along the x axis)\n",
    "# 1  1\n",
    "# 0  1\n",
    "TFM_Shear = np.array([[1, 1],[0, 1]])\n",
    "v4 = TFM_Shear @ v1\n",
    "print(f'Shear:\\n{TFM_Shear}\\n{v4}\\n')\n",
    "\n",
    "plt.figure(figsize=(10,10))\n",
    "plt.plot([0, v1[0]],[0, v1[1]],\n",
    "         'b', label='v', linewidth=2, linestyle='-')\n",
    "plt.plot([0, v2[0]],[0, v2[1]],\n",
    "         'r', label='Scale', linewidth=2, linestyle=':')\n",
    "plt.plot([0, v3[0]],[0, v3[1]],\n",
    "         'g', label='Rotate', linewidth=2, linestyle='--')\n",
    "plt.plot([0, v4[0]],[0, v4[1]],\n",
    "         'y', label='Shear', linewidth=2, linestyle='-.')\n",
    "\n",
    "plt.legend()\n",
    "plt.axis('square')\n",
    "plt.axis((-2,3,-1,4))\n",
    "plt.grid()\n",
    "plt.show()"
   ]
  },
  {
   "cell_type": "code",
   "execution_count": 20,
   "metadata": {
    "scrolled": false
   },
   "outputs": [
    {
     "data": {
      "image/png": "[encoded data removed]",
      "text/plain": [
       "<Figure size 720x720 with 1 Axes>"
      ]
     },
     "metadata": {
      "needs_background": "light"
     },
     "output_type": "display_data"
    }
   ],
   "source": [
    "# The order of transformation matters\n",
    "# Scale, Rotate, Shear\n",
    "v5 = TFM_Scale @ v1\n",
    "v6 = TFM_Rotate @ v5\n",
    "v7 = TFM_Shear @ v6\n",
    "\n",
    "# Rotate, Shear, Scale\n",
    "v8 = TFM_Rotate @ v1\n",
    "v9 = TFM_Shear @ v8\n",
    "v10 = TFM_Scale @ v9\n",
    "\n",
    "# Plot the transformations\n",
    "plt.figure(figsize=(10,10))\n",
    "plt.plot([0, v1[0]], [0, v1[1]], 'b',\n",
    "        label='v', linewidth=2)\n",
    "plt.plot([0, v7[0]], [0, v7[1]], 'g',\n",
    "        label='sc/rot/sh', linewidth=2, linestyle='--')\n",
    "plt.plot([0, v10[0]], [0, v10[1]], 'r',\n",
    "        label='rot/sh/sc', linewidth=2, linestyle=':')\n",
    "\n",
    "plt.legend(loc='upper right')\n",
    "plt.axis('square')\n",
    "plt.axis((-2,3,-1,4))\n",
    "plt.grid()\n",
    "plt.show()"
   ]
  },
  {
   "cell_type": "markdown",
   "metadata": {},
   "source": [
    "### Gaussian Elimination"
   ]
  },
  {
   "cell_type": "code",
   "execution_count": 21,
   "metadata": {},
   "outputs": [],
   "source": [
    "# The gauss_elim function requires one argument, a matrix that\n",
    "# describes the system of equations which we are trying to solve for\n",
    "# 2x + 1y - 3z = 5\n",
    "# 2x - 4y + 3z = 1\n",
    "# 4x - 7y + 1z = -1\n",
    "\n",
    "def gaus_elim(S):\n",
    "    \n",
    "    print('\\nOriginal system of equations:')\n",
    "    \n",
    "    for row in range(S.index(S[:][-1])+1):\n",
    "        print(S[row])\n",
    "        \n",
    "    # here we are eliminating the columns, using row 1 as a reference so\n",
    "    # that we can eventually have the system of equations in upper echelon form\n",
    "    for col in range(S[0].index(S[0][-1])+1):\n",
    "        for row in range(col+1, S.index(S[-1])+1):\n",
    "            \n",
    "            r = [(rowVal * (-(S[row][col] / S[col][col]))) \\\n",
    "                for rowVal in S[col]]\n",
    "            \n",
    "            S[row] = [round(sum(pair),2) \\\n",
    "                     for pair in zip(S[row], r)]\n",
    "            \n",
    "    # Now we can solve by substitution\n",
    "    print('\\nModified system of equations:')\n",
    "    for row in range(S.index(S[-1])+1):\n",
    "        print(S[row])\n",
    "        \n",
    "    A = []\n",
    "    S.reverse()\n",
    "    for res in range(S.index(S[-1])+1):\n",
    "        \n",
    "        if res == 0:\n",
    "            A.append(round(S[res][-1] / S[res][-2]))\n",
    "            \n",
    "        else:\n",
    "            inner = 0\n",
    "            # Now we substitute for all know coeficients\n",
    "            for x in range(res):\n",
    "                inner += A[x] * S[res][-2-x]\n",
    "                \n",
    "            A.append(round((S[res][-1] - inner) / S[res][-res-2]))\n",
    "            \n",
    "    A.reverse()\n",
    "\n",
    "    return A"
   ]
  },
  {
   "cell_type": "code",
   "execution_count": 22,
   "metadata": {
    "scrolled": false
   },
   "outputs": [
    {
     "name": "stdout",
     "output_type": "stream",
     "text": [
      "We want upper echelon form:\n",
      "a  b  c = d\n",
      "0  e  f = g\n",
      "0  0  h = i\n",
      "\n",
      "Original system of equations:\n",
      "[2, 1, -3, 5]\n",
      "[2, -4, 3, 1]\n",
      "[4, -7, 1, -1]\n",
      "\n",
      "Modified system of equations:\n",
      "[2, 1, -3, 5]\n",
      "[0.0, -5.0, 6.0, -4.0]\n",
      "[0.0, 0.0, -3.8, -3.8]\n",
      "\n",
      "Result:\n",
      "[3, 2, 1]\n"
     ]
    }
   ],
   "source": [
    "# Call the function and pass a list of lists\n",
    "print('We want upper echelon form:\\n\\\n",
    "a  b  c = d\\n\\\n",
    "0  e  f = g\\n\\\n",
    "0  0  h = i')\n",
    "\n",
    "# 2x + 1y - 3z = 5\n",
    "# 2x - 4y + 3z = 1\n",
    "# 4x - 7y + 1z = -1\n",
    "Ans = gaus_elim([[2,1,-3,5],\n",
    "                 [2,-4,3,1],\n",
    "                 [4,-7,1,-1]])\n",
    "\n",
    "print(f'\\nResult:\\n{Ans}')"
   ]
  },
  {
   "cell_type": "markdown",
   "metadata": {},
   "source": [
    "### Determinants"
   ]
  },
  {
   "cell_type": "code",
   "execution_count": 23,
   "metadata": {},
   "outputs": [
    {
     "name": "stdout",
     "output_type": "stream",
     "text": [
      "A\n",
      "[[1 2]\n",
      " [3 4]]\n",
      "\n",
      "A Det\n",
      "-2.0\n"
     ]
    }
   ],
   "source": [
    "# Using a 2x2 matrix A and calculate determinant\n",
    "print(f'A\\n{A}\\n\\nA Det\\n{round(la.det(A))}')"
   ]
  },
  {
   "cell_type": "code",
   "execution_count": 24,
   "metadata": {},
   "outputs": [
    {
     "name": "stdout",
     "output_type": "stream",
     "text": [
      "A\n",
      "[[3 2 6]\n",
      " [4 2 6]\n",
      " [4 4 1]]\n",
      "\n",
      "A Det\n",
      "22.0\n"
     ]
    }
   ],
   "source": [
    "# Generate a 3x3 matrix A and calculate determinant\n",
    "A = np.matrix([[3,2,6],[4,2,6],[4,4,1]])\n",
    "print(f'A\\n{A}\\n\\nA Det\\n{round(la.det(A))}')"
   ]
  },
  {
   "cell_type": "code",
   "execution_count": 25,
   "metadata": {},
   "outputs": [
    {
     "name": "stdout",
     "output_type": "stream",
     "text": [
      "1.0\n",
      "0.0\n"
     ]
    }
   ],
   "source": [
    "print(la.det(np.eye(500)))\n",
    "print(la.det(np.eye(500) * 0.1))"
   ]
  },
  {
   "cell_type": "code",
   "execution_count": 26,
   "metadata": {},
   "outputs": [
    {
     "name": "stdout",
     "output_type": "stream",
     "text": [
      "1.0 -1151.2925464970251\n",
      "0.0\n"
     ]
    }
   ],
   "source": [
    "# Slog computes the sign and natural Logarithm of the determinant of the array\n",
    "# succeeds where det does not\n",
    "sign, logdet = la.slogdet(np.eye(500) * 0.1)\n",
    "print(sign, logdet)\n",
    "print(sign * np.exp(logdet))"
   ]
  },
  {
   "cell_type": "markdown",
   "metadata": {},
   "source": [
    "### Orthogonal Matrices"
   ]
  },
  {
   "cell_type": "code",
   "execution_count": 28,
   "metadata": {},
   "outputs": [
    {
     "name": "stdout",
     "output_type": "stream",
     "text": [
      "Matrix A:\n",
      "[[ 0 -1]\n",
      " [ 1  0]]\n",
      "\n",
      "Inverse of A:\n",
      "[[ 0.  1.]\n",
      " [-1. -0.]]\n",
      "\n",
      "Transpose of A:\n",
      "[[ 0  1]\n",
      " [-1  0]]\n"
     ]
    }
   ],
   "source": [
    "# A pure rotation in R2 space gives an orthogonal matrix\n",
    "# Note that this is a square matrix\n",
    "A = np.matrix([[0,-1],[1,0]])\n",
    "print(f'\\\n",
    "Matrix A:\\n{A}\\n\\n\\\n",
    "Inverse of A:\\n{la.inv(A)}\\n\\n\\\n",
    "Transpose of A:\\n{A.T}')\n"
   ]
  },
  {
   "cell_type": "code",
   "execution_count": 31,
   "metadata": {},
   "outputs": [
    {
     "name": "stdout",
     "output_type": "stream",
     "text": [
      "A * AT and AT * A:\n",
      "[[1 0]\n",
      " [0 1]]\n",
      "[[1 0]\n",
      " [0 1]]\n",
      "\n",
      "A * AInv and AInv * A:\n",
      "[[1. 0.]\n",
      " [0. 1.]]\n",
      "[[1. 0.]\n",
      " [0. 1.]]\n"
     ]
    }
   ],
   "source": [
    "# Now, because this is square orthonormal...\n",
    "print(f'A * AT and AT * A:\\n\\\n",
    "{A * (A.T)}\\n\\\n",
    "{(A.T * A)}\\n\\n\\\n",
    "A * AInv and AInv * A:\\n\\\n",
    "{A * (la.inv(A))}\\n\\\n",
    "{la.inv(A) * A}')"
   ]
  },
  {
   "cell_type": "code",
   "execution_count": 36,
   "metadata": {},
   "outputs": [
    {
     "name": "stdout",
     "output_type": "stream",
     "text": [
      "A:\n",
      "[[1 2]\n",
      " [3 4]]\n",
      "\n",
      "Now use QR Decomposition\n",
      "Q:\n",
      "[[-0.31622777 -0.9486833 ]\n",
      " [-0.9486833   0.31622777]]\n",
      "\n",
      "R:\n",
      "[[-3.16227766 -4.42718872]\n",
      " [ 0.         -0.63245553]]\n",
      "\n",
      "QR gives original:\n",
      "[[1. 2.]\n",
      " [3. 4.]]\n"
     ]
    }
   ],
   "source": [
    "# Use qr decomposition A = QR\n",
    "A = np.matrix([[1,2],[3,4]])\n",
    "Q, R = la.qr(A)\n",
    "print(f'\\\n",
    "A:\\n\\\n",
    "{A}\\n\\n\\\n",
    "Now use QR Decomposition\\n\\\n",
    "Q:\\n\\\n",
    "{Q}\\n\\n\\\n",
    "R:\\n\\\n",
    "{R}\\n\\n\\\n",
    "QR gives original:\\n\\\n",
    "{Q * R}')"
   ]
  },
  {
   "cell_type": "code",
   "execution_count": 39,
   "metadata": {},
   "outputs": [
    {
     "name": "stdout",
     "output_type": "stream",
     "text": [
      "Dot product of Q1 with Q1\n",
      "1.0\n",
      "\n",
      "Dot product of Q2 with Q2\n",
      "1.0\n",
      "\n",
      "Magnitude of Q1\n",
      "1.0\n",
      "\n",
      "Magnitude of Q2\n",
      "1.0\n"
     ]
    }
   ],
   "source": [
    "print(f'\\\n",
    "Dot product of Q1 with Q1\\n\\\n",
    "{Q[0,0] * Q[0,0] + Q[1,0] * Q[1,0]}\\n\\n\\\n",
    "Dot product of Q2 with Q2\\n\\\n",
    "{Q[0,1] * Q[0,1] + Q[1,1] * Q[1,1]}\\n\\n\\\n",
    "Magnitude of Q1\\n\\\n",
    "{(Q[0,0] * Q[0,0] + Q[1,0] * Q[1,0]) ** .5}\\n\\n\\\n",
    "Magnitude of Q2\\n\\\n",
    "{(Q[0,1] * Q[0,1] + Q[1,1] * Q[1,1]) ** .5}')"
   ]
  },
  {
   "cell_type": "markdown",
   "metadata": {},
   "source": [
    "### Eigen values"
   ]
  },
  {
   "cell_type": "code",
   "execution_count": 42,
   "metadata": {},
   "outputs": [
    {
     "name": "stdout",
     "output_type": "stream",
     "text": [
      "Original matrix:\n",
      "[[4 3]\n",
      " [5 2]]\n",
      "\n",
      "Just the Eigen Values:\n",
      "[ 7. -1.]\n",
      "\n",
      "The Eigen Decomposition:\n",
      "The Eigen Values:\n",
      "[ 7. -1.]\n",
      "\n",
      "The Eigen Vectors:\n",
      "[[ 0.70710678 -0.51449576]\n",
      " [ 0.70710678  0.85749293]]\n"
     ]
    }
   ],
   "source": [
    "# Generate a 2x2 matrix\n",
    "A = np.matrix([[4,3],[5,2]])\n",
    "\n",
    "# Calculate the eigenvalues\n",
    "eigenvals = la.eigvals(A)\n",
    "eigval, eigvec = la.eig(A)\n",
    "\n",
    "# Let's look at our results and then verify by hand\n",
    "print(f'\\\n",
    "Original matrix:\\n\\\n",
    "{A}\\n\\n\\\n",
    "Just the Eigen Values:\\n\\\n",
    "{eigenvals}\\n\\n\\\n",
    "The Eigen Decomposition:\\n\\\n",
    "The Eigen Values:\\n\\\n",
    "{eigval}\\n\\n\\\n",
    "The Eigen Vectors:\\n\\\n",
    "{eigvec}')"
   ]
  },
  {
   "cell_type": "code",
   "execution_count": 44,
   "metadata": {},
   "outputs": [
    {
     "name": "stdout",
     "output_type": "stream",
     "text": [
      "Eigen Values:\n",
      "[ 7.30033132  2.81646992  0.06681848 -2.18361972]\n"
     ]
    }
   ],
   "source": [
    "# For a 3x3 matrix, the determinant is a litle more complicated\n",
    "# Not so easy to calculate by hand... so a 4x4 is even more complicated\n",
    "\n",
    "# Generate a 4x4 matrix\n",
    "A = np.matrix([[5,1,2,1],[2,1,4,3],[1,2,1,0],[1,2,2,1]])\n",
    "\n",
    "# Calculate the eigenvalues\n",
    "eigenvals = la.eigvals(A)\n",
    "print(f'Eigen Values:\\n\\\n",
    "{eigenvals}')"
   ]
  },
  {
   "cell_type": "code",
   "execution_count": 46,
   "metadata": {},
   "outputs": [],
   "source": [
    "import matplotlib.pyplot as plt"
   ]
  },
  {
   "cell_type": "code",
   "execution_count": 47,
   "metadata": {},
   "outputs": [],
   "source": [
    "# Generate a 2x2 matrix\n",
    "A = np.matrix([[1,4],[4,1]])\n",
    "\n",
    "# Calculate the eigenvalues and corresponding eigenvectors\n",
    "eigval, eigvec = la.eig(A)"
   ]
  },
  {
   "cell_type": "code",
   "execution_count": 53,
   "metadata": {},
   "outputs": [
    {
     "name": "stdout",
     "output_type": "stream",
     "text": [
      "Original matrix:\n",
      "[[1 4]\n",
      " [4 1]]\n",
      "\n",
      "The Eigen Decomposition\n",
      "The Eigenvalues:\n",
      "[ 5. -3.]\n",
      "\n",
      "The Elgenvectors:\n",
      "[[ 0.70710678 -0.70710678]\n",
      " [ 0.70710678  0.70710678]]\n",
      "\n",
      "The magnitude of v1, v2:\n",
      "(1.0, 1.0)\n"
     ]
    },
    {
     "data": {
      "image/png": "[encoded data removed]",
      "text/plain": [
       "<Figure size 720x720 with 1 Axes>"
      ]
     },
     "metadata": {
      "needs_background": "light"
     },
     "output_type": "display_data"
    }
   ],
   "source": [
    "# These are the individual eigenvectors\n",
    "v1 = eigvec[:,0]\n",
    "v2 = eigvec[:,1]\n",
    "\n",
    "# Compute the respective Av transformations\n",
    "Av1 = A @ v1\n",
    "Av2 = A @ v2\n",
    "\n",
    "# Compute the magnitude or more of each eigenvector\n",
    "v1_mag = np.sqrt(np.sum(np.square(eigvec[:,0])))\n",
    "v2_mag = np.sqrt(np.sum(np.square(eigvec[:,1])))\n",
    "\n",
    "# print the eigenvalues and corresponding eigenvectors\n",
    "print(f'\\\n",
    "Original matrix:\\n\\\n",
    "{A}\\n\\n\\\n",
    "The Eigen Decomposition\\n\\\n",
    "The Eigenvalues:\\n\\\n",
    "{eigval}\\n\\n\\\n",
    "The Elgenvectors:\\n\\\n",
    "{eigvec}\\n\\n\\\n",
    "The magnitude of v1, v2:\\n\\\n",
    "{round(v1_mag), round(v2_mag)}')\n",
    "\n",
    "# Plot the eigenvectors and corresponding transforms Av1, Av2\n",
    "plt.figure(figsize=(10,10))\n",
    "plt.plot([0,v1[0]],[0,v1[1]],'r',label='v1', linewidth=2)\n",
    "plt.plot([0,v2[0]],[0,v2[1]],'b',label='v2', linewidth=2)\n",
    "plt.plot([0,Av1[0]],[0,Av1[1]],'r', linestyle='--')\n",
    "plt.plot([0,Av2[0]],[0,Av2[1]],'b', linestyle='--')\n",
    "\n",
    "plt.axis('square')\n",
    "plt.grid()\n",
    "plt.axis([-2,4,-3,4])\n",
    "plt.legend()\n",
    "plt.show()"
   ]
  },
  {
   "cell_type": "markdown",
   "metadata": {},
   "source": [
    "### PseudoInverse\n",
    "Notes:\n",
    "1. The rank of a matrix is the dimension of the vector space spanned by columns - which corresponds to the maximal number of linearly independent columns in the matrix. This is also identical to the dimensions spanned by rows.\n",
    "2. A matrix is considered to have full rank if it's rank is identical to the maximal rank for a matrix of the same dimensions. This is the lesser of the number of rows and columns.\n",
    "3. A matrix is considered rank deficient if it is not full rank.\n",
    "4. Here, we have a matrix that is rank deficient since row 3 is a multiple of row 2. So, it does not have a full inverse."
   ]
  },
  {
   "cell_type": "code",
   "execution_count": 56,
   "metadata": {},
   "outputs": [
    {
     "name": "stdout",
     "output_type": "stream",
     "text": [
      "Is rank deficient:\n",
      "2\n",
      "\n",
      "Original matrix A:\n",
      "[[ 1  3  2]\n",
      " [ 0  5  2]\n",
      " [ 0 10  4]]\n",
      "\n",
      "Pseudoinverse of A:\n",
      "[[ 0.64444444 -0.08444444 -0.16888889]\n",
      " [-0.17777778  0.05777778  0.11555556]\n",
      " [ 0.44444444 -0.04444444 -0.08888889]]\n",
      "\n",
      "A * A\n",
      "[[ 0.64444444 -0.17777778  0.44444444]\n",
      " [-0.17777778  0.91111111  0.22222222]\n",
      " [ 0.44444444  0.22222222  0.44444444]]\n"
     ]
    },
    {
     "data": {
      "image/png": "[encoded data removed]",
      "text/plain": [
       "<Figure size 720x720 with 3 Axes>"
      ]
     },
     "metadata": {
      "needs_background": "light"
     },
     "output_type": "display_data"
    }
   ],
   "source": [
    "# Here is matrix, but it is rank deficient\n",
    "A = np.matrix([[1,3,2],[0,5,2],[0,10,4]])\n",
    "B = np.matrix([[1,3,2],[0,5,2],[3,7,2]])\n",
    "\n",
    "# Compute the Moore-Penrose pseudo-inverse of a matrix A (and B for comparison later...)\n",
    "Apinv = la.pinv(A)\n",
    "Bpinv = la.pinv(B)\n",
    "\n",
    "print(f'\\\n",
    "Is rank deficient:\\n\\\n",
    "{la.matrix_rank(A)}\\n\\n\\\n",
    "Original matrix A:\\n\\\n",
    "{A}\\n\\n\\\n",
    "Pseudoinverse of A:\\n\\\n",
    "{Apinv}\\n\\n\\\n",
    "A * A\\n\\\n",
    "{Apinv @ A}')\n",
    "\n",
    "plt.figure(figsize=(10,10))\n",
    "plt.subplot(1,3,1)\n",
    "plt.imshow(A), plt.axis('off')\n",
    "plt.title('A')\n",
    "\n",
    "plt.subplot(1,3,2)\n",
    "plt.imshow(Apinv), plt.axis('off')\n",
    "plt.title('PseudoInverse of A')\n",
    "\n",
    "plt.subplot(1,3,3)\n",
    "plt.imshow(Apinv @ A), plt.axis('off')\n",
    "plt.title('A$^*$A')\n",
    "\n",
    "plt.show()"
   ]
  },
  {
   "cell_type": "code",
   "execution_count": 60,
   "metadata": {},
   "outputs": [
    {
     "name": "stdout",
     "output_type": "stream",
     "text": [
      "Is NOT rank deficient:\n",
      "3\n",
      "\n",
      "Original matrix B:\n",
      "[[1 3 2]\n",
      " [0 5 2]\n",
      " [3 7 2]]\n",
      "\n",
      "Pseudoinverse of B:\n",
      "[[ 0.25   -0.5     0.25  ]\n",
      " [-0.375   0.25    0.125 ]\n",
      " [ 0.9375 -0.125  -0.3125]]\n",
      "\n",
      "B * B\n",
      "[[ 1.00000000e+00  1.55431223e-15  4.44089210e-16]\n",
      " [ 5.55111512e-17  1.00000000e+00 -4.44089210e-16]\n",
      " [-6.66133815e-16  1.33226763e-15  1.00000000e+00]]\n"
     ]
    },
    {
     "data": {
      "image/png": "[encoded data removed]",
      "text/plain": [
       "<Figure size 720x720 with 3 Axes>"
      ]
     },
     "metadata": {
      "needs_background": "light"
     },
     "output_type": "display_data"
    }
   ],
   "source": [
    "print(f'\\\n",
    "Is NOT rank deficient:\\n\\\n",
    "{la.matrix_rank(B)}\\n\\n\\\n",
    "Original matrix B:\\n\\\n",
    "{B}\\n\\n\\\n",
    "Pseudoinverse of B:\\n\\\n",
    "{Bpinv}\\n\\n\\\n",
    "B * B\\n\\\n",
    "{Bpinv @ B}')\n",
    "\n",
    "plt.figure(figsize=(10,10))\n",
    "\n",
    "plt.subplot(1,3,1)\n",
    "plt.imshow(B), plt.axis('off')\n",
    "plt.title('B')\n",
    "\n",
    "plt.subplot(1,3,2)\n",
    "plt.imshow(Bpinv), plt.axis('off')\n",
    "plt.title('Pseudoinverse of B')\n",
    "\n",
    "plt.subplot(1,3,3)\n",
    "plt.imshow(Bpinv @ B), plt.axis('off')\n",
    "plt.title('B$^*$B')\n",
    "\n",
    "plt.show()"
   ]
  },
  {
   "cell_type": "markdown",
   "metadata": {},
   "source": [
    "<div class=\"course-overview--container--2OKKD\" data-purpose=\"dashboard-overview-container\"><div class=\"course-overview--heading--290FL\" data-purpose=\"course-headline\"><div class=\"font-heading-lg mb-space-sm\">About this course</div><p>Explore the application of key mathematical topics related to linear algebra with the Python programming language</p></div><div class=\"course-overview--grid-row--1nKqQ\"><div>By the numbers</div><div data-purpose=\"course-main-stats\"><div>Skill level: Beginner Level</div><div>Students: 13541</div><div>Languages: English</div><div>Captions: Yes</div></div><div data-purpose=\"course-additional-stats\"><div>Lectures: 13</div><div>Video: 1 total hour</div></div></div><div class=\"course-overview--grid-row--1nKqQ course-overview--course-features--2fF12\" data-purpose=\"course-features\"><div>Features</div><div class=\"course-overview--wide--37Lev\"><span>Available on <a href=\"https://udemy.app.link/Bg9xAmEti9\" target=\"_blank\" rel=\"noopener noreferrer\">iOS</a> and <a href=\"https://udemy.app.link/Bg9xAmEti9\" target=\"_blank\" rel=\"noopener noreferrer\">Android</a></span></div></div><div class=\"course-overview--grid-row--1nKqQ\"><div>Description</div><div class=\"course-overview--wide--37Lev course-overview--description--2m1iq\" data-purpose=\"course-description\"><div data-purpose=\"safely-set-inner-html:trusted-html:content\"><p>Overview: Explore the application of key mathematical topics related to linear algebra with the Python programming language.</p><p>Expected Duration: After completion of this course, you should be able to accomplish the objectives from the following lessons and topics. </p><p>1. Lessons on Math for Data Science &amp; Machine Learning: </p><p><br></p><p>2. Understand how to work with vectors in Python</p><p><br></p><p>3. Basis and Projection of Vectors: Understand the Basis and Projection of Vectors in Python</p><p><br></p><p>4. Work with Matrices: Understand how to work with matrices in Python</p><p><br></p><p>5. Matrix Multiplication: Understand how to multiply matrices in Python</p><p><br></p><p>6. Matrix Division: Understand how to divide matrices in Python</p><p><br></p><p>7. Linear Transformations: Understand how to work with linear transformations in Python</p><p><br></p><p>8. Gaussian Elimination: Understand how to apply Gaussian Elimination</p><p><br></p><p>9. Determinants: Understand how to work with determinants in Python</p><p><br></p><p>10. Orthogonal Matrices: Understand how to work with orthogonal matrices in Python</p><p><br></p><p>11. Eigenvalues: Recognize how to obtain eigenvalues from eight decompositions in Python</p><p><br></p><p>12. Eigenvectors: Recognize how to obtain eigenvectors from eigendecomposition in Python</p><p><br></p><p>13. PseudoInverse: Recognize how to obtain pseudoinverse in Python</p></div><h4>What you’ll learn</h4><ul><li>Explore the application of key mathematical topics related to linear algebra with the Python programming language</li></ul><h4>Are there any course requirements or prerequisites?</h4><ul><li>10th class Level math knowledge is expected</li></ul><h4>Who this course is for:</h4><ul><li>Beginner python developers looking for a data science career</li></ul></div></div><div class=\"course-overview--grid-row--1nKqQ\"><div>Instructor</div><div class=\"course-overview--wide--37Lev\"><div class=\"instructor-profile--header-row--n0Prm\"><img alt=\"User photo\" aria-label=\"User photo\" class=\"user-avatar user-avatar--image\" data-purpose=\"user-avatar\" height=\"64\" width=\"64\" src=\"https://img-a.udemycdn.com/user/200_H/67222042_ecbe.jpg\"><div class=\"instructor-profile--title-wrapper--2V1u6\"><div class=\"instructor-profile--title--1rlDt\"><a href=\"/user/ajay-nadia/\" data-purpose=\"instructor-url\">Ajay Nadia</a></div><p>Data Scientist and HR Head at DataTrained</p></div></div><div class=\"instructor-profile--social-links-row--14uvr\"><a href=\"https://twitter.com/datatrained\" class=\"instructor-profile--social-profile-btn--fs2ve\" target=\"_blank\" rel=\"noopener noreferrer nofollow\"><span aria-label=\"Twitter\" class=\"udi udi-twitter\"></span></a><a href=\"https://www.facebook.com/datatrained\" class=\"instructor-profile--social-profile-btn--fs2ve\" target=\"_blank\" rel=\"noopener noreferrer nofollow\"><span aria-label=\"Facebook\" class=\"udi udi-facebook\"></span></a><a href=\"https://linkedin.com/company/datatrained/\" class=\"instructor-profile--social-profile-btn--fs2ve\" target=\"_blank\" rel=\"noopener noreferrer nofollow\"><span aria-label=\"LinkedIn\" class=\"udi udi-linkedin\"></span></a><a href=\"https://www.youtube.com/channel/UCTRB_OkdfGEA80HyLYLL2UQ\" class=\"instructor-profile--social-profile-btn--fs2ve\" target=\"_blank\" rel=\"noopener noreferrer nofollow\"><span aria-label=\"YouTube\" class=\"udi udi-youtube\"></span></a><a href=\"https://www.datatrained.com\" class=\"instructor-profile--social-profile-btn--fs2ve\" target=\"_blank\" rel=\"noopener noreferrer nofollow\"><span aria-label=\"Personal website\" class=\"udi udi-globe\"></span></a></div><div class=\"instructor-profile--description--vCsKv\"><div data-purpose=\"safely-set-inner-html:trusted-html:content\"><p>I regard myself as a divine professional and have got 6 years of experience into HR and have got more than 7 years of experience&nbsp; in HR Analytics. I am heading the HR analytics team at DataTrained and is also heading the HR&nbsp;team. </p><p>This course has been designed for the students who want to brush up their basics on math usage in data science using Python as a tool.</p></div></div></div></div></div>"
   ]
  }
 ],
 "metadata": {
  "kernelspec": {
   "display_name": "Python 3",
   "language": "python",
   "name": "python3"
  },
  "language_info": {
   "codemirror_mode": {
    "name": "ipython",
    "version": 3
   },
   "file_extension": ".py",
   "mimetype": "text/x-python",
   "name": "python",
   "nbconvert_exporter": "python",
   "pygments_lexer": "ipython3",
   "version": "3.7.6"
  }
 },
 "nbformat": 4,
 "nbformat_minor": 4
}
