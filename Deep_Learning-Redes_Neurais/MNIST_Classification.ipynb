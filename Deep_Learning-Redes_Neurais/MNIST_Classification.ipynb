{
 "cells": [
  {
   "cell_type": "markdown",
   "metadata": {},
   "source": [
    "## Deep Neural Network for MNIST Classification\n",
    "We'll aplly all the knowledge from the lectures in this section to write a deep neural network. The problem we've chosen is referred to as the \"Hello World\" of deep learning because for the most studants it is the first deep learning algorithm they see.<br /><br />\n",
    "The dataset is called MNIST and refers to handwritten digit reconition. You can find more about it on Yann LeCun's website (Cirector of AI Research, Facebook). He's one of the pioneers of what we've been talking about and of more complex approaches that are widely used today, such as covolutional neural networks (CNNs).<br /><br />\n",
    "The dataset provides 70.000 images (28x28 pixels) of handwritten digits (1 digit per image).<br /><br />\n",
    "The goal is to write an algorithm that detects which digit written. Since there are only 10 digits (0, 1, 2, 3, 4, 5, 6, 7, 8, 9), this is a classification problem with 10 classes.<br /><br />\n",
    "Our goal would be to build a neural network with 2 hidden layers.\n",
    "### Import the relevant packages"
   ]
  },
  {
   "cell_type": "code",
   "execution_count": 1,
   "metadata": {},
   "outputs": [],
   "source": [
    "import numpy as np\n",
    "import tensorflow as tf\n",
    "import tensorflow_datasets as tfds"
   ]
  },
  {
   "cell_type": "markdown",
   "metadata": {},
   "source": [
    "### Data"
   ]
  },
  {
   "cell_type": "code",
   "execution_count": 2,
   "metadata": {},
   "outputs": [],
   "source": [
    "mnist_dataset, mnist_info = tfds.load(name='mnist', with_info=True, as_supervised=True, data_dir='tds_Data')"
   ]
  },
  {
   "cell_type": "code",
   "execution_count": 3,
   "metadata": {},
   "outputs": [
    {
     "data": {
      "text/plain": [
       "tfds.core.DatasetInfo(\n",
       "    name='mnist',\n",
       "    version=3.0.0,\n",
       "    description='The MNIST database of handwritten digits.',\n",
       "    homepage='http://yann.lecun.com/exdb/mnist/',\n",
       "    features=FeaturesDict({\n",
       "        'image': Image(shape=(28, 28, 1), dtype=tf.uint8),\n",
       "        'label': ClassLabel(shape=(), dtype=tf.int64, num_classes=10),\n",
       "    }),\n",
       "    total_num_examples=70000,\n",
       "    splits={\n",
       "        'test': 10000,\n",
       "        'train': 60000,\n",
       "    },\n",
       "    supervised_keys=('image', 'label'),\n",
       "    citation=\"\"\"@article{lecun2010mnist,\n",
       "      title={MNIST handwritten digit database},\n",
       "      author={LeCun, Yann and Cortes, Corinna and Burges, CJ},\n",
       "      journal={ATT Labs [Online]. Available: http://yann. lecun. com/exdb/mnist},\n",
       "      volume={2},\n",
       "      year={2010}\n",
       "    }\"\"\",\n",
       "    redistribution_info=,\n",
       ")"
      ]
     },
     "execution_count": 3,
     "metadata": {},
     "output_type": "execute_result"
    }
   ],
   "source": [
    "mnist_info"
   ]
  },
  {
   "cell_type": "code",
   "execution_count": 4,
   "metadata": {},
   "outputs": [],
   "source": [
    "mnist_train, mnist_test = mnist_dataset['train'], mnist_dataset['test']\n",
    "\n",
    "n_valid_sample = 0.1 * mnist_info.splits['train'].num_examples\n",
    "n_valid_sample = tf.cast(n_valid_sample, tf.int64)\n",
    "\n",
    "n_test_sample = mnist_info.splits['test'].num_examples\n",
    "n_test_sample = tf.cast(n_test_sample, tf.int64)\n",
    "\n",
    "def scale(image, label):\n",
    "    image = tf.cast(image, tf.float32)\n",
    "    image /= 255.\n",
    "    return image, label\n",
    "\n",
    "scaled_train_and_valid_data = mnist_train.map(scale)\n",
    "test_data = mnist_test.map(scale)"
   ]
  },
  {
   "cell_type": "code",
   "execution_count": 5,
   "metadata": {},
   "outputs": [],
   "source": [
    "BUFFER_SIZE = 10000\n",
    "shuffled_train_and_valid_data = scaled_train_and_valid_data.shuffle(BUFFER_SIZE)\n",
    "\n",
    "valid_data = shuffled_train_and_valid_data.take(n_valid_sample)\n",
    "train_data = shuffled_train_and_valid_data.skip(n_valid_sample)\n",
    "\n",
    "BATCH_SIZE = 150\n",
    "train_data = train_data.batch(BATCH_SIZE)\n",
    "valid_data = valid_data.batch(n_valid_sample)\n",
    "test_data = test_data.batch(n_test_sample)\n",
    "\n",
    "valid_inputs, valid_targets = next(iter(valid_data))"
   ]
  },
  {
   "cell_type": "markdown",
   "metadata": {},
   "source": [
    "## Model"
   ]
  },
  {
   "cell_type": "markdown",
   "metadata": {},
   "source": [
    "### Outline the model"
   ]
  },
  {
   "cell_type": "code",
   "execution_count": 6,
   "metadata": {},
   "outputs": [],
   "source": [
    "input_size = 784\n",
    "output_size = 10\n",
    "hidden_layer_size = 350\n",
    "\n",
    "model = tf.keras.Sequential([\n",
    "    \n",
    "    tf.keras.layers.Flatten(input_shape=(28,28,1)),\n",
    "    tf.keras.layers.Dense(hidden_layer_size, activation='relu'),\n",
    "    tf.keras.layers.Dense(hidden_layer_size, activation='tanh'),\n",
    "    tf.keras.layers.Dense(hidden_layer_size, activation='sigmoid'),\n",
    "    #tf.keras.layers.Dense(hidden_layer_size, activation='relu'),\n",
    "    tf.keras.layers.Dense(hidden_layer_size, activation='hard_sigmoid'),\n",
    "    tf.keras.layers.Dense(output_size,activation='softmax')\n",
    "    \n",
    "])"
   ]
  },
  {
   "cell_type": "markdown",
   "metadata": {},
   "source": [
    "### Choose the optimizer and the loss function"
   ]
  },
  {
   "cell_type": "code",
   "execution_count": 7,
   "metadata": {},
   "outputs": [],
   "source": [
    "model.compile(\n",
    "    optimizer=tf.keras.optimizers.Adam(\n",
    "        learning_rate=0.0015), \n",
    "        loss='sparse_categorical_crossentropy', \n",
    "        metrics =['accuracy'])"
   ]
  },
  {
   "cell_type": "markdown",
   "metadata": {},
   "source": [
    "### Training"
   ]
  },
  {
   "cell_type": "code",
   "execution_count": 8,
   "metadata": {},
   "outputs": [
    {
     "name": "stdout",
     "output_type": "stream",
     "text": [
      "Epoch 1/10\n",
      "360/360 - 22s - loss: 0.3301 - accuracy: 0.9000 - val_loss: 0.1546 - val_accuracy: 0.9532\n",
      "Epoch 2/10\n",
      "360/360 - 15s - loss: 0.1061 - accuracy: 0.9681 - val_loss: 0.0966 - val_accuracy: 0.9708\n",
      "Epoch 3/10\n",
      "360/360 - 13s - loss: 0.0705 - accuracy: 0.9790 - val_loss: 0.0696 - val_accuracy: 0.9797\n",
      "Epoch 4/10\n",
      "360/360 - 14s - loss: 0.0547 - accuracy: 0.9828 - val_loss: 0.0601 - val_accuracy: 0.9823\n",
      "Epoch 5/10\n",
      "360/360 - 12s - loss: 0.0427 - accuracy: 0.9870 - val_loss: 0.0520 - val_accuracy: 0.9858\n",
      "Epoch 6/10\n",
      "360/360 - 14s - loss: 0.0348 - accuracy: 0.9892 - val_loss: 0.0443 - val_accuracy: 0.9860\n",
      "Epoch 7/10\n",
      "360/360 - 13s - loss: 0.0310 - accuracy: 0.9901 - val_loss: 0.0409 - val_accuracy: 0.9883\n",
      "Epoch 8/10\n",
      "360/360 - 14s - loss: 0.0254 - accuracy: 0.9920 - val_loss: 0.0250 - val_accuracy: 0.9927\n",
      "Epoch 9/10\n",
      "360/360 - 13s - loss: 0.0234 - accuracy: 0.9924 - val_loss: 0.0307 - val_accuracy: 0.9912\n",
      "Epoch 10/10\n",
      "360/360 - 13s - loss: 0.0185 - accuracy: 0.9944 - val_loss: 0.0180 - val_accuracy: 0.9950\n"
     ]
    },
    {
     "data": {
      "text/plain": [
       "<tensorflow.python.keras.callbacks.History at 0x262d371fa88>"
      ]
     },
     "execution_count": 8,
     "metadata": {},
     "output_type": "execute_result"
    }
   ],
   "source": [
    "N_EPOCHS = 10\n",
    "\n",
    "model.fit(\n",
    "    train_data, epochs = N_EPOCHS, \n",
    "    validation_data=(\n",
    "        valid_inputs, \n",
    "        valid_targets),\n",
    "    validation_steps=BATCH_SIZE, \n",
    "    verbose=2)"
   ]
  },
  {
   "cell_type": "code",
   "execution_count": 9,
   "metadata": {},
   "outputs": [
    {
     "name": "stdout",
     "output_type": "stream",
     "text": [
      "      1/Unknown - 1s 1s/step - loss: 0.0764 - accuracy: 0.9829"
     ]
    }
   ],
   "source": [
    "test_loss, test_accuracy = model.evaluate(test_data)"
   ]
  },
  {
   "cell_type": "code",
   "execution_count": 10,
   "metadata": {},
   "outputs": [
    {
     "name": "stdout",
     "output_type": "stream",
     "text": [
      "Test loss: 0.08. Test accuracy: 98.29%\n"
     ]
    }
   ],
   "source": [
    "# We can apply some nice formatting if we want to\n",
    "print('Test loss: {0:.2f}. Test accuracy: {1:.2f}%'.format(test_loss, test_accuracy*100.))"
   ]
  }
 ],
 "metadata": {
  "kernelspec": {
   "display_name": "Python 3",
   "language": "python",
   "name": "python3"
  },
  "language_info": {
   "codemirror_mode": {
    "name": "ipython",
    "version": 3
   },
   "file_extension": ".py",
   "mimetype": "text/x-python",
   "name": "python",
   "nbconvert_exporter": "python",
   "pygments_lexer": "ipython3",
   "version": "3.7.6"
  }
 },
 "nbformat": 4,
 "nbformat_minor": 4
}
