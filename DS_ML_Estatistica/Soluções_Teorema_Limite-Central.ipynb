{
 "cells": [
  {
   "cell_type": "markdown",
   "metadata": {},
   "source": [
    "# Teorema do Limite Central\n",
    "* **Médias Amostrais**: médias geradas de amostras, geralmente com o propósito de gerar probabilidades\n",
    "* A média de médias amostrais deve ser mais próxima da média da população com um desvio padrão pequeno\n",
    "* Quanto maior a quantidade de amostras e médias amostrais utilizadas, mais próximo estará da média geral da População e menor o desvio padrão"
   ]
  },
  {
   "cell_type": "markdown",
   "metadata": {},
   "source": [
    "<center><h2>Exemplo: Cubo</h2>\n",
    "Consideremos um dado de seis lados. A probabilidade de dar qualquer valor entre 1 e 6 é de ${\\frac {1}{6}}$ ou seja, todos os valores são igualmente possíveis de ocorrer. O conjunto de números possíveis são $[1,2,3,4,5,6]$. Ao realizar a média desse conjunto $(1+2+3+4+5+6)/6$, obtivemos <strong>3.5</strong>.\n",
    "<img src=\"imagens/dado.jpg\" alt=\"Dado\" width=300px />\n",
    "</center>"
   ]
  },
  {
   "cell_type": "markdown",
   "metadata": {},
   "source": [
    "### Importar numpy e matplotlib"
   ]
  },
  {
   "cell_type": "code",
   "execution_count": 1,
   "metadata": {},
   "outputs": [],
   "source": [
    "import numpy as np\n",
    "import matplotlib.pyplot as plt"
   ]
  },
  {
   "cell_type": "markdown",
   "metadata": {},
   "source": [
    "### Média"
   ]
  },
  {
   "cell_type": "code",
   "execution_count": 2,
   "metadata": {},
   "outputs": [
    {
     "data": {
      "text/plain": [
       "3.5"
      ]
     },
     "execution_count": 2,
     "metadata": {},
     "output_type": "execute_result"
    }
   ],
   "source": [
    "np.mean(list(range(1,7)))"
   ]
  },
  {
   "cell_type": "markdown",
   "metadata": {},
   "source": [
    "### Jogar dado aleatoriamente"
   ]
  },
  {
   "cell_type": "code",
   "execution_count": 3,
   "metadata": {},
   "outputs": [
    {
     "data": {
      "text/plain": [
       "6"
      ]
     },
     "execution_count": 3,
     "metadata": {},
     "output_type": "execute_result"
    }
   ],
   "source": [
    "np.random.randint(1,7)"
   ]
  },
  {
   "cell_type": "markdown",
   "metadata": {},
   "source": [
    "### Jogar dado aleatoriamente 6 vezes"
   ]
  },
  {
   "cell_type": "code",
   "execution_count": 4,
   "metadata": {},
   "outputs": [
    {
     "data": {
      "text/plain": [
       "array([3, 2, 6, 5, 2, 4])"
      ]
     },
     "execution_count": 4,
     "metadata": {},
     "output_type": "execute_result"
    }
   ],
   "source": [
    "np.random.randint(1,7,6)"
   ]
  },
  {
   "cell_type": "markdown",
   "metadata": {},
   "source": [
    "### Gerar os mesmos números aleatórios\n",
    "Fornecendo um valor como semente _(seed)_ $\\Rightarrow$ \"123\""
   ]
  },
  {
   "cell_type": "code",
   "execution_count": 5,
   "metadata": {},
   "outputs": [
    {
     "data": {
      "text/plain": [
       "array([6, 3, 5, 3, 2, 4])"
      ]
     },
     "execution_count": 5,
     "metadata": {},
     "output_type": "execute_result"
    }
   ],
   "source": [
    "np.random.seed(123)\n",
    "np.random.randint(1,7,6)"
   ]
  },
  {
   "cell_type": "markdown",
   "metadata": {},
   "source": [
    "### Jogar dado aleatoriamente 40 vezes"
   ]
  },
  {
   "cell_type": "code",
   "execution_count": 6,
   "metadata": {},
   "outputs": [
    {
     "data": {
      "text/plain": [
       "array([6, 3, 5, 3, 2, 4, 3, 4, 2, 2, 1, 2, 2, 1, 1, 2, 4, 6, 5, 1, 1, 5,\n",
       "       2, 4, 3, 5, 3, 5, 1, 6, 1, 2, 4, 5, 5, 5, 2, 6, 4, 3])"
      ]
     },
     "execution_count": 6,
     "metadata": {},
     "output_type": "execute_result"
    }
   ],
   "source": [
    "np.random.seed(123)\n",
    "np.random.randint(1,7,40)"
   ]
  },
  {
   "cell_type": "markdown",
   "metadata": {},
   "source": [
    "### Gerar média amostral"
   ]
  },
  {
   "cell_type": "code",
   "execution_count": 7,
   "metadata": {},
   "outputs": [
    {
     "data": {
      "text/plain": [
       "array([6, 3, 5, 3, 2, 4, 3, 4, 2, 2, 1, 2, 2, 1, 1, 2, 4, 6, 5, 1, 1, 5,\n",
       "       2, 4, 3, 5, 3, 5, 1, 6, 1, 2, 4, 5, 5, 5, 2, 6, 4, 3])"
      ]
     },
     "execution_count": 7,
     "metadata": {},
     "output_type": "execute_result"
    }
   ],
   "source": [
    "np.random.seed(123)\n",
    "sample = np.random.randint(1,7,40)\n",
    "sample"
   ]
  },
  {
   "cell_type": "code",
   "execution_count": 8,
   "metadata": {},
   "outputs": [
    {
     "data": {
      "text/plain": [
       "3.275"
      ]
     },
     "execution_count": 8,
     "metadata": {},
     "output_type": "execute_result"
    }
   ],
   "source": [
    "np.mean(sample)"
   ]
  },
  {
   "cell_type": "markdown",
   "metadata": {},
   "source": [
    "### Utilizar mil médias amostrais\n",
    "Comprovar o Teorema do Limite Central (TLC)"
   ]
  },
  {
   "cell_type": "code",
   "execution_count": 9,
   "metadata": {},
   "outputs": [
    {
     "data": {
      "image/png": "[encoded data removed]",
      "text/plain": [
       "<Figure size 432x288 with 1 Axes>"
      ]
     },
     "metadata": {
      "needs_background": "light"
     },
     "output_type": "display_data"
    }
   ],
   "source": [
    "np.random.seed(123)\n",
    "sample_means = [np.mean(np.random.randint(1,7,40)) for _ in range(1000)]\n",
    "plt.hist(sample_means)\n",
    "plt.show()"
   ]
  },
  {
   "cell_type": "markdown",
   "metadata": {},
   "source": [
    "### Média"
   ]
  },
  {
   "cell_type": "code",
   "execution_count": 10,
   "metadata": {},
   "outputs": [
    {
     "data": {
      "text/plain": [
       "3.49475"
      ]
     },
     "execution_count": 10,
     "metadata": {},
     "output_type": "execute_result"
    }
   ],
   "source": [
    "np.mean(sample_means)"
   ]
  },
  {
   "cell_type": "markdown",
   "metadata": {},
   "source": [
    "### Mediana"
   ]
  },
  {
   "cell_type": "code",
   "execution_count": 11,
   "metadata": {},
   "outputs": [
    {
     "data": {
      "text/plain": [
       "3.5"
      ]
     },
     "execution_count": 11,
     "metadata": {},
     "output_type": "execute_result"
    }
   ],
   "source": [
    "np.median(sample_means)"
   ]
  },
  {
   "cell_type": "markdown",
   "metadata": {},
   "source": [
    "### Moda"
   ]
  },
  {
   "cell_type": "code",
   "execution_count": 12,
   "metadata": {},
   "outputs": [],
   "source": [
    "import statistics as stats"
   ]
  },
  {
   "cell_type": "code",
   "execution_count": 13,
   "metadata": {},
   "outputs": [
    {
     "data": {
      "text/plain": [
       "3.45"
      ]
     },
     "execution_count": 13,
     "metadata": {},
     "output_type": "execute_result"
    }
   ],
   "source": [
    "stats.mode(sample_means)"
   ]
  },
  {
   "cell_type": "markdown",
   "metadata": {},
   "source": [
    "\n",
    "\n"
   ]
  },
  {
   "cell_type": "markdown",
   "metadata": {},
   "source": [
    "\n",
    "\n"
   ]
  },
  {
   "cell_type": "markdown",
   "metadata": {},
   "source": [
    "\n",
    "\n"
   ]
  },
  {
   "cell_type": "markdown",
   "metadata": {},
   "source": [
    "\n",
    "\n"
   ]
  },
  {
   "cell_type": "markdown",
   "metadata": {},
   "source": [
    "# Teorema do Limite Central em um DataFrame\n",
    "Aplicando o mesmo conceito com um DataFrame de um arquivo CSV"
   ]
  },
  {
   "cell_type": "markdown",
   "metadata": {},
   "source": [
    "### Importar pandas"
   ]
  },
  {
   "cell_type": "code",
   "execution_count": 14,
   "metadata": {},
   "outputs": [],
   "source": [
    "import pandas as pd"
   ]
  },
  {
   "cell_type": "markdown",
   "metadata": {},
   "source": [
    "### Ler DataFrame do arquivo 'weight-height.csv'"
   ]
  },
  {
   "cell_type": "code",
   "execution_count": 15,
   "metadata": {},
   "outputs": [
    {
     "data": {
      "text/html": [
       "<div>\n",
       "<style scoped>\n",
       "    .dataframe tbody tr th:only-of-type {\n",
       "        vertical-align: middle;\n",
       "    }\n",
       "\n",
       "    .dataframe tbody tr th {\n",
       "        vertical-align: top;\n",
       "    }\n",
       "\n",
       "    .dataframe thead th {\n",
       "        text-align: right;\n",
       "    }\n",
       "</style>\n",
       "<table border=\"1\" class=\"dataframe\">\n",
       "  <thead>\n",
       "    <tr style=\"text-align: right;\">\n",
       "      <th></th>\n",
       "      <th>Gender</th>\n",
       "      <th>Height</th>\n",
       "      <th>Weight</th>\n",
       "    </tr>\n",
       "  </thead>\n",
       "  <tbody>\n",
       "    <tr>\n",
       "      <th>0</th>\n",
       "      <td>Male</td>\n",
       "      <td>73.847017</td>\n",
       "      <td>241.893563</td>\n",
       "    </tr>\n",
       "    <tr>\n",
       "      <th>1</th>\n",
       "      <td>Male</td>\n",
       "      <td>68.781904</td>\n",
       "      <td>162.310473</td>\n",
       "    </tr>\n",
       "    <tr>\n",
       "      <th>2</th>\n",
       "      <td>Male</td>\n",
       "      <td>74.110105</td>\n",
       "      <td>212.740856</td>\n",
       "    </tr>\n",
       "    <tr>\n",
       "      <th>3</th>\n",
       "      <td>Male</td>\n",
       "      <td>71.730978</td>\n",
       "      <td>220.042470</td>\n",
       "    </tr>\n",
       "    <tr>\n",
       "      <th>4</th>\n",
       "      <td>Male</td>\n",
       "      <td>69.881796</td>\n",
       "      <td>206.349801</td>\n",
       "    </tr>\n",
       "    <tr>\n",
       "      <th>...</th>\n",
       "      <td>...</td>\n",
       "      <td>...</td>\n",
       "      <td>...</td>\n",
       "    </tr>\n",
       "    <tr>\n",
       "      <th>9995</th>\n",
       "      <td>Female</td>\n",
       "      <td>66.172652</td>\n",
       "      <td>136.777454</td>\n",
       "    </tr>\n",
       "    <tr>\n",
       "      <th>9996</th>\n",
       "      <td>Female</td>\n",
       "      <td>67.067155</td>\n",
       "      <td>170.867906</td>\n",
       "    </tr>\n",
       "    <tr>\n",
       "      <th>9997</th>\n",
       "      <td>Female</td>\n",
       "      <td>63.867992</td>\n",
       "      <td>128.475319</td>\n",
       "    </tr>\n",
       "    <tr>\n",
       "      <th>9998</th>\n",
       "      <td>Female</td>\n",
       "      <td>69.034243</td>\n",
       "      <td>163.852461</td>\n",
       "    </tr>\n",
       "    <tr>\n",
       "      <th>9999</th>\n",
       "      <td>Female</td>\n",
       "      <td>61.944246</td>\n",
       "      <td>113.649103</td>\n",
       "    </tr>\n",
       "  </tbody>\n",
       "</table>\n",
       "<p>10000 rows × 3 columns</p>\n",
       "</div>"
      ],
      "text/plain": [
       "      Gender     Height      Weight\n",
       "0       Male  73.847017  241.893563\n",
       "1       Male  68.781904  162.310473\n",
       "2       Male  74.110105  212.740856\n",
       "3       Male  71.730978  220.042470\n",
       "4       Male  69.881796  206.349801\n",
       "...      ...        ...         ...\n",
       "9995  Female  66.172652  136.777454\n",
       "9996  Female  67.067155  170.867906\n",
       "9997  Female  63.867992  128.475319\n",
       "9998  Female  69.034243  163.852461\n",
       "9999  Female  61.944246  113.649103\n",
       "\n",
       "[10000 rows x 3 columns]"
      ]
     },
     "execution_count": 15,
     "metadata": {},
     "output_type": "execute_result"
    }
   ],
   "source": [
    "df = pd.read_csv('CSVs/weight-height.csv')\n",
    "df"
   ]
  },
  {
   "cell_type": "markdown",
   "metadata": {},
   "source": [
    "### Verificar tamanho da amostra"
   ]
  },
  {
   "cell_type": "code",
   "execution_count": 16,
   "metadata": {},
   "outputs": [
    {
     "data": {
      "text/plain": [
       "10000"
      ]
     },
     "execution_count": 16,
     "metadata": {},
     "output_type": "execute_result"
    }
   ],
   "source": [
    "len(df['Weight'])"
   ]
  },
  {
   "cell_type": "markdown",
   "metadata": {},
   "source": [
    "### Gerar amostra aleatória 5 elementos"
   ]
  },
  {
   "cell_type": "code",
   "execution_count": 17,
   "metadata": {},
   "outputs": [
    {
     "data": {
      "text/plain": [
       "2656    208.839162\n",
       "445     216.634000\n",
       "9505    103.386946\n",
       "332     185.042324\n",
       "4168    192.756097\n",
       "Name: Weight, dtype: float64"
      ]
     },
     "execution_count": 17,
     "metadata": {},
     "output_type": "execute_result"
    }
   ],
   "source": [
    "np.random.seed(123)\n",
    "df['Weight'].sample(n=5)"
   ]
  },
  {
   "cell_type": "markdown",
   "metadata": {},
   "source": [
    "### Gerar 200 médias amostrais de 50 amostras cada"
   ]
  },
  {
   "cell_type": "code",
   "execution_count": 18,
   "metadata": {},
   "outputs": [
    {
     "data": {
      "text/plain": [
       "[162.77364907563276,\n",
       " 169.1789660789801,\n",
       " 173.54232012047927,\n",
       " 159.02814469668184,\n",
       " 163.5385963824624,\n",
       " 155.08083783726497,\n",
       " 152.37682945131976,\n",
       " 158.58754812843733,\n",
       " 162.85151871487437,\n",
       " 160.22620929858306,\n",
       " 155.91778483747655,\n",
       " 164.55078574428993,\n",
       " 163.7216758194734,\n",
       " 162.9678230214545,\n",
       " 159.47883991944144,\n",
       " 164.1722456620811,\n",
       " 154.2460609361593,\n",
       " 155.0067123771831,\n",
       " 157.64153409562354,\n",
       " 162.40666622153057,\n",
       " 153.67387722752778,\n",
       " 159.99387664769742,\n",
       " 161.54661906371442,\n",
       " 157.98792904509844,\n",
       " 166.50849248505153,\n",
       " 161.48351454577562,\n",
       " 161.5817558613573,\n",
       " 156.9380341348253,\n",
       " 160.88674360901865,\n",
       " 158.77044671829583,\n",
       " 163.77610710297856,\n",
       " 166.3419735238348,\n",
       " 161.4699851213748,\n",
       " 154.37591378011538,\n",
       " 161.5351377406341,\n",
       " 165.49680449576437,\n",
       " 163.30829928444788,\n",
       " 165.99900708566344,\n",
       " 159.17175737543184,\n",
       " 164.07840580207613,\n",
       " 157.05044183651157,\n",
       " 160.38800286363875,\n",
       " 165.8080420140128,\n",
       " 160.87141841898753,\n",
       " 159.0040573307024,\n",
       " 162.05476785386566,\n",
       " 161.4310659734868,\n",
       " 159.4254748185431,\n",
       " 155.92481077094897,\n",
       " 174.78545160369478,\n",
       " 167.41143149225064,\n",
       " 165.8802155416066,\n",
       " 160.51802801300903,\n",
       " 166.36546549820295,\n",
       " 162.48880064709198,\n",
       " 161.25870372863696,\n",
       " 171.58010488795648,\n",
       " 158.23692103798322,\n",
       " 165.24987586952116,\n",
       " 155.0261212053527,\n",
       " 163.3237111438337,\n",
       " 159.83174443275038,\n",
       " 157.48432111624138,\n",
       " 166.52876297502283,\n",
       " 160.49771819500805,\n",
       " 160.7349430391686,\n",
       " 160.45650823050192,\n",
       " 163.5323389322008,\n",
       " 155.00232692604075,\n",
       " 160.5874528934571,\n",
       " 167.6492956184827,\n",
       " 160.38428387224437,\n",
       " 164.72647474920709,\n",
       " 166.02295383981973,\n",
       " 173.72253437997682,\n",
       " 159.2437722541345,\n",
       " 170.3478378985531,\n",
       " 162.59928348642418,\n",
       " 166.67880755050436,\n",
       " 163.6420631586562,\n",
       " 161.35818117721865,\n",
       " 156.297564590898,\n",
       " 161.1443895453635,\n",
       " 169.50989111724385,\n",
       " 162.250793975731,\n",
       " 163.19428752708063,\n",
       " 164.93145156134085,\n",
       " 160.14007763492305,\n",
       " 172.28122201684982,\n",
       " 168.70779324418106,\n",
       " 158.6310647276233,\n",
       " 157.02416317068312,\n",
       " 156.78283415232175,\n",
       " 157.75210106348882,\n",
       " 167.4118757762006,\n",
       " 167.3003004696335,\n",
       " 164.40533169713905,\n",
       " 158.32904611905514,\n",
       " 154.60557790839115,\n",
       " 156.49868618242652,\n",
       " 157.97298366402288,\n",
       " 169.6896557607063,\n",
       " 170.99516885907735,\n",
       " 167.70638555185954,\n",
       " 153.03725314816077,\n",
       " 166.54768502440405,\n",
       " 163.18251637291792,\n",
       " 166.59961534319388,\n",
       " 161.1929276495663,\n",
       " 159.67909173146788,\n",
       " 170.37162930767892,\n",
       " 164.58951255060683,\n",
       " 161.03880656715756,\n",
       " 165.9499277960632,\n",
       " 162.04774216932955,\n",
       " 159.76314155932067,\n",
       " 159.68481942058963,\n",
       " 160.15192260278755,\n",
       " 157.6545722239201,\n",
       " 154.92883143935268,\n",
       " 159.9401414142954,\n",
       " 165.43292360687897,\n",
       " 169.0635676826799,\n",
       " 163.95676736148806,\n",
       " 158.11128943059438,\n",
       " 170.39579997699914,\n",
       " 163.3935202014197,\n",
       " 156.77488235941445,\n",
       " 154.62299174600113,\n",
       " 168.43232662681467,\n",
       " 162.42902321067177,\n",
       " 152.5420133897082,\n",
       " 167.5615225719747,\n",
       " 165.5725143276542,\n",
       " 157.7991104929739,\n",
       " 165.52796323506107,\n",
       " 157.72069425337585,\n",
       " 167.6860302489626,\n",
       " 149.53390700791678,\n",
       " 163.9825083752726,\n",
       " 162.55598764000862,\n",
       " 161.71163068537868,\n",
       " 166.29354483601958,\n",
       " 170.99927559831613,\n",
       " 160.6447701784815,\n",
       " 167.77943185885925,\n",
       " 158.13546800974376,\n",
       " 159.49708540755185,\n",
       " 154.30278403938573,\n",
       " 164.3959321170965,\n",
       " 161.47085147818342,\n",
       " 160.11238053021006,\n",
       " 163.630733062119,\n",
       " 157.8490126258343,\n",
       " 158.06095932081897,\n",
       " 168.40967365123726,\n",
       " 157.1493319130378,\n",
       " 170.1756212238171,\n",
       " 166.40776322594775,\n",
       " 160.78958358497277,\n",
       " 166.32298673301293,\n",
       " 163.4990676212335,\n",
       " 162.21260051405457,\n",
       " 157.46541174605844,\n",
       " 156.66565346674514,\n",
       " 156.98077300675826,\n",
       " 154.65257174933123,\n",
       " 156.605891519215,\n",
       " 169.39291460543075,\n",
       " 155.46998369945948,\n",
       " 161.50095966274782,\n",
       " 160.58993043494166,\n",
       " 154.40826608157775,\n",
       " 163.0763215408457,\n",
       " 161.75492810769774,\n",
       " 164.82755281988125,\n",
       " 163.39312298955613,\n",
       " 162.37534147461332,\n",
       " 163.03937460024954,\n",
       " 161.35082664068352,\n",
       " 165.66406862533447,\n",
       " 152.69200872781013,\n",
       " 156.54108084992265,\n",
       " 154.92104335591924,\n",
       " 166.97347062952574,\n",
       " 162.48705342971044,\n",
       " 169.5098502859482,\n",
       " 163.828070987156,\n",
       " 161.35954883261007,\n",
       " 164.11427305920222,\n",
       " 162.79232006566318,\n",
       " 157.3883344605169,\n",
       " 155.2796066897091,\n",
       " 153.2281789537372,\n",
       " 157.59252489250764,\n",
       " 162.5151017285498,\n",
       " 159.41940577787048,\n",
       " 151.43168606901753,\n",
       " 157.67049349643955,\n",
       " 160.87383561239716]"
      ]
     },
     "execution_count": 18,
     "metadata": {},
     "output_type": "execute_result"
    }
   ],
   "source": [
    "np.random.seed(123)\n",
    "sample_means = [df['Weight'].sample(n=50).mean() for _ in range(200)]\n",
    "sample_means"
   ]
  },
  {
   "cell_type": "code",
   "execution_count": 19,
   "metadata": {
    "scrolled": true
   },
   "outputs": [
    {
     "data": {
      "image/png": "[encoded data removed]",
      "text/plain": [
       "<Figure size 432x288 with 1 Axes>"
      ]
     },
     "metadata": {
      "needs_background": "light"
     },
     "output_type": "display_data"
    }
   ],
   "source": [
    "plt.hist(sample_means)\n",
    "plt.show()"
   ]
  },
  {
   "cell_type": "markdown",
   "metadata": {},
   "source": [
    "# Exercício\n",
    "Numa pesquisa constatou-se que 95 de um total de 174 pessoas votarão em um específico candidato ao Senado. Construa uma estimativa com um Intervalo de Confiança de 90% de proporção das pessoas de toda a População que votarão nesse candidato. \n",
    "\n",
    "$$\\hat{p}=\\frac x n = \\frac {95} {174} = 0.546$$ <br/>\n",
    "\n",
    "$$\\hat{q}= 1-0.546 = 0.454$$ <br/>\n",
    "\n",
    "$$Z_{\\alpha/2} = Z_{0.10/2} = Z_{0.05}=1.645$$ <br/>\n",
    "\n",
    "$$E = Z_{\\alpha/2} \\sqrt { \\frac {\\hat{p}\\hat{q}}{n}}=1.645 \\sqrt { \\frac {0.546 \\cdot 0.454}{174}}=0.062$$ <br/>\n",
    "\n",
    "$$[\\hat{p}-E,\\hat{p}+E] = [0.546-0.062, 0.546+0.062] = [0.484,0.608] $$ \n",
    "\n",
    "### Interpretando o Intervalo de Confiança\n",
    "\"Estimamos com X% de confiança, que a real população (parâmetro em contexto) se encontra entre (menor) e (maior)\"\n",
    "\n",
    "**Estimamos com 90% de confiança que a proporção das pessoas de toda a população que votarão no candidato ao Senado se encontra entre 48,4% e 60,8%.**"
   ]
  },
  {
   "cell_type": "code",
   "execution_count": 190,
   "metadata": {},
   "outputs": [],
   "source": [
    "import scipy.stats as st\n",
    "\n",
    "def get_p(x:float, n:float)->float:\n",
    "    return x / n\n",
    "\n",
    "def get_q(p:float)->float:\n",
    "    return 1 - p\n",
    "\n",
    "def get_z(p:float, interval:tuple)->float:\n",
    "    return (p - interval[0]) / interval[1]\n",
    "\n",
    "def conf_interval(x:float, n:float, ci:int=90)->list:\n",
    "     \n",
    "    if ci == 90:\n",
    "        z = 1.645\n",
    "    elif ci == 95:\n",
    "        z = 1.960\n",
    "    elif ci == 99:\n",
    "        z = 2.576\n",
    "    else:\n",
    "        return print('The CI needs to be 90, 95 or 99.')\n",
    "\n",
    "    p = get_p(x, n)\n",
    "    q = get_q(p)\n",
    "    e = z * ((p * q / n)**0.5)\n",
    "    \n",
    "    return {'Interval':[round(p-e, 3), round(e+p, 3)],'E_margin':round(e, 3)}\n",
    "\n",
    "def get_interval(h:float, n:float):\n",
    "    return h, ((h * get_q(h)) / n) ** 0.5\n",
    "\n",
    "def hip_test(z:float):\n",
    "    return round(0.5 - round(round(st.norm.cdf(round(z,2)),4)-0.5, 4), 4)*2"
   ]
  },
  {
   "cell_type": "code",
   "execution_count": 191,
   "metadata": {},
   "outputs": [
    {
     "data": {
      "text/plain": [
       "{'Interval': [0.484, 0.608], 'E_margin': 0.062}"
      ]
     },
     "execution_count": 191,
     "metadata": {},
     "output_type": "execute_result"
    }
   ],
   "source": [
    "conf_interval(95,174, 90)"
   ]
  },
  {
   "cell_type": "code",
   "execution_count": 192,
   "metadata": {},
   "outputs": [
    {
     "data": {
      "text/plain": [
       "{'Interval': [0.472, 0.62], 'E_margin': 0.074}"
      ]
     },
     "execution_count": 192,
     "metadata": {},
     "output_type": "execute_result"
    }
   ],
   "source": [
    "conf_interval(95,174, 95)"
   ]
  },
  {
   "cell_type": "code",
   "execution_count": 193,
   "metadata": {
    "scrolled": true
   },
   "outputs": [
    {
     "data": {
      "text/plain": [
       "{'Interval': [0.449, 0.643], 'E_margin': 0.097}"
      ]
     },
     "execution_count": 193,
     "metadata": {},
     "output_type": "execute_result"
    }
   ],
   "source": [
    "conf_interval(95,174, 99)"
   ]
  },
  {
   "cell_type": "markdown",
   "metadata": {},
   "source": [
    "# Teste de Hipóteses\n",
    " Uma forma de testar uma afirmação\n",
    "\n",
    "## Exemplo (IPhone)\n",
    "Uma empresa telefônica afirma que 43% dos usuários de smartphone nos EUA usam IPhone. Você duvida dessa afirmação. Então você faz uma pesquisa de 83 usuários americanos de smartphone. 44 deles usam IPhone. O que você pode concluir, se $\\alpha=0.05$?\n",
    "\n",
    "$H_0$: $\\hat{p}$ = 0.43 <br>\n",
    "$H_a$: $\\hat{p}$ ≠ 0.43 _(teste de duas caldas, rejeitamos se for menor ou maior)_\n",
    "\n",
    "$$\\hat{p} \\sim N(\\hat{p}, \\sqrt {\\frac {\\hat{p}\\hat{q}}{n}})=\\hat{p} \\sim N(0.43,\\sqrt {\\frac {0.43 \\cdot 0.57}{83}})=\\hat{p} \\sim N(0.43,0.0543)$$\n",
    "\n",
    "<img src=\"imagens/1.png\" width=350px /><br><br>\n",
    "\n",
    "<center>Calculando o $\\hat{p}$ da proporção</center>\n",
    "$$\\hat{p} = \\frac x n = \\frac {44}{83} = 0.53$$\n",
    "<img src=\"imagens/2.png\" width=350px /><br><br>\n",
    "\n",
    "\n",
    "<center>Calculando o valor-Z</center>\n",
    "$$Z = \\frac {\\hat{p} - \\hat{p}_{H_0}}{EP} = \\frac {0.53 - 0.43}{0.0543}=1.84$$\n",
    "<img src=\"imagens/3.png\" width=350px /><br><br>\n",
    "\n",
    "<center>Ir na tabela Z e verificar a probabilidade correspondente desse valor-Z: $0.9671$, se tirarmos a outra metade, $0.9671-0.5 = 0.4671$ </center>\n",
    "<img src=\"imagens/4.png\" width=350px /><br><br>\n",
    "\n",
    "<center>Mas a área que desejamos é a da calda. Logo, calculamos $0.5 - 0.4671 = 0.0329$</center>\n",
    "<img src=\"imagens/6.png\" width=350px /><br><br>\n",
    "\n",
    "Calculamos o valor-p = $0.0329 + 0.0329 = 0.0658$ (valor-p é a probabilidade de $H_0$ ser verdadeira baseando-se na nossa amostra).Em outras palavras, baseando-se na nossa pesquisa, existe 6.58% de chance da proporção de usuários realmente ser 43%.\n",
    "\n",
    "**Decisão**: falhamos em rejeitar a hipótese nula<br>\n",
    "**Motivo**: valor-p > $\\alpha$ = 0.0658 > 0.005<br>\n",
    "**Conclusão**: Não existe suficiente evidência para concluir que a proporção de usuários de IPhone é diferente de 43%."
   ]
  },
  {
   "cell_type": "code",
   "execution_count": 194,
   "metadata": {},
   "outputs": [],
   "source": [
    "h = 0.43\n",
    "n = 83\n",
    "x = 44"
   ]
  },
  {
   "cell_type": "code",
   "execution_count": 195,
   "metadata": {},
   "outputs": [
    {
     "data": {
      "text/plain": [
       "(0.43, 0.05434162353291233)"
      ]
     },
     "execution_count": 195,
     "metadata": {},
     "output_type": "execute_result"
    }
   ],
   "source": [
    "interval = get_interval(h, n)\n",
    "interval"
   ]
  },
  {
   "cell_type": "code",
   "execution_count": 196,
   "metadata": {},
   "outputs": [
    {
     "data": {
      "text/plain": [
       "0.5301204819277109"
      ]
     },
     "execution_count": 196,
     "metadata": {},
     "output_type": "execute_result"
    }
   ],
   "source": [
    "p = get_p(x, n)\n",
    "p"
   ]
  },
  {
   "cell_type": "code",
   "execution_count": 197,
   "metadata": {},
   "outputs": [
    {
     "data": {
      "text/plain": [
       "1.8424271381415815"
      ]
     },
     "execution_count": 197,
     "metadata": {},
     "output_type": "execute_result"
    }
   ],
   "source": [
    "z = get_z(get_p(x, n), get_interval(h, n))\n",
    "z"
   ]
  },
  {
   "cell_type": "code",
   "execution_count": 198,
   "metadata": {},
   "outputs": [
    {
     "data": {
      "text/plain": [
       "0.0658"
      ]
     },
     "execution_count": 198,
     "metadata": {},
     "output_type": "execute_result"
    }
   ],
   "source": [
    "hypothesis = hip_test(get_z(get_p(x, n), get_interval(h, n)))\n",
    "hypothesis"
   ]
  },
  {
   "cell_type": "markdown",
   "metadata": {},
   "source": [
    "# Façamos um intervalo de confiança de 95%\n",
    "$$\\hat{p} = 0.53$$ <br>\n",
    "$$\\hat{q} = 0.47$$ <br>\n",
    "$$Z_{\\alpha/2} = Z_{0.05/2} = Z_{0.025}=1.96$$ <br>\n",
    "\n",
    "$$E = Z_{\\alpha/2} \\sqrt { \\frac {\\hat{p}\\hat{q}}{n}}=1.96 \\sqrt { \\frac {0.53 \\cdot 0.47}{83}}=0.107$$ <br/>\n",
    "\n",
    "$$[\\hat{p}-E,\\hat{p}+E] = [0.53-0.107, 0.53+0.107] = [0.423,0.637] $$ "
   ]
  },
  {
   "cell_type": "code",
   "execution_count": 199,
   "metadata": {},
   "outputs": [
    {
     "data": {
      "text/plain": [
       "{'Interval': [0.423, 0.637], 'E_margin': 0.107}"
      ]
     },
     "execution_count": 199,
     "metadata": {},
     "output_type": "execute_result"
    }
   ],
   "source": [
    "conf_interval(x, n, 95)"
   ]
  },
  {
   "cell_type": "markdown",
   "metadata": {},
   "source": [
    "**Podemos dizer com 95% de confiança que a proporção de americanos que usam IPhone se encontra entre 42,3% e 63,7%.**"
   ]
  },
  {
   "cell_type": "code",
   "execution_count": 214,
   "metadata": {},
   "outputs": [],
   "source": [
    "from model.Probability import Probability"
   ]
  },
  {
   "cell_type": "code",
   "execution_count": 215,
   "metadata": {},
   "outputs": [],
   "source": [
    "prob = Probability()"
   ]
  },
  {
   "cell_type": "code",
   "execution_count": 216,
   "metadata": {
    "scrolled": true
   },
   "outputs": [
    {
     "data": {
      "text/plain": [
       "{'Interval': [0.423, 0.637], 'E_margin': 0.107}"
      ]
     },
     "execution_count": 216,
     "metadata": {},
     "output_type": "execute_result"
    }
   ],
   "source": [
    "prob.conf_interval(x, n, 95)"
   ]
  },
  {
   "cell_type": "code",
   "execution_count": 217,
   "metadata": {},
   "outputs": [
    {
     "data": {
      "text/plain": [
       "0.0658"
      ]
     },
     "execution_count": 217,
     "metadata": {},
     "output_type": "execute_result"
    }
   ],
   "source": [
    "prob.hip_test(get_z(get_p(x, n), get_interval(h, n)))"
   ]
  }
 ],
 "metadata": {
  "kernelspec": {
   "display_name": "Python 3",
   "language": "python",
   "name": "python3"
  },
  "language_info": {
   "codemirror_mode": {
    "name": "ipython",
    "version": 3
   },
   "file_extension": ".py",
   "mimetype": "text/x-python",
   "name": "python",
   "nbconvert_exporter": "python",
   "pygments_lexer": "ipython3",
   "version": "3.7.6"
  }
 },
 "nbformat": 4,
 "nbformat_minor": 2
}
