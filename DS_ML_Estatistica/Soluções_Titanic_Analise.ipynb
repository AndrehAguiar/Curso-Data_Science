{
 "cells": [
  {
   "cell_type": "code",
   "execution_count": 1,
   "metadata": {},
   "outputs": [],
   "source": [
    "import pandas as pd"
   ]
  },
  {
   "cell_type": "code",
   "execution_count": 2,
   "metadata": {
    "scrolled": true
   },
   "outputs": [
    {
     "data": {
      "text/html": [
       "<div>\n",
       "<style scoped>\n",
       "    .dataframe tbody tr th:only-of-type {\n",
       "        vertical-align: middle;\n",
       "    }\n",
       "\n",
       "    .dataframe tbody tr th {\n",
       "        vertical-align: top;\n",
       "    }\n",
       "\n",
       "    .dataframe thead th {\n",
       "        text-align: right;\n",
       "    }\n",
       "</style>\n",
       "<table border=\"1\" class=\"dataframe\">\n",
       "  <thead>\n",
       "    <tr style=\"text-align: right;\">\n",
       "      <th></th>\n",
       "      <th>PassengerId</th>\n",
       "      <th>Survived</th>\n",
       "      <th>Pclass</th>\n",
       "      <th>Name</th>\n",
       "      <th>Sex</th>\n",
       "      <th>Age</th>\n",
       "      <th>SibSp</th>\n",
       "      <th>Parch</th>\n",
       "      <th>Ticket</th>\n",
       "      <th>Fare</th>\n",
       "      <th>Cabin</th>\n",
       "      <th>Embarked</th>\n",
       "    </tr>\n",
       "  </thead>\n",
       "  <tbody>\n",
       "    <tr>\n",
       "      <th>0</th>\n",
       "      <td>1</td>\n",
       "      <td>0</td>\n",
       "      <td>3</td>\n",
       "      <td>Braund, Mr. Owen Harris</td>\n",
       "      <td>male</td>\n",
       "      <td>22.0</td>\n",
       "      <td>1</td>\n",
       "      <td>0</td>\n",
       "      <td>A/5 21171</td>\n",
       "      <td>7.2500</td>\n",
       "      <td>NaN</td>\n",
       "      <td>S</td>\n",
       "    </tr>\n",
       "    <tr>\n",
       "      <th>1</th>\n",
       "      <td>2</td>\n",
       "      <td>1</td>\n",
       "      <td>1</td>\n",
       "      <td>Cumings, Mrs. John Bradley (Florence Briggs Th...</td>\n",
       "      <td>female</td>\n",
       "      <td>38.0</td>\n",
       "      <td>1</td>\n",
       "      <td>0</td>\n",
       "      <td>PC 17599</td>\n",
       "      <td>71.2833</td>\n",
       "      <td>C85</td>\n",
       "      <td>C</td>\n",
       "    </tr>\n",
       "    <tr>\n",
       "      <th>2</th>\n",
       "      <td>3</td>\n",
       "      <td>1</td>\n",
       "      <td>3</td>\n",
       "      <td>Heikkinen, Miss. Laina</td>\n",
       "      <td>female</td>\n",
       "      <td>26.0</td>\n",
       "      <td>0</td>\n",
       "      <td>0</td>\n",
       "      <td>STON/O2. 3101282</td>\n",
       "      <td>7.9250</td>\n",
       "      <td>NaN</td>\n",
       "      <td>S</td>\n",
       "    </tr>\n",
       "    <tr>\n",
       "      <th>3</th>\n",
       "      <td>4</td>\n",
       "      <td>1</td>\n",
       "      <td>1</td>\n",
       "      <td>Futrelle, Mrs. Jacques Heath (Lily May Peel)</td>\n",
       "      <td>female</td>\n",
       "      <td>35.0</td>\n",
       "      <td>1</td>\n",
       "      <td>0</td>\n",
       "      <td>113803</td>\n",
       "      <td>53.1000</td>\n",
       "      <td>C123</td>\n",
       "      <td>S</td>\n",
       "    </tr>\n",
       "    <tr>\n",
       "      <th>4</th>\n",
       "      <td>5</td>\n",
       "      <td>0</td>\n",
       "      <td>3</td>\n",
       "      <td>Allen, Mr. William Henry</td>\n",
       "      <td>male</td>\n",
       "      <td>35.0</td>\n",
       "      <td>0</td>\n",
       "      <td>0</td>\n",
       "      <td>373450</td>\n",
       "      <td>8.0500</td>\n",
       "      <td>NaN</td>\n",
       "      <td>S</td>\n",
       "    </tr>\n",
       "  </tbody>\n",
       "</table>\n",
       "</div>"
      ],
      "text/plain": [
       "   PassengerId  Survived  Pclass  \\\n",
       "0            1         0       3   \n",
       "1            2         1       1   \n",
       "2            3         1       3   \n",
       "3            4         1       1   \n",
       "4            5         0       3   \n",
       "\n",
       "                                                Name     Sex   Age  SibSp  \\\n",
       "0                            Braund, Mr. Owen Harris    male  22.0      1   \n",
       "1  Cumings, Mrs. John Bradley (Florence Briggs Th...  female  38.0      1   \n",
       "2                             Heikkinen, Miss. Laina  female  26.0      0   \n",
       "3       Futrelle, Mrs. Jacques Heath (Lily May Peel)  female  35.0      1   \n",
       "4                           Allen, Mr. William Henry    male  35.0      0   \n",
       "\n",
       "   Parch            Ticket     Fare Cabin Embarked  \n",
       "0      0         A/5 21171   7.2500   NaN        S  \n",
       "1      0          PC 17599  71.2833   C85        C  \n",
       "2      0  STON/O2. 3101282   7.9250   NaN        S  \n",
       "3      0            113803  53.1000  C123        S  \n",
       "4      0            373450   8.0500   NaN        S  "
      ]
     },
     "execution_count": 2,
     "metadata": {},
     "output_type": "execute_result"
    }
   ],
   "source": [
    "df = pd.read_csv('CSVs/titanic/train.csv')\n",
    "df.head()"
   ]
  },
  {
   "cell_type": "code",
   "execution_count": 3,
   "metadata": {
    "scrolled": true
   },
   "outputs": [
    {
     "data": {
      "text/html": [
       "<div>\n",
       "<style scoped>\n",
       "    .dataframe tbody tr th:only-of-type {\n",
       "        vertical-align: middle;\n",
       "    }\n",
       "\n",
       "    .dataframe tbody tr th {\n",
       "        vertical-align: top;\n",
       "    }\n",
       "\n",
       "    .dataframe thead th {\n",
       "        text-align: right;\n",
       "    }\n",
       "</style>\n",
       "<table border=\"1\" class=\"dataframe\">\n",
       "  <thead>\n",
       "    <tr style=\"text-align: right;\">\n",
       "      <th></th>\n",
       "      <th>PassengerId</th>\n",
       "      <th>Survived</th>\n",
       "      <th>Pclass</th>\n",
       "      <th>Name</th>\n",
       "      <th>Sex</th>\n",
       "      <th>Age</th>\n",
       "      <th>SibSp</th>\n",
       "      <th>Parch</th>\n",
       "      <th>Ticket</th>\n",
       "      <th>Fare</th>\n",
       "      <th>Cabin</th>\n",
       "      <th>Embarked</th>\n",
       "    </tr>\n",
       "  </thead>\n",
       "  <tbody>\n",
       "    <tr>\n",
       "      <th>886</th>\n",
       "      <td>887</td>\n",
       "      <td>0</td>\n",
       "      <td>2</td>\n",
       "      <td>Montvila, Rev. Juozas</td>\n",
       "      <td>male</td>\n",
       "      <td>27.0</td>\n",
       "      <td>0</td>\n",
       "      <td>0</td>\n",
       "      <td>211536</td>\n",
       "      <td>13.00</td>\n",
       "      <td>NaN</td>\n",
       "      <td>S</td>\n",
       "    </tr>\n",
       "    <tr>\n",
       "      <th>887</th>\n",
       "      <td>888</td>\n",
       "      <td>1</td>\n",
       "      <td>1</td>\n",
       "      <td>Graham, Miss. Margaret Edith</td>\n",
       "      <td>female</td>\n",
       "      <td>19.0</td>\n",
       "      <td>0</td>\n",
       "      <td>0</td>\n",
       "      <td>112053</td>\n",
       "      <td>30.00</td>\n",
       "      <td>B42</td>\n",
       "      <td>S</td>\n",
       "    </tr>\n",
       "    <tr>\n",
       "      <th>888</th>\n",
       "      <td>889</td>\n",
       "      <td>0</td>\n",
       "      <td>3</td>\n",
       "      <td>Johnston, Miss. Catherine Helen \"Carrie\"</td>\n",
       "      <td>female</td>\n",
       "      <td>NaN</td>\n",
       "      <td>1</td>\n",
       "      <td>2</td>\n",
       "      <td>W./C. 6607</td>\n",
       "      <td>23.45</td>\n",
       "      <td>NaN</td>\n",
       "      <td>S</td>\n",
       "    </tr>\n",
       "    <tr>\n",
       "      <th>889</th>\n",
       "      <td>890</td>\n",
       "      <td>1</td>\n",
       "      <td>1</td>\n",
       "      <td>Behr, Mr. Karl Howell</td>\n",
       "      <td>male</td>\n",
       "      <td>26.0</td>\n",
       "      <td>0</td>\n",
       "      <td>0</td>\n",
       "      <td>111369</td>\n",
       "      <td>30.00</td>\n",
       "      <td>C148</td>\n",
       "      <td>C</td>\n",
       "    </tr>\n",
       "    <tr>\n",
       "      <th>890</th>\n",
       "      <td>891</td>\n",
       "      <td>0</td>\n",
       "      <td>3</td>\n",
       "      <td>Dooley, Mr. Patrick</td>\n",
       "      <td>male</td>\n",
       "      <td>32.0</td>\n",
       "      <td>0</td>\n",
       "      <td>0</td>\n",
       "      <td>370376</td>\n",
       "      <td>7.75</td>\n",
       "      <td>NaN</td>\n",
       "      <td>Q</td>\n",
       "    </tr>\n",
       "  </tbody>\n",
       "</table>\n",
       "</div>"
      ],
      "text/plain": [
       "     PassengerId  Survived  Pclass                                      Name  \\\n",
       "886          887         0       2                     Montvila, Rev. Juozas   \n",
       "887          888         1       1              Graham, Miss. Margaret Edith   \n",
       "888          889         0       3  Johnston, Miss. Catherine Helen \"Carrie\"   \n",
       "889          890         1       1                     Behr, Mr. Karl Howell   \n",
       "890          891         0       3                       Dooley, Mr. Patrick   \n",
       "\n",
       "        Sex   Age  SibSp  Parch      Ticket   Fare Cabin Embarked  \n",
       "886    male  27.0      0      0      211536  13.00   NaN        S  \n",
       "887  female  19.0      0      0      112053  30.00   B42        S  \n",
       "888  female   NaN      1      2  W./C. 6607  23.45   NaN        S  \n",
       "889    male  26.0      0      0      111369  30.00  C148        C  \n",
       "890    male  32.0      0      0      370376   7.75   NaN        Q  "
      ]
     },
     "execution_count": 3,
     "metadata": {},
     "output_type": "execute_result"
    }
   ],
   "source": [
    "df.tail()"
   ]
  },
  {
   "cell_type": "code",
   "execution_count": 4,
   "metadata": {
    "scrolled": true
   },
   "outputs": [
    {
     "name": "stdout",
     "output_type": "stream",
     "text": [
      "<class 'pandas.core.frame.DataFrame'>\n",
      "RangeIndex: 891 entries, 0 to 890\n",
      "Data columns (total 12 columns):\n",
      " #   Column       Non-Null Count  Dtype  \n",
      "---  ------       --------------  -----  \n",
      " 0   PassengerId  891 non-null    int64  \n",
      " 1   Survived     891 non-null    int64  \n",
      " 2   Pclass       891 non-null    int64  \n",
      " 3   Name         891 non-null    object \n",
      " 4   Sex          891 non-null    object \n",
      " 5   Age          714 non-null    float64\n",
      " 6   SibSp        891 non-null    int64  \n",
      " 7   Parch        891 non-null    int64  \n",
      " 8   Ticket       891 non-null    object \n",
      " 9   Fare         891 non-null    float64\n",
      " 10  Cabin        204 non-null    object \n",
      " 11  Embarked     889 non-null    object \n",
      "dtypes: float64(2), int64(5), object(5)\n",
      "memory usage: 83.7+ KB\n"
     ]
    }
   ],
   "source": [
    "df.info()"
   ]
  },
  {
   "cell_type": "markdown",
   "metadata": {},
   "source": [
    "### Resumo Estatístico de Campos Numéricos "
   ]
  },
  {
   "cell_type": "code",
   "execution_count": 5,
   "metadata": {},
   "outputs": [
    {
     "data": {
      "text/html": [
       "<div>\n",
       "<style scoped>\n",
       "    .dataframe tbody tr th:only-of-type {\n",
       "        vertical-align: middle;\n",
       "    }\n",
       "\n",
       "    .dataframe tbody tr th {\n",
       "        vertical-align: top;\n",
       "    }\n",
       "\n",
       "    .dataframe thead th {\n",
       "        text-align: right;\n",
       "    }\n",
       "</style>\n",
       "<table border=\"1\" class=\"dataframe\">\n",
       "  <thead>\n",
       "    <tr style=\"text-align: right;\">\n",
       "      <th></th>\n",
       "      <th>PassengerId</th>\n",
       "      <th>Survived</th>\n",
       "      <th>Pclass</th>\n",
       "      <th>Age</th>\n",
       "      <th>SibSp</th>\n",
       "      <th>Parch</th>\n",
       "      <th>Fare</th>\n",
       "    </tr>\n",
       "  </thead>\n",
       "  <tbody>\n",
       "    <tr>\n",
       "      <th>count</th>\n",
       "      <td>891.000000</td>\n",
       "      <td>891.000000</td>\n",
       "      <td>891.000000</td>\n",
       "      <td>714.000000</td>\n",
       "      <td>891.000000</td>\n",
       "      <td>891.000000</td>\n",
       "      <td>891.000000</td>\n",
       "    </tr>\n",
       "    <tr>\n",
       "      <th>mean</th>\n",
       "      <td>446.000000</td>\n",
       "      <td>0.383838</td>\n",
       "      <td>2.308642</td>\n",
       "      <td>29.699118</td>\n",
       "      <td>0.523008</td>\n",
       "      <td>0.381594</td>\n",
       "      <td>32.204208</td>\n",
       "    </tr>\n",
       "    <tr>\n",
       "      <th>std</th>\n",
       "      <td>257.353842</td>\n",
       "      <td>0.486592</td>\n",
       "      <td>0.836071</td>\n",
       "      <td>14.526497</td>\n",
       "      <td>1.102743</td>\n",
       "      <td>0.806057</td>\n",
       "      <td>49.693429</td>\n",
       "    </tr>\n",
       "    <tr>\n",
       "      <th>min</th>\n",
       "      <td>1.000000</td>\n",
       "      <td>0.000000</td>\n",
       "      <td>1.000000</td>\n",
       "      <td>0.420000</td>\n",
       "      <td>0.000000</td>\n",
       "      <td>0.000000</td>\n",
       "      <td>0.000000</td>\n",
       "    </tr>\n",
       "    <tr>\n",
       "      <th>25%</th>\n",
       "      <td>223.500000</td>\n",
       "      <td>0.000000</td>\n",
       "      <td>2.000000</td>\n",
       "      <td>20.125000</td>\n",
       "      <td>0.000000</td>\n",
       "      <td>0.000000</td>\n",
       "      <td>7.910400</td>\n",
       "    </tr>\n",
       "    <tr>\n",
       "      <th>50%</th>\n",
       "      <td>446.000000</td>\n",
       "      <td>0.000000</td>\n",
       "      <td>3.000000</td>\n",
       "      <td>28.000000</td>\n",
       "      <td>0.000000</td>\n",
       "      <td>0.000000</td>\n",
       "      <td>14.454200</td>\n",
       "    </tr>\n",
       "    <tr>\n",
       "      <th>75%</th>\n",
       "      <td>668.500000</td>\n",
       "      <td>1.000000</td>\n",
       "      <td>3.000000</td>\n",
       "      <td>38.000000</td>\n",
       "      <td>1.000000</td>\n",
       "      <td>0.000000</td>\n",
       "      <td>31.000000</td>\n",
       "    </tr>\n",
       "    <tr>\n",
       "      <th>max</th>\n",
       "      <td>891.000000</td>\n",
       "      <td>1.000000</td>\n",
       "      <td>3.000000</td>\n",
       "      <td>80.000000</td>\n",
       "      <td>8.000000</td>\n",
       "      <td>6.000000</td>\n",
       "      <td>512.329200</td>\n",
       "    </tr>\n",
       "  </tbody>\n",
       "</table>\n",
       "</div>"
      ],
      "text/plain": [
       "       PassengerId    Survived      Pclass         Age       SibSp  \\\n",
       "count   891.000000  891.000000  891.000000  714.000000  891.000000   \n",
       "mean    446.000000    0.383838    2.308642   29.699118    0.523008   \n",
       "std     257.353842    0.486592    0.836071   14.526497    1.102743   \n",
       "min       1.000000    0.000000    1.000000    0.420000    0.000000   \n",
       "25%     223.500000    0.000000    2.000000   20.125000    0.000000   \n",
       "50%     446.000000    0.000000    3.000000   28.000000    0.000000   \n",
       "75%     668.500000    1.000000    3.000000   38.000000    1.000000   \n",
       "max     891.000000    1.000000    3.000000   80.000000    8.000000   \n",
       "\n",
       "            Parch        Fare  \n",
       "count  891.000000  891.000000  \n",
       "mean     0.381594   32.204208  \n",
       "std      0.806057   49.693429  \n",
       "min      0.000000    0.000000  \n",
       "25%      0.000000    7.910400  \n",
       "50%      0.000000   14.454200  \n",
       "75%      0.000000   31.000000  \n",
       "max      6.000000  512.329200  "
      ]
     },
     "execution_count": 5,
     "metadata": {},
     "output_type": "execute_result"
    }
   ],
   "source": [
    "df.describe()"
   ]
  },
  {
   "cell_type": "markdown",
   "metadata": {},
   "source": [
    "### Resumo estatístico de campos Categóricos"
   ]
  },
  {
   "cell_type": "code",
   "execution_count": 6,
   "metadata": {},
   "outputs": [
    {
     "data": {
      "text/html": [
       "<div>\n",
       "<style scoped>\n",
       "    .dataframe tbody tr th:only-of-type {\n",
       "        vertical-align: middle;\n",
       "    }\n",
       "\n",
       "    .dataframe tbody tr th {\n",
       "        vertical-align: top;\n",
       "    }\n",
       "\n",
       "    .dataframe thead th {\n",
       "        text-align: right;\n",
       "    }\n",
       "</style>\n",
       "<table border=\"1\" class=\"dataframe\">\n",
       "  <thead>\n",
       "    <tr style=\"text-align: right;\">\n",
       "      <th></th>\n",
       "      <th>Name</th>\n",
       "      <th>Sex</th>\n",
       "      <th>Ticket</th>\n",
       "      <th>Cabin</th>\n",
       "      <th>Embarked</th>\n",
       "    </tr>\n",
       "  </thead>\n",
       "  <tbody>\n",
       "    <tr>\n",
       "      <th>count</th>\n",
       "      <td>891</td>\n",
       "      <td>891</td>\n",
       "      <td>891</td>\n",
       "      <td>204</td>\n",
       "      <td>889</td>\n",
       "    </tr>\n",
       "    <tr>\n",
       "      <th>unique</th>\n",
       "      <td>891</td>\n",
       "      <td>2</td>\n",
       "      <td>681</td>\n",
       "      <td>147</td>\n",
       "      <td>3</td>\n",
       "    </tr>\n",
       "    <tr>\n",
       "      <th>top</th>\n",
       "      <td>Backstrom, Mrs. Karl Alfred (Maria Mathilda Gu...</td>\n",
       "      <td>male</td>\n",
       "      <td>CA. 2343</td>\n",
       "      <td>C23 C25 C27</td>\n",
       "      <td>S</td>\n",
       "    </tr>\n",
       "    <tr>\n",
       "      <th>freq</th>\n",
       "      <td>1</td>\n",
       "      <td>577</td>\n",
       "      <td>7</td>\n",
       "      <td>4</td>\n",
       "      <td>644</td>\n",
       "    </tr>\n",
       "  </tbody>\n",
       "</table>\n",
       "</div>"
      ],
      "text/plain": [
       "                                                     Name   Sex    Ticket  \\\n",
       "count                                                 891   891       891   \n",
       "unique                                                891     2       681   \n",
       "top     Backstrom, Mrs. Karl Alfred (Maria Mathilda Gu...  male  CA. 2343   \n",
       "freq                                                    1   577         7   \n",
       "\n",
       "              Cabin Embarked  \n",
       "count           204      889  \n",
       "unique          147        3  \n",
       "top     C23 C25 C27        S  \n",
       "freq              4      644  "
      ]
     },
     "execution_count": 6,
     "metadata": {},
     "output_type": "execute_result"
    }
   ],
   "source": [
    "df.describe(include='O')"
   ]
  },
  {
   "cell_type": "code",
   "execution_count": 7,
   "metadata": {},
   "outputs": [],
   "source": [
    "df.rename({'Name':'Nome','Sex':'Sexo'}, axis=1, inplace=True)"
   ]
  },
  {
   "cell_type": "code",
   "execution_count": 8,
   "metadata": {},
   "outputs": [
    {
     "data": {
      "text/html": [
       "<div>\n",
       "<style scoped>\n",
       "    .dataframe tbody tr th:only-of-type {\n",
       "        vertical-align: middle;\n",
       "    }\n",
       "\n",
       "    .dataframe tbody tr th {\n",
       "        vertical-align: top;\n",
       "    }\n",
       "\n",
       "    .dataframe thead th {\n",
       "        text-align: right;\n",
       "    }\n",
       "</style>\n",
       "<table border=\"1\" class=\"dataframe\">\n",
       "  <thead>\n",
       "    <tr style=\"text-align: right;\">\n",
       "      <th></th>\n",
       "      <th>PassengerId</th>\n",
       "      <th>Survived</th>\n",
       "      <th>Pclass</th>\n",
       "      <th>Nome</th>\n",
       "      <th>Sexo</th>\n",
       "      <th>Age</th>\n",
       "      <th>SibSp</th>\n",
       "      <th>Parch</th>\n",
       "      <th>Ticket</th>\n",
       "      <th>Fare</th>\n",
       "      <th>Cabin</th>\n",
       "      <th>Embarked</th>\n",
       "    </tr>\n",
       "  </thead>\n",
       "  <tbody>\n",
       "    <tr>\n",
       "      <th>0</th>\n",
       "      <td>1</td>\n",
       "      <td>0</td>\n",
       "      <td>3</td>\n",
       "      <td>Braund, Mr. Owen Harris</td>\n",
       "      <td>male</td>\n",
       "      <td>22.0</td>\n",
       "      <td>1</td>\n",
       "      <td>0</td>\n",
       "      <td>A/5 21171</td>\n",
       "      <td>7.2500</td>\n",
       "      <td>NaN</td>\n",
       "      <td>S</td>\n",
       "    </tr>\n",
       "    <tr>\n",
       "      <th>1</th>\n",
       "      <td>2</td>\n",
       "      <td>1</td>\n",
       "      <td>1</td>\n",
       "      <td>Cumings, Mrs. John Bradley (Florence Briggs Th...</td>\n",
       "      <td>female</td>\n",
       "      <td>38.0</td>\n",
       "      <td>1</td>\n",
       "      <td>0</td>\n",
       "      <td>PC 17599</td>\n",
       "      <td>71.2833</td>\n",
       "      <td>C85</td>\n",
       "      <td>C</td>\n",
       "    </tr>\n",
       "    <tr>\n",
       "      <th>2</th>\n",
       "      <td>3</td>\n",
       "      <td>1</td>\n",
       "      <td>3</td>\n",
       "      <td>Heikkinen, Miss. Laina</td>\n",
       "      <td>female</td>\n",
       "      <td>26.0</td>\n",
       "      <td>0</td>\n",
       "      <td>0</td>\n",
       "      <td>STON/O2. 3101282</td>\n",
       "      <td>7.9250</td>\n",
       "      <td>NaN</td>\n",
       "      <td>S</td>\n",
       "    </tr>\n",
       "    <tr>\n",
       "      <th>3</th>\n",
       "      <td>4</td>\n",
       "      <td>1</td>\n",
       "      <td>1</td>\n",
       "      <td>Futrelle, Mrs. Jacques Heath (Lily May Peel)</td>\n",
       "      <td>female</td>\n",
       "      <td>35.0</td>\n",
       "      <td>1</td>\n",
       "      <td>0</td>\n",
       "      <td>113803</td>\n",
       "      <td>53.1000</td>\n",
       "      <td>C123</td>\n",
       "      <td>S</td>\n",
       "    </tr>\n",
       "    <tr>\n",
       "      <th>4</th>\n",
       "      <td>5</td>\n",
       "      <td>0</td>\n",
       "      <td>3</td>\n",
       "      <td>Allen, Mr. William Henry</td>\n",
       "      <td>male</td>\n",
       "      <td>35.0</td>\n",
       "      <td>0</td>\n",
       "      <td>0</td>\n",
       "      <td>373450</td>\n",
       "      <td>8.0500</td>\n",
       "      <td>NaN</td>\n",
       "      <td>S</td>\n",
       "    </tr>\n",
       "  </tbody>\n",
       "</table>\n",
       "</div>"
      ],
      "text/plain": [
       "   PassengerId  Survived  Pclass  \\\n",
       "0            1         0       3   \n",
       "1            2         1       1   \n",
       "2            3         1       3   \n",
       "3            4         1       1   \n",
       "4            5         0       3   \n",
       "\n",
       "                                                Nome    Sexo   Age  SibSp  \\\n",
       "0                            Braund, Mr. Owen Harris    male  22.0      1   \n",
       "1  Cumings, Mrs. John Bradley (Florence Briggs Th...  female  38.0      1   \n",
       "2                             Heikkinen, Miss. Laina  female  26.0      0   \n",
       "3       Futrelle, Mrs. Jacques Heath (Lily May Peel)  female  35.0      1   \n",
       "4                           Allen, Mr. William Henry    male  35.0      0   \n",
       "\n",
       "   Parch            Ticket     Fare Cabin Embarked  \n",
       "0      0         A/5 21171   7.2500   NaN        S  \n",
       "1      0          PC 17599  71.2833   C85        C  \n",
       "2      0  STON/O2. 3101282   7.9250   NaN        S  \n",
       "3      0            113803  53.1000  C123        S  \n",
       "4      0            373450   8.0500   NaN        S  "
      ]
     },
     "execution_count": 8,
     "metadata": {},
     "output_type": "execute_result"
    }
   ],
   "source": [
    "df.head()"
   ]
  },
  {
   "cell_type": "code",
   "execution_count": 9,
   "metadata": {},
   "outputs": [
    {
     "data": {
      "text/plain": [
       "Index(['PassengerId', 'Survived', 'Pclass', 'Nome', 'Sexo', 'Age', 'SibSp',\n",
       "       'Parch', 'Ticket', 'Fare', 'Cabin', 'Embarked'],\n",
       "      dtype='object')"
      ]
     },
     "execution_count": 9,
     "metadata": {},
     "output_type": "execute_result"
    }
   ],
   "source": [
    "df.columns"
   ]
  },
  {
   "cell_type": "code",
   "execution_count": 10,
   "metadata": {},
   "outputs": [],
   "source": [
    "df.columns = ['IdPassageiro', 'Sobreviveu', 'Classe', 'Nome', 'Sexo', 'Idade',\n",
    "              'IrmaosConjuge', 'PaisFilhos', 'Bilhete', 'Tarifa', 'Cabine', 'Embarque']"
   ]
  },
  {
   "cell_type": "code",
   "execution_count": 11,
   "metadata": {},
   "outputs": [
    {
     "data": {
      "text/html": [
       "<div>\n",
       "<style scoped>\n",
       "    .dataframe tbody tr th:only-of-type {\n",
       "        vertical-align: middle;\n",
       "    }\n",
       "\n",
       "    .dataframe tbody tr th {\n",
       "        vertical-align: top;\n",
       "    }\n",
       "\n",
       "    .dataframe thead th {\n",
       "        text-align: right;\n",
       "    }\n",
       "</style>\n",
       "<table border=\"1\" class=\"dataframe\">\n",
       "  <thead>\n",
       "    <tr style=\"text-align: right;\">\n",
       "      <th></th>\n",
       "      <th>IdPassageiro</th>\n",
       "      <th>Sobreviveu</th>\n",
       "      <th>Classe</th>\n",
       "      <th>Nome</th>\n",
       "      <th>Sexo</th>\n",
       "      <th>Idade</th>\n",
       "      <th>IrmaosConjuge</th>\n",
       "      <th>PaisFilhos</th>\n",
       "      <th>Bilhete</th>\n",
       "      <th>Tarifa</th>\n",
       "      <th>Cabine</th>\n",
       "      <th>Embarque</th>\n",
       "    </tr>\n",
       "  </thead>\n",
       "  <tbody>\n",
       "    <tr>\n",
       "      <th>0</th>\n",
       "      <td>1</td>\n",
       "      <td>0</td>\n",
       "      <td>3</td>\n",
       "      <td>Braund, Mr. Owen Harris</td>\n",
       "      <td>male</td>\n",
       "      <td>22.0</td>\n",
       "      <td>1</td>\n",
       "      <td>0</td>\n",
       "      <td>A/5 21171</td>\n",
       "      <td>7.2500</td>\n",
       "      <td>NaN</td>\n",
       "      <td>S</td>\n",
       "    </tr>\n",
       "    <tr>\n",
       "      <th>1</th>\n",
       "      <td>2</td>\n",
       "      <td>1</td>\n",
       "      <td>1</td>\n",
       "      <td>Cumings, Mrs. John Bradley (Florence Briggs Th...</td>\n",
       "      <td>female</td>\n",
       "      <td>38.0</td>\n",
       "      <td>1</td>\n",
       "      <td>0</td>\n",
       "      <td>PC 17599</td>\n",
       "      <td>71.2833</td>\n",
       "      <td>C85</td>\n",
       "      <td>C</td>\n",
       "    </tr>\n",
       "  </tbody>\n",
       "</table>\n",
       "</div>"
      ],
      "text/plain": [
       "   IdPassageiro  Sobreviveu  Classe  \\\n",
       "0             1           0       3   \n",
       "1             2           1       1   \n",
       "\n",
       "                                                Nome    Sexo  Idade  \\\n",
       "0                            Braund, Mr. Owen Harris    male   22.0   \n",
       "1  Cumings, Mrs. John Bradley (Florence Briggs Th...  female   38.0   \n",
       "\n",
       "   IrmaosConjuge  PaisFilhos    Bilhete   Tarifa Cabine Embarque  \n",
       "0              1           0  A/5 21171   7.2500    NaN        S  \n",
       "1              1           0   PC 17599  71.2833    C85        C  "
      ]
     },
     "execution_count": 11,
     "metadata": {},
     "output_type": "execute_result"
    }
   ],
   "source": [
    "df.head(2)"
   ]
  },
  {
   "cell_type": "code",
   "execution_count": 12,
   "metadata": {},
   "outputs": [
    {
     "data": {
      "text/html": [
       "<style  type=\"text/css\" >\n",
       "    #T_4681cdee_d9be_11ea_b4d4_109836fd617drow0_col2 {\n",
       "            background-color:  #7f0000;\n",
       "            color:  #f1f1f1;\n",
       "        }    #T_4681cdee_d9be_11ea_b4d4_109836fd617drow0_col3 {\n",
       "            background-color:  #fff7ec;\n",
       "            color:  #000000;\n",
       "        }    #T_4681cdee_d9be_11ea_b4d4_109836fd617drow0_col4 {\n",
       "            background-color:  #fff7ec;\n",
       "            color:  #000000;\n",
       "        }    #T_4681cdee_d9be_11ea_b4d4_109836fd617drow0_col5 {\n",
       "            background-color:  #fff7ec;\n",
       "            color:  #000000;\n",
       "        }    #T_4681cdee_d9be_11ea_b4d4_109836fd617drow1_col2 {\n",
       "            background-color:  #fff7ec;\n",
       "            color:  #000000;\n",
       "        }    #T_4681cdee_d9be_11ea_b4d4_109836fd617drow1_col3 {\n",
       "            background-color:  #7f0000;\n",
       "            color:  #f1f1f1;\n",
       "        }    #T_4681cdee_d9be_11ea_b4d4_109836fd617drow1_col4 {\n",
       "            background-color:  #7f0000;\n",
       "            color:  #f1f1f1;\n",
       "        }    #T_4681cdee_d9be_11ea_b4d4_109836fd617drow1_col5 {\n",
       "            background-color:  #7f0000;\n",
       "            color:  #f1f1f1;\n",
       "        }    #T_4681cdee_d9be_11ea_b4d4_109836fd617drow2_col2 {\n",
       "            background-color:  #7f0000;\n",
       "            color:  #f1f1f1;\n",
       "        }    #T_4681cdee_d9be_11ea_b4d4_109836fd617drow2_col3 {\n",
       "            background-color:  #fff6ea;\n",
       "            color:  #000000;\n",
       "        }    #T_4681cdee_d9be_11ea_b4d4_109836fd617drow2_col4 {\n",
       "            background-color:  #fdd49e;\n",
       "            color:  #000000;\n",
       "        }    #T_4681cdee_d9be_11ea_b4d4_109836fd617drow2_col5 {\n",
       "            background-color:  #7f0000;\n",
       "            color:  #f1f1f1;\n",
       "        }    #T_4681cdee_d9be_11ea_b4d4_109836fd617drow3_col2 {\n",
       "            background-color:  #fff7ec;\n",
       "            color:  #000000;\n",
       "        }    #T_4681cdee_d9be_11ea_b4d4_109836fd617drow3_col3 {\n",
       "            background-color:  #dd3e2a;\n",
       "            color:  #f1f1f1;\n",
       "        }    #T_4681cdee_d9be_11ea_b4d4_109836fd617drow3_col4 {\n",
       "            background-color:  #c4170f;\n",
       "            color:  #f1f1f1;\n",
       "        }    #T_4681cdee_d9be_11ea_b4d4_109836fd617drow3_col5 {\n",
       "            background-color:  #7f0000;\n",
       "            color:  #f1f1f1;\n",
       "        }    #T_4681cdee_d9be_11ea_b4d4_109836fd617drow4_col2 {\n",
       "            background-color:  #7f0000;\n",
       "            color:  #f1f1f1;\n",
       "        }    #T_4681cdee_d9be_11ea_b4d4_109836fd617drow4_col3 {\n",
       "            background-color:  #fff6e9;\n",
       "            color:  #000000;\n",
       "        }    #T_4681cdee_d9be_11ea_b4d4_109836fd617drow4_col4 {\n",
       "            background-color:  #c4170f;\n",
       "            color:  #f1f1f1;\n",
       "        }    #T_4681cdee_d9be_11ea_b4d4_109836fd617drow4_col5 {\n",
       "            background-color:  #fff7ec;\n",
       "            color:  #000000;\n",
       "        }</style><table id=\"T_4681cdee_d9be_11ea_b4d4_109836fd617d\" ><thead>    <tr>        <th class=\"blank level0\" ></th>        <th class=\"col_heading level0 col0\" >Nome</th>        <th class=\"col_heading level0 col1\" >Sexo</th>        <th class=\"col_heading level0 col2\" >Classe</th>        <th class=\"col_heading level0 col3\" >Tarifa</th>        <th class=\"col_heading level0 col4\" >Idade</th>        <th class=\"col_heading level0 col5\" >Sobreviveu</th>    </tr></thead><tbody>\n",
       "                <tr>\n",
       "                        <th id=\"T_4681cdee_d9be_11ea_b4d4_109836fd617dlevel0_row0\" class=\"row_heading level0 row0\" >0</th>\n",
       "                        <td id=\"T_4681cdee_d9be_11ea_b4d4_109836fd617drow0_col0\" class=\"data row0 col0\" >Braund, Mr. Owen Harris</td>\n",
       "                        <td id=\"T_4681cdee_d9be_11ea_b4d4_109836fd617drow0_col1\" class=\"data row0 col1\" >male</td>\n",
       "                        <td id=\"T_4681cdee_d9be_11ea_b4d4_109836fd617drow0_col2\" class=\"data row0 col2\" >3</td>\n",
       "                        <td id=\"T_4681cdee_d9be_11ea_b4d4_109836fd617drow0_col3\" class=\"data row0 col3\" >7.250000</td>\n",
       "                        <td id=\"T_4681cdee_d9be_11ea_b4d4_109836fd617drow0_col4\" class=\"data row0 col4\" >22.000000</td>\n",
       "                        <td id=\"T_4681cdee_d9be_11ea_b4d4_109836fd617drow0_col5\" class=\"data row0 col5\" >0</td>\n",
       "            </tr>\n",
       "            <tr>\n",
       "                        <th id=\"T_4681cdee_d9be_11ea_b4d4_109836fd617dlevel0_row1\" class=\"row_heading level0 row1\" >1</th>\n",
       "                        <td id=\"T_4681cdee_d9be_11ea_b4d4_109836fd617drow1_col0\" class=\"data row1 col0\" >Cumings, Mrs. John Bradley (Florence Briggs Thayer)</td>\n",
       "                        <td id=\"T_4681cdee_d9be_11ea_b4d4_109836fd617drow1_col1\" class=\"data row1 col1\" >female</td>\n",
       "                        <td id=\"T_4681cdee_d9be_11ea_b4d4_109836fd617drow1_col2\" class=\"data row1 col2\" >1</td>\n",
       "                        <td id=\"T_4681cdee_d9be_11ea_b4d4_109836fd617drow1_col3\" class=\"data row1 col3\" >71.283300</td>\n",
       "                        <td id=\"T_4681cdee_d9be_11ea_b4d4_109836fd617drow1_col4\" class=\"data row1 col4\" >38.000000</td>\n",
       "                        <td id=\"T_4681cdee_d9be_11ea_b4d4_109836fd617drow1_col5\" class=\"data row1 col5\" >1</td>\n",
       "            </tr>\n",
       "            <tr>\n",
       "                        <th id=\"T_4681cdee_d9be_11ea_b4d4_109836fd617dlevel0_row2\" class=\"row_heading level0 row2\" >2</th>\n",
       "                        <td id=\"T_4681cdee_d9be_11ea_b4d4_109836fd617drow2_col0\" class=\"data row2 col0\" >Heikkinen, Miss. Laina</td>\n",
       "                        <td id=\"T_4681cdee_d9be_11ea_b4d4_109836fd617drow2_col1\" class=\"data row2 col1\" >female</td>\n",
       "                        <td id=\"T_4681cdee_d9be_11ea_b4d4_109836fd617drow2_col2\" class=\"data row2 col2\" >3</td>\n",
       "                        <td id=\"T_4681cdee_d9be_11ea_b4d4_109836fd617drow2_col3\" class=\"data row2 col3\" >7.925000</td>\n",
       "                        <td id=\"T_4681cdee_d9be_11ea_b4d4_109836fd617drow2_col4\" class=\"data row2 col4\" >26.000000</td>\n",
       "                        <td id=\"T_4681cdee_d9be_11ea_b4d4_109836fd617drow2_col5\" class=\"data row2 col5\" >1</td>\n",
       "            </tr>\n",
       "            <tr>\n",
       "                        <th id=\"T_4681cdee_d9be_11ea_b4d4_109836fd617dlevel0_row3\" class=\"row_heading level0 row3\" >3</th>\n",
       "                        <td id=\"T_4681cdee_d9be_11ea_b4d4_109836fd617drow3_col0\" class=\"data row3 col0\" >Futrelle, Mrs. Jacques Heath (Lily May Peel)</td>\n",
       "                        <td id=\"T_4681cdee_d9be_11ea_b4d4_109836fd617drow3_col1\" class=\"data row3 col1\" >female</td>\n",
       "                        <td id=\"T_4681cdee_d9be_11ea_b4d4_109836fd617drow3_col2\" class=\"data row3 col2\" >1</td>\n",
       "                        <td id=\"T_4681cdee_d9be_11ea_b4d4_109836fd617drow3_col3\" class=\"data row3 col3\" >53.100000</td>\n",
       "                        <td id=\"T_4681cdee_d9be_11ea_b4d4_109836fd617drow3_col4\" class=\"data row3 col4\" >35.000000</td>\n",
       "                        <td id=\"T_4681cdee_d9be_11ea_b4d4_109836fd617drow3_col5\" class=\"data row3 col5\" >1</td>\n",
       "            </tr>\n",
       "            <tr>\n",
       "                        <th id=\"T_4681cdee_d9be_11ea_b4d4_109836fd617dlevel0_row4\" class=\"row_heading level0 row4\" >4</th>\n",
       "                        <td id=\"T_4681cdee_d9be_11ea_b4d4_109836fd617drow4_col0\" class=\"data row4 col0\" >Allen, Mr. William Henry</td>\n",
       "                        <td id=\"T_4681cdee_d9be_11ea_b4d4_109836fd617drow4_col1\" class=\"data row4 col1\" >male</td>\n",
       "                        <td id=\"T_4681cdee_d9be_11ea_b4d4_109836fd617drow4_col2\" class=\"data row4 col2\" >3</td>\n",
       "                        <td id=\"T_4681cdee_d9be_11ea_b4d4_109836fd617drow4_col3\" class=\"data row4 col3\" >8.050000</td>\n",
       "                        <td id=\"T_4681cdee_d9be_11ea_b4d4_109836fd617drow4_col4\" class=\"data row4 col4\" >35.000000</td>\n",
       "                        <td id=\"T_4681cdee_d9be_11ea_b4d4_109836fd617drow4_col5\" class=\"data row4 col5\" >0</td>\n",
       "            </tr>\n",
       "    </tbody></table>"
      ],
      "text/plain": [
       "<pandas.io.formats.style.Styler at 0x1c546e96c88>"
      ]
     },
     "execution_count": 12,
     "metadata": {},
     "output_type": "execute_result"
    }
   ],
   "source": [
    "df[['Nome','Sexo','Classe','Tarifa','Idade','Sobreviveu']].head()\\\n",
    ".style.background_gradient(cmap='OrRd')"
   ]
  },
  {
   "cell_type": "code",
   "execution_count": 13,
   "metadata": {},
   "outputs": [
    {
     "data": {
      "text/plain": [
       "0    22.0\n",
       "1    38.0\n",
       "2    26.0\n",
       "3    35.0\n",
       "4    35.0\n",
       "Name: Idade, dtype: float64"
      ]
     },
     "execution_count": 13,
     "metadata": {},
     "output_type": "execute_result"
    }
   ],
   "source": [
    "df['Idade'].head()"
   ]
  },
  {
   "cell_type": "markdown",
   "metadata": {},
   "source": [
    "### Funções matemáticas embutidas"
   ]
  },
  {
   "cell_type": "code",
   "execution_count": 14,
   "metadata": {},
   "outputs": [
    {
     "data": {
      "text/plain": [
       "29.69911764705882"
      ]
     },
     "execution_count": 14,
     "metadata": {},
     "output_type": "execute_result"
    }
   ],
   "source": [
    "df['Idade'].mean()"
   ]
  },
  {
   "cell_type": "code",
   "execution_count": 15,
   "metadata": {},
   "outputs": [
    {
     "data": {
      "text/plain": [
       "21205.17"
      ]
     },
     "execution_count": 15,
     "metadata": {},
     "output_type": "execute_result"
    }
   ],
   "source": [
    "df['Idade'].sum()"
   ]
  },
  {
   "cell_type": "code",
   "execution_count": 16,
   "metadata": {},
   "outputs": [
    {
     "data": {
      "text/plain": [
       "714"
      ]
     },
     "execution_count": 16,
     "metadata": {},
     "output_type": "execute_result"
    }
   ],
   "source": [
    "df['Idade'].count()"
   ]
  },
  {
   "cell_type": "code",
   "execution_count": 17,
   "metadata": {},
   "outputs": [
    {
     "data": {
      "text/plain": [
       "28.0"
      ]
     },
     "execution_count": 17,
     "metadata": {},
     "output_type": "execute_result"
    }
   ],
   "source": [
    "df['Idade'].median()"
   ]
  },
  {
   "cell_type": "code",
   "execution_count": 18,
   "metadata": {},
   "outputs": [
    {
     "data": {
      "text/plain": [
       "0    24.0\n",
       "dtype: float64"
      ]
     },
     "execution_count": 18,
     "metadata": {},
     "output_type": "execute_result"
    }
   ],
   "source": [
    "df['Idade'].mode()"
   ]
  },
  {
   "cell_type": "code",
   "execution_count": 19,
   "metadata": {},
   "outputs": [
    {
     "data": {
      "text/plain": [
       "80.0"
      ]
     },
     "execution_count": 19,
     "metadata": {},
     "output_type": "execute_result"
    }
   ],
   "source": [
    "df['Idade'].max()"
   ]
  },
  {
   "cell_type": "code",
   "execution_count": 20,
   "metadata": {},
   "outputs": [
    {
     "data": {
      "text/plain": [
       "5.04"
      ]
     },
     "execution_count": 20,
     "metadata": {},
     "output_type": "execute_result"
    }
   ],
   "source": [
    "df['Idade'].min() * 12 "
   ]
  },
  {
   "cell_type": "code",
   "execution_count": 21,
   "metadata": {},
   "outputs": [
    {
     "data": {
      "text/plain": [
       "630"
      ]
     },
     "execution_count": 21,
     "metadata": {},
     "output_type": "execute_result"
    }
   ],
   "source": [
    "df['Idade'].idxmax()"
   ]
  },
  {
   "cell_type": "code",
   "execution_count": 22,
   "metadata": {},
   "outputs": [
    {
     "data": {
      "text/plain": [
       "803"
      ]
     },
     "execution_count": 22,
     "metadata": {},
     "output_type": "execute_result"
    }
   ],
   "source": [
    "df['Idade'].idxmin()"
   ]
  },
  {
   "cell_type": "code",
   "execution_count": 23,
   "metadata": {
    "scrolled": true
   },
   "outputs": [
    {
     "data": {
      "text/plain": [
       "IdPassageiro     446.000000\n",
       "Sobreviveu         0.383838\n",
       "Classe             2.308642\n",
       "Idade             29.699118\n",
       "IrmaosConjuge      0.523008\n",
       "PaisFilhos         0.381594\n",
       "Tarifa            32.204208\n",
       "dtype: float64"
      ]
     },
     "execution_count": 23,
     "metadata": {},
     "output_type": "execute_result"
    }
   ],
   "source": [
    "df.mean()"
   ]
  },
  {
   "cell_type": "code",
   "execution_count": 24,
   "metadata": {
    "scrolled": true
   },
   "outputs": [
    {
     "data": {
      "text/plain": [
       "IdPassageiro                       1\n",
       "Sobreviveu                         0\n",
       "Classe                             1\n",
       "Nome             Abbing, Mr. Anthony\n",
       "Sexo                          female\n",
       "Idade                           0.42\n",
       "IrmaosConjuge                      0\n",
       "PaisFilhos                         0\n",
       "Bilhete                       110152\n",
       "Tarifa                             0\n",
       "dtype: object"
      ]
     },
     "execution_count": 24,
     "metadata": {},
     "output_type": "execute_result"
    }
   ],
   "source": [
    "df.min()"
   ]
  },
  {
   "cell_type": "code",
   "execution_count": 25,
   "metadata": {
    "scrolled": true
   },
   "outputs": [
    {
     "data": {
      "text/plain": [
       "IdPassageiro                             891\n",
       "Sobreviveu                                 1\n",
       "Classe                                     3\n",
       "Nome             van Melkebeke, Mr. Philemon\n",
       "Sexo                                    male\n",
       "Idade                                     80\n",
       "IrmaosConjuge                              8\n",
       "PaisFilhos                                 6\n",
       "Bilhete                            WE/P 5735\n",
       "Tarifa                               512.329\n",
       "dtype: object"
      ]
     },
     "execution_count": 25,
     "metadata": {},
     "output_type": "execute_result"
    }
   ],
   "source": [
    "df.max()"
   ]
  },
  {
   "cell_type": "code",
   "execution_count": 26,
   "metadata": {
    "scrolled": true
   },
   "outputs": [
    {
     "data": {
      "text/plain": [
       "IdPassageiro                                      631\n",
       "Sobreviveu                                          1\n",
       "Classe                                              1\n",
       "Nome             Barkworth, Mr. Algernon Henry Wilson\n",
       "Sexo                                             male\n",
       "Idade                                              80\n",
       "IrmaosConjuge                                       0\n",
       "PaisFilhos                                          0\n",
       "Bilhete                                         27042\n",
       "Tarifa                                             30\n",
       "Cabine                                            A23\n",
       "Embarque                                            S\n",
       "Name: 630, dtype: object"
      ]
     },
     "execution_count": 26,
     "metadata": {},
     "output_type": "execute_result"
    }
   ],
   "source": [
    "df.iloc[df['Idade'].idxmax()]"
   ]
  },
  {
   "cell_type": "code",
   "execution_count": 27,
   "metadata": {},
   "outputs": [
    {
     "data": {
      "text/plain": [
       "IdPassageiro                                 804\n",
       "Sobreviveu                                     1\n",
       "Classe                                         3\n",
       "Nome             Thomas, Master. Assad Alexander\n",
       "Sexo                                        male\n",
       "Idade                                       0.42\n",
       "IrmaosConjuge                                  0\n",
       "PaisFilhos                                     1\n",
       "Bilhete                                     2625\n",
       "Tarifa                                    8.5167\n",
       "Cabine                                       NaN\n",
       "Embarque                                       C\n",
       "Name: 803, dtype: object"
      ]
     },
     "execution_count": 27,
     "metadata": {},
     "output_type": "execute_result"
    }
   ],
   "source": [
    "df.iloc[df['Idade'].idxmin()]"
   ]
  },
  {
   "cell_type": "markdown",
   "metadata": {},
   "source": [
    "### Selecionando pelo Index - iloc"
   ]
  },
  {
   "cell_type": "code",
   "execution_count": 28,
   "metadata": {},
   "outputs": [
    {
     "data": {
      "text/html": [
       "<div>\n",
       "<style scoped>\n",
       "    .dataframe tbody tr th:only-of-type {\n",
       "        vertical-align: middle;\n",
       "    }\n",
       "\n",
       "    .dataframe tbody tr th {\n",
       "        vertical-align: top;\n",
       "    }\n",
       "\n",
       "    .dataframe thead th {\n",
       "        text-align: right;\n",
       "    }\n",
       "</style>\n",
       "<table border=\"1\" class=\"dataframe\">\n",
       "  <thead>\n",
       "    <tr style=\"text-align: right;\">\n",
       "      <th></th>\n",
       "      <th>IdPassageiro</th>\n",
       "      <th>Sobreviveu</th>\n",
       "      <th>Classe</th>\n",
       "      <th>Nome</th>\n",
       "      <th>Sexo</th>\n",
       "      <th>Idade</th>\n",
       "      <th>IrmaosConjuge</th>\n",
       "      <th>PaisFilhos</th>\n",
       "      <th>Bilhete</th>\n",
       "      <th>Tarifa</th>\n",
       "      <th>Cabine</th>\n",
       "      <th>Embarque</th>\n",
       "    </tr>\n",
       "  </thead>\n",
       "  <tbody>\n",
       "    <tr>\n",
       "      <th>803</th>\n",
       "      <td>804</td>\n",
       "      <td>1</td>\n",
       "      <td>3</td>\n",
       "      <td>Thomas, Master. Assad Alexander</td>\n",
       "      <td>male</td>\n",
       "      <td>0.42</td>\n",
       "      <td>0</td>\n",
       "      <td>1</td>\n",
       "      <td>2625</td>\n",
       "      <td>8.5167</td>\n",
       "      <td>NaN</td>\n",
       "      <td>C</td>\n",
       "    </tr>\n",
       "  </tbody>\n",
       "</table>\n",
       "</div>"
      ],
      "text/plain": [
       "     IdPassageiro  Sobreviveu  Classe                             Nome  Sexo  \\\n",
       "803           804           1       3  Thomas, Master. Assad Alexander  male   \n",
       "\n",
       "     Idade  IrmaosConjuge  PaisFilhos Bilhete  Tarifa Cabine Embarque  \n",
       "803   0.42              0           1    2625  8.5167    NaN        C  "
      ]
     },
     "execution_count": 28,
     "metadata": {},
     "output_type": "execute_result"
    }
   ],
   "source": [
    "df.iloc[[df['Idade'].idxmin()]]"
   ]
  },
  {
   "cell_type": "code",
   "execution_count": 29,
   "metadata": {},
   "outputs": [
    {
     "data": {
      "text/html": [
       "<div>\n",
       "<style scoped>\n",
       "    .dataframe tbody tr th:only-of-type {\n",
       "        vertical-align: middle;\n",
       "    }\n",
       "\n",
       "    .dataframe tbody tr th {\n",
       "        vertical-align: top;\n",
       "    }\n",
       "\n",
       "    .dataframe thead th {\n",
       "        text-align: right;\n",
       "    }\n",
       "</style>\n",
       "<table border=\"1\" class=\"dataframe\">\n",
       "  <thead>\n",
       "    <tr style=\"text-align: right;\">\n",
       "      <th></th>\n",
       "      <th>IdPassageiro</th>\n",
       "      <th>Sobreviveu</th>\n",
       "      <th>Classe</th>\n",
       "      <th>Nome</th>\n",
       "      <th>Sexo</th>\n",
       "      <th>Idade</th>\n",
       "      <th>IrmaosConjuge</th>\n",
       "      <th>PaisFilhos</th>\n",
       "      <th>Bilhete</th>\n",
       "      <th>Tarifa</th>\n",
       "      <th>Cabine</th>\n",
       "      <th>Embarque</th>\n",
       "    </tr>\n",
       "  </thead>\n",
       "  <tbody>\n",
       "    <tr>\n",
       "      <th>630</th>\n",
       "      <td>631</td>\n",
       "      <td>1</td>\n",
       "      <td>1</td>\n",
       "      <td>Barkworth, Mr. Algernon Henry Wilson</td>\n",
       "      <td>male</td>\n",
       "      <td>80.0</td>\n",
       "      <td>0</td>\n",
       "      <td>0</td>\n",
       "      <td>27042</td>\n",
       "      <td>30.0</td>\n",
       "      <td>A23</td>\n",
       "      <td>S</td>\n",
       "    </tr>\n",
       "  </tbody>\n",
       "</table>\n",
       "</div>"
      ],
      "text/plain": [
       "     IdPassageiro  Sobreviveu  Classe                                  Nome  \\\n",
       "630           631           1       1  Barkworth, Mr. Algernon Henry Wilson   \n",
       "\n",
       "     Sexo  Idade  IrmaosConjuge  PaisFilhos Bilhete  Tarifa Cabine Embarque  \n",
       "630  male   80.0              0           0   27042    30.0    A23        S  "
      ]
     },
     "execution_count": 29,
     "metadata": {},
     "output_type": "execute_result"
    }
   ],
   "source": [
    "df.iloc[[df['Idade'].idxmax()]]"
   ]
  },
  {
   "cell_type": "markdown",
   "metadata": {},
   "source": [
    "### Operador de seleção \"loc\""
   ]
  },
  {
   "cell_type": "code",
   "execution_count": 30,
   "metadata": {
    "scrolled": true
   },
   "outputs": [
    {
     "data": {
      "text/html": [
       "<div>\n",
       "<style scoped>\n",
       "    .dataframe tbody tr th:only-of-type {\n",
       "        vertical-align: middle;\n",
       "    }\n",
       "\n",
       "    .dataframe tbody tr th {\n",
       "        vertical-align: top;\n",
       "    }\n",
       "\n",
       "    .dataframe thead th {\n",
       "        text-align: right;\n",
       "    }\n",
       "</style>\n",
       "<table border=\"1\" class=\"dataframe\">\n",
       "  <thead>\n",
       "    <tr style=\"text-align: right;\">\n",
       "      <th></th>\n",
       "      <th>Nome</th>\n",
       "      <th>Sexo</th>\n",
       "      <th>Classe</th>\n",
       "      <th>Tarifa</th>\n",
       "      <th>Idade</th>\n",
       "      <th>Sobreviveu</th>\n",
       "    </tr>\n",
       "  </thead>\n",
       "  <tbody>\n",
       "    <tr>\n",
       "      <th>0</th>\n",
       "      <td>Braund, Mr. Owen Harris</td>\n",
       "      <td>male</td>\n",
       "      <td>3</td>\n",
       "      <td>7.2500</td>\n",
       "      <td>22.0</td>\n",
       "      <td>0</td>\n",
       "    </tr>\n",
       "    <tr>\n",
       "      <th>4</th>\n",
       "      <td>Allen, Mr. William Henry</td>\n",
       "      <td>male</td>\n",
       "      <td>3</td>\n",
       "      <td>8.0500</td>\n",
       "      <td>35.0</td>\n",
       "      <td>0</td>\n",
       "    </tr>\n",
       "    <tr>\n",
       "      <th>5</th>\n",
       "      <td>Moran, Mr. James</td>\n",
       "      <td>male</td>\n",
       "      <td>3</td>\n",
       "      <td>8.4583</td>\n",
       "      <td>NaN</td>\n",
       "      <td>0</td>\n",
       "    </tr>\n",
       "    <tr>\n",
       "      <th>6</th>\n",
       "      <td>McCarthy, Mr. Timothy J</td>\n",
       "      <td>male</td>\n",
       "      <td>1</td>\n",
       "      <td>51.8625</td>\n",
       "      <td>54.0</td>\n",
       "      <td>0</td>\n",
       "    </tr>\n",
       "    <tr>\n",
       "      <th>7</th>\n",
       "      <td>Palsson, Master. Gosta Leonard</td>\n",
       "      <td>male</td>\n",
       "      <td>3</td>\n",
       "      <td>21.0750</td>\n",
       "      <td>2.0</td>\n",
       "      <td>0</td>\n",
       "    </tr>\n",
       "    <tr>\n",
       "      <th>...</th>\n",
       "      <td>...</td>\n",
       "      <td>...</td>\n",
       "      <td>...</td>\n",
       "      <td>...</td>\n",
       "      <td>...</td>\n",
       "      <td>...</td>\n",
       "    </tr>\n",
       "    <tr>\n",
       "      <th>883</th>\n",
       "      <td>Banfield, Mr. Frederick James</td>\n",
       "      <td>male</td>\n",
       "      <td>2</td>\n",
       "      <td>10.5000</td>\n",
       "      <td>28.0</td>\n",
       "      <td>0</td>\n",
       "    </tr>\n",
       "    <tr>\n",
       "      <th>884</th>\n",
       "      <td>Sutehall, Mr. Henry Jr</td>\n",
       "      <td>male</td>\n",
       "      <td>3</td>\n",
       "      <td>7.0500</td>\n",
       "      <td>25.0</td>\n",
       "      <td>0</td>\n",
       "    </tr>\n",
       "    <tr>\n",
       "      <th>886</th>\n",
       "      <td>Montvila, Rev. Juozas</td>\n",
       "      <td>male</td>\n",
       "      <td>2</td>\n",
       "      <td>13.0000</td>\n",
       "      <td>27.0</td>\n",
       "      <td>0</td>\n",
       "    </tr>\n",
       "    <tr>\n",
       "      <th>889</th>\n",
       "      <td>Behr, Mr. Karl Howell</td>\n",
       "      <td>male</td>\n",
       "      <td>1</td>\n",
       "      <td>30.0000</td>\n",
       "      <td>26.0</td>\n",
       "      <td>1</td>\n",
       "    </tr>\n",
       "    <tr>\n",
       "      <th>890</th>\n",
       "      <td>Dooley, Mr. Patrick</td>\n",
       "      <td>male</td>\n",
       "      <td>3</td>\n",
       "      <td>7.7500</td>\n",
       "      <td>32.0</td>\n",
       "      <td>0</td>\n",
       "    </tr>\n",
       "  </tbody>\n",
       "</table>\n",
       "<p>577 rows × 6 columns</p>\n",
       "</div>"
      ],
      "text/plain": [
       "                               Nome  Sexo  Classe   Tarifa  Idade  Sobreviveu\n",
       "0           Braund, Mr. Owen Harris  male       3   7.2500   22.0           0\n",
       "4          Allen, Mr. William Henry  male       3   8.0500   35.0           0\n",
       "5                  Moran, Mr. James  male       3   8.4583    NaN           0\n",
       "6           McCarthy, Mr. Timothy J  male       1  51.8625   54.0           0\n",
       "7    Palsson, Master. Gosta Leonard  male       3  21.0750    2.0           0\n",
       "..                              ...   ...     ...      ...    ...         ...\n",
       "883   Banfield, Mr. Frederick James  male       2  10.5000   28.0           0\n",
       "884          Sutehall, Mr. Henry Jr  male       3   7.0500   25.0           0\n",
       "886           Montvila, Rev. Juozas  male       2  13.0000   27.0           0\n",
       "889           Behr, Mr. Karl Howell  male       1  30.0000   26.0           1\n",
       "890             Dooley, Mr. Patrick  male       3   7.7500   32.0           0\n",
       "\n",
       "[577 rows x 6 columns]"
      ]
     },
     "execution_count": 30,
     "metadata": {},
     "output_type": "execute_result"
    }
   ],
   "source": [
    "df[['Nome','Sexo','Classe','Tarifa','Idade','Sobreviveu']].loc[df['Sexo']=='male']"
   ]
  },
  {
   "cell_type": "code",
   "execution_count": 31,
   "metadata": {
    "scrolled": true
   },
   "outputs": [
    {
     "data": {
      "text/html": [
       "<div>\n",
       "<style scoped>\n",
       "    .dataframe tbody tr th:only-of-type {\n",
       "        vertical-align: middle;\n",
       "    }\n",
       "\n",
       "    .dataframe tbody tr th {\n",
       "        vertical-align: top;\n",
       "    }\n",
       "\n",
       "    .dataframe thead th {\n",
       "        text-align: right;\n",
       "    }\n",
       "</style>\n",
       "<table border=\"1\" class=\"dataframe\">\n",
       "  <thead>\n",
       "    <tr style=\"text-align: right;\">\n",
       "      <th></th>\n",
       "      <th>Nome</th>\n",
       "      <th>Sexo</th>\n",
       "      <th>Classe</th>\n",
       "      <th>Tarifa</th>\n",
       "      <th>Idade</th>\n",
       "      <th>Sobreviveu</th>\n",
       "    </tr>\n",
       "  </thead>\n",
       "  <tbody>\n",
       "    <tr>\n",
       "      <th>1</th>\n",
       "      <td>Cumings, Mrs. John Bradley (Florence Briggs Th...</td>\n",
       "      <td>female</td>\n",
       "      <td>1</td>\n",
       "      <td>71.2833</td>\n",
       "      <td>38.0</td>\n",
       "      <td>1</td>\n",
       "    </tr>\n",
       "    <tr>\n",
       "      <th>2</th>\n",
       "      <td>Heikkinen, Miss. Laina</td>\n",
       "      <td>female</td>\n",
       "      <td>3</td>\n",
       "      <td>7.9250</td>\n",
       "      <td>26.0</td>\n",
       "      <td>1</td>\n",
       "    </tr>\n",
       "    <tr>\n",
       "      <th>3</th>\n",
       "      <td>Futrelle, Mrs. Jacques Heath (Lily May Peel)</td>\n",
       "      <td>female</td>\n",
       "      <td>1</td>\n",
       "      <td>53.1000</td>\n",
       "      <td>35.0</td>\n",
       "      <td>1</td>\n",
       "    </tr>\n",
       "    <tr>\n",
       "      <th>8</th>\n",
       "      <td>Johnson, Mrs. Oscar W (Elisabeth Vilhelmina Berg)</td>\n",
       "      <td>female</td>\n",
       "      <td>3</td>\n",
       "      <td>11.1333</td>\n",
       "      <td>27.0</td>\n",
       "      <td>1</td>\n",
       "    </tr>\n",
       "    <tr>\n",
       "      <th>9</th>\n",
       "      <td>Nasser, Mrs. Nicholas (Adele Achem)</td>\n",
       "      <td>female</td>\n",
       "      <td>2</td>\n",
       "      <td>30.0708</td>\n",
       "      <td>14.0</td>\n",
       "      <td>1</td>\n",
       "    </tr>\n",
       "    <tr>\n",
       "      <th>...</th>\n",
       "      <td>...</td>\n",
       "      <td>...</td>\n",
       "      <td>...</td>\n",
       "      <td>...</td>\n",
       "      <td>...</td>\n",
       "      <td>...</td>\n",
       "    </tr>\n",
       "    <tr>\n",
       "      <th>880</th>\n",
       "      <td>Shelley, Mrs. William (Imanita Parrish Hall)</td>\n",
       "      <td>female</td>\n",
       "      <td>2</td>\n",
       "      <td>26.0000</td>\n",
       "      <td>25.0</td>\n",
       "      <td>1</td>\n",
       "    </tr>\n",
       "    <tr>\n",
       "      <th>882</th>\n",
       "      <td>Dahlberg, Miss. Gerda Ulrika</td>\n",
       "      <td>female</td>\n",
       "      <td>3</td>\n",
       "      <td>10.5167</td>\n",
       "      <td>22.0</td>\n",
       "      <td>0</td>\n",
       "    </tr>\n",
       "    <tr>\n",
       "      <th>885</th>\n",
       "      <td>Rice, Mrs. William (Margaret Norton)</td>\n",
       "      <td>female</td>\n",
       "      <td>3</td>\n",
       "      <td>29.1250</td>\n",
       "      <td>39.0</td>\n",
       "      <td>0</td>\n",
       "    </tr>\n",
       "    <tr>\n",
       "      <th>887</th>\n",
       "      <td>Graham, Miss. Margaret Edith</td>\n",
       "      <td>female</td>\n",
       "      <td>1</td>\n",
       "      <td>30.0000</td>\n",
       "      <td>19.0</td>\n",
       "      <td>1</td>\n",
       "    </tr>\n",
       "    <tr>\n",
       "      <th>888</th>\n",
       "      <td>Johnston, Miss. Catherine Helen \"Carrie\"</td>\n",
       "      <td>female</td>\n",
       "      <td>3</td>\n",
       "      <td>23.4500</td>\n",
       "      <td>NaN</td>\n",
       "      <td>0</td>\n",
       "    </tr>\n",
       "  </tbody>\n",
       "</table>\n",
       "<p>314 rows × 6 columns</p>\n",
       "</div>"
      ],
      "text/plain": [
       "                                                  Nome    Sexo  Classe  \\\n",
       "1    Cumings, Mrs. John Bradley (Florence Briggs Th...  female       1   \n",
       "2                               Heikkinen, Miss. Laina  female       3   \n",
       "3         Futrelle, Mrs. Jacques Heath (Lily May Peel)  female       1   \n",
       "8    Johnson, Mrs. Oscar W (Elisabeth Vilhelmina Berg)  female       3   \n",
       "9                  Nasser, Mrs. Nicholas (Adele Achem)  female       2   \n",
       "..                                                 ...     ...     ...   \n",
       "880       Shelley, Mrs. William (Imanita Parrish Hall)  female       2   \n",
       "882                       Dahlberg, Miss. Gerda Ulrika  female       3   \n",
       "885               Rice, Mrs. William (Margaret Norton)  female       3   \n",
       "887                       Graham, Miss. Margaret Edith  female       1   \n",
       "888           Johnston, Miss. Catherine Helen \"Carrie\"  female       3   \n",
       "\n",
       "      Tarifa  Idade  Sobreviveu  \n",
       "1    71.2833   38.0           1  \n",
       "2     7.9250   26.0           1  \n",
       "3    53.1000   35.0           1  \n",
       "8    11.1333   27.0           1  \n",
       "9    30.0708   14.0           1  \n",
       "..       ...    ...         ...  \n",
       "880  26.0000   25.0           1  \n",
       "882  10.5167   22.0           0  \n",
       "885  29.1250   39.0           0  \n",
       "887  30.0000   19.0           1  \n",
       "888  23.4500    NaN           0  \n",
       "\n",
       "[314 rows x 6 columns]"
      ]
     },
     "execution_count": 31,
     "metadata": {},
     "output_type": "execute_result"
    }
   ],
   "source": [
    "df[['Nome','Sexo','Classe','Tarifa','Idade','Sobreviveu']].loc[df['Sexo']=='female']"
   ]
  },
  {
   "cell_type": "markdown",
   "metadata": {},
   "source": [
    "### Selecionando com múltiplas condições"
   ]
  },
  {
   "cell_type": "code",
   "execution_count": 32,
   "metadata": {
    "scrolled": true
   },
   "outputs": [
    {
     "data": {
      "text/html": [
       "<div>\n",
       "<style scoped>\n",
       "    .dataframe tbody tr th:only-of-type {\n",
       "        vertical-align: middle;\n",
       "    }\n",
       "\n",
       "    .dataframe tbody tr th {\n",
       "        vertical-align: top;\n",
       "    }\n",
       "\n",
       "    .dataframe thead th {\n",
       "        text-align: right;\n",
       "    }\n",
       "</style>\n",
       "<table border=\"1\" class=\"dataframe\">\n",
       "  <thead>\n",
       "    <tr style=\"text-align: right;\">\n",
       "      <th></th>\n",
       "      <th>Nome</th>\n",
       "      <th>Sexo</th>\n",
       "      <th>Classe</th>\n",
       "      <th>Tarifa</th>\n",
       "      <th>Idade</th>\n",
       "      <th>Sobreviveu</th>\n",
       "    </tr>\n",
       "  </thead>\n",
       "  <tbody>\n",
       "    <tr>\n",
       "      <th>10</th>\n",
       "      <td>Sandstrom, Miss. Marguerite Rut</td>\n",
       "      <td>female</td>\n",
       "      <td>3</td>\n",
       "      <td>16.7000</td>\n",
       "      <td>4.0</td>\n",
       "      <td>1</td>\n",
       "    </tr>\n",
       "    <tr>\n",
       "      <th>43</th>\n",
       "      <td>Laroche, Miss. Simonne Marie Anne Andree</td>\n",
       "      <td>female</td>\n",
       "      <td>2</td>\n",
       "      <td>41.5792</td>\n",
       "      <td>3.0</td>\n",
       "      <td>1</td>\n",
       "    </tr>\n",
       "    <tr>\n",
       "      <th>58</th>\n",
       "      <td>West, Miss. Constance Mirium</td>\n",
       "      <td>female</td>\n",
       "      <td>2</td>\n",
       "      <td>27.7500</td>\n",
       "      <td>5.0</td>\n",
       "      <td>1</td>\n",
       "    </tr>\n",
       "    <tr>\n",
       "      <th>165</th>\n",
       "      <td>Goldsmith, Master. Frank John William \"Frankie\"</td>\n",
       "      <td>male</td>\n",
       "      <td>3</td>\n",
       "      <td>20.5250</td>\n",
       "      <td>9.0</td>\n",
       "      <td>1</td>\n",
       "    </tr>\n",
       "    <tr>\n",
       "      <th>184</th>\n",
       "      <td>Kink-Heilmann, Miss. Luise Gretchen</td>\n",
       "      <td>female</td>\n",
       "      <td>3</td>\n",
       "      <td>22.0250</td>\n",
       "      <td>4.0</td>\n",
       "      <td>1</td>\n",
       "    </tr>\n",
       "    <tr>\n",
       "      <th>193</th>\n",
       "      <td>Navratil, Master. Michel M</td>\n",
       "      <td>male</td>\n",
       "      <td>2</td>\n",
       "      <td>26.0000</td>\n",
       "      <td>3.0</td>\n",
       "      <td>1</td>\n",
       "    </tr>\n",
       "    <tr>\n",
       "      <th>233</th>\n",
       "      <td>Asplund, Miss. Lillian Gertrud</td>\n",
       "      <td>female</td>\n",
       "      <td>3</td>\n",
       "      <td>31.3875</td>\n",
       "      <td>5.0</td>\n",
       "      <td>1</td>\n",
       "    </tr>\n",
       "    <tr>\n",
       "      <th>237</th>\n",
       "      <td>Collyer, Miss. Marjorie \"Lottie\"</td>\n",
       "      <td>female</td>\n",
       "      <td>2</td>\n",
       "      <td>26.2500</td>\n",
       "      <td>8.0</td>\n",
       "      <td>1</td>\n",
       "    </tr>\n",
       "    <tr>\n",
       "      <th>261</th>\n",
       "      <td>Asplund, Master. Edvin Rojj Felix</td>\n",
       "      <td>male</td>\n",
       "      <td>3</td>\n",
       "      <td>31.3875</td>\n",
       "      <td>3.0</td>\n",
       "      <td>1</td>\n",
       "    </tr>\n",
       "    <tr>\n",
       "      <th>348</th>\n",
       "      <td>Coutts, Master. William Loch \"William\"</td>\n",
       "      <td>male</td>\n",
       "      <td>3</td>\n",
       "      <td>15.9000</td>\n",
       "      <td>3.0</td>\n",
       "      <td>1</td>\n",
       "    </tr>\n",
       "    <tr>\n",
       "      <th>407</th>\n",
       "      <td>Richards, Master. William Rowe</td>\n",
       "      <td>male</td>\n",
       "      <td>2</td>\n",
       "      <td>18.7500</td>\n",
       "      <td>3.0</td>\n",
       "      <td>1</td>\n",
       "    </tr>\n",
       "    <tr>\n",
       "      <th>445</th>\n",
       "      <td>Dodge, Master. Washington</td>\n",
       "      <td>male</td>\n",
       "      <td>1</td>\n",
       "      <td>81.8583</td>\n",
       "      <td>4.0</td>\n",
       "      <td>1</td>\n",
       "    </tr>\n",
       "    <tr>\n",
       "      <th>448</th>\n",
       "      <td>Baclini, Miss. Marie Catherine</td>\n",
       "      <td>female</td>\n",
       "      <td>3</td>\n",
       "      <td>19.2583</td>\n",
       "      <td>5.0</td>\n",
       "      <td>1</td>\n",
       "    </tr>\n",
       "    <tr>\n",
       "      <th>489</th>\n",
       "      <td>Coutts, Master. Eden Leslie \"Neville\"</td>\n",
       "      <td>male</td>\n",
       "      <td>3</td>\n",
       "      <td>15.9000</td>\n",
       "      <td>9.0</td>\n",
       "      <td>1</td>\n",
       "    </tr>\n",
       "    <tr>\n",
       "      <th>535</th>\n",
       "      <td>Hart, Miss. Eva Miriam</td>\n",
       "      <td>female</td>\n",
       "      <td>2</td>\n",
       "      <td>26.2500</td>\n",
       "      <td>7.0</td>\n",
       "      <td>1</td>\n",
       "    </tr>\n",
       "    <tr>\n",
       "      <th>549</th>\n",
       "      <td>Davies, Master. John Morgan Jr</td>\n",
       "      <td>male</td>\n",
       "      <td>2</td>\n",
       "      <td>36.7500</td>\n",
       "      <td>8.0</td>\n",
       "      <td>1</td>\n",
       "    </tr>\n",
       "    <tr>\n",
       "      <th>618</th>\n",
       "      <td>Becker, Miss. Marion Louise</td>\n",
       "      <td>female</td>\n",
       "      <td>2</td>\n",
       "      <td>39.0000</td>\n",
       "      <td>4.0</td>\n",
       "      <td>1</td>\n",
       "    </tr>\n",
       "    <tr>\n",
       "      <th>691</th>\n",
       "      <td>Karun, Miss. Manca</td>\n",
       "      <td>female</td>\n",
       "      <td>3</td>\n",
       "      <td>13.4167</td>\n",
       "      <td>4.0</td>\n",
       "      <td>1</td>\n",
       "    </tr>\n",
       "    <tr>\n",
       "      <th>720</th>\n",
       "      <td>Harper, Miss. Annie Jessie \"Nina\"</td>\n",
       "      <td>female</td>\n",
       "      <td>2</td>\n",
       "      <td>33.0000</td>\n",
       "      <td>6.0</td>\n",
       "      <td>1</td>\n",
       "    </tr>\n",
       "    <tr>\n",
       "      <th>750</th>\n",
       "      <td>Wells, Miss. Joan</td>\n",
       "      <td>female</td>\n",
       "      <td>2</td>\n",
       "      <td>23.0000</td>\n",
       "      <td>4.0</td>\n",
       "      <td>1</td>\n",
       "    </tr>\n",
       "    <tr>\n",
       "      <th>751</th>\n",
       "      <td>Moor, Master. Meier</td>\n",
       "      <td>male</td>\n",
       "      <td>3</td>\n",
       "      <td>12.4750</td>\n",
       "      <td>6.0</td>\n",
       "      <td>1</td>\n",
       "    </tr>\n",
       "    <tr>\n",
       "      <th>777</th>\n",
       "      <td>Emanuel, Miss. Virginia Ethel</td>\n",
       "      <td>female</td>\n",
       "      <td>3</td>\n",
       "      <td>12.4750</td>\n",
       "      <td>5.0</td>\n",
       "      <td>1</td>\n",
       "    </tr>\n",
       "    <tr>\n",
       "      <th>869</th>\n",
       "      <td>Johnson, Master. Harold Theodor</td>\n",
       "      <td>male</td>\n",
       "      <td>3</td>\n",
       "      <td>11.1333</td>\n",
       "      <td>4.0</td>\n",
       "      <td>1</td>\n",
       "    </tr>\n",
       "  </tbody>\n",
       "</table>\n",
       "</div>"
      ],
      "text/plain": [
       "                                                Nome    Sexo  Classe   Tarifa  \\\n",
       "10                   Sandstrom, Miss. Marguerite Rut  female       3  16.7000   \n",
       "43          Laroche, Miss. Simonne Marie Anne Andree  female       2  41.5792   \n",
       "58                      West, Miss. Constance Mirium  female       2  27.7500   \n",
       "165  Goldsmith, Master. Frank John William \"Frankie\"    male       3  20.5250   \n",
       "184              Kink-Heilmann, Miss. Luise Gretchen  female       3  22.0250   \n",
       "193                       Navratil, Master. Michel M    male       2  26.0000   \n",
       "233                   Asplund, Miss. Lillian Gertrud  female       3  31.3875   \n",
       "237                 Collyer, Miss. Marjorie \"Lottie\"  female       2  26.2500   \n",
       "261                Asplund, Master. Edvin Rojj Felix    male       3  31.3875   \n",
       "348           Coutts, Master. William Loch \"William\"    male       3  15.9000   \n",
       "407                   Richards, Master. William Rowe    male       2  18.7500   \n",
       "445                        Dodge, Master. Washington    male       1  81.8583   \n",
       "448                   Baclini, Miss. Marie Catherine  female       3  19.2583   \n",
       "489            Coutts, Master. Eden Leslie \"Neville\"    male       3  15.9000   \n",
       "535                           Hart, Miss. Eva Miriam  female       2  26.2500   \n",
       "549                   Davies, Master. John Morgan Jr    male       2  36.7500   \n",
       "618                      Becker, Miss. Marion Louise  female       2  39.0000   \n",
       "691                               Karun, Miss. Manca  female       3  13.4167   \n",
       "720                Harper, Miss. Annie Jessie \"Nina\"  female       2  33.0000   \n",
       "750                                Wells, Miss. Joan  female       2  23.0000   \n",
       "751                              Moor, Master. Meier    male       3  12.4750   \n",
       "777                    Emanuel, Miss. Virginia Ethel  female       3  12.4750   \n",
       "869                  Johnson, Master. Harold Theodor    male       3  11.1333   \n",
       "\n",
       "     Idade  Sobreviveu  \n",
       "10     4.0           1  \n",
       "43     3.0           1  \n",
       "58     5.0           1  \n",
       "165    9.0           1  \n",
       "184    4.0           1  \n",
       "193    3.0           1  \n",
       "233    5.0           1  \n",
       "237    8.0           1  \n",
       "261    3.0           1  \n",
       "348    3.0           1  \n",
       "407    3.0           1  \n",
       "445    4.0           1  \n",
       "448    5.0           1  \n",
       "489    9.0           1  \n",
       "535    7.0           1  \n",
       "549    8.0           1  \n",
       "618    4.0           1  \n",
       "691    4.0           1  \n",
       "720    6.0           1  \n",
       "750    4.0           1  \n",
       "751    6.0           1  \n",
       "777    5.0           1  \n",
       "869    4.0           1  "
      ]
     },
     "execution_count": 32,
     "metadata": {},
     "output_type": "execute_result"
    }
   ],
   "source": [
    "df[['Nome','Sexo','Classe','Tarifa','Idade','Sobreviveu']]\\\n",
    ".loc[(df['Idade']>=3) & (df['Idade']<=10) & (df['Sobreviveu']==1)]"
   ]
  },
  {
   "cell_type": "code",
   "execution_count": 33,
   "metadata": {
    "scrolled": true
   },
   "outputs": [
    {
     "data": {
      "text/html": [
       "<style  type=\"text/css\" >\n",
       "    #T_47831358_d9be_11ea_8c46_109836fd617drow0_col2 {\n",
       "            background-color:  #fff7ec;\n",
       "            color:  #000000;\n",
       "        }    #T_47831358_d9be_11ea_8c46_109836fd617drow0_col3 {\n",
       "            background-color:  #fedfb4;\n",
       "            color:  #000000;\n",
       "        }    #T_47831358_d9be_11ea_8c46_109836fd617drow0_col4 {\n",
       "            background-color:  #de3f2b;\n",
       "            color:  #f1f1f1;\n",
       "        }    #T_47831358_d9be_11ea_8c46_109836fd617drow0_col5 {\n",
       "            background-color:  #fff7ec;\n",
       "            color:  #000000;\n",
       "        }    #T_47831358_d9be_11ea_8c46_109836fd617drow1_col2 {\n",
       "            background-color:  #fff7ec;\n",
       "            color:  #000000;\n",
       "        }    #T_47831358_d9be_11ea_8c46_109836fd617drow1_col3 {\n",
       "            background-color:  #d12719;\n",
       "            color:  #f1f1f1;\n",
       "        }    #T_47831358_d9be_11ea_8c46_109836fd617drow1_col4 {\n",
       "            background-color:  #f4764f;\n",
       "            color:  #000000;\n",
       "        }    #T_47831358_d9be_11ea_8c46_109836fd617drow1_col5 {\n",
       "            background-color:  #fff7ec;\n",
       "            color:  #000000;\n",
       "        }    #T_47831358_d9be_11ea_8c46_109836fd617drow2_col2 {\n",
       "            background-color:  #fff7ec;\n",
       "            color:  #000000;\n",
       "        }    #T_47831358_d9be_11ea_8c46_109836fd617drow2_col3 {\n",
       "            background-color:  #fdb27b;\n",
       "            color:  #000000;\n",
       "        }    #T_47831358_d9be_11ea_8c46_109836fd617drow2_col4 {\n",
       "            background-color:  #fee5c3;\n",
       "            color:  #000000;\n",
       "        }    #T_47831358_d9be_11ea_8c46_109836fd617drow2_col5 {\n",
       "            background-color:  #fff7ec;\n",
       "            color:  #000000;\n",
       "        }    #T_47831358_d9be_11ea_8c46_109836fd617drow3_col2 {\n",
       "            background-color:  #fff7ec;\n",
       "            color:  #000000;\n",
       "        }    #T_47831358_d9be_11ea_8c46_109836fd617drow3_col3 {\n",
       "            background-color:  #f16c4b;\n",
       "            color:  #000000;\n",
       "        }    #T_47831358_d9be_11ea_8c46_109836fd617drow3_col4 {\n",
       "            background-color:  #b80604;\n",
       "            color:  #f1f1f1;\n",
       "        }    #T_47831358_d9be_11ea_8c46_109836fd617drow3_col5 {\n",
       "            background-color:  #fff7ec;\n",
       "            color:  #000000;\n",
       "        }    #T_47831358_d9be_11ea_8c46_109836fd617drow4_col2 {\n",
       "            background-color:  #fff7ec;\n",
       "            color:  #000000;\n",
       "        }    #T_47831358_d9be_11ea_8c46_109836fd617drow4_col3 {\n",
       "            background-color:  #fca36e;\n",
       "            color:  #000000;\n",
       "        }    #T_47831358_d9be_11ea_8c46_109836fd617drow4_col4 {\n",
       "            background-color:  #fee5c3;\n",
       "            color:  #000000;\n",
       "        }    #T_47831358_d9be_11ea_8c46_109836fd617drow4_col5 {\n",
       "            background-color:  #fff7ec;\n",
       "            color:  #000000;\n",
       "        }    #T_47831358_d9be_11ea_8c46_109836fd617drow5_col2 {\n",
       "            background-color:  #fff7ec;\n",
       "            color:  #000000;\n",
       "        }    #T_47831358_d9be_11ea_8c46_109836fd617drow5_col3 {\n",
       "            background-color:  #fb8a58;\n",
       "            color:  #000000;\n",
       "        }    #T_47831358_d9be_11ea_8c46_109836fd617drow5_col4 {\n",
       "            background-color:  #b80604;\n",
       "            color:  #f1f1f1;\n",
       "        }    #T_47831358_d9be_11ea_8c46_109836fd617drow5_col5 {\n",
       "            background-color:  #fff7ec;\n",
       "            color:  #000000;\n",
       "        }    #T_47831358_d9be_11ea_8c46_109836fd617drow6_col2 {\n",
       "            background-color:  #fff7ec;\n",
       "            color:  #000000;\n",
       "        }    #T_47831358_d9be_11ea_8c46_109836fd617drow6_col3 {\n",
       "            background-color:  #fca36e;\n",
       "            color:  #000000;\n",
       "        }    #T_47831358_d9be_11ea_8c46_109836fd617drow6_col4 {\n",
       "            background-color:  #f4764f;\n",
       "            color:  #000000;\n",
       "        }    #T_47831358_d9be_11ea_8c46_109836fd617drow6_col5 {\n",
       "            background-color:  #fff7ec;\n",
       "            color:  #000000;\n",
       "        }    #T_47831358_d9be_11ea_8c46_109836fd617drow7_col2 {\n",
       "            background-color:  #fff7ec;\n",
       "            color:  #000000;\n",
       "        }    #T_47831358_d9be_11ea_8c46_109836fd617drow7_col3 {\n",
       "            background-color:  #fedfb4;\n",
       "            color:  #000000;\n",
       "        }    #T_47831358_d9be_11ea_8c46_109836fd617drow7_col4 {\n",
       "            background-color:  #fff7ec;\n",
       "            color:  #000000;\n",
       "        }    #T_47831358_d9be_11ea_8c46_109836fd617drow7_col5 {\n",
       "            background-color:  #fff7ec;\n",
       "            color:  #000000;\n",
       "        }    #T_47831358_d9be_11ea_8c46_109836fd617drow8_col2 {\n",
       "            background-color:  #fff7ec;\n",
       "            color:  #000000;\n",
       "        }    #T_47831358_d9be_11ea_8c46_109836fd617drow8_col3 {\n",
       "            background-color:  #fdce97;\n",
       "            color:  #000000;\n",
       "        }    #T_47831358_d9be_11ea_8c46_109836fd617drow8_col4 {\n",
       "            background-color:  #7f0000;\n",
       "            color:  #f1f1f1;\n",
       "        }    #T_47831358_d9be_11ea_8c46_109836fd617drow8_col5 {\n",
       "            background-color:  #fff7ec;\n",
       "            color:  #000000;\n",
       "        }    #T_47831358_d9be_11ea_8c46_109836fd617drow9_col2 {\n",
       "            background-color:  #fff7ec;\n",
       "            color:  #000000;\n",
       "        }    #T_47831358_d9be_11ea_8c46_109836fd617drow9_col3 {\n",
       "            background-color:  #7f0000;\n",
       "            color:  #f1f1f1;\n",
       "        }    #T_47831358_d9be_11ea_8c46_109836fd617drow9_col4 {\n",
       "            background-color:  #b80604;\n",
       "            color:  #f1f1f1;\n",
       "        }    #T_47831358_d9be_11ea_8c46_109836fd617drow9_col5 {\n",
       "            background-color:  #fff7ec;\n",
       "            color:  #000000;\n",
       "        }    #T_47831358_d9be_11ea_8c46_109836fd617drow10_col2 {\n",
       "            background-color:  #fff7ec;\n",
       "            color:  #000000;\n",
       "        }    #T_47831358_d9be_11ea_8c46_109836fd617drow10_col3 {\n",
       "            background-color:  #fb8b58;\n",
       "            color:  #000000;\n",
       "        }    #T_47831358_d9be_11ea_8c46_109836fd617drow10_col4 {\n",
       "            background-color:  #b80604;\n",
       "            color:  #f1f1f1;\n",
       "        }    #T_47831358_d9be_11ea_8c46_109836fd617drow10_col5 {\n",
       "            background-color:  #fff7ec;\n",
       "            color:  #000000;\n",
       "        }    #T_47831358_d9be_11ea_8c46_109836fd617drow11_col2 {\n",
       "            background-color:  #fff7ec;\n",
       "            color:  #000000;\n",
       "        }    #T_47831358_d9be_11ea_8c46_109836fd617drow11_col3 {\n",
       "            background-color:  #fdb27b;\n",
       "            color:  #000000;\n",
       "        }    #T_47831358_d9be_11ea_8c46_109836fd617drow11_col4 {\n",
       "            background-color:  #b80604;\n",
       "            color:  #f1f1f1;\n",
       "        }    #T_47831358_d9be_11ea_8c46_109836fd617drow11_col5 {\n",
       "            background-color:  #fff7ec;\n",
       "            color:  #000000;\n",
       "        }    #T_47831358_d9be_11ea_8c46_109836fd617drow12_col2 {\n",
       "            background-color:  #fff7ec;\n",
       "            color:  #000000;\n",
       "        }    #T_47831358_d9be_11ea_8c46_109836fd617drow12_col3 {\n",
       "            background-color:  #fca36e;\n",
       "            color:  #000000;\n",
       "        }    #T_47831358_d9be_11ea_8c46_109836fd617drow12_col4 {\n",
       "            background-color:  #de3f2b;\n",
       "            color:  #f1f1f1;\n",
       "        }    #T_47831358_d9be_11ea_8c46_109836fd617drow12_col5 {\n",
       "            background-color:  #fff7ec;\n",
       "            color:  #000000;\n",
       "        }    #T_47831358_d9be_11ea_8c46_109836fd617drow13_col2 {\n",
       "            background-color:  #fff7ec;\n",
       "            color:  #000000;\n",
       "        }    #T_47831358_d9be_11ea_8c46_109836fd617drow13_col3 {\n",
       "            background-color:  #fb8b58;\n",
       "            color:  #000000;\n",
       "        }    #T_47831358_d9be_11ea_8c46_109836fd617drow13_col4 {\n",
       "            background-color:  #fda872;\n",
       "            color:  #000000;\n",
       "        }    #T_47831358_d9be_11ea_8c46_109836fd617drow13_col5 {\n",
       "            background-color:  #fff7ec;\n",
       "            color:  #000000;\n",
       "        }    #T_47831358_d9be_11ea_8c46_109836fd617drow14_col2 {\n",
       "            background-color:  #fff7ec;\n",
       "            color:  #000000;\n",
       "        }    #T_47831358_d9be_11ea_8c46_109836fd617drow14_col3 {\n",
       "            background-color:  #fdb27b;\n",
       "            color:  #000000;\n",
       "        }    #T_47831358_d9be_11ea_8c46_109836fd617drow14_col4 {\n",
       "            background-color:  #7f0000;\n",
       "            color:  #f1f1f1;\n",
       "        }    #T_47831358_d9be_11ea_8c46_109836fd617drow14_col5 {\n",
       "            background-color:  #fff7ec;\n",
       "            color:  #000000;\n",
       "        }    #T_47831358_d9be_11ea_8c46_109836fd617drow15_col2 {\n",
       "            background-color:  #fff7ec;\n",
       "            color:  #000000;\n",
       "        }    #T_47831358_d9be_11ea_8c46_109836fd617drow15_col3 {\n",
       "            background-color:  #fb8b58;\n",
       "            color:  #000000;\n",
       "        }    #T_47831358_d9be_11ea_8c46_109836fd617drow15_col4 {\n",
       "            background-color:  #fee5c3;\n",
       "            color:  #000000;\n",
       "        }    #T_47831358_d9be_11ea_8c46_109836fd617drow15_col5 {\n",
       "            background-color:  #fff7ec;\n",
       "            color:  #000000;\n",
       "        }    #T_47831358_d9be_11ea_8c46_109836fd617drow16_col2 {\n",
       "            background-color:  #fff7ec;\n",
       "            color:  #000000;\n",
       "        }    #T_47831358_d9be_11ea_8c46_109836fd617drow16_col3 {\n",
       "            background-color:  #fff7ec;\n",
       "            color:  #000000;\n",
       "        }    #T_47831358_d9be_11ea_8c46_109836fd617drow16_col4 {\n",
       "            background-color:  #b80604;\n",
       "            color:  #f1f1f1;\n",
       "        }    #T_47831358_d9be_11ea_8c46_109836fd617drow16_col5 {\n",
       "            background-color:  #fff7ec;\n",
       "            color:  #000000;\n",
       "        }</style><table id=\"T_47831358_d9be_11ea_8c46_109836fd617d\" ><thead>    <tr>        <th class=\"blank level0\" ></th>        <th class=\"col_heading level0 col0\" >Nome</th>        <th class=\"col_heading level0 col1\" >Sexo</th>        <th class=\"col_heading level0 col2\" >Classe</th>        <th class=\"col_heading level0 col3\" >Tarifa</th>        <th class=\"col_heading level0 col4\" >Idade</th>        <th class=\"col_heading level0 col5\" >Sobreviveu</th>    </tr></thead><tbody>\n",
       "                <tr>\n",
       "                        <th id=\"T_47831358_d9be_11ea_8c46_109836fd617dlevel0_row0\" class=\"row_heading level0 row0\" >24</th>\n",
       "                        <td id=\"T_47831358_d9be_11ea_8c46_109836fd617drow0_col0\" class=\"data row0 col0\" >Palsson, Miss. Torborg Danira</td>\n",
       "                        <td id=\"T_47831358_d9be_11ea_8c46_109836fd617drow0_col1\" class=\"data row0 col1\" >female</td>\n",
       "                        <td id=\"T_47831358_d9be_11ea_8c46_109836fd617drow0_col2\" class=\"data row0 col2\" >3</td>\n",
       "                        <td id=\"T_47831358_d9be_11ea_8c46_109836fd617drow0_col3\" class=\"data row0 col3\" >21.075000</td>\n",
       "                        <td id=\"T_47831358_d9be_11ea_8c46_109836fd617drow0_col4\" class=\"data row0 col4\" >8.000000</td>\n",
       "                        <td id=\"T_47831358_d9be_11ea_8c46_109836fd617drow0_col5\" class=\"data row0 col5\" >0</td>\n",
       "            </tr>\n",
       "            <tr>\n",
       "                        <th id=\"T_47831358_d9be_11ea_8c46_109836fd617dlevel0_row1\" class=\"row_heading level0 row1\" >50</th>\n",
       "                        <td id=\"T_47831358_d9be_11ea_8c46_109836fd617drow1_col0\" class=\"data row1 col0\" >Panula, Master. Juha Niilo</td>\n",
       "                        <td id=\"T_47831358_d9be_11ea_8c46_109836fd617drow1_col1\" class=\"data row1 col1\" >male</td>\n",
       "                        <td id=\"T_47831358_d9be_11ea_8c46_109836fd617drow1_col2\" class=\"data row1 col2\" >3</td>\n",
       "                        <td id=\"T_47831358_d9be_11ea_8c46_109836fd617drow1_col3\" class=\"data row1 col3\" >39.687500</td>\n",
       "                        <td id=\"T_47831358_d9be_11ea_8c46_109836fd617drow1_col4\" class=\"data row1 col4\" >7.000000</td>\n",
       "                        <td id=\"T_47831358_d9be_11ea_8c46_109836fd617drow1_col5\" class=\"data row1 col5\" >0</td>\n",
       "            </tr>\n",
       "            <tr>\n",
       "                        <th id=\"T_47831358_d9be_11ea_8c46_109836fd617dlevel0_row2\" class=\"row_heading level0 row2\" >63</th>\n",
       "                        <td id=\"T_47831358_d9be_11ea_8c46_109836fd617drow2_col0\" class=\"data row2 col0\" >Skoog, Master. Harald</td>\n",
       "                        <td id=\"T_47831358_d9be_11ea_8c46_109836fd617drow2_col1\" class=\"data row2 col1\" >male</td>\n",
       "                        <td id=\"T_47831358_d9be_11ea_8c46_109836fd617drow2_col2\" class=\"data row2 col2\" >3</td>\n",
       "                        <td id=\"T_47831358_d9be_11ea_8c46_109836fd617drow2_col3\" class=\"data row2 col3\" >27.900000</td>\n",
       "                        <td id=\"T_47831358_d9be_11ea_8c46_109836fd617drow2_col4\" class=\"data row2 col4\" >4.000000</td>\n",
       "                        <td id=\"T_47831358_d9be_11ea_8c46_109836fd617drow2_col5\" class=\"data row2 col5\" >0</td>\n",
       "            </tr>\n",
       "            <tr>\n",
       "                        <th id=\"T_47831358_d9be_11ea_8c46_109836fd617dlevel0_row3\" class=\"row_heading level0 row3\" >147</th>\n",
       "                        <td id=\"T_47831358_d9be_11ea_8c46_109836fd617drow3_col0\" class=\"data row3 col0\" >Ford, Miss. Robina Maggie \"Ruby\"</td>\n",
       "                        <td id=\"T_47831358_d9be_11ea_8c46_109836fd617drow3_col1\" class=\"data row3 col1\" >female</td>\n",
       "                        <td id=\"T_47831358_d9be_11ea_8c46_109836fd617drow3_col2\" class=\"data row3 col2\" >3</td>\n",
       "                        <td id=\"T_47831358_d9be_11ea_8c46_109836fd617drow3_col3\" class=\"data row3 col3\" >34.375000</td>\n",
       "                        <td id=\"T_47831358_d9be_11ea_8c46_109836fd617drow3_col4\" class=\"data row3 col4\" >9.000000</td>\n",
       "                        <td id=\"T_47831358_d9be_11ea_8c46_109836fd617drow3_col5\" class=\"data row3 col5\" >0</td>\n",
       "            </tr>\n",
       "            <tr>\n",
       "                        <th id=\"T_47831358_d9be_11ea_8c46_109836fd617dlevel0_row4\" class=\"row_heading level0 row4\" >171</th>\n",
       "                        <td id=\"T_47831358_d9be_11ea_8c46_109836fd617drow4_col0\" class=\"data row4 col0\" >Rice, Master. Arthur</td>\n",
       "                        <td id=\"T_47831358_d9be_11ea_8c46_109836fd617drow4_col1\" class=\"data row4 col1\" >male</td>\n",
       "                        <td id=\"T_47831358_d9be_11ea_8c46_109836fd617drow4_col2\" class=\"data row4 col2\" >3</td>\n",
       "                        <td id=\"T_47831358_d9be_11ea_8c46_109836fd617drow4_col3\" class=\"data row4 col3\" >29.125000</td>\n",
       "                        <td id=\"T_47831358_d9be_11ea_8c46_109836fd617drow4_col4\" class=\"data row4 col4\" >4.000000</td>\n",
       "                        <td id=\"T_47831358_d9be_11ea_8c46_109836fd617drow4_col5\" class=\"data row4 col5\" >0</td>\n",
       "            </tr>\n",
       "            <tr>\n",
       "                        <th id=\"T_47831358_d9be_11ea_8c46_109836fd617dlevel0_row5\" class=\"row_heading level0 row5\" >182</th>\n",
       "                        <td id=\"T_47831358_d9be_11ea_8c46_109836fd617drow5_col0\" class=\"data row5 col0\" >Asplund, Master. Clarence Gustaf Hugo</td>\n",
       "                        <td id=\"T_47831358_d9be_11ea_8c46_109836fd617drow5_col1\" class=\"data row5 col1\" >male</td>\n",
       "                        <td id=\"T_47831358_d9be_11ea_8c46_109836fd617drow5_col2\" class=\"data row5 col2\" >3</td>\n",
       "                        <td id=\"T_47831358_d9be_11ea_8c46_109836fd617drow5_col3\" class=\"data row5 col3\" >31.387500</td>\n",
       "                        <td id=\"T_47831358_d9be_11ea_8c46_109836fd617drow5_col4\" class=\"data row5 col4\" >9.000000</td>\n",
       "                        <td id=\"T_47831358_d9be_11ea_8c46_109836fd617drow5_col5\" class=\"data row5 col5\" >0</td>\n",
       "            </tr>\n",
       "            <tr>\n",
       "                        <th id=\"T_47831358_d9be_11ea_8c46_109836fd617dlevel0_row6\" class=\"row_heading level0 row6\" >278</th>\n",
       "                        <td id=\"T_47831358_d9be_11ea_8c46_109836fd617drow6_col0\" class=\"data row6 col0\" >Rice, Master. Eric</td>\n",
       "                        <td id=\"T_47831358_d9be_11ea_8c46_109836fd617drow6_col1\" class=\"data row6 col1\" >male</td>\n",
       "                        <td id=\"T_47831358_d9be_11ea_8c46_109836fd617drow6_col2\" class=\"data row6 col2\" >3</td>\n",
       "                        <td id=\"T_47831358_d9be_11ea_8c46_109836fd617drow6_col3\" class=\"data row6 col3\" >29.125000</td>\n",
       "                        <td id=\"T_47831358_d9be_11ea_8c46_109836fd617drow6_col4\" class=\"data row6 col4\" >7.000000</td>\n",
       "                        <td id=\"T_47831358_d9be_11ea_8c46_109836fd617drow6_col5\" class=\"data row6 col5\" >0</td>\n",
       "            </tr>\n",
       "            <tr>\n",
       "                        <th id=\"T_47831358_d9be_11ea_8c46_109836fd617dlevel0_row7\" class=\"row_heading level0 row7\" >374</th>\n",
       "                        <td id=\"T_47831358_d9be_11ea_8c46_109836fd617drow7_col0\" class=\"data row7 col0\" >Palsson, Miss. Stina Viola</td>\n",
       "                        <td id=\"T_47831358_d9be_11ea_8c46_109836fd617drow7_col1\" class=\"data row7 col1\" >female</td>\n",
       "                        <td id=\"T_47831358_d9be_11ea_8c46_109836fd617drow7_col2\" class=\"data row7 col2\" >3</td>\n",
       "                        <td id=\"T_47831358_d9be_11ea_8c46_109836fd617drow7_col3\" class=\"data row7 col3\" >21.075000</td>\n",
       "                        <td id=\"T_47831358_d9be_11ea_8c46_109836fd617drow7_col4\" class=\"data row7 col4\" >3.000000</td>\n",
       "                        <td id=\"T_47831358_d9be_11ea_8c46_109836fd617drow7_col5\" class=\"data row7 col5\" >0</td>\n",
       "            </tr>\n",
       "            <tr>\n",
       "                        <th id=\"T_47831358_d9be_11ea_8c46_109836fd617dlevel0_row8\" class=\"row_heading level0 row8\" >419</th>\n",
       "                        <td id=\"T_47831358_d9be_11ea_8c46_109836fd617drow8_col0\" class=\"data row8 col0\" >Van Impe, Miss. Catharina</td>\n",
       "                        <td id=\"T_47831358_d9be_11ea_8c46_109836fd617drow8_col1\" class=\"data row8 col1\" >female</td>\n",
       "                        <td id=\"T_47831358_d9be_11ea_8c46_109836fd617drow8_col2\" class=\"data row8 col2\" >3</td>\n",
       "                        <td id=\"T_47831358_d9be_11ea_8c46_109836fd617drow8_col3\" class=\"data row8 col3\" >24.150000</td>\n",
       "                        <td id=\"T_47831358_d9be_11ea_8c46_109836fd617drow8_col4\" class=\"data row8 col4\" >10.000000</td>\n",
       "                        <td id=\"T_47831358_d9be_11ea_8c46_109836fd617drow8_col5\" class=\"data row8 col5\" >0</td>\n",
       "            </tr>\n",
       "            <tr>\n",
       "                        <th id=\"T_47831358_d9be_11ea_8c46_109836fd617dlevel0_row9\" class=\"row_heading level0 row9\" >480</th>\n",
       "                        <td id=\"T_47831358_d9be_11ea_8c46_109836fd617drow9_col0\" class=\"data row9 col0\" >Goodwin, Master. Harold Victor</td>\n",
       "                        <td id=\"T_47831358_d9be_11ea_8c46_109836fd617drow9_col1\" class=\"data row9 col1\" >male</td>\n",
       "                        <td id=\"T_47831358_d9be_11ea_8c46_109836fd617drow9_col2\" class=\"data row9 col2\" >3</td>\n",
       "                        <td id=\"T_47831358_d9be_11ea_8c46_109836fd617drow9_col3\" class=\"data row9 col3\" >46.900000</td>\n",
       "                        <td id=\"T_47831358_d9be_11ea_8c46_109836fd617drow9_col4\" class=\"data row9 col4\" >9.000000</td>\n",
       "                        <td id=\"T_47831358_d9be_11ea_8c46_109836fd617drow9_col5\" class=\"data row9 col5\" >0</td>\n",
       "            </tr>\n",
       "            <tr>\n",
       "                        <th id=\"T_47831358_d9be_11ea_8c46_109836fd617dlevel0_row10\" class=\"row_heading level0 row10\" >541</th>\n",
       "                        <td id=\"T_47831358_d9be_11ea_8c46_109836fd617drow10_col0\" class=\"data row10 col0\" >Andersson, Miss. Ingeborg Constanzia</td>\n",
       "                        <td id=\"T_47831358_d9be_11ea_8c46_109836fd617drow10_col1\" class=\"data row10 col1\" >female</td>\n",
       "                        <td id=\"T_47831358_d9be_11ea_8c46_109836fd617drow10_col2\" class=\"data row10 col2\" >3</td>\n",
       "                        <td id=\"T_47831358_d9be_11ea_8c46_109836fd617drow10_col3\" class=\"data row10 col3\" >31.275000</td>\n",
       "                        <td id=\"T_47831358_d9be_11ea_8c46_109836fd617drow10_col4\" class=\"data row10 col4\" >9.000000</td>\n",
       "                        <td id=\"T_47831358_d9be_11ea_8c46_109836fd617drow10_col5\" class=\"data row10 col5\" >0</td>\n",
       "            </tr>\n",
       "            <tr>\n",
       "                        <th id=\"T_47831358_d9be_11ea_8c46_109836fd617dlevel0_row11\" class=\"row_heading level0 row11\" >634</th>\n",
       "                        <td id=\"T_47831358_d9be_11ea_8c46_109836fd617drow11_col0\" class=\"data row11 col0\" >Skoog, Miss. Mabel</td>\n",
       "                        <td id=\"T_47831358_d9be_11ea_8c46_109836fd617drow11_col1\" class=\"data row11 col1\" >female</td>\n",
       "                        <td id=\"T_47831358_d9be_11ea_8c46_109836fd617drow11_col2\" class=\"data row11 col2\" >3</td>\n",
       "                        <td id=\"T_47831358_d9be_11ea_8c46_109836fd617drow11_col3\" class=\"data row11 col3\" >27.900000</td>\n",
       "                        <td id=\"T_47831358_d9be_11ea_8c46_109836fd617drow11_col4\" class=\"data row11 col4\" >9.000000</td>\n",
       "                        <td id=\"T_47831358_d9be_11ea_8c46_109836fd617drow11_col5\" class=\"data row11 col5\" >0</td>\n",
       "            </tr>\n",
       "            <tr>\n",
       "                        <th id=\"T_47831358_d9be_11ea_8c46_109836fd617dlevel0_row12\" class=\"row_heading level0 row12\" >787</th>\n",
       "                        <td id=\"T_47831358_d9be_11ea_8c46_109836fd617drow12_col0\" class=\"data row12 col0\" >Rice, Master. George Hugh</td>\n",
       "                        <td id=\"T_47831358_d9be_11ea_8c46_109836fd617drow12_col1\" class=\"data row12 col1\" >male</td>\n",
       "                        <td id=\"T_47831358_d9be_11ea_8c46_109836fd617drow12_col2\" class=\"data row12 col2\" >3</td>\n",
       "                        <td id=\"T_47831358_d9be_11ea_8c46_109836fd617drow12_col3\" class=\"data row12 col3\" >29.125000</td>\n",
       "                        <td id=\"T_47831358_d9be_11ea_8c46_109836fd617drow12_col4\" class=\"data row12 col4\" >8.000000</td>\n",
       "                        <td id=\"T_47831358_d9be_11ea_8c46_109836fd617drow12_col5\" class=\"data row12 col5\" >0</td>\n",
       "            </tr>\n",
       "            <tr>\n",
       "                        <th id=\"T_47831358_d9be_11ea_8c46_109836fd617dlevel0_row13\" class=\"row_heading level0 row13\" >813</th>\n",
       "                        <td id=\"T_47831358_d9be_11ea_8c46_109836fd617drow13_col0\" class=\"data row13 col0\" >Andersson, Miss. Ebba Iris Alfrida</td>\n",
       "                        <td id=\"T_47831358_d9be_11ea_8c46_109836fd617drow13_col1\" class=\"data row13 col1\" >female</td>\n",
       "                        <td id=\"T_47831358_d9be_11ea_8c46_109836fd617drow13_col2\" class=\"data row13 col2\" >3</td>\n",
       "                        <td id=\"T_47831358_d9be_11ea_8c46_109836fd617drow13_col3\" class=\"data row13 col3\" >31.275000</td>\n",
       "                        <td id=\"T_47831358_d9be_11ea_8c46_109836fd617drow13_col4\" class=\"data row13 col4\" >6.000000</td>\n",
       "                        <td id=\"T_47831358_d9be_11ea_8c46_109836fd617drow13_col5\" class=\"data row13 col5\" >0</td>\n",
       "            </tr>\n",
       "            <tr>\n",
       "                        <th id=\"T_47831358_d9be_11ea_8c46_109836fd617dlevel0_row14\" class=\"row_heading level0 row14\" >819</th>\n",
       "                        <td id=\"T_47831358_d9be_11ea_8c46_109836fd617drow14_col0\" class=\"data row14 col0\" >Skoog, Master. Karl Thorsten</td>\n",
       "                        <td id=\"T_47831358_d9be_11ea_8c46_109836fd617drow14_col1\" class=\"data row14 col1\" >male</td>\n",
       "                        <td id=\"T_47831358_d9be_11ea_8c46_109836fd617drow14_col2\" class=\"data row14 col2\" >3</td>\n",
       "                        <td id=\"T_47831358_d9be_11ea_8c46_109836fd617drow14_col3\" class=\"data row14 col3\" >27.900000</td>\n",
       "                        <td id=\"T_47831358_d9be_11ea_8c46_109836fd617drow14_col4\" class=\"data row14 col4\" >10.000000</td>\n",
       "                        <td id=\"T_47831358_d9be_11ea_8c46_109836fd617drow14_col5\" class=\"data row14 col5\" >0</td>\n",
       "            </tr>\n",
       "            <tr>\n",
       "                        <th id=\"T_47831358_d9be_11ea_8c46_109836fd617dlevel0_row15\" class=\"row_heading level0 row15\" >850</th>\n",
       "                        <td id=\"T_47831358_d9be_11ea_8c46_109836fd617drow15_col0\" class=\"data row15 col0\" >Andersson, Master. Sigvard Harald Elias</td>\n",
       "                        <td id=\"T_47831358_d9be_11ea_8c46_109836fd617drow15_col1\" class=\"data row15 col1\" >male</td>\n",
       "                        <td id=\"T_47831358_d9be_11ea_8c46_109836fd617drow15_col2\" class=\"data row15 col2\" >3</td>\n",
       "                        <td id=\"T_47831358_d9be_11ea_8c46_109836fd617drow15_col3\" class=\"data row15 col3\" >31.275000</td>\n",
       "                        <td id=\"T_47831358_d9be_11ea_8c46_109836fd617drow15_col4\" class=\"data row15 col4\" >4.000000</td>\n",
       "                        <td id=\"T_47831358_d9be_11ea_8c46_109836fd617drow15_col5\" class=\"data row15 col5\" >0</td>\n",
       "            </tr>\n",
       "            <tr>\n",
       "                        <th id=\"T_47831358_d9be_11ea_8c46_109836fd617dlevel0_row16\" class=\"row_heading level0 row16\" >852</th>\n",
       "                        <td id=\"T_47831358_d9be_11ea_8c46_109836fd617drow16_col0\" class=\"data row16 col0\" >Boulos, Miss. Nourelain</td>\n",
       "                        <td id=\"T_47831358_d9be_11ea_8c46_109836fd617drow16_col1\" class=\"data row16 col1\" >female</td>\n",
       "                        <td id=\"T_47831358_d9be_11ea_8c46_109836fd617drow16_col2\" class=\"data row16 col2\" >3</td>\n",
       "                        <td id=\"T_47831358_d9be_11ea_8c46_109836fd617drow16_col3\" class=\"data row16 col3\" >15.245800</td>\n",
       "                        <td id=\"T_47831358_d9be_11ea_8c46_109836fd617drow16_col4\" class=\"data row16 col4\" >9.000000</td>\n",
       "                        <td id=\"T_47831358_d9be_11ea_8c46_109836fd617drow16_col5\" class=\"data row16 col5\" >0</td>\n",
       "            </tr>\n",
       "    </tbody></table>"
      ],
      "text/plain": [
       "<pandas.io.formats.style.Styler at 0x1c547c910c8>"
      ]
     },
     "execution_count": 33,
     "metadata": {},
     "output_type": "execute_result"
    }
   ],
   "source": [
    "df[['Nome','Sexo','Classe','Tarifa','Idade','Sobreviveu']]\\\n",
    ".loc[(df['Idade']>=3) & (df['Idade']<=10) & ~(df['Sobreviveu']==1)]\\\n",
    ".style.background_gradient(cmap='OrRd')"
   ]
  },
  {
   "cell_type": "code",
   "execution_count": 34,
   "metadata": {},
   "outputs": [
    {
     "data": {
      "text/plain": [
       "Nome      228\n",
       "Sexo      228\n",
       "Classe    228\n",
       "Idade     228\n",
       "dtype: int64"
      ]
     },
     "execution_count": 34,
     "metadata": {},
     "output_type": "execute_result"
    }
   ],
   "source": [
    "df[['Nome','Sexo','Classe','Idade']]\\\n",
    ".loc[(df['Idade']>=14) \\\n",
    "     & (df['Sexo']=='male') \\\n",
    "     & (df['Classe']==3)].count()"
   ]
  },
  {
   "cell_type": "code",
   "execution_count": 35,
   "metadata": {},
   "outputs": [
    {
     "data": {
      "text/plain": [
       "Nome          29\n",
       "Sexo          29\n",
       "Classe        29\n",
       "Idade         29\n",
       "Sobreviveu    29\n",
       "dtype: int64"
      ]
     },
     "execution_count": 35,
     "metadata": {},
     "output_type": "execute_result"
    }
   ],
   "source": [
    "df[['Nome','Sexo','Classe','Idade','Sobreviveu']]\\\n",
    ".loc[(df['Idade']>=14) \\\n",
    "     & (df['Sobreviveu']==1) \\\n",
    "     & (df['Sexo']=='male') \\\n",
    "     & (df['Classe']==3)].count()"
   ]
  },
  {
   "cell_type": "code",
   "execution_count": 36,
   "metadata": {},
   "outputs": [
    {
     "data": {
      "text/plain": [
       "Nome      78\n",
       "Sexo      78\n",
       "Classe    78\n",
       "Idade     78\n",
       "dtype: int64"
      ]
     },
     "execution_count": 36,
     "metadata": {},
     "output_type": "execute_result"
    }
   ],
   "source": [
    "df[['Nome','Sexo','Classe','Idade']]\\\n",
    ".loc[(df['Idade']>=14) \\\n",
    "     & (df['Sexo']=='female') \\\n",
    "     & (df['Classe']==3)].count()"
   ]
  },
  {
   "cell_type": "code",
   "execution_count": 37,
   "metadata": {},
   "outputs": [
    {
     "data": {
      "text/plain": [
       "Nome          35\n",
       "Sexo          35\n",
       "Classe        35\n",
       "Idade         35\n",
       "Sobreviveu    35\n",
       "dtype: int64"
      ]
     },
     "execution_count": 37,
     "metadata": {},
     "output_type": "execute_result"
    }
   ],
   "source": [
    "df[['Nome','Sexo','Classe','Idade','Sobreviveu']]\\\n",
    ".loc[(df['Idade']>=14) \\\n",
    "     & (df['Sobreviveu']==1) \\\n",
    "     & (df['Sexo']=='female') \\\n",
    "     & (df['Classe']==3)].count()"
   ]
  },
  {
   "cell_type": "markdown",
   "metadata": {},
   "source": [
    "### Map e Replace"
   ]
  },
  {
   "cell_type": "code",
   "execution_count": 38,
   "metadata": {},
   "outputs": [
    {
     "data": {
      "text/plain": [
       "0     homem\n",
       "1    mulher\n",
       "2    mulher\n",
       "3    mulher\n",
       "4     homem\n",
       "Name: Sexo, dtype: object"
      ]
     },
     "execution_count": 38,
     "metadata": {},
     "output_type": "execute_result"
    }
   ],
   "source": [
    "df['Sexo'].map({'male':'homem', 'female':'mulher'}).head()"
   ]
  },
  {
   "cell_type": "code",
   "execution_count": 39,
   "metadata": {},
   "outputs": [
    {
     "data": {
      "text/plain": [
       "0     homem\n",
       "1    mulher\n",
       "2    mulher\n",
       "3    mulher\n",
       "4     homem\n",
       "Name: Sexo, dtype: object"
      ]
     },
     "execution_count": 39,
     "metadata": {},
     "output_type": "execute_result"
    }
   ],
   "source": [
    "df['Sexo'].replace({'male':'homem', 'female':'mulher'}).head()"
   ]
  },
  {
   "cell_type": "code",
   "execution_count": 40,
   "metadata": {},
   "outputs": [
    {
     "data": {
      "text/plain": [
       "0    pessoa\n",
       "1    pessoa\n",
       "2    pessoa\n",
       "3    pessoa\n",
       "4    pessoa\n",
       "Name: Sexo, dtype: object"
      ]
     },
     "execution_count": 40,
     "metadata": {},
     "output_type": "execute_result"
    }
   ],
   "source": [
    "df['Sexo'].replace(['male','female'],'pessoa').head()"
   ]
  },
  {
   "cell_type": "code",
   "execution_count": 41,
   "metadata": {},
   "outputs": [
    {
     "data": {
      "text/plain": [
       "0     homem\n",
       "1    female\n",
       "2    female\n",
       "3    female\n",
       "4     homem\n",
       "Name: Sexo, dtype: object"
      ]
     },
     "execution_count": 41,
     "metadata": {},
     "output_type": "execute_result"
    }
   ],
   "source": [
    "df['Sexo'].replace('male','homem').head()"
   ]
  },
  {
   "cell_type": "code",
   "execution_count": 42,
   "metadata": {},
   "outputs": [
    {
     "data": {
      "text/plain": [
       "0      male\n",
       "1    mulher\n",
       "2    mulher\n",
       "3    mulher\n",
       "4      male\n",
       "Name: Sexo, dtype: object"
      ]
     },
     "execution_count": 42,
     "metadata": {},
     "output_type": "execute_result"
    }
   ],
   "source": [
    "df['Sexo'].replace('female','mulher').head()"
   ]
  },
  {
   "cell_type": "code",
   "execution_count": 43,
   "metadata": {},
   "outputs": [
    {
     "data": {
      "text/plain": [
       "0       homem\n",
       "1      mulher\n",
       "2      mulher\n",
       "3      mulher\n",
       "4       homem\n",
       "        ...  \n",
       "886     homem\n",
       "887    mulher\n",
       "888    mulher\n",
       "889     homem\n",
       "890     homem\n",
       "Name: Sexo, Length: 891, dtype: object"
      ]
     },
     "execution_count": 43,
     "metadata": {},
     "output_type": "execute_result"
    }
   ],
   "source": [
    "df['Sexo'].replace(['male','female'],['homem','mulher'], inplace=False)"
   ]
  },
  {
   "cell_type": "code",
   "execution_count": 44,
   "metadata": {},
   "outputs": [
    {
     "data": {
      "text/plain": [
       "0      male\n",
       "1    female\n",
       "2    female\n",
       "3    female\n",
       "4      male\n",
       "Name: Sexo, dtype: object"
      ]
     },
     "execution_count": 44,
     "metadata": {},
     "output_type": "execute_result"
    }
   ],
   "source": [
    "df['Sexo'].head()"
   ]
  },
  {
   "cell_type": "code",
   "execution_count": 45,
   "metadata": {},
   "outputs": [
    {
     "data": {
      "text/plain": [
       "0       homem\n",
       "1      mulher\n",
       "2      mulher\n",
       "3      mulher\n",
       "4       homem\n",
       "        ...  \n",
       "886     homem\n",
       "887    mulher\n",
       "888    mulher\n",
       "889     homem\n",
       "890     homem\n",
       "Name: Sexo, Length: 891, dtype: object"
      ]
     },
     "execution_count": 45,
     "metadata": {},
     "output_type": "execute_result"
    }
   ],
   "source": [
    "df['Sexo'] = df['Sexo'].map({'male':'homem', 'female':'mulher'})\n",
    "df['Sexo']"
   ]
  },
  {
   "cell_type": "markdown",
   "metadata": {},
   "source": [
    "### Groupby - Agrupar por"
   ]
  },
  {
   "cell_type": "code",
   "execution_count": 46,
   "metadata": {},
   "outputs": [
    {
     "data": {
      "text/plain": [
       "<pandas.core.groupby.generic.DataFrameGroupBy object at 0x000001C547CD0288>"
      ]
     },
     "execution_count": 46,
     "metadata": {},
     "output_type": "execute_result"
    }
   ],
   "source": [
    "df.groupby('Sexo')"
   ]
  },
  {
   "cell_type": "code",
   "execution_count": 47,
   "metadata": {},
   "outputs": [
    {
     "data": {
      "text/html": [
       "<div>\n",
       "<style scoped>\n",
       "    .dataframe tbody tr th:only-of-type {\n",
       "        vertical-align: middle;\n",
       "    }\n",
       "\n",
       "    .dataframe tbody tr th {\n",
       "        vertical-align: top;\n",
       "    }\n",
       "\n",
       "    .dataframe thead th {\n",
       "        text-align: right;\n",
       "    }\n",
       "</style>\n",
       "<table border=\"1\" class=\"dataframe\">\n",
       "  <thead>\n",
       "    <tr style=\"text-align: right;\">\n",
       "      <th></th>\n",
       "      <th>IdPassageiro</th>\n",
       "      <th>Sobreviveu</th>\n",
       "      <th>Classe</th>\n",
       "      <th>Nome</th>\n",
       "      <th>Idade</th>\n",
       "      <th>IrmaosConjuge</th>\n",
       "      <th>PaisFilhos</th>\n",
       "      <th>Bilhete</th>\n",
       "      <th>Tarifa</th>\n",
       "      <th>Cabine</th>\n",
       "      <th>Embarque</th>\n",
       "    </tr>\n",
       "    <tr>\n",
       "      <th>Sexo</th>\n",
       "      <th></th>\n",
       "      <th></th>\n",
       "      <th></th>\n",
       "      <th></th>\n",
       "      <th></th>\n",
       "      <th></th>\n",
       "      <th></th>\n",
       "      <th></th>\n",
       "      <th></th>\n",
       "      <th></th>\n",
       "      <th></th>\n",
       "    </tr>\n",
       "  </thead>\n",
       "  <tbody>\n",
       "    <tr>\n",
       "      <th>homem</th>\n",
       "      <td>577</td>\n",
       "      <td>577</td>\n",
       "      <td>577</td>\n",
       "      <td>577</td>\n",
       "      <td>453</td>\n",
       "      <td>577</td>\n",
       "      <td>577</td>\n",
       "      <td>577</td>\n",
       "      <td>577</td>\n",
       "      <td>107</td>\n",
       "      <td>577</td>\n",
       "    </tr>\n",
       "    <tr>\n",
       "      <th>mulher</th>\n",
       "      <td>314</td>\n",
       "      <td>314</td>\n",
       "      <td>314</td>\n",
       "      <td>314</td>\n",
       "      <td>261</td>\n",
       "      <td>314</td>\n",
       "      <td>314</td>\n",
       "      <td>314</td>\n",
       "      <td>314</td>\n",
       "      <td>97</td>\n",
       "      <td>312</td>\n",
       "    </tr>\n",
       "  </tbody>\n",
       "</table>\n",
       "</div>"
      ],
      "text/plain": [
       "        IdPassageiro  Sobreviveu  Classe  Nome  Idade  IrmaosConjuge  \\\n",
       "Sexo                                                                   \n",
       "homem            577         577     577   577    453            577   \n",
       "mulher           314         314     314   314    261            314   \n",
       "\n",
       "        PaisFilhos  Bilhete  Tarifa  Cabine  Embarque  \n",
       "Sexo                                                   \n",
       "homem          577      577     577     107       577  \n",
       "mulher         314      314     314      97       312  "
      ]
     },
     "execution_count": 47,
     "metadata": {},
     "output_type": "execute_result"
    }
   ],
   "source": [
    "df.groupby('Sexo').count()"
   ]
  },
  {
   "cell_type": "code",
   "execution_count": 48,
   "metadata": {},
   "outputs": [
    {
     "data": {
      "text/html": [
       "<div>\n",
       "<style scoped>\n",
       "    .dataframe tbody tr th:only-of-type {\n",
       "        vertical-align: middle;\n",
       "    }\n",
       "\n",
       "    .dataframe tbody tr th {\n",
       "        vertical-align: top;\n",
       "    }\n",
       "\n",
       "    .dataframe thead th {\n",
       "        text-align: right;\n",
       "    }\n",
       "</style>\n",
       "<table border=\"1\" class=\"dataframe\">\n",
       "  <thead>\n",
       "    <tr style=\"text-align: right;\">\n",
       "      <th></th>\n",
       "      <th>IdPassageiro</th>\n",
       "      <th>Sobreviveu</th>\n",
       "      <th>Classe</th>\n",
       "      <th>Idade</th>\n",
       "      <th>IrmaosConjuge</th>\n",
       "      <th>PaisFilhos</th>\n",
       "      <th>Tarifa</th>\n",
       "    </tr>\n",
       "    <tr>\n",
       "      <th>Sexo</th>\n",
       "      <th></th>\n",
       "      <th></th>\n",
       "      <th></th>\n",
       "      <th></th>\n",
       "      <th></th>\n",
       "      <th></th>\n",
       "      <th></th>\n",
       "    </tr>\n",
       "  </thead>\n",
       "  <tbody>\n",
       "    <tr>\n",
       "      <th>homem</th>\n",
       "      <td>454.147314</td>\n",
       "      <td>0.188908</td>\n",
       "      <td>2.389948</td>\n",
       "      <td>30.726645</td>\n",
       "      <td>0.429809</td>\n",
       "      <td>0.235702</td>\n",
       "      <td>25.523893</td>\n",
       "    </tr>\n",
       "    <tr>\n",
       "      <th>mulher</th>\n",
       "      <td>431.028662</td>\n",
       "      <td>0.742038</td>\n",
       "      <td>2.159236</td>\n",
       "      <td>27.915709</td>\n",
       "      <td>0.694268</td>\n",
       "      <td>0.649682</td>\n",
       "      <td>44.479818</td>\n",
       "    </tr>\n",
       "  </tbody>\n",
       "</table>\n",
       "</div>"
      ],
      "text/plain": [
       "        IdPassageiro  Sobreviveu    Classe      Idade  IrmaosConjuge  \\\n",
       "Sexo                                                                   \n",
       "homem     454.147314    0.188908  2.389948  30.726645       0.429809   \n",
       "mulher    431.028662    0.742038  2.159236  27.915709       0.694268   \n",
       "\n",
       "        PaisFilhos     Tarifa  \n",
       "Sexo                           \n",
       "homem     0.235702  25.523893  \n",
       "mulher    0.649682  44.479818  "
      ]
     },
     "execution_count": 48,
     "metadata": {},
     "output_type": "execute_result"
    }
   ],
   "source": [
    "df.groupby('Sexo').mean()"
   ]
  },
  {
   "cell_type": "code",
   "execution_count": 49,
   "metadata": {},
   "outputs": [
    {
     "data": {
      "text/html": [
       "<div>\n",
       "<style scoped>\n",
       "    .dataframe tbody tr th:only-of-type {\n",
       "        vertical-align: middle;\n",
       "    }\n",
       "\n",
       "    .dataframe tbody tr th {\n",
       "        vertical-align: top;\n",
       "    }\n",
       "\n",
       "    .dataframe thead th {\n",
       "        text-align: right;\n",
       "    }\n",
       "</style>\n",
       "<table border=\"1\" class=\"dataframe\">\n",
       "  <thead>\n",
       "    <tr style=\"text-align: right;\">\n",
       "      <th></th>\n",
       "      <th>IdPassageiro</th>\n",
       "      <th>Classe</th>\n",
       "      <th>Idade</th>\n",
       "      <th>IrmaosConjuge</th>\n",
       "      <th>PaisFilhos</th>\n",
       "      <th>Tarifa</th>\n",
       "    </tr>\n",
       "    <tr>\n",
       "      <th>Sobreviveu</th>\n",
       "      <th></th>\n",
       "      <th></th>\n",
       "      <th></th>\n",
       "      <th></th>\n",
       "      <th></th>\n",
       "      <th></th>\n",
       "    </tr>\n",
       "  </thead>\n",
       "  <tbody>\n",
       "    <tr>\n",
       "      <th>0</th>\n",
       "      <td>447.016393</td>\n",
       "      <td>2.531876</td>\n",
       "      <td>30.626179</td>\n",
       "      <td>0.553734</td>\n",
       "      <td>0.329690</td>\n",
       "      <td>22.117887</td>\n",
       "    </tr>\n",
       "    <tr>\n",
       "      <th>1</th>\n",
       "      <td>444.368421</td>\n",
       "      <td>1.950292</td>\n",
       "      <td>28.343690</td>\n",
       "      <td>0.473684</td>\n",
       "      <td>0.464912</td>\n",
       "      <td>48.395408</td>\n",
       "    </tr>\n",
       "  </tbody>\n",
       "</table>\n",
       "</div>"
      ],
      "text/plain": [
       "            IdPassageiro    Classe      Idade  IrmaosConjuge  PaisFilhos  \\\n",
       "Sobreviveu                                                                 \n",
       "0             447.016393  2.531876  30.626179       0.553734    0.329690   \n",
       "1             444.368421  1.950292  28.343690       0.473684    0.464912   \n",
       "\n",
       "               Tarifa  \n",
       "Sobreviveu             \n",
       "0           22.117887  \n",
       "1           48.395408  "
      ]
     },
     "execution_count": 49,
     "metadata": {},
     "output_type": "execute_result"
    }
   ],
   "source": [
    "df.groupby('Sobreviveu').mean()"
   ]
  },
  {
   "cell_type": "code",
   "execution_count": 50,
   "metadata": {},
   "outputs": [
    {
     "data": {
      "text/html": [
       "<div>\n",
       "<style scoped>\n",
       "    .dataframe tbody tr th:only-of-type {\n",
       "        vertical-align: middle;\n",
       "    }\n",
       "\n",
       "    .dataframe tbody tr th {\n",
       "        vertical-align: top;\n",
       "    }\n",
       "\n",
       "    .dataframe thead th {\n",
       "        text-align: right;\n",
       "    }\n",
       "</style>\n",
       "<table border=\"1\" class=\"dataframe\">\n",
       "  <thead>\n",
       "    <tr style=\"text-align: right;\">\n",
       "      <th></th>\n",
       "      <th>IdPassageiro</th>\n",
       "      <th>Sobreviveu</th>\n",
       "      <th>Idade</th>\n",
       "      <th>IrmaosConjuge</th>\n",
       "      <th>PaisFilhos</th>\n",
       "      <th>Tarifa</th>\n",
       "    </tr>\n",
       "    <tr>\n",
       "      <th>Classe</th>\n",
       "      <th></th>\n",
       "      <th></th>\n",
       "      <th></th>\n",
       "      <th></th>\n",
       "      <th></th>\n",
       "      <th></th>\n",
       "    </tr>\n",
       "  </thead>\n",
       "  <tbody>\n",
       "    <tr>\n",
       "      <th>1</th>\n",
       "      <td>461.597222</td>\n",
       "      <td>0.629630</td>\n",
       "      <td>38.233441</td>\n",
       "      <td>0.416667</td>\n",
       "      <td>0.356481</td>\n",
       "      <td>84.154687</td>\n",
       "    </tr>\n",
       "    <tr>\n",
       "      <th>2</th>\n",
       "      <td>445.956522</td>\n",
       "      <td>0.472826</td>\n",
       "      <td>29.877630</td>\n",
       "      <td>0.402174</td>\n",
       "      <td>0.380435</td>\n",
       "      <td>20.662183</td>\n",
       "    </tr>\n",
       "    <tr>\n",
       "      <th>3</th>\n",
       "      <td>439.154786</td>\n",
       "      <td>0.242363</td>\n",
       "      <td>25.140620</td>\n",
       "      <td>0.615071</td>\n",
       "      <td>0.393075</td>\n",
       "      <td>13.675550</td>\n",
       "    </tr>\n",
       "  </tbody>\n",
       "</table>\n",
       "</div>"
      ],
      "text/plain": [
       "        IdPassageiro  Sobreviveu      Idade  IrmaosConjuge  PaisFilhos  \\\n",
       "Classe                                                                   \n",
       "1         461.597222    0.629630  38.233441       0.416667    0.356481   \n",
       "2         445.956522    0.472826  29.877630       0.402174    0.380435   \n",
       "3         439.154786    0.242363  25.140620       0.615071    0.393075   \n",
       "\n",
       "           Tarifa  \n",
       "Classe             \n",
       "1       84.154687  \n",
       "2       20.662183  \n",
       "3       13.675550  "
      ]
     },
     "execution_count": 50,
     "metadata": {},
     "output_type": "execute_result"
    }
   ],
   "source": [
    "df.groupby('Classe').mean()"
   ]
  },
  {
   "cell_type": "code",
   "execution_count": 51,
   "metadata": {},
   "outputs": [
    {
     "data": {
      "text/html": [
       "<style  type=\"text/css\" >\n",
       "    #T_4857c670_d9be_11ea_8ffd_109836fd617drow0_col0 {\n",
       "            background-color:  #c61a11;\n",
       "            color:  #f1f1f1;\n",
       "        }    #T_4857c670_d9be_11ea_8ffd_109836fd617drow0_col1 {\n",
       "            background-color:  #fdce98;\n",
       "            color:  #000000;\n",
       "        }    #T_4857c670_d9be_11ea_8ffd_109836fd617drow0_col2 {\n",
       "            background-color:  #7f0000;\n",
       "            color:  #f1f1f1;\n",
       "        }    #T_4857c670_d9be_11ea_8ffd_109836fd617drow0_col3 {\n",
       "            background-color:  #fff7ec;\n",
       "            color:  #000000;\n",
       "        }    #T_4857c670_d9be_11ea_8ffd_109836fd617drow0_col4 {\n",
       "            background-color:  #feebd0;\n",
       "            color:  #000000;\n",
       "        }    #T_4857c670_d9be_11ea_8ffd_109836fd617drow0_col5 {\n",
       "            background-color:  #f3724e;\n",
       "            color:  #000000;\n",
       "        }    #T_4857c670_d9be_11ea_8ffd_109836fd617drow1_col0 {\n",
       "            background-color:  #e24831;\n",
       "            color:  #f1f1f1;\n",
       "        }    #T_4857c670_d9be_11ea_8ffd_109836fd617drow1_col1 {\n",
       "            background-color:  #fff4e5;\n",
       "            color:  #000000;\n",
       "        }    #T_4857c670_d9be_11ea_8ffd_109836fd617drow1_col2 {\n",
       "            background-color:  #fc9c67;\n",
       "            color:  #000000;\n",
       "        }    #T_4857c670_d9be_11ea_8ffd_109836fd617drow1_col3 {\n",
       "            background-color:  #fff1dd;\n",
       "            color:  #000000;\n",
       "        }    #T_4857c670_d9be_11ea_8ffd_109836fd617drow1_col4 {\n",
       "            background-color:  #fff7ec;\n",
       "            color:  #000000;\n",
       "        }    #T_4857c670_d9be_11ea_8ffd_109836fd617drow1_col5 {\n",
       "            background-color:  #feeed7;\n",
       "            color:  #000000;\n",
       "        }    #T_4857c670_d9be_11ea_8ffd_109836fd617drow2_col0 {\n",
       "            background-color:  #c71b12;\n",
       "            color:  #f1f1f1;\n",
       "        }    #T_4857c670_d9be_11ea_8ffd_109836fd617drow2_col1 {\n",
       "            background-color:  #fff7ec;\n",
       "            color:  #000000;\n",
       "        }    #T_4857c670_d9be_11ea_8ffd_109836fd617drow2_col2 {\n",
       "            background-color:  #fdd5a0;\n",
       "            color:  #000000;\n",
       "        }    #T_4857c670_d9be_11ea_8ffd_109836fd617drow2_col3 {\n",
       "            background-color:  #fdc690;\n",
       "            color:  #000000;\n",
       "        }    #T_4857c670_d9be_11ea_8ffd_109836fd617drow2_col4 {\n",
       "            background-color:  #fff7eb;\n",
       "            color:  #000000;\n",
       "        }    #T_4857c670_d9be_11ea_8ffd_109836fd617drow2_col5 {\n",
       "            background-color:  #fff7ec;\n",
       "            color:  #000000;\n",
       "        }    #T_4857c670_d9be_11ea_8ffd_109836fd617drow3_col0 {\n",
       "            background-color:  #7f0000;\n",
       "            color:  #f1f1f1;\n",
       "        }    #T_4857c670_d9be_11ea_8ffd_109836fd617drow3_col1 {\n",
       "            background-color:  #7f0000;\n",
       "            color:  #f1f1f1;\n",
       "        }    #T_4857c670_d9be_11ea_8ffd_109836fd617drow3_col2 {\n",
       "            background-color:  #e9573d;\n",
       "            color:  #000000;\n",
       "        }    #T_4857c670_d9be_11ea_8ffd_109836fd617drow3_col3 {\n",
       "            background-color:  #fdad77;\n",
       "            color:  #000000;\n",
       "        }    #T_4857c670_d9be_11ea_8ffd_109836fd617drow3_col4 {\n",
       "            background-color:  #fdaf79;\n",
       "            color:  #000000;\n",
       "        }    #T_4857c670_d9be_11ea_8ffd_109836fd617drow3_col5 {\n",
       "            background-color:  #7f0000;\n",
       "            color:  #f1f1f1;\n",
       "        }    #T_4857c670_d9be_11ea_8ffd_109836fd617drow4_col0 {\n",
       "            background-color:  #ef6548;\n",
       "            color:  #000000;\n",
       "        }    #T_4857c670_d9be_11ea_8ffd_109836fd617drow4_col1 {\n",
       "            background-color:  #960000;\n",
       "            color:  #f1f1f1;\n",
       "        }    #T_4857c670_d9be_11ea_8ffd_109836fd617drow4_col2 {\n",
       "            background-color:  #fdbf88;\n",
       "            color:  #000000;\n",
       "        }    #T_4857c670_d9be_11ea_8ffd_109836fd617drow4_col3 {\n",
       "            background-color:  #fdca94;\n",
       "            color:  #000000;\n",
       "        }    #T_4857c670_d9be_11ea_8ffd_109836fd617drow4_col4 {\n",
       "            background-color:  #e7533a;\n",
       "            color:  #000000;\n",
       "        }    #T_4857c670_d9be_11ea_8ffd_109836fd617drow4_col5 {\n",
       "            background-color:  #feebd0;\n",
       "            color:  #000000;\n",
       "        }    #T_4857c670_d9be_11ea_8ffd_109836fd617drow5_col0 {\n",
       "            background-color:  #fff7ec;\n",
       "            color:  #000000;\n",
       "        }    #T_4857c670_d9be_11ea_8ffd_109836fd617drow5_col1 {\n",
       "            background-color:  #fca36e;\n",
       "            color:  #000000;\n",
       "        }    #T_4857c670_d9be_11ea_8ffd_109836fd617drow5_col2 {\n",
       "            background-color:  #fff7ec;\n",
       "            color:  #000000;\n",
       "        }    #T_4857c670_d9be_11ea_8ffd_109836fd617drow5_col3 {\n",
       "            background-color:  #7f0000;\n",
       "            color:  #f1f1f1;\n",
       "        }    #T_4857c670_d9be_11ea_8ffd_109836fd617drow5_col4 {\n",
       "            background-color:  #7f0000;\n",
       "            color:  #f1f1f1;\n",
       "        }    #T_4857c670_d9be_11ea_8ffd_109836fd617drow5_col5 {\n",
       "            background-color:  #fff3e2;\n",
       "            color:  #000000;\n",
       "        }</style><table id=\"T_4857c670_d9be_11ea_8ffd_109836fd617d\" ><thead>    <tr>        <th class=\"blank\" ></th>        <th class=\"blank level0\" ></th>        <th class=\"col_heading level0 col0\" >IdPassageiro</th>        <th class=\"col_heading level0 col1\" >Sobreviveu</th>        <th class=\"col_heading level0 col2\" >Idade</th>        <th class=\"col_heading level0 col3\" >IrmaosConjuge</th>        <th class=\"col_heading level0 col4\" >PaisFilhos</th>        <th class=\"col_heading level0 col5\" >Tarifa</th>    </tr>    <tr>        <th class=\"index_name level0\" >Sexo</th>        <th class=\"index_name level1\" >Classe</th>        <th class=\"blank\" ></th>        <th class=\"blank\" ></th>        <th class=\"blank\" ></th>        <th class=\"blank\" ></th>        <th class=\"blank\" ></th>        <th class=\"blank\" ></th>    </tr></thead><tbody>\n",
       "                <tr>\n",
       "                        <th id=\"T_4857c670_d9be_11ea_8ffd_109836fd617dlevel0_row0\" class=\"row_heading level0 row0\" rowspan=3>homem</th>\n",
       "                        <th id=\"T_4857c670_d9be_11ea_8ffd_109836fd617dlevel1_row0\" class=\"row_heading level1 row0\" >1</th>\n",
       "                        <td id=\"T_4857c670_d9be_11ea_8ffd_109836fd617drow0_col0\" class=\"data row0 col0\" >455.729508</td>\n",
       "                        <td id=\"T_4857c670_d9be_11ea_8ffd_109836fd617drow0_col1\" class=\"data row0 col1\" >0.368852</td>\n",
       "                        <td id=\"T_4857c670_d9be_11ea_8ffd_109836fd617drow0_col2\" class=\"data row0 col2\" >41.281386</td>\n",
       "                        <td id=\"T_4857c670_d9be_11ea_8ffd_109836fd617drow0_col3\" class=\"data row0 col3\" >0.311475</td>\n",
       "                        <td id=\"T_4857c670_d9be_11ea_8ffd_109836fd617drow0_col4\" class=\"data row0 col4\" >0.278689</td>\n",
       "                        <td id=\"T_4857c670_d9be_11ea_8ffd_109836fd617drow0_col5\" class=\"data row0 col5\" >67.226127</td>\n",
       "            </tr>\n",
       "            <tr>\n",
       "                                <th id=\"T_4857c670_d9be_11ea_8ffd_109836fd617dlevel1_row1\" class=\"row_heading level1 row1\" >2</th>\n",
       "                        <td id=\"T_4857c670_d9be_11ea_8ffd_109836fd617drow1_col0\" class=\"data row1 col0\" >447.962963</td>\n",
       "                        <td id=\"T_4857c670_d9be_11ea_8ffd_109836fd617drow1_col1\" class=\"data row1 col1\" >0.157407</td>\n",
       "                        <td id=\"T_4857c670_d9be_11ea_8ffd_109836fd617drow1_col2\" class=\"data row1 col2\" >30.740707</td>\n",
       "                        <td id=\"T_4857c670_d9be_11ea_8ffd_109836fd617drow1_col3\" class=\"data row1 col3\" >0.342593</td>\n",
       "                        <td id=\"T_4857c670_d9be_11ea_8ffd_109836fd617drow1_col4\" class=\"data row1 col4\" >0.222222</td>\n",
       "                        <td id=\"T_4857c670_d9be_11ea_8ffd_109836fd617drow1_col5\" class=\"data row1 col5\" >19.741782</td>\n",
       "            </tr>\n",
       "            <tr>\n",
       "                                <th id=\"T_4857c670_d9be_11ea_8ffd_109836fd617dlevel1_row2\" class=\"row_heading level1 row2\" >3</th>\n",
       "                        <td id=\"T_4857c670_d9be_11ea_8ffd_109836fd617drow2_col0\" class=\"data row2 col0\" >455.515850</td>\n",
       "                        <td id=\"T_4857c670_d9be_11ea_8ffd_109836fd617drow2_col1\" class=\"data row2 col1\" >0.135447</td>\n",
       "                        <td id=\"T_4857c670_d9be_11ea_8ffd_109836fd617drow2_col2\" class=\"data row2 col2\" >26.507589</td>\n",
       "                        <td id=\"T_4857c670_d9be_11ea_8ffd_109836fd617drow2_col3\" class=\"data row2 col3\" >0.498559</td>\n",
       "                        <td id=\"T_4857c670_d9be_11ea_8ffd_109836fd617drow2_col4\" class=\"data row2 col4\" >0.224784</td>\n",
       "                        <td id=\"T_4857c670_d9be_11ea_8ffd_109836fd617drow2_col5\" class=\"data row2 col5\" >12.661633</td>\n",
       "            </tr>\n",
       "            <tr>\n",
       "                        <th id=\"T_4857c670_d9be_11ea_8ffd_109836fd617dlevel0_row3\" class=\"row_heading level0 row3\" rowspan=3>mulher</th>\n",
       "                        <th id=\"T_4857c670_d9be_11ea_8ffd_109836fd617dlevel1_row3\" class=\"row_heading level1 row3\" >1</th>\n",
       "                        <td id=\"T_4857c670_d9be_11ea_8ffd_109836fd617drow3_col0\" class=\"data row3 col0\" >469.212766</td>\n",
       "                        <td id=\"T_4857c670_d9be_11ea_8ffd_109836fd617drow3_col1\" class=\"data row3 col1\" >0.968085</td>\n",
       "                        <td id=\"T_4857c670_d9be_11ea_8ffd_109836fd617drow3_col2\" class=\"data row3 col2\" >34.611765</td>\n",
       "                        <td id=\"T_4857c670_d9be_11ea_8ffd_109836fd617drow3_col3\" class=\"data row3 col3\" >0.553191</td>\n",
       "                        <td id=\"T_4857c670_d9be_11ea_8ffd_109836fd617drow3_col4\" class=\"data row3 col4\" >0.457447</td>\n",
       "                        <td id=\"T_4857c670_d9be_11ea_8ffd_109836fd617drow3_col5\" class=\"data row3 col5\" >106.125798</td>\n",
       "            </tr>\n",
       "            <tr>\n",
       "                                <th id=\"T_4857c670_d9be_11ea_8ffd_109836fd617dlevel1_row4\" class=\"row_heading level1 row4\" >2</th>\n",
       "                        <td id=\"T_4857c670_d9be_11ea_8ffd_109836fd617drow4_col0\" class=\"data row4 col0\" >443.105263</td>\n",
       "                        <td id=\"T_4857c670_d9be_11ea_8ffd_109836fd617drow4_col1\" class=\"data row4 col1\" >0.921053</td>\n",
       "                        <td id=\"T_4857c670_d9be_11ea_8ffd_109836fd617drow4_col2\" class=\"data row4 col2\" >28.722973</td>\n",
       "                        <td id=\"T_4857c670_d9be_11ea_8ffd_109836fd617drow4_col3\" class=\"data row4 col3\" >0.486842</td>\n",
       "                        <td id=\"T_4857c670_d9be_11ea_8ffd_109836fd617drow4_col4\" class=\"data row4 col4\" >0.605263</td>\n",
       "                        <td id=\"T_4857c670_d9be_11ea_8ffd_109836fd617drow4_col5\" class=\"data row4 col5\" >21.970121</td>\n",
       "            </tr>\n",
       "            <tr>\n",
       "                                <th id=\"T_4857c670_d9be_11ea_8ffd_109836fd617dlevel1_row5\" class=\"row_heading level1 row5\" >3</th>\n",
       "                        <td id=\"T_4857c670_d9be_11ea_8ffd_109836fd617drow5_col0\" class=\"data row5 col0\" >399.729167</td>\n",
       "                        <td id=\"T_4857c670_d9be_11ea_8ffd_109836fd617drow5_col1\" class=\"data row5 col1\" >0.500000</td>\n",
       "                        <td id=\"T_4857c670_d9be_11ea_8ffd_109836fd617drow5_col2\" class=\"data row5 col2\" >21.750000</td>\n",
       "                        <td id=\"T_4857c670_d9be_11ea_8ffd_109836fd617drow5_col3\" class=\"data row5 col3\" >0.895833</td>\n",
       "                        <td id=\"T_4857c670_d9be_11ea_8ffd_109836fd617drow5_col4\" class=\"data row5 col4\" >0.798611</td>\n",
       "                        <td id=\"T_4857c670_d9be_11ea_8ffd_109836fd617drow5_col5\" class=\"data row5 col5\" >16.118810</td>\n",
       "            </tr>\n",
       "    </tbody></table>"
      ],
      "text/plain": [
       "<pandas.io.formats.style.Styler at 0x1c547ccca08>"
      ]
     },
     "execution_count": 51,
     "metadata": {},
     "output_type": "execute_result"
    }
   ],
   "source": [
    "df.groupby(['Sexo','Classe']).mean().style.background_gradient(cmap='OrRd')"
   ]
  },
  {
   "cell_type": "markdown",
   "metadata": {},
   "source": [
    "### Crosstab"
   ]
  },
  {
   "cell_type": "code",
   "execution_count": 52,
   "metadata": {
    "scrolled": true
   },
   "outputs": [
    {
     "data": {
      "text/html": [
       "<style  type=\"text/css\" >\n",
       "    #T_4866af18_d9be_11ea_80ec_109836fd617drow0_col0 {\n",
       "            background-color:  #fff7ec;\n",
       "            color:  #000000;\n",
       "        }    #T_4866af18_d9be_11ea_80ec_109836fd617drow0_col1 {\n",
       "            background-color:  #feebcf;\n",
       "            color:  #000000;\n",
       "        }    #T_4866af18_d9be_11ea_80ec_109836fd617drow0_col2 {\n",
       "            background-color:  #e44d35;\n",
       "            color:  #000000;\n",
       "        }    #T_4866af18_d9be_11ea_80ec_109836fd617drow0_col3 {\n",
       "            background-color:  #fdba83;\n",
       "            color:  #000000;\n",
       "        }    #T_4866af18_d9be_11ea_80ec_109836fd617drow1_col0 {\n",
       "            background-color:  #fdad77;\n",
       "            color:  #000000;\n",
       "        }    #T_4866af18_d9be_11ea_80ec_109836fd617drow1_col1 {\n",
       "            background-color:  #fff7ec;\n",
       "            color:  #000000;\n",
       "        }    #T_4866af18_d9be_11ea_80ec_109836fd617drow1_col2 {\n",
       "            background-color:  #fff7ec;\n",
       "            color:  #000000;\n",
       "        }    #T_4866af18_d9be_11ea_80ec_109836fd617drow1_col3 {\n",
       "            background-color:  #fff7ec;\n",
       "            color:  #000000;\n",
       "        }    #T_4866af18_d9be_11ea_80ec_109836fd617drow2_col0 {\n",
       "            background-color:  #7f0000;\n",
       "            color:  #f1f1f1;\n",
       "        }    #T_4866af18_d9be_11ea_80ec_109836fd617drow2_col1 {\n",
       "            background-color:  #7f0000;\n",
       "            color:  #f1f1f1;\n",
       "        }    #T_4866af18_d9be_11ea_80ec_109836fd617drow2_col2 {\n",
       "            background-color:  #7f0000;\n",
       "            color:  #f1f1f1;\n",
       "        }    #T_4866af18_d9be_11ea_80ec_109836fd617drow2_col3 {\n",
       "            background-color:  #7f0000;\n",
       "            color:  #f1f1f1;\n",
       "        }</style><table id=\"T_4866af18_d9be_11ea_80ec_109836fd617d\" ><thead>    <tr>        <th class=\"index_name level0\" >Classe</th>        <th class=\"col_heading level0 col0\" >1</th>        <th class=\"col_heading level0 col1\" >2</th>        <th class=\"col_heading level0 col2\" >3</th>        <th class=\"col_heading level0 col3\" >All</th>    </tr>    <tr>        <th class=\"index_name level0\" >Sobreviveu</th>        <th class=\"blank\" ></th>        <th class=\"blank\" ></th>        <th class=\"blank\" ></th>        <th class=\"blank\" ></th>    </tr></thead><tbody>\n",
       "                <tr>\n",
       "                        <th id=\"T_4866af18_d9be_11ea_80ec_109836fd617dlevel0_row0\" class=\"row_heading level0 row0\" >0</th>\n",
       "                        <td id=\"T_4866af18_d9be_11ea_80ec_109836fd617drow0_col0\" class=\"data row0 col0\" >80</td>\n",
       "                        <td id=\"T_4866af18_d9be_11ea_80ec_109836fd617drow0_col1\" class=\"data row0 col1\" >97</td>\n",
       "                        <td id=\"T_4866af18_d9be_11ea_80ec_109836fd617drow0_col2\" class=\"data row0 col2\" >372</td>\n",
       "                        <td id=\"T_4866af18_d9be_11ea_80ec_109836fd617drow0_col3\" class=\"data row0 col3\" >549</td>\n",
       "            </tr>\n",
       "            <tr>\n",
       "                        <th id=\"T_4866af18_d9be_11ea_80ec_109836fd617dlevel0_row1\" class=\"row_heading level0 row1\" >1</th>\n",
       "                        <td id=\"T_4866af18_d9be_11ea_80ec_109836fd617drow1_col0\" class=\"data row1 col0\" >136</td>\n",
       "                        <td id=\"T_4866af18_d9be_11ea_80ec_109836fd617drow1_col1\" class=\"data row1 col1\" >87</td>\n",
       "                        <td id=\"T_4866af18_d9be_11ea_80ec_109836fd617drow1_col2\" class=\"data row1 col2\" >119</td>\n",
       "                        <td id=\"T_4866af18_d9be_11ea_80ec_109836fd617drow1_col3\" class=\"data row1 col3\" >342</td>\n",
       "            </tr>\n",
       "            <tr>\n",
       "                        <th id=\"T_4866af18_d9be_11ea_80ec_109836fd617dlevel0_row2\" class=\"row_heading level0 row2\" >All</th>\n",
       "                        <td id=\"T_4866af18_d9be_11ea_80ec_109836fd617drow2_col0\" class=\"data row2 col0\" >216</td>\n",
       "                        <td id=\"T_4866af18_d9be_11ea_80ec_109836fd617drow2_col1\" class=\"data row2 col1\" >184</td>\n",
       "                        <td id=\"T_4866af18_d9be_11ea_80ec_109836fd617drow2_col2\" class=\"data row2 col2\" >491</td>\n",
       "                        <td id=\"T_4866af18_d9be_11ea_80ec_109836fd617drow2_col3\" class=\"data row2 col3\" >891</td>\n",
       "            </tr>\n",
       "    </tbody></table>"
      ],
      "text/plain": [
       "<pandas.io.formats.style.Styler at 0x1c547cadec8>"
      ]
     },
     "execution_count": 52,
     "metadata": {},
     "output_type": "execute_result"
    }
   ],
   "source": [
    "pd.crosstab(df['Sobreviveu'], df['Classe'], margins=True)\\\n",
    ".style.background_gradient(cmap='OrRd')"
   ]
  },
  {
   "cell_type": "code",
   "execution_count": 53,
   "metadata": {},
   "outputs": [
    {
     "data": {
      "text/html": [
       "<style  type=\"text/css\" >\n",
       "    #T_486f889c_d9be_11ea_a642_109836fd617drow0_col0 {\n",
       "            background-color:  #1d6cb1;\n",
       "            color:  #f1f1f1;\n",
       "        }    #T_486f889c_d9be_11ea_a642_109836fd617drow0_col1 {\n",
       "            background-color:  #f7fbff;\n",
       "            color:  #000000;\n",
       "        }    #T_486f889c_d9be_11ea_a642_109836fd617drow0_col2 {\n",
       "            background-color:  #9dcae1;\n",
       "            color:  #000000;\n",
       "        }    #T_486f889c_d9be_11ea_a642_109836fd617drow1_col0 {\n",
       "            background-color:  #f7fbff;\n",
       "            color:  #000000;\n",
       "        }    #T_486f889c_d9be_11ea_a642_109836fd617drow1_col1 {\n",
       "            background-color:  #3a8ac2;\n",
       "            color:  #000000;\n",
       "        }    #T_486f889c_d9be_11ea_a642_109836fd617drow1_col2 {\n",
       "            background-color:  #f7fbff;\n",
       "            color:  #000000;\n",
       "        }    #T_486f889c_d9be_11ea_a642_109836fd617drow2_col0 {\n",
       "            background-color:  #08306b;\n",
       "            color:  #f1f1f1;\n",
       "        }    #T_486f889c_d9be_11ea_a642_109836fd617drow2_col1 {\n",
       "            background-color:  #08306b;\n",
       "            color:  #f1f1f1;\n",
       "        }    #T_486f889c_d9be_11ea_a642_109836fd617drow2_col2 {\n",
       "            background-color:  #08306b;\n",
       "            color:  #f1f1f1;\n",
       "        }</style><table id=\"T_486f889c_d9be_11ea_a642_109836fd617d\" ><thead>    <tr>        <th class=\"index_name level0\" >Sexo</th>        <th class=\"col_heading level0 col0\" >homem</th>        <th class=\"col_heading level0 col1\" >mulher</th>        <th class=\"col_heading level0 col2\" >All</th>    </tr>    <tr>        <th class=\"index_name level0\" >Sobreviveu</th>        <th class=\"blank\" ></th>        <th class=\"blank\" ></th>        <th class=\"blank\" ></th>    </tr></thead><tbody>\n",
       "                <tr>\n",
       "                        <th id=\"T_486f889c_d9be_11ea_a642_109836fd617dlevel0_row0\" class=\"row_heading level0 row0\" >0</th>\n",
       "                        <td id=\"T_486f889c_d9be_11ea_a642_109836fd617drow0_col0\" class=\"data row0 col0\" >468</td>\n",
       "                        <td id=\"T_486f889c_d9be_11ea_a642_109836fd617drow0_col1\" class=\"data row0 col1\" >81</td>\n",
       "                        <td id=\"T_486f889c_d9be_11ea_a642_109836fd617drow0_col2\" class=\"data row0 col2\" >549</td>\n",
       "            </tr>\n",
       "            <tr>\n",
       "                        <th id=\"T_486f889c_d9be_11ea_a642_109836fd617dlevel0_row1\" class=\"row_heading level0 row1\" >1</th>\n",
       "                        <td id=\"T_486f889c_d9be_11ea_a642_109836fd617drow1_col0\" class=\"data row1 col0\" >109</td>\n",
       "                        <td id=\"T_486f889c_d9be_11ea_a642_109836fd617drow1_col1\" class=\"data row1 col1\" >233</td>\n",
       "                        <td id=\"T_486f889c_d9be_11ea_a642_109836fd617drow1_col2\" class=\"data row1 col2\" >342</td>\n",
       "            </tr>\n",
       "            <tr>\n",
       "                        <th id=\"T_486f889c_d9be_11ea_a642_109836fd617dlevel0_row2\" class=\"row_heading level0 row2\" >All</th>\n",
       "                        <td id=\"T_486f889c_d9be_11ea_a642_109836fd617drow2_col0\" class=\"data row2 col0\" >577</td>\n",
       "                        <td id=\"T_486f889c_d9be_11ea_a642_109836fd617drow2_col1\" class=\"data row2 col1\" >314</td>\n",
       "                        <td id=\"T_486f889c_d9be_11ea_a642_109836fd617drow2_col2\" class=\"data row2 col2\" >891</td>\n",
       "            </tr>\n",
       "    </tbody></table>"
      ],
      "text/plain": [
       "<pandas.io.formats.style.Styler at 0x1c547c6ecc8>"
      ]
     },
     "execution_count": 53,
     "metadata": {},
     "output_type": "execute_result"
    }
   ],
   "source": [
    "pd.crosstab(df['Sobreviveu'], df['Sexo'], margins=True)\\\n",
    ".style.background_gradient(cmap='Blues')"
   ]
  },
  {
   "cell_type": "markdown",
   "metadata": {},
   "source": [
    "### Ordenando Dados"
   ]
  },
  {
   "cell_type": "code",
   "execution_count": 54,
   "metadata": {
    "scrolled": true
   },
   "outputs": [
    {
     "data": {
      "text/html": [
       "<style  type=\"text/css\" >\n",
       "    #T_48741c7e_d9be_11ea_babe_109836fd617drow0_col0 {\n",
       "            background-color:  #7f0000;\n",
       "            color:  #f1f1f1;\n",
       "        }    #T_48741c7e_d9be_11ea_babe_109836fd617drow0_col2 {\n",
       "            background-color:  #fff7ec;\n",
       "            color:  #000000;\n",
       "        }    #T_48741c7e_d9be_11ea_babe_109836fd617drow0_col3 {\n",
       "            background-color:  #7f0000;\n",
       "            color:  #f1f1f1;\n",
       "        }    #T_48741c7e_d9be_11ea_babe_109836fd617drow1_col0 {\n",
       "            background-color:  #fdbc85;\n",
       "            color:  #000000;\n",
       "        }    #T_48741c7e_d9be_11ea_babe_109836fd617drow1_col2 {\n",
       "            background-color:  #7f0000;\n",
       "            color:  #f1f1f1;\n",
       "        }    #T_48741c7e_d9be_11ea_babe_109836fd617drow1_col3 {\n",
       "            background-color:  #fff7ec;\n",
       "            color:  #000000;\n",
       "        }    #T_48741c7e_d9be_11ea_babe_109836fd617drow2_col0 {\n",
       "            background-color:  #fff1dd;\n",
       "            color:  #000000;\n",
       "        }    #T_48741c7e_d9be_11ea_babe_109836fd617drow2_col2 {\n",
       "            background-color:  #fff7ec;\n",
       "            color:  #000000;\n",
       "        }    #T_48741c7e_d9be_11ea_babe_109836fd617drow2_col3 {\n",
       "            background-color:  #fff7ec;\n",
       "            color:  #000000;\n",
       "        }    #T_48741c7e_d9be_11ea_babe_109836fd617drow3_col0 {\n",
       "            background-color:  #fff1dd;\n",
       "            color:  #000000;\n",
       "        }    #T_48741c7e_d9be_11ea_babe_109836fd617drow3_col2 {\n",
       "            background-color:  #fff7ec;\n",
       "            color:  #000000;\n",
       "        }    #T_48741c7e_d9be_11ea_babe_109836fd617drow3_col3 {\n",
       "            background-color:  #fff7ec;\n",
       "            color:  #000000;\n",
       "        }    #T_48741c7e_d9be_11ea_babe_109836fd617drow4_col0 {\n",
       "            background-color:  #fff7ec;\n",
       "            color:  #000000;\n",
       "        }    #T_48741c7e_d9be_11ea_babe_109836fd617drow4_col2 {\n",
       "            background-color:  #7f0000;\n",
       "            color:  #f1f1f1;\n",
       "        }    #T_48741c7e_d9be_11ea_babe_109836fd617drow4_col3 {\n",
       "            background-color:  #fff7ec;\n",
       "            color:  #000000;\n",
       "        }</style><table id=\"T_48741c7e_d9be_11ea_babe_109836fd617d\" ><thead>    <tr>        <th class=\"blank level0\" ></th>        <th class=\"col_heading level0 col0\" >Idade</th>        <th class=\"col_heading level0 col1\" >Sexo</th>        <th class=\"col_heading level0 col2\" >Classe</th>        <th class=\"col_heading level0 col3\" >Sobreviveu</th>    </tr></thead><tbody>\n",
       "                <tr>\n",
       "                        <th id=\"T_48741c7e_d9be_11ea_babe_109836fd617dlevel0_row0\" class=\"row_heading level0 row0\" >630</th>\n",
       "                        <td id=\"T_48741c7e_d9be_11ea_babe_109836fd617drow0_col0\" class=\"data row0 col0\" >80.000000</td>\n",
       "                        <td id=\"T_48741c7e_d9be_11ea_babe_109836fd617drow0_col1\" class=\"data row0 col1\" >homem</td>\n",
       "                        <td id=\"T_48741c7e_d9be_11ea_babe_109836fd617drow0_col2\" class=\"data row0 col2\" >1</td>\n",
       "                        <td id=\"T_48741c7e_d9be_11ea_babe_109836fd617drow0_col3\" class=\"data row0 col3\" >1</td>\n",
       "            </tr>\n",
       "            <tr>\n",
       "                        <th id=\"T_48741c7e_d9be_11ea_babe_109836fd617dlevel0_row1\" class=\"row_heading level0 row1\" >851</th>\n",
       "                        <td id=\"T_48741c7e_d9be_11ea_babe_109836fd617drow1_col0\" class=\"data row1 col0\" >74.000000</td>\n",
       "                        <td id=\"T_48741c7e_d9be_11ea_babe_109836fd617drow1_col1\" class=\"data row1 col1\" >homem</td>\n",
       "                        <td id=\"T_48741c7e_d9be_11ea_babe_109836fd617drow1_col2\" class=\"data row1 col2\" >3</td>\n",
       "                        <td id=\"T_48741c7e_d9be_11ea_babe_109836fd617drow1_col3\" class=\"data row1 col3\" >0</td>\n",
       "            </tr>\n",
       "            <tr>\n",
       "                        <th id=\"T_48741c7e_d9be_11ea_babe_109836fd617dlevel0_row2\" class=\"row_heading level0 row2\" >493</th>\n",
       "                        <td id=\"T_48741c7e_d9be_11ea_babe_109836fd617drow2_col0\" class=\"data row2 col0\" >71.000000</td>\n",
       "                        <td id=\"T_48741c7e_d9be_11ea_babe_109836fd617drow2_col1\" class=\"data row2 col1\" >homem</td>\n",
       "                        <td id=\"T_48741c7e_d9be_11ea_babe_109836fd617drow2_col2\" class=\"data row2 col2\" >1</td>\n",
       "                        <td id=\"T_48741c7e_d9be_11ea_babe_109836fd617drow2_col3\" class=\"data row2 col3\" >0</td>\n",
       "            </tr>\n",
       "            <tr>\n",
       "                        <th id=\"T_48741c7e_d9be_11ea_babe_109836fd617dlevel0_row3\" class=\"row_heading level0 row3\" >96</th>\n",
       "                        <td id=\"T_48741c7e_d9be_11ea_babe_109836fd617drow3_col0\" class=\"data row3 col0\" >71.000000</td>\n",
       "                        <td id=\"T_48741c7e_d9be_11ea_babe_109836fd617drow3_col1\" class=\"data row3 col1\" >homem</td>\n",
       "                        <td id=\"T_48741c7e_d9be_11ea_babe_109836fd617drow3_col2\" class=\"data row3 col2\" >1</td>\n",
       "                        <td id=\"T_48741c7e_d9be_11ea_babe_109836fd617drow3_col3\" class=\"data row3 col3\" >0</td>\n",
       "            </tr>\n",
       "            <tr>\n",
       "                        <th id=\"T_48741c7e_d9be_11ea_babe_109836fd617dlevel0_row4\" class=\"row_heading level0 row4\" >116</th>\n",
       "                        <td id=\"T_48741c7e_d9be_11ea_babe_109836fd617drow4_col0\" class=\"data row4 col0\" >70.500000</td>\n",
       "                        <td id=\"T_48741c7e_d9be_11ea_babe_109836fd617drow4_col1\" class=\"data row4 col1\" >homem</td>\n",
       "                        <td id=\"T_48741c7e_d9be_11ea_babe_109836fd617drow4_col2\" class=\"data row4 col2\" >3</td>\n",
       "                        <td id=\"T_48741c7e_d9be_11ea_babe_109836fd617drow4_col3\" class=\"data row4 col3\" >0</td>\n",
       "            </tr>\n",
       "    </tbody></table>"
      ],
      "text/plain": [
       "<pandas.io.formats.style.Styler at 0x1c547d141c8>"
      ]
     },
     "execution_count": 54,
     "metadata": {},
     "output_type": "execute_result"
    }
   ],
   "source": [
    "df[['Idade','Sexo','Classe','Sobreviveu']]\\\n",
    ".sort_values('Idade', ascending=False).head()\\\n",
    ".style.background_gradient(cmap='OrRd')"
   ]
  },
  {
   "cell_type": "code",
   "execution_count": 55,
   "metadata": {},
   "outputs": [
    {
     "data": {
      "text/html": [
       "<style  type=\"text/css\" >\n",
       "    #T_48809f9c_d9be_11ea_b046_109836fd617drow0_col0 {\n",
       "            background-color:  #fff7ec;\n",
       "            color:  #000000;\n",
       "        }    #T_48809f9c_d9be_11ea_b046_109836fd617drow0_col2 {\n",
       "            background-color:  #7f0000;\n",
       "            color:  #f1f1f1;\n",
       "        }    #T_48809f9c_d9be_11ea_b046_109836fd617drow0_col3 {\n",
       "            background-color:  #fff7ec;\n",
       "            color:  #000000;\n",
       "        }    #T_48809f9c_d9be_11ea_b046_109836fd617drow1_col0 {\n",
       "            background-color:  #7f0000;\n",
       "            color:  #f1f1f1;\n",
       "        }    #T_48809f9c_d9be_11ea_b046_109836fd617drow1_col2 {\n",
       "            background-color:  #fff7ec;\n",
       "            color:  #000000;\n",
       "        }    #T_48809f9c_d9be_11ea_b046_109836fd617drow1_col3 {\n",
       "            background-color:  #7f0000;\n",
       "            color:  #f1f1f1;\n",
       "        }    #T_48809f9c_d9be_11ea_b046_109836fd617drow2_col0 {\n",
       "            background-color:  #fdd49e;\n",
       "            color:  #000000;\n",
       "        }    #T_48809f9c_d9be_11ea_b046_109836fd617drow2_col2 {\n",
       "            background-color:  #7f0000;\n",
       "            color:  #f1f1f1;\n",
       "        }    #T_48809f9c_d9be_11ea_b046_109836fd617drow2_col3 {\n",
       "            background-color:  #7f0000;\n",
       "            color:  #f1f1f1;\n",
       "        }    #T_48809f9c_d9be_11ea_b046_109836fd617drow3_col0 {\n",
       "            background-color:  #c4170f;\n",
       "            color:  #f1f1f1;\n",
       "        }    #T_48809f9c_d9be_11ea_b046_109836fd617drow3_col2 {\n",
       "            background-color:  #fff7ec;\n",
       "            color:  #000000;\n",
       "        }    #T_48809f9c_d9be_11ea_b046_109836fd617drow3_col3 {\n",
       "            background-color:  #7f0000;\n",
       "            color:  #f1f1f1;\n",
       "        }    #T_48809f9c_d9be_11ea_b046_109836fd617drow4_col0 {\n",
       "            background-color:  #c4170f;\n",
       "            color:  #f1f1f1;\n",
       "        }    #T_48809f9c_d9be_11ea_b046_109836fd617drow4_col2 {\n",
       "            background-color:  #7f0000;\n",
       "            color:  #f1f1f1;\n",
       "        }    #T_48809f9c_d9be_11ea_b046_109836fd617drow4_col3 {\n",
       "            background-color:  #fff7ec;\n",
       "            color:  #000000;\n",
       "        }</style><table id=\"T_48809f9c_d9be_11ea_b046_109836fd617d\" ><thead>    <tr>        <th class=\"blank level0\" ></th>        <th class=\"col_heading level0 col0\" >Idade</th>        <th class=\"col_heading level0 col1\" >Sexo</th>        <th class=\"col_heading level0 col2\" >Classe</th>        <th class=\"col_heading level0 col3\" >Sobreviveu</th>    </tr></thead><tbody>\n",
       "                <tr>\n",
       "                        <th id=\"T_48809f9c_d9be_11ea_b046_109836fd617dlevel0_row0\" class=\"row_heading level0 row0\" >0</th>\n",
       "                        <td id=\"T_48809f9c_d9be_11ea_b046_109836fd617drow0_col0\" class=\"data row0 col0\" >22.000000</td>\n",
       "                        <td id=\"T_48809f9c_d9be_11ea_b046_109836fd617drow0_col1\" class=\"data row0 col1\" >homem</td>\n",
       "                        <td id=\"T_48809f9c_d9be_11ea_b046_109836fd617drow0_col2\" class=\"data row0 col2\" >3</td>\n",
       "                        <td id=\"T_48809f9c_d9be_11ea_b046_109836fd617drow0_col3\" class=\"data row0 col3\" >0</td>\n",
       "            </tr>\n",
       "            <tr>\n",
       "                        <th id=\"T_48809f9c_d9be_11ea_b046_109836fd617dlevel0_row1\" class=\"row_heading level0 row1\" >1</th>\n",
       "                        <td id=\"T_48809f9c_d9be_11ea_b046_109836fd617drow1_col0\" class=\"data row1 col0\" >38.000000</td>\n",
       "                        <td id=\"T_48809f9c_d9be_11ea_b046_109836fd617drow1_col1\" class=\"data row1 col1\" >mulher</td>\n",
       "                        <td id=\"T_48809f9c_d9be_11ea_b046_109836fd617drow1_col2\" class=\"data row1 col2\" >1</td>\n",
       "                        <td id=\"T_48809f9c_d9be_11ea_b046_109836fd617drow1_col3\" class=\"data row1 col3\" >1</td>\n",
       "            </tr>\n",
       "            <tr>\n",
       "                        <th id=\"T_48809f9c_d9be_11ea_b046_109836fd617dlevel0_row2\" class=\"row_heading level0 row2\" >2</th>\n",
       "                        <td id=\"T_48809f9c_d9be_11ea_b046_109836fd617drow2_col0\" class=\"data row2 col0\" >26.000000</td>\n",
       "                        <td id=\"T_48809f9c_d9be_11ea_b046_109836fd617drow2_col1\" class=\"data row2 col1\" >mulher</td>\n",
       "                        <td id=\"T_48809f9c_d9be_11ea_b046_109836fd617drow2_col2\" class=\"data row2 col2\" >3</td>\n",
       "                        <td id=\"T_48809f9c_d9be_11ea_b046_109836fd617drow2_col3\" class=\"data row2 col3\" >1</td>\n",
       "            </tr>\n",
       "            <tr>\n",
       "                        <th id=\"T_48809f9c_d9be_11ea_b046_109836fd617dlevel0_row3\" class=\"row_heading level0 row3\" >3</th>\n",
       "                        <td id=\"T_48809f9c_d9be_11ea_b046_109836fd617drow3_col0\" class=\"data row3 col0\" >35.000000</td>\n",
       "                        <td id=\"T_48809f9c_d9be_11ea_b046_109836fd617drow3_col1\" class=\"data row3 col1\" >mulher</td>\n",
       "                        <td id=\"T_48809f9c_d9be_11ea_b046_109836fd617drow3_col2\" class=\"data row3 col2\" >1</td>\n",
       "                        <td id=\"T_48809f9c_d9be_11ea_b046_109836fd617drow3_col3\" class=\"data row3 col3\" >1</td>\n",
       "            </tr>\n",
       "            <tr>\n",
       "                        <th id=\"T_48809f9c_d9be_11ea_b046_109836fd617dlevel0_row4\" class=\"row_heading level0 row4\" >4</th>\n",
       "                        <td id=\"T_48809f9c_d9be_11ea_b046_109836fd617drow4_col0\" class=\"data row4 col0\" >35.000000</td>\n",
       "                        <td id=\"T_48809f9c_d9be_11ea_b046_109836fd617drow4_col1\" class=\"data row4 col1\" >homem</td>\n",
       "                        <td id=\"T_48809f9c_d9be_11ea_b046_109836fd617drow4_col2\" class=\"data row4 col2\" >3</td>\n",
       "                        <td id=\"T_48809f9c_d9be_11ea_b046_109836fd617drow4_col3\" class=\"data row4 col3\" >0</td>\n",
       "            </tr>\n",
       "    </tbody></table>"
      ],
      "text/plain": [
       "<pandas.io.formats.style.Styler at 0x1c547d1c608>"
      ]
     },
     "execution_count": 55,
     "metadata": {},
     "output_type": "execute_result"
    }
   ],
   "source": [
    "df[['Idade','Sexo','Classe','Sobreviveu']]\\\n",
    ".sort_index(ascending=True).head()\\\n",
    ".style.background_gradient(cmap='OrRd')"
   ]
  },
  {
   "cell_type": "markdown",
   "metadata": {},
   "source": [
    "### Lidando com dados faltando $\\rightarrow$ NaN - Not a Number"
   ]
  },
  {
   "cell_type": "code",
   "execution_count": 56,
   "metadata": {},
   "outputs": [
    {
     "data": {
      "text/plain": [
       "IdPassageiro       0\n",
       "Sobreviveu         0\n",
       "Classe             0\n",
       "Nome               0\n",
       "Sexo               0\n",
       "Idade            177\n",
       "IrmaosConjuge      0\n",
       "PaisFilhos         0\n",
       "Bilhete            0\n",
       "Tarifa             0\n",
       "Cabine           687\n",
       "Embarque           2\n",
       "dtype: int64"
      ]
     },
     "execution_count": 56,
     "metadata": {},
     "output_type": "execute_result"
    }
   ],
   "source": [
    "df.isnull().sum()"
   ]
  },
  {
   "cell_type": "code",
   "execution_count": 57,
   "metadata": {},
   "outputs": [
    {
     "data": {
      "text/html": [
       "<div>\n",
       "<style scoped>\n",
       "    .dataframe tbody tr th:only-of-type {\n",
       "        vertical-align: middle;\n",
       "    }\n",
       "\n",
       "    .dataframe tbody tr th {\n",
       "        vertical-align: top;\n",
       "    }\n",
       "\n",
       "    .dataframe thead th {\n",
       "        text-align: right;\n",
       "    }\n",
       "</style>\n",
       "<table border=\"1\" class=\"dataframe\">\n",
       "  <thead>\n",
       "    <tr style=\"text-align: right;\">\n",
       "      <th></th>\n",
       "      <th>IdPassageiro</th>\n",
       "      <th>Sobreviveu</th>\n",
       "      <th>Classe</th>\n",
       "      <th>Nome</th>\n",
       "      <th>Sexo</th>\n",
       "      <th>Idade</th>\n",
       "      <th>IrmaosConjuge</th>\n",
       "      <th>PaisFilhos</th>\n",
       "      <th>Bilhete</th>\n",
       "      <th>Tarifa</th>\n",
       "      <th>Cabine</th>\n",
       "      <th>Embarque</th>\n",
       "    </tr>\n",
       "  </thead>\n",
       "  <tbody>\n",
       "    <tr>\n",
       "      <th>61</th>\n",
       "      <td>62</td>\n",
       "      <td>1</td>\n",
       "      <td>1</td>\n",
       "      <td>Icard, Miss. Amelie</td>\n",
       "      <td>mulher</td>\n",
       "      <td>38.0</td>\n",
       "      <td>0</td>\n",
       "      <td>0</td>\n",
       "      <td>113572</td>\n",
       "      <td>80.0</td>\n",
       "      <td>B28</td>\n",
       "      <td>NaN</td>\n",
       "    </tr>\n",
       "    <tr>\n",
       "      <th>829</th>\n",
       "      <td>830</td>\n",
       "      <td>1</td>\n",
       "      <td>1</td>\n",
       "      <td>Stone, Mrs. George Nelson (Martha Evelyn)</td>\n",
       "      <td>mulher</td>\n",
       "      <td>62.0</td>\n",
       "      <td>0</td>\n",
       "      <td>0</td>\n",
       "      <td>113572</td>\n",
       "      <td>80.0</td>\n",
       "      <td>B28</td>\n",
       "      <td>NaN</td>\n",
       "    </tr>\n",
       "  </tbody>\n",
       "</table>\n",
       "</div>"
      ],
      "text/plain": [
       "     IdPassageiro  Sobreviveu  Classe  \\\n",
       "61             62           1       1   \n",
       "829           830           1       1   \n",
       "\n",
       "                                          Nome    Sexo  Idade  IrmaosConjuge  \\\n",
       "61                         Icard, Miss. Amelie  mulher   38.0              0   \n",
       "829  Stone, Mrs. George Nelson (Martha Evelyn)  mulher   62.0              0   \n",
       "\n",
       "     PaisFilhos Bilhete  Tarifa Cabine Embarque  \n",
       "61            0  113572    80.0    B28      NaN  \n",
       "829           0  113572    80.0    B28      NaN  "
      ]
     },
     "execution_count": 57,
     "metadata": {},
     "output_type": "execute_result"
    }
   ],
   "source": [
    "df.loc[df['Embarque'].isnull()]"
   ]
  },
  {
   "cell_type": "code",
   "execution_count": 58,
   "metadata": {},
   "outputs": [
    {
     "data": {
      "text/plain": [
       "array(['S', 'C', 'Q', nan], dtype=object)"
      ]
     },
     "execution_count": 58,
     "metadata": {},
     "output_type": "execute_result"
    }
   ],
   "source": [
    "df['Embarque'].unique()"
   ]
  },
  {
   "cell_type": "code",
   "execution_count": 59,
   "metadata": {},
   "outputs": [
    {
     "data": {
      "text/plain": [
       "0    S\n",
       "dtype: object"
      ]
     },
     "execution_count": 59,
     "metadata": {},
     "output_type": "execute_result"
    }
   ],
   "source": [
    "df['Embarque'].mode()"
   ]
  },
  {
   "cell_type": "code",
   "execution_count": 60,
   "metadata": {},
   "outputs": [
    {
     "data": {
      "text/html": [
       "<div>\n",
       "<style scoped>\n",
       "    .dataframe tbody tr th:only-of-type {\n",
       "        vertical-align: middle;\n",
       "    }\n",
       "\n",
       "    .dataframe tbody tr th {\n",
       "        vertical-align: top;\n",
       "    }\n",
       "\n",
       "    .dataframe thead th {\n",
       "        text-align: right;\n",
       "    }\n",
       "</style>\n",
       "<table border=\"1\" class=\"dataframe\">\n",
       "  <thead>\n",
       "    <tr style=\"text-align: right;\">\n",
       "      <th></th>\n",
       "      <th>Nome</th>\n",
       "      <th>Sexo</th>\n",
       "      <th>Bilhete</th>\n",
       "      <th>Cabine</th>\n",
       "      <th>Embarque</th>\n",
       "    </tr>\n",
       "  </thead>\n",
       "  <tbody>\n",
       "    <tr>\n",
       "      <th>count</th>\n",
       "      <td>891</td>\n",
       "      <td>891</td>\n",
       "      <td>891</td>\n",
       "      <td>204</td>\n",
       "      <td>889</td>\n",
       "    </tr>\n",
       "    <tr>\n",
       "      <th>unique</th>\n",
       "      <td>891</td>\n",
       "      <td>2</td>\n",
       "      <td>681</td>\n",
       "      <td>147</td>\n",
       "      <td>3</td>\n",
       "    </tr>\n",
       "    <tr>\n",
       "      <th>top</th>\n",
       "      <td>Backstrom, Mrs. Karl Alfred (Maria Mathilda Gu...</td>\n",
       "      <td>homem</td>\n",
       "      <td>CA. 2343</td>\n",
       "      <td>C23 C25 C27</td>\n",
       "      <td>S</td>\n",
       "    </tr>\n",
       "    <tr>\n",
       "      <th>freq</th>\n",
       "      <td>1</td>\n",
       "      <td>577</td>\n",
       "      <td>7</td>\n",
       "      <td>4</td>\n",
       "      <td>644</td>\n",
       "    </tr>\n",
       "  </tbody>\n",
       "</table>\n",
       "</div>"
      ],
      "text/plain": [
       "                                                     Nome   Sexo   Bilhete  \\\n",
       "count                                                 891    891       891   \n",
       "unique                                                891      2       681   \n",
       "top     Backstrom, Mrs. Karl Alfred (Maria Mathilda Gu...  homem  CA. 2343   \n",
       "freq                                                    1    577         7   \n",
       "\n",
       "             Cabine Embarque  \n",
       "count           204      889  \n",
       "unique          147        3  \n",
       "top     C23 C25 C27        S  \n",
       "freq              4      644  "
      ]
     },
     "execution_count": 60,
     "metadata": {},
     "output_type": "execute_result"
    }
   ],
   "source": [
    "df.describe(include='O')"
   ]
  },
  {
   "cell_type": "code",
   "execution_count": 61,
   "metadata": {},
   "outputs": [
    {
     "data": {
      "text/plain": [
       "0"
      ]
     },
     "execution_count": 61,
     "metadata": {},
     "output_type": "execute_result"
    }
   ],
   "source": [
    "df['Embarque'].fillna('S', inplace=False).isnull().sum()"
   ]
  },
  {
   "cell_type": "code",
   "execution_count": 62,
   "metadata": {},
   "outputs": [
    {
     "data": {
      "text/plain": [
       "IdPassageiro       0\n",
       "Sobreviveu         0\n",
       "Classe             0\n",
       "Nome               0\n",
       "Sexo               0\n",
       "Idade            177\n",
       "IrmaosConjuge      0\n",
       "PaisFilhos         0\n",
       "Bilhete            0\n",
       "Tarifa             0\n",
       "Cabine           687\n",
       "Embarque           2\n",
       "dtype: int64"
      ]
     },
     "execution_count": 62,
     "metadata": {},
     "output_type": "execute_result"
    }
   ],
   "source": [
    "df.isnull().sum()"
   ]
  },
  {
   "cell_type": "code",
   "execution_count": 63,
   "metadata": {},
   "outputs": [
    {
     "data": {
      "text/plain": [
       "array([ 61, 829], dtype=int64)"
      ]
     },
     "execution_count": 63,
     "metadata": {},
     "output_type": "execute_result"
    }
   ],
   "source": [
    "df.loc[df['Embarque'].isnull()].index.values"
   ]
  },
  {
   "cell_type": "code",
   "execution_count": 64,
   "metadata": {},
   "outputs": [
    {
     "data": {
      "text/plain": [
       "nan"
      ]
     },
     "execution_count": 64,
     "metadata": {},
     "output_type": "execute_result"
    }
   ],
   "source": [
    "df['Embarque'].at[61]"
   ]
  },
  {
   "cell_type": "code",
   "execution_count": 65,
   "metadata": {},
   "outputs": [
    {
     "data": {
      "text/plain": [
       "nan"
      ]
     },
     "execution_count": 65,
     "metadata": {},
     "output_type": "execute_result"
    }
   ],
   "source": [
    "df['Embarque'].at[829]"
   ]
  },
  {
   "cell_type": "code",
   "execution_count": 66,
   "metadata": {},
   "outputs": [
    {
     "data": {
      "text/plain": [
       "'S'"
      ]
     },
     "execution_count": 66,
     "metadata": {},
     "output_type": "execute_result"
    }
   ],
   "source": [
    "df['Embarque'].at[61] = 'S'\n",
    "df['Embarque'].at[61]"
   ]
  },
  {
   "cell_type": "code",
   "execution_count": 67,
   "metadata": {},
   "outputs": [
    {
     "data": {
      "text/plain": [
       "'Q'"
      ]
     },
     "execution_count": 67,
     "metadata": {},
     "output_type": "execute_result"
    }
   ],
   "source": [
    "df['Embarque'].at[829] = 'Q'\n",
    "df['Embarque'].at[829]"
   ]
  },
  {
   "cell_type": "code",
   "execution_count": 68,
   "metadata": {},
   "outputs": [
    {
     "data": {
      "text/plain": [
       "IdPassageiro       0\n",
       "Sobreviveu         0\n",
       "Classe             0\n",
       "Nome               0\n",
       "Sexo               0\n",
       "Idade            177\n",
       "IrmaosConjuge      0\n",
       "PaisFilhos         0\n",
       "Bilhete            0\n",
       "Tarifa             0\n",
       "Cabine           687\n",
       "Embarque           0\n",
       "dtype: int64"
      ]
     },
     "execution_count": 68,
     "metadata": {},
     "output_type": "execute_result"
    }
   ],
   "source": [
    "df.isnull().sum()"
   ]
  },
  {
   "cell_type": "code",
   "execution_count": 69,
   "metadata": {
    "scrolled": true
   },
   "outputs": [
    {
     "data": {
      "text/plain": [
       "IdPassageiro       0\n",
       "Sobreviveu         0\n",
       "Classe             0\n",
       "Nome               0\n",
       "Sexo               0\n",
       "Idade            177\n",
       "IrmaosConjuge      0\n",
       "PaisFilhos         0\n",
       "Bilhete            0\n",
       "Tarifa             0\n",
       "Embarque           0\n",
       "dtype: int64"
      ]
     },
     "execution_count": 69,
     "metadata": {},
     "output_type": "execute_result"
    }
   ],
   "source": [
    "df.drop('Cabine', axis=1, inplace=True)\n",
    "df.isnull().sum()"
   ]
  },
  {
   "cell_type": "markdown",
   "metadata": {},
   "source": [
    "### Apply e Lambda"
   ]
  },
  {
   "cell_type": "code",
   "execution_count": 70,
   "metadata": {},
   "outputs": [
    {
     "data": {
      "text/plain": [
       "504         110152\n",
       "257         110152\n",
       "759         110152\n",
       "262         110413\n",
       "558         110413\n",
       "          ...     \n",
       "235     W./C. 6609\n",
       "92     W.E.P. 5734\n",
       "219      W/C 14208\n",
       "540      WE/P 5735\n",
       "745      WE/P 5735\n",
       "Name: Bilhete, Length: 891, dtype: object"
      ]
     },
     "execution_count": 70,
     "metadata": {},
     "output_type": "execute_result"
    }
   ],
   "source": [
    "df['Bilhete'].sort_values()"
   ]
  },
  {
   "cell_type": "code",
   "execution_count": 71,
   "metadata": {
    "scrolled": true
   },
   "outputs": [
    {
     "data": {
      "text/plain": [
       "504         11015\n",
       "257         11015\n",
       "759         11015\n",
       "262         11041\n",
       "585         11041\n",
       "          ...    \n",
       "436     W./C. 660\n",
       "92     W.E.P. 573\n",
       "219      W/C 1420\n",
       "745      WE/P 573\n",
       "540      WE/P 573\n",
       "Name: Bilhete, Length: 891, dtype: object"
      ]
     },
     "execution_count": 71,
     "metadata": {},
     "output_type": "execute_result"
    }
   ],
   "source": [
    "df['Bilhete'] = df['Bilhete'].apply(lambda x: x[:-1])\n",
    "df['Bilhete'].sort_values()"
   ]
  },
  {
   "cell_type": "markdown",
   "metadata": {},
   "source": [
    "### Variáveis Dummy | HotEncoder"
   ]
  },
  {
   "cell_type": "code",
   "execution_count": 76,
   "metadata": {
    "scrolled": true
   },
   "outputs": [
    {
     "data": {
      "text/html": [
       "<div>\n",
       "<style scoped>\n",
       "    .dataframe tbody tr th:only-of-type {\n",
       "        vertical-align: middle;\n",
       "    }\n",
       "\n",
       "    .dataframe tbody tr th {\n",
       "        vertical-align: top;\n",
       "    }\n",
       "\n",
       "    .dataframe thead th {\n",
       "        text-align: right;\n",
       "    }\n",
       "</style>\n",
       "<table border=\"1\" class=\"dataframe\">\n",
       "  <thead>\n",
       "    <tr style=\"text-align: right;\">\n",
       "      <th></th>\n",
       "      <th>IdPassageiro</th>\n",
       "      <th>Sobreviveu</th>\n",
       "      <th>Classe</th>\n",
       "      <th>Nome</th>\n",
       "      <th>Idade</th>\n",
       "      <th>IrmaosConjuge</th>\n",
       "      <th>PaisFilhos</th>\n",
       "      <th>Bilhete</th>\n",
       "      <th>Tarifa</th>\n",
       "      <th>Embarque</th>\n",
       "      <th>Sexo_mulher</th>\n",
       "    </tr>\n",
       "  </thead>\n",
       "  <tbody>\n",
       "    <tr>\n",
       "      <th>0</th>\n",
       "      <td>1</td>\n",
       "      <td>0</td>\n",
       "      <td>3</td>\n",
       "      <td>Braund, Mr. Owen Harris</td>\n",
       "      <td>22.0</td>\n",
       "      <td>1</td>\n",
       "      <td>0</td>\n",
       "      <td>A/5 2117</td>\n",
       "      <td>7.2500</td>\n",
       "      <td>S</td>\n",
       "      <td>0</td>\n",
       "    </tr>\n",
       "    <tr>\n",
       "      <th>1</th>\n",
       "      <td>2</td>\n",
       "      <td>1</td>\n",
       "      <td>1</td>\n",
       "      <td>Cumings, Mrs. John Bradley (Florence Briggs Th...</td>\n",
       "      <td>38.0</td>\n",
       "      <td>1</td>\n",
       "      <td>0</td>\n",
       "      <td>PC 1759</td>\n",
       "      <td>71.2833</td>\n",
       "      <td>C</td>\n",
       "      <td>1</td>\n",
       "    </tr>\n",
       "    <tr>\n",
       "      <th>2</th>\n",
       "      <td>3</td>\n",
       "      <td>1</td>\n",
       "      <td>3</td>\n",
       "      <td>Heikkinen, Miss. Laina</td>\n",
       "      <td>26.0</td>\n",
       "      <td>0</td>\n",
       "      <td>0</td>\n",
       "      <td>STON/O2. 310128</td>\n",
       "      <td>7.9250</td>\n",
       "      <td>S</td>\n",
       "      <td>1</td>\n",
       "    </tr>\n",
       "    <tr>\n",
       "      <th>3</th>\n",
       "      <td>4</td>\n",
       "      <td>1</td>\n",
       "      <td>1</td>\n",
       "      <td>Futrelle, Mrs. Jacques Heath (Lily May Peel)</td>\n",
       "      <td>35.0</td>\n",
       "      <td>1</td>\n",
       "      <td>0</td>\n",
       "      <td>11380</td>\n",
       "      <td>53.1000</td>\n",
       "      <td>S</td>\n",
       "      <td>1</td>\n",
       "    </tr>\n",
       "    <tr>\n",
       "      <th>4</th>\n",
       "      <td>5</td>\n",
       "      <td>0</td>\n",
       "      <td>3</td>\n",
       "      <td>Allen, Mr. William Henry</td>\n",
       "      <td>35.0</td>\n",
       "      <td>0</td>\n",
       "      <td>0</td>\n",
       "      <td>37345</td>\n",
       "      <td>8.0500</td>\n",
       "      <td>S</td>\n",
       "      <td>0</td>\n",
       "    </tr>\n",
       "  </tbody>\n",
       "</table>\n",
       "</div>"
      ],
      "text/plain": [
       "   IdPassageiro  Sobreviveu  Classe  \\\n",
       "0             1           0       3   \n",
       "1             2           1       1   \n",
       "2             3           1       3   \n",
       "3             4           1       1   \n",
       "4             5           0       3   \n",
       "\n",
       "                                                Nome  Idade  IrmaosConjuge  \\\n",
       "0                            Braund, Mr. Owen Harris   22.0              1   \n",
       "1  Cumings, Mrs. John Bradley (Florence Briggs Th...   38.0              1   \n",
       "2                             Heikkinen, Miss. Laina   26.0              0   \n",
       "3       Futrelle, Mrs. Jacques Heath (Lily May Peel)   35.0              1   \n",
       "4                           Allen, Mr. William Henry   35.0              0   \n",
       "\n",
       "   PaisFilhos          Bilhete   Tarifa Embarque  Sexo_mulher  \n",
       "0           0         A/5 2117   7.2500        S            0  \n",
       "1           0          PC 1759  71.2833        C            1  \n",
       "2           0  STON/O2. 310128   7.9250        S            1  \n",
       "3           0            11380  53.1000        S            1  \n",
       "4           0            37345   8.0500        S            0  "
      ]
     },
     "execution_count": 76,
     "metadata": {},
     "output_type": "execute_result"
    }
   ],
   "source": [
    "df = pd.get_dummies(df, columns=['Sexo'], drop_first=True)\n",
    "df.head()"
   ]
  },
  {
   "cell_type": "code",
   "execution_count": 79,
   "metadata": {
    "scrolled": true
   },
   "outputs": [
    {
     "data": {
      "text/html": [
       "<div>\n",
       "<style scoped>\n",
       "    .dataframe tbody tr th:only-of-type {\n",
       "        vertical-align: middle;\n",
       "    }\n",
       "\n",
       "    .dataframe tbody tr th {\n",
       "        vertical-align: top;\n",
       "    }\n",
       "\n",
       "    .dataframe thead th {\n",
       "        text-align: right;\n",
       "    }\n",
       "</style>\n",
       "<table border=\"1\" class=\"dataframe\">\n",
       "  <thead>\n",
       "    <tr style=\"text-align: right;\">\n",
       "      <th></th>\n",
       "      <th>Q</th>\n",
       "      <th>S</th>\n",
       "    </tr>\n",
       "  </thead>\n",
       "  <tbody>\n",
       "    <tr>\n",
       "      <th>0</th>\n",
       "      <td>0</td>\n",
       "      <td>1</td>\n",
       "    </tr>\n",
       "    <tr>\n",
       "      <th>1</th>\n",
       "      <td>0</td>\n",
       "      <td>0</td>\n",
       "    </tr>\n",
       "    <tr>\n",
       "      <th>2</th>\n",
       "      <td>0</td>\n",
       "      <td>1</td>\n",
       "    </tr>\n",
       "    <tr>\n",
       "      <th>3</th>\n",
       "      <td>0</td>\n",
       "      <td>1</td>\n",
       "    </tr>\n",
       "    <tr>\n",
       "      <th>4</th>\n",
       "      <td>0</td>\n",
       "      <td>1</td>\n",
       "    </tr>\n",
       "  </tbody>\n",
       "</table>\n",
       "</div>"
      ],
      "text/plain": [
       "   Q  S\n",
       "0  0  1\n",
       "1  0  0\n",
       "2  0  1\n",
       "3  0  1\n",
       "4  0  1"
      ]
     },
     "execution_count": 79,
     "metadata": {},
     "output_type": "execute_result"
    }
   ],
   "source": [
    "df_embarque = pd.get_dummies(df['Embarque'], drop_first=True)\n",
    "df_embarque.head()"
   ]
  },
  {
   "cell_type": "code",
   "execution_count": 80,
   "metadata": {
    "scrolled": true
   },
   "outputs": [
    {
     "data": {
      "text/html": [
       "<div>\n",
       "<style scoped>\n",
       "    .dataframe tbody tr th:only-of-type {\n",
       "        vertical-align: middle;\n",
       "    }\n",
       "\n",
       "    .dataframe tbody tr th {\n",
       "        vertical-align: top;\n",
       "    }\n",
       "\n",
       "    .dataframe thead th {\n",
       "        text-align: right;\n",
       "    }\n",
       "</style>\n",
       "<table border=\"1\" class=\"dataframe\">\n",
       "  <thead>\n",
       "    <tr style=\"text-align: right;\">\n",
       "      <th></th>\n",
       "      <th>IdPassageiro</th>\n",
       "      <th>Sobreviveu</th>\n",
       "      <th>Classe</th>\n",
       "      <th>Nome</th>\n",
       "      <th>Idade</th>\n",
       "      <th>IrmaosConjuge</th>\n",
       "      <th>PaisFilhos</th>\n",
       "      <th>Bilhete</th>\n",
       "      <th>Tarifa</th>\n",
       "      <th>Embarque</th>\n",
       "      <th>Sexo_mulher</th>\n",
       "    </tr>\n",
       "  </thead>\n",
       "  <tbody>\n",
       "    <tr>\n",
       "      <th>0</th>\n",
       "      <td>1</td>\n",
       "      <td>0</td>\n",
       "      <td>3</td>\n",
       "      <td>Braund, Mr. Owen Harris</td>\n",
       "      <td>22.0</td>\n",
       "      <td>1</td>\n",
       "      <td>0</td>\n",
       "      <td>A/5 2117</td>\n",
       "      <td>7.2500</td>\n",
       "      <td>S</td>\n",
       "      <td>0</td>\n",
       "    </tr>\n",
       "    <tr>\n",
       "      <th>1</th>\n",
       "      <td>2</td>\n",
       "      <td>1</td>\n",
       "      <td>1</td>\n",
       "      <td>Cumings, Mrs. John Bradley (Florence Briggs Th...</td>\n",
       "      <td>38.0</td>\n",
       "      <td>1</td>\n",
       "      <td>0</td>\n",
       "      <td>PC 1759</td>\n",
       "      <td>71.2833</td>\n",
       "      <td>C</td>\n",
       "      <td>1</td>\n",
       "    </tr>\n",
       "    <tr>\n",
       "      <th>2</th>\n",
       "      <td>3</td>\n",
       "      <td>1</td>\n",
       "      <td>3</td>\n",
       "      <td>Heikkinen, Miss. Laina</td>\n",
       "      <td>26.0</td>\n",
       "      <td>0</td>\n",
       "      <td>0</td>\n",
       "      <td>STON/O2. 310128</td>\n",
       "      <td>7.9250</td>\n",
       "      <td>S</td>\n",
       "      <td>1</td>\n",
       "    </tr>\n",
       "    <tr>\n",
       "      <th>3</th>\n",
       "      <td>4</td>\n",
       "      <td>1</td>\n",
       "      <td>1</td>\n",
       "      <td>Futrelle, Mrs. Jacques Heath (Lily May Peel)</td>\n",
       "      <td>35.0</td>\n",
       "      <td>1</td>\n",
       "      <td>0</td>\n",
       "      <td>11380</td>\n",
       "      <td>53.1000</td>\n",
       "      <td>S</td>\n",
       "      <td>1</td>\n",
       "    </tr>\n",
       "    <tr>\n",
       "      <th>4</th>\n",
       "      <td>5</td>\n",
       "      <td>0</td>\n",
       "      <td>3</td>\n",
       "      <td>Allen, Mr. William Henry</td>\n",
       "      <td>35.0</td>\n",
       "      <td>0</td>\n",
       "      <td>0</td>\n",
       "      <td>37345</td>\n",
       "      <td>8.0500</td>\n",
       "      <td>S</td>\n",
       "      <td>0</td>\n",
       "    </tr>\n",
       "  </tbody>\n",
       "</table>\n",
       "</div>"
      ],
      "text/plain": [
       "   IdPassageiro  Sobreviveu  Classe  \\\n",
       "0             1           0       3   \n",
       "1             2           1       1   \n",
       "2             3           1       3   \n",
       "3             4           1       1   \n",
       "4             5           0       3   \n",
       "\n",
       "                                                Nome  Idade  IrmaosConjuge  \\\n",
       "0                            Braund, Mr. Owen Harris   22.0              1   \n",
       "1  Cumings, Mrs. John Bradley (Florence Briggs Th...   38.0              1   \n",
       "2                             Heikkinen, Miss. Laina   26.0              0   \n",
       "3       Futrelle, Mrs. Jacques Heath (Lily May Peel)   35.0              1   \n",
       "4                           Allen, Mr. William Henry   35.0              0   \n",
       "\n",
       "   PaisFilhos          Bilhete   Tarifa Embarque  Sexo_mulher  \n",
       "0           0         A/5 2117   7.2500        S            0  \n",
       "1           0          PC 1759  71.2833        C            1  \n",
       "2           0  STON/O2. 310128   7.9250        S            1  \n",
       "3           0            11380  53.1000        S            1  \n",
       "4           0            37345   8.0500        S            0  "
      ]
     },
     "execution_count": 80,
     "metadata": {},
     "output_type": "execute_result"
    }
   ],
   "source": [
    "df.head()"
   ]
  },
  {
   "cell_type": "markdown",
   "metadata": {},
   "source": [
    "### Concatenando DataFrames"
   ]
  },
  {
   "cell_type": "code",
   "execution_count": 81,
   "metadata": {},
   "outputs": [
    {
     "data": {
      "text/plain": [
       "((891, 11), (891, 2))"
      ]
     },
     "execution_count": 81,
     "metadata": {},
     "output_type": "execute_result"
    }
   ],
   "source": [
    "df.shape, df_embarque.shape"
   ]
  },
  {
   "cell_type": "code",
   "execution_count": 82,
   "metadata": {
    "scrolled": true
   },
   "outputs": [
    {
     "data": {
      "text/html": [
       "<div>\n",
       "<style scoped>\n",
       "    .dataframe tbody tr th:only-of-type {\n",
       "        vertical-align: middle;\n",
       "    }\n",
       "\n",
       "    .dataframe tbody tr th {\n",
       "        vertical-align: top;\n",
       "    }\n",
       "\n",
       "    .dataframe thead th {\n",
       "        text-align: right;\n",
       "    }\n",
       "</style>\n",
       "<table border=\"1\" class=\"dataframe\">\n",
       "  <thead>\n",
       "    <tr style=\"text-align: right;\">\n",
       "      <th></th>\n",
       "      <th>IdPassageiro</th>\n",
       "      <th>Sobreviveu</th>\n",
       "      <th>Classe</th>\n",
       "      <th>Nome</th>\n",
       "      <th>Idade</th>\n",
       "      <th>IrmaosConjuge</th>\n",
       "      <th>PaisFilhos</th>\n",
       "      <th>Bilhete</th>\n",
       "      <th>Tarifa</th>\n",
       "      <th>Embarque</th>\n",
       "      <th>Sexo_mulher</th>\n",
       "      <th>Q</th>\n",
       "      <th>S</th>\n",
       "    </tr>\n",
       "  </thead>\n",
       "  <tbody>\n",
       "    <tr>\n",
       "      <th>0</th>\n",
       "      <td>1</td>\n",
       "      <td>0</td>\n",
       "      <td>3</td>\n",
       "      <td>Braund, Mr. Owen Harris</td>\n",
       "      <td>22.0</td>\n",
       "      <td>1</td>\n",
       "      <td>0</td>\n",
       "      <td>A/5 2117</td>\n",
       "      <td>7.2500</td>\n",
       "      <td>S</td>\n",
       "      <td>0</td>\n",
       "      <td>0</td>\n",
       "      <td>1</td>\n",
       "    </tr>\n",
       "    <tr>\n",
       "      <th>1</th>\n",
       "      <td>2</td>\n",
       "      <td>1</td>\n",
       "      <td>1</td>\n",
       "      <td>Cumings, Mrs. John Bradley (Florence Briggs Th...</td>\n",
       "      <td>38.0</td>\n",
       "      <td>1</td>\n",
       "      <td>0</td>\n",
       "      <td>PC 1759</td>\n",
       "      <td>71.2833</td>\n",
       "      <td>C</td>\n",
       "      <td>1</td>\n",
       "      <td>0</td>\n",
       "      <td>0</td>\n",
       "    </tr>\n",
       "    <tr>\n",
       "      <th>2</th>\n",
       "      <td>3</td>\n",
       "      <td>1</td>\n",
       "      <td>3</td>\n",
       "      <td>Heikkinen, Miss. Laina</td>\n",
       "      <td>26.0</td>\n",
       "      <td>0</td>\n",
       "      <td>0</td>\n",
       "      <td>STON/O2. 310128</td>\n",
       "      <td>7.9250</td>\n",
       "      <td>S</td>\n",
       "      <td>1</td>\n",
       "      <td>0</td>\n",
       "      <td>1</td>\n",
       "    </tr>\n",
       "    <tr>\n",
       "      <th>3</th>\n",
       "      <td>4</td>\n",
       "      <td>1</td>\n",
       "      <td>1</td>\n",
       "      <td>Futrelle, Mrs. Jacques Heath (Lily May Peel)</td>\n",
       "      <td>35.0</td>\n",
       "      <td>1</td>\n",
       "      <td>0</td>\n",
       "      <td>11380</td>\n",
       "      <td>53.1000</td>\n",
       "      <td>S</td>\n",
       "      <td>1</td>\n",
       "      <td>0</td>\n",
       "      <td>1</td>\n",
       "    </tr>\n",
       "    <tr>\n",
       "      <th>4</th>\n",
       "      <td>5</td>\n",
       "      <td>0</td>\n",
       "      <td>3</td>\n",
       "      <td>Allen, Mr. William Henry</td>\n",
       "      <td>35.0</td>\n",
       "      <td>0</td>\n",
       "      <td>0</td>\n",
       "      <td>37345</td>\n",
       "      <td>8.0500</td>\n",
       "      <td>S</td>\n",
       "      <td>0</td>\n",
       "      <td>0</td>\n",
       "      <td>1</td>\n",
       "    </tr>\n",
       "  </tbody>\n",
       "</table>\n",
       "</div>"
      ],
      "text/plain": [
       "   IdPassageiro  Sobreviveu  Classe  \\\n",
       "0             1           0       3   \n",
       "1             2           1       1   \n",
       "2             3           1       3   \n",
       "3             4           1       1   \n",
       "4             5           0       3   \n",
       "\n",
       "                                                Nome  Idade  IrmaosConjuge  \\\n",
       "0                            Braund, Mr. Owen Harris   22.0              1   \n",
       "1  Cumings, Mrs. John Bradley (Florence Briggs Th...   38.0              1   \n",
       "2                             Heikkinen, Miss. Laina   26.0              0   \n",
       "3       Futrelle, Mrs. Jacques Heath (Lily May Peel)   35.0              1   \n",
       "4                           Allen, Mr. William Henry   35.0              0   \n",
       "\n",
       "   PaisFilhos          Bilhete   Tarifa Embarque  Sexo_mulher  Q  S  \n",
       "0           0         A/5 2117   7.2500        S            0  0  1  \n",
       "1           0          PC 1759  71.2833        C            1  0  0  \n",
       "2           0  STON/O2. 310128   7.9250        S            1  0  1  \n",
       "3           0            11380  53.1000        S            1  0  1  \n",
       "4           0            37345   8.0500        S            0  0  1  "
      ]
     },
     "execution_count": 82,
     "metadata": {},
     "output_type": "execute_result"
    }
   ],
   "source": [
    "df = pd.concat([df, df_embarque], axis=1)\n",
    "df.head()"
   ]
  },
  {
   "cell_type": "code",
   "execution_count": 84,
   "metadata": {},
   "outputs": [
    {
     "data": {
      "text/plain": [
       "(891, 13)"
      ]
     },
     "execution_count": 84,
     "metadata": {},
     "output_type": "execute_result"
    }
   ],
   "source": [
    "df.shape"
   ]
  },
  {
   "cell_type": "code",
   "execution_count": 85,
   "metadata": {
    "scrolled": true
   },
   "outputs": [
    {
     "data": {
      "text/html": [
       "<div>\n",
       "<style scoped>\n",
       "    .dataframe tbody tr th:only-of-type {\n",
       "        vertical-align: middle;\n",
       "    }\n",
       "\n",
       "    .dataframe tbody tr th {\n",
       "        vertical-align: top;\n",
       "    }\n",
       "\n",
       "    .dataframe thead th {\n",
       "        text-align: right;\n",
       "    }\n",
       "</style>\n",
       "<table border=\"1\" class=\"dataframe\">\n",
       "  <thead>\n",
       "    <tr style=\"text-align: right;\">\n",
       "      <th></th>\n",
       "      <th>IdPassageiro</th>\n",
       "      <th>Sobreviveu</th>\n",
       "      <th>Classe</th>\n",
       "      <th>Nome</th>\n",
       "      <th>Idade</th>\n",
       "      <th>IrmaosConjuge</th>\n",
       "      <th>PaisFilhos</th>\n",
       "      <th>Bilhete</th>\n",
       "      <th>Tarifa</th>\n",
       "      <th>Sexo_mulher</th>\n",
       "      <th>Q</th>\n",
       "      <th>S</th>\n",
       "    </tr>\n",
       "  </thead>\n",
       "  <tbody>\n",
       "    <tr>\n",
       "      <th>0</th>\n",
       "      <td>1</td>\n",
       "      <td>0</td>\n",
       "      <td>3</td>\n",
       "      <td>Braund, Mr. Owen Harris</td>\n",
       "      <td>22.0</td>\n",
       "      <td>1</td>\n",
       "      <td>0</td>\n",
       "      <td>A/5 2117</td>\n",
       "      <td>7.2500</td>\n",
       "      <td>0</td>\n",
       "      <td>0</td>\n",
       "      <td>1</td>\n",
       "    </tr>\n",
       "    <tr>\n",
       "      <th>1</th>\n",
       "      <td>2</td>\n",
       "      <td>1</td>\n",
       "      <td>1</td>\n",
       "      <td>Cumings, Mrs. John Bradley (Florence Briggs Th...</td>\n",
       "      <td>38.0</td>\n",
       "      <td>1</td>\n",
       "      <td>0</td>\n",
       "      <td>PC 1759</td>\n",
       "      <td>71.2833</td>\n",
       "      <td>1</td>\n",
       "      <td>0</td>\n",
       "      <td>0</td>\n",
       "    </tr>\n",
       "    <tr>\n",
       "      <th>2</th>\n",
       "      <td>3</td>\n",
       "      <td>1</td>\n",
       "      <td>3</td>\n",
       "      <td>Heikkinen, Miss. Laina</td>\n",
       "      <td>26.0</td>\n",
       "      <td>0</td>\n",
       "      <td>0</td>\n",
       "      <td>STON/O2. 310128</td>\n",
       "      <td>7.9250</td>\n",
       "      <td>1</td>\n",
       "      <td>0</td>\n",
       "      <td>1</td>\n",
       "    </tr>\n",
       "    <tr>\n",
       "      <th>3</th>\n",
       "      <td>4</td>\n",
       "      <td>1</td>\n",
       "      <td>1</td>\n",
       "      <td>Futrelle, Mrs. Jacques Heath (Lily May Peel)</td>\n",
       "      <td>35.0</td>\n",
       "      <td>1</td>\n",
       "      <td>0</td>\n",
       "      <td>11380</td>\n",
       "      <td>53.1000</td>\n",
       "      <td>1</td>\n",
       "      <td>0</td>\n",
       "      <td>1</td>\n",
       "    </tr>\n",
       "    <tr>\n",
       "      <th>4</th>\n",
       "      <td>5</td>\n",
       "      <td>0</td>\n",
       "      <td>3</td>\n",
       "      <td>Allen, Mr. William Henry</td>\n",
       "      <td>35.0</td>\n",
       "      <td>0</td>\n",
       "      <td>0</td>\n",
       "      <td>37345</td>\n",
       "      <td>8.0500</td>\n",
       "      <td>0</td>\n",
       "      <td>0</td>\n",
       "      <td>1</td>\n",
       "    </tr>\n",
       "  </tbody>\n",
       "</table>\n",
       "</div>"
      ],
      "text/plain": [
       "   IdPassageiro  Sobreviveu  Classe  \\\n",
       "0             1           0       3   \n",
       "1             2           1       1   \n",
       "2             3           1       3   \n",
       "3             4           1       1   \n",
       "4             5           0       3   \n",
       "\n",
       "                                                Nome  Idade  IrmaosConjuge  \\\n",
       "0                            Braund, Mr. Owen Harris   22.0              1   \n",
       "1  Cumings, Mrs. John Bradley (Florence Briggs Th...   38.0              1   \n",
       "2                             Heikkinen, Miss. Laina   26.0              0   \n",
       "3       Futrelle, Mrs. Jacques Heath (Lily May Peel)   35.0              1   \n",
       "4                           Allen, Mr. William Henry   35.0              0   \n",
       "\n",
       "   PaisFilhos          Bilhete   Tarifa  Sexo_mulher  Q  S  \n",
       "0           0         A/5 2117   7.2500            0  0  1  \n",
       "1           0          PC 1759  71.2833            1  0  0  \n",
       "2           0  STON/O2. 310128   7.9250            1  0  1  \n",
       "3           0            11380  53.1000            1  0  1  \n",
       "4           0            37345   8.0500            0  0  1  "
      ]
     },
     "execution_count": 85,
     "metadata": {},
     "output_type": "execute_result"
    }
   ],
   "source": [
    "df.drop('Embarque', axis=1, inplace=True)\n",
    "df.head()"
   ]
  },
  {
   "cell_type": "code",
   "execution_count": 86,
   "metadata": {
    "scrolled": true
   },
   "outputs": [
    {
     "data": {
      "text/plain": [
       "(891, 12)"
      ]
     },
     "execution_count": 86,
     "metadata": {},
     "output_type": "execute_result"
    }
   ],
   "source": [
    "df.shape"
   ]
  },
  {
   "cell_type": "markdown",
   "metadata": {},
   "source": [
    "### Engenharia de Recursos (Feature Engineering)"
   ]
  },
  {
   "cell_type": "code",
   "execution_count": 87,
   "metadata": {},
   "outputs": [
    {
     "data": {
      "text/plain": [
       "0                                Braund, Mr. Owen Harris\n",
       "1      Cumings, Mrs. John Bradley (Florence Briggs Th...\n",
       "2                                 Heikkinen, Miss. Laina\n",
       "3           Futrelle, Mrs. Jacques Heath (Lily May Peel)\n",
       "4                               Allen, Mr. William Henry\n",
       "                             ...                        \n",
       "886                                Montvila, Rev. Juozas\n",
       "887                         Graham, Miss. Margaret Edith\n",
       "888             Johnston, Miss. Catherine Helen \"Carrie\"\n",
       "889                                Behr, Mr. Karl Howell\n",
       "890                                  Dooley, Mr. Patrick\n",
       "Name: Nome, Length: 891, dtype: object"
      ]
     },
     "execution_count": 87,
     "metadata": {},
     "output_type": "execute_result"
    }
   ],
   "source": [
    "df['Nome']"
   ]
  },
  {
   "cell_type": "code",
   "execution_count": 93,
   "metadata": {},
   "outputs": [
    {
     "data": {
      "text/html": [
       "<div>\n",
       "<style scoped>\n",
       "    .dataframe tbody tr th:only-of-type {\n",
       "        vertical-align: middle;\n",
       "    }\n",
       "\n",
       "    .dataframe tbody tr th {\n",
       "        vertical-align: top;\n",
       "    }\n",
       "\n",
       "    .dataframe thead th {\n",
       "        text-align: right;\n",
       "    }\n",
       "</style>\n",
       "<table border=\"1\" class=\"dataframe\">\n",
       "  <thead>\n",
       "    <tr style=\"text-align: right;\">\n",
       "      <th></th>\n",
       "      <th>IdPassageiro</th>\n",
       "      <th>Sobreviveu</th>\n",
       "      <th>Classe</th>\n",
       "      <th>Nome</th>\n",
       "      <th>Idade</th>\n",
       "      <th>IrmaosConjuge</th>\n",
       "      <th>PaisFilhos</th>\n",
       "      <th>Bilhete</th>\n",
       "      <th>Tarifa</th>\n",
       "      <th>Sexo_mulher</th>\n",
       "      <th>Q</th>\n",
       "      <th>S</th>\n",
       "      <th>Titulo</th>\n",
       "    </tr>\n",
       "  </thead>\n",
       "  <tbody>\n",
       "    <tr>\n",
       "      <th>0</th>\n",
       "      <td>1</td>\n",
       "      <td>0</td>\n",
       "      <td>3</td>\n",
       "      <td>Braund, Mr. Owen Harris</td>\n",
       "      <td>22.0</td>\n",
       "      <td>1</td>\n",
       "      <td>0</td>\n",
       "      <td>A/5 2117</td>\n",
       "      <td>7.2500</td>\n",
       "      <td>0</td>\n",
       "      <td>0</td>\n",
       "      <td>1</td>\n",
       "      <td>Mr</td>\n",
       "    </tr>\n",
       "    <tr>\n",
       "      <th>1</th>\n",
       "      <td>2</td>\n",
       "      <td>1</td>\n",
       "      <td>1</td>\n",
       "      <td>Cumings, Mrs. John Bradley (Florence Briggs Th...</td>\n",
       "      <td>38.0</td>\n",
       "      <td>1</td>\n",
       "      <td>0</td>\n",
       "      <td>PC 1759</td>\n",
       "      <td>71.2833</td>\n",
       "      <td>1</td>\n",
       "      <td>0</td>\n",
       "      <td>0</td>\n",
       "      <td>Mrs</td>\n",
       "    </tr>\n",
       "    <tr>\n",
       "      <th>2</th>\n",
       "      <td>3</td>\n",
       "      <td>1</td>\n",
       "      <td>3</td>\n",
       "      <td>Heikkinen, Miss. Laina</td>\n",
       "      <td>26.0</td>\n",
       "      <td>0</td>\n",
       "      <td>0</td>\n",
       "      <td>STON/O2. 310128</td>\n",
       "      <td>7.9250</td>\n",
       "      <td>1</td>\n",
       "      <td>0</td>\n",
       "      <td>1</td>\n",
       "      <td>Miss</td>\n",
       "    </tr>\n",
       "    <tr>\n",
       "      <th>3</th>\n",
       "      <td>4</td>\n",
       "      <td>1</td>\n",
       "      <td>1</td>\n",
       "      <td>Futrelle, Mrs. Jacques Heath (Lily May Peel)</td>\n",
       "      <td>35.0</td>\n",
       "      <td>1</td>\n",
       "      <td>0</td>\n",
       "      <td>11380</td>\n",
       "      <td>53.1000</td>\n",
       "      <td>1</td>\n",
       "      <td>0</td>\n",
       "      <td>1</td>\n",
       "      <td>Mrs</td>\n",
       "    </tr>\n",
       "    <tr>\n",
       "      <th>4</th>\n",
       "      <td>5</td>\n",
       "      <td>0</td>\n",
       "      <td>3</td>\n",
       "      <td>Allen, Mr. William Henry</td>\n",
       "      <td>35.0</td>\n",
       "      <td>0</td>\n",
       "      <td>0</td>\n",
       "      <td>37345</td>\n",
       "      <td>8.0500</td>\n",
       "      <td>0</td>\n",
       "      <td>0</td>\n",
       "      <td>1</td>\n",
       "      <td>Mr</td>\n",
       "    </tr>\n",
       "  </tbody>\n",
       "</table>\n",
       "</div>"
      ],
      "text/plain": [
       "   IdPassageiro  Sobreviveu  Classe  \\\n",
       "0             1           0       3   \n",
       "1             2           1       1   \n",
       "2             3           1       3   \n",
       "3             4           1       1   \n",
       "4             5           0       3   \n",
       "\n",
       "                                                Nome  Idade  IrmaosConjuge  \\\n",
       "0                            Braund, Mr. Owen Harris   22.0              1   \n",
       "1  Cumings, Mrs. John Bradley (Florence Briggs Th...   38.0              1   \n",
       "2                             Heikkinen, Miss. Laina   26.0              0   \n",
       "3       Futrelle, Mrs. Jacques Heath (Lily May Peel)   35.0              1   \n",
       "4                           Allen, Mr. William Henry   35.0              0   \n",
       "\n",
       "   PaisFilhos          Bilhete   Tarifa  Sexo_mulher  Q  S Titulo  \n",
       "0           0         A/5 2117   7.2500            0  0  1     Mr  \n",
       "1           0          PC 1759  71.2833            1  0  0    Mrs  \n",
       "2           0  STON/O2. 310128   7.9250            1  0  1   Miss  \n",
       "3           0            11380  53.1000            1  0  1    Mrs  \n",
       "4           0            37345   8.0500            0  0  1     Mr  "
      ]
     },
     "execution_count": 93,
     "metadata": {},
     "output_type": "execute_result"
    }
   ],
   "source": [
    "df['Titulo'] = df['Nome'].str.extract('([a-zA-Z]+)\\.')\n",
    "df.head()"
   ]
  },
  {
   "cell_type": "code",
   "execution_count": 95,
   "metadata": {},
   "outputs": [],
   "source": [
    "df['Sexo'] = df['Sexo_mulher'].map({0:'homem', 1:'mulher'})"
   ]
  },
  {
   "cell_type": "code",
   "execution_count": 96,
   "metadata": {},
   "outputs": [
    {
     "data": {
      "text/html": [
       "<div>\n",
       "<style scoped>\n",
       "    .dataframe tbody tr th:only-of-type {\n",
       "        vertical-align: middle;\n",
       "    }\n",
       "\n",
       "    .dataframe tbody tr th {\n",
       "        vertical-align: top;\n",
       "    }\n",
       "\n",
       "    .dataframe thead th {\n",
       "        text-align: right;\n",
       "    }\n",
       "</style>\n",
       "<table border=\"1\" class=\"dataframe\">\n",
       "  <thead>\n",
       "    <tr style=\"text-align: right;\">\n",
       "      <th>Sexo</th>\n",
       "      <th>homem</th>\n",
       "      <th>mulher</th>\n",
       "    </tr>\n",
       "    <tr>\n",
       "      <th>Titulo</th>\n",
       "      <th></th>\n",
       "      <th></th>\n",
       "    </tr>\n",
       "  </thead>\n",
       "  <tbody>\n",
       "    <tr>\n",
       "      <th>Capt</th>\n",
       "      <td>1</td>\n",
       "      <td>0</td>\n",
       "    </tr>\n",
       "    <tr>\n",
       "      <th>Col</th>\n",
       "      <td>2</td>\n",
       "      <td>0</td>\n",
       "    </tr>\n",
       "    <tr>\n",
       "      <th>Countess</th>\n",
       "      <td>0</td>\n",
       "      <td>1</td>\n",
       "    </tr>\n",
       "    <tr>\n",
       "      <th>Don</th>\n",
       "      <td>1</td>\n",
       "      <td>0</td>\n",
       "    </tr>\n",
       "    <tr>\n",
       "      <th>Dr</th>\n",
       "      <td>6</td>\n",
       "      <td>1</td>\n",
       "    </tr>\n",
       "    <tr>\n",
       "      <th>Jonkheer</th>\n",
       "      <td>1</td>\n",
       "      <td>0</td>\n",
       "    </tr>\n",
       "    <tr>\n",
       "      <th>Lady</th>\n",
       "      <td>0</td>\n",
       "      <td>1</td>\n",
       "    </tr>\n",
       "    <tr>\n",
       "      <th>Major</th>\n",
       "      <td>2</td>\n",
       "      <td>0</td>\n",
       "    </tr>\n",
       "    <tr>\n",
       "      <th>Master</th>\n",
       "      <td>40</td>\n",
       "      <td>0</td>\n",
       "    </tr>\n",
       "    <tr>\n",
       "      <th>Miss</th>\n",
       "      <td>0</td>\n",
       "      <td>182</td>\n",
       "    </tr>\n",
       "    <tr>\n",
       "      <th>Mlle</th>\n",
       "      <td>0</td>\n",
       "      <td>2</td>\n",
       "    </tr>\n",
       "    <tr>\n",
       "      <th>Mme</th>\n",
       "      <td>0</td>\n",
       "      <td>1</td>\n",
       "    </tr>\n",
       "    <tr>\n",
       "      <th>Mr</th>\n",
       "      <td>517</td>\n",
       "      <td>0</td>\n",
       "    </tr>\n",
       "    <tr>\n",
       "      <th>Mrs</th>\n",
       "      <td>0</td>\n",
       "      <td>125</td>\n",
       "    </tr>\n",
       "    <tr>\n",
       "      <th>Ms</th>\n",
       "      <td>0</td>\n",
       "      <td>1</td>\n",
       "    </tr>\n",
       "    <tr>\n",
       "      <th>Rev</th>\n",
       "      <td>6</td>\n",
       "      <td>0</td>\n",
       "    </tr>\n",
       "    <tr>\n",
       "      <th>Sir</th>\n",
       "      <td>1</td>\n",
       "      <td>0</td>\n",
       "    </tr>\n",
       "  </tbody>\n",
       "</table>\n",
       "</div>"
      ],
      "text/plain": [
       "Sexo      homem  mulher\n",
       "Titulo                 \n",
       "Capt          1       0\n",
       "Col           2       0\n",
       "Countess      0       1\n",
       "Don           1       0\n",
       "Dr            6       1\n",
       "Jonkheer      1       0\n",
       "Lady          0       1\n",
       "Major         2       0\n",
       "Master       40       0\n",
       "Miss          0     182\n",
       "Mlle          0       2\n",
       "Mme           0       1\n",
       "Mr          517       0\n",
       "Mrs           0     125\n",
       "Ms            0       1\n",
       "Rev           6       0\n",
       "Sir           1       0"
      ]
     },
     "execution_count": 96,
     "metadata": {},
     "output_type": "execute_result"
    }
   ],
   "source": [
    "pd.crosstab(df['Titulo'], df['Sexo'])"
   ]
  },
  {
   "cell_type": "code",
   "execution_count": 100,
   "metadata": {},
   "outputs": [],
   "source": [
    "df['Titulo'] = df['Titulo']\\\n",
    ".apply(lambda x: 'Outros' if x not in ['Master','Miss','Mr','Mrs'] else x)"
   ]
  },
  {
   "cell_type": "code",
   "execution_count": 101,
   "metadata": {},
   "outputs": [
    {
     "data": {
      "text/html": [
       "<div>\n",
       "<style scoped>\n",
       "    .dataframe tbody tr th:only-of-type {\n",
       "        vertical-align: middle;\n",
       "    }\n",
       "\n",
       "    .dataframe tbody tr th {\n",
       "        vertical-align: top;\n",
       "    }\n",
       "\n",
       "    .dataframe thead th {\n",
       "        text-align: right;\n",
       "    }\n",
       "</style>\n",
       "<table border=\"1\" class=\"dataframe\">\n",
       "  <thead>\n",
       "    <tr style=\"text-align: right;\">\n",
       "      <th>Sexo</th>\n",
       "      <th>homem</th>\n",
       "      <th>mulher</th>\n",
       "    </tr>\n",
       "    <tr>\n",
       "      <th>Titulo</th>\n",
       "      <th></th>\n",
       "      <th></th>\n",
       "    </tr>\n",
       "  </thead>\n",
       "  <tbody>\n",
       "    <tr>\n",
       "      <th>Master</th>\n",
       "      <td>40</td>\n",
       "      <td>0</td>\n",
       "    </tr>\n",
       "    <tr>\n",
       "      <th>Miss</th>\n",
       "      <td>0</td>\n",
       "      <td>182</td>\n",
       "    </tr>\n",
       "    <tr>\n",
       "      <th>Mr</th>\n",
       "      <td>517</td>\n",
       "      <td>0</td>\n",
       "    </tr>\n",
       "    <tr>\n",
       "      <th>Mrs</th>\n",
       "      <td>0</td>\n",
       "      <td>125</td>\n",
       "    </tr>\n",
       "    <tr>\n",
       "      <th>Outros</th>\n",
       "      <td>20</td>\n",
       "      <td>7</td>\n",
       "    </tr>\n",
       "  </tbody>\n",
       "</table>\n",
       "</div>"
      ],
      "text/plain": [
       "Sexo    homem  mulher\n",
       "Titulo               \n",
       "Master     40       0\n",
       "Miss        0     182\n",
       "Mr        517       0\n",
       "Mrs         0     125\n",
       "Outros     20       7"
      ]
     },
     "execution_count": 101,
     "metadata": {},
     "output_type": "execute_result"
    }
   ],
   "source": [
    "pd.crosstab(df['Titulo'], df['Sexo'])"
   ]
  },
  {
   "cell_type": "code",
   "execution_count": 103,
   "metadata": {},
   "outputs": [
    {
     "data": {
      "text/plain": [
       "Idade         4.574167\n",
       "Classe        2.625000\n",
       "Sobreviveu    0.575000\n",
       "dtype: float64"
      ]
     },
     "execution_count": 103,
     "metadata": {},
     "output_type": "execute_result"
    }
   ],
   "source": [
    "df[['Titulo', 'Sexo','Idade','Classe','Sobreviveu']]\\\n",
    ".loc[df['Titulo']=='Master'].mean()"
   ]
  },
  {
   "cell_type": "code",
   "execution_count": 105,
   "metadata": {},
   "outputs": [
    {
     "data": {
      "text/plain": [
       "0     NaN\n",
       "1     C85\n",
       "2     NaN\n",
       "3    C123\n",
       "4     NaN\n",
       "Name: Cabin, dtype: object"
      ]
     },
     "execution_count": 105,
     "metadata": {},
     "output_type": "execute_result"
    }
   ],
   "source": [
    "df_cabine = pd.read_csv('CSVs/titanic/train.csv')\n",
    "df_cabine['Cabin'].head()"
   ]
  },
  {
   "cell_type": "code",
   "execution_count": 106,
   "metadata": {},
   "outputs": [],
   "source": [
    "for idx, _ in df_cabine[['Cabin']].dropna().iterrows():\n",
    "    df_cabine['Cabin'].at[idx] = df_cabine['Cabin'].at[idx][0]"
   ]
  },
  {
   "cell_type": "code",
   "execution_count": 107,
   "metadata": {},
   "outputs": [
    {
     "data": {
      "text/plain": [
       "0      NaN\n",
       "1        C\n",
       "2      NaN\n",
       "3        C\n",
       "4      NaN\n",
       "      ... \n",
       "886    NaN\n",
       "887      B\n",
       "888    NaN\n",
       "889      C\n",
       "890    NaN\n",
       "Name: Cabin, Length: 891, dtype: object"
      ]
     },
     "execution_count": 107,
     "metadata": {},
     "output_type": "execute_result"
    }
   ],
   "source": [
    "df_cabine['Cabin']"
   ]
  },
  {
   "cell_type": "code",
   "execution_count": 108,
   "metadata": {},
   "outputs": [
    {
     "data": {
      "text/html": [
       "<div>\n",
       "<style scoped>\n",
       "    .dataframe tbody tr th:only-of-type {\n",
       "        vertical-align: middle;\n",
       "    }\n",
       "\n",
       "    .dataframe tbody tr th {\n",
       "        vertical-align: top;\n",
       "    }\n",
       "\n",
       "    .dataframe thead th {\n",
       "        text-align: right;\n",
       "    }\n",
       "</style>\n",
       "<table border=\"1\" class=\"dataframe\">\n",
       "  <thead>\n",
       "    <tr style=\"text-align: right;\">\n",
       "      <th></th>\n",
       "      <th>Survived</th>\n",
       "      <th>Pclass</th>\n",
       "    </tr>\n",
       "    <tr>\n",
       "      <th>Cabin</th>\n",
       "      <th></th>\n",
       "      <th></th>\n",
       "    </tr>\n",
       "  </thead>\n",
       "  <tbody>\n",
       "    <tr>\n",
       "      <th>A</th>\n",
       "      <td>0.466667</td>\n",
       "      <td>1.000000</td>\n",
       "    </tr>\n",
       "    <tr>\n",
       "      <th>B</th>\n",
       "      <td>0.744681</td>\n",
       "      <td>1.000000</td>\n",
       "    </tr>\n",
       "    <tr>\n",
       "      <th>C</th>\n",
       "      <td>0.593220</td>\n",
       "      <td>1.000000</td>\n",
       "    </tr>\n",
       "    <tr>\n",
       "      <th>D</th>\n",
       "      <td>0.757576</td>\n",
       "      <td>1.121212</td>\n",
       "    </tr>\n",
       "    <tr>\n",
       "      <th>E</th>\n",
       "      <td>0.750000</td>\n",
       "      <td>1.312500</td>\n",
       "    </tr>\n",
       "    <tr>\n",
       "      <th>F</th>\n",
       "      <td>0.615385</td>\n",
       "      <td>2.384615</td>\n",
       "    </tr>\n",
       "    <tr>\n",
       "      <th>G</th>\n",
       "      <td>0.500000</td>\n",
       "      <td>3.000000</td>\n",
       "    </tr>\n",
       "    <tr>\n",
       "      <th>T</th>\n",
       "      <td>0.000000</td>\n",
       "      <td>1.000000</td>\n",
       "    </tr>\n",
       "  </tbody>\n",
       "</table>\n",
       "</div>"
      ],
      "text/plain": [
       "       Survived    Pclass\n",
       "Cabin                    \n",
       "A      0.466667  1.000000\n",
       "B      0.744681  1.000000\n",
       "C      0.593220  1.000000\n",
       "D      0.757576  1.121212\n",
       "E      0.750000  1.312500\n",
       "F      0.615385  2.384615\n",
       "G      0.500000  3.000000\n",
       "T      0.000000  1.000000"
      ]
     },
     "execution_count": 108,
     "metadata": {},
     "output_type": "execute_result"
    }
   ],
   "source": [
    "df_cabine[['Cabin','Survived','Sex','Pclass']]\\\n",
    ".dropna().groupby('Cabin').mean()"
   ]
  },
  {
   "cell_type": "code",
   "execution_count": 109,
   "metadata": {},
   "outputs": [
    {
     "data": {
      "text/html": [
       "<div>\n",
       "<style scoped>\n",
       "    .dataframe tbody tr th:only-of-type {\n",
       "        vertical-align: middle;\n",
       "    }\n",
       "\n",
       "    .dataframe tbody tr th {\n",
       "        vertical-align: top;\n",
       "    }\n",
       "\n",
       "    .dataframe thead th {\n",
       "        text-align: right;\n",
       "    }\n",
       "</style>\n",
       "<table border=\"1\" class=\"dataframe\">\n",
       "  <thead>\n",
       "    <tr style=\"text-align: right;\">\n",
       "      <th></th>\n",
       "      <th>PassengerId</th>\n",
       "      <th>Survived</th>\n",
       "      <th>Pclass</th>\n",
       "      <th>Name</th>\n",
       "      <th>Sex</th>\n",
       "      <th>Age</th>\n",
       "      <th>SibSp</th>\n",
       "      <th>Parch</th>\n",
       "      <th>Ticket</th>\n",
       "      <th>Fare</th>\n",
       "      <th>Cabin</th>\n",
       "      <th>Embarked</th>\n",
       "    </tr>\n",
       "  </thead>\n",
       "  <tbody>\n",
       "    <tr>\n",
       "      <th>339</th>\n",
       "      <td>340</td>\n",
       "      <td>0</td>\n",
       "      <td>1</td>\n",
       "      <td>Blackwell, Mr. Stephen Weart</td>\n",
       "      <td>male</td>\n",
       "      <td>45.0</td>\n",
       "      <td>0</td>\n",
       "      <td>0</td>\n",
       "      <td>113784</td>\n",
       "      <td>35.5</td>\n",
       "      <td>T</td>\n",
       "      <td>S</td>\n",
       "    </tr>\n",
       "  </tbody>\n",
       "</table>\n",
       "</div>"
      ],
      "text/plain": [
       "     PassengerId  Survived  Pclass                          Name   Sex   Age  \\\n",
       "339          340         0       1  Blackwell, Mr. Stephen Weart  male  45.0   \n",
       "\n",
       "     SibSp  Parch  Ticket  Fare Cabin Embarked  \n",
       "339      0      0  113784  35.5     T        S  "
      ]
     },
     "execution_count": 109,
     "metadata": {},
     "output_type": "execute_result"
    }
   ],
   "source": [
    "df_cabine.loc[df_cabine['Cabin']=='T']"
   ]
  },
  {
   "cell_type": "code",
   "execution_count": 110,
   "metadata": {},
   "outputs": [
    {
     "data": {
      "text/plain": [
       "PassengerId    1\n",
       "Survived       1\n",
       "Pclass         1\n",
       "Name           1\n",
       "Sex            1\n",
       "Age            1\n",
       "SibSp          1\n",
       "Parch          1\n",
       "Ticket         1\n",
       "Fare           1\n",
       "Cabin          1\n",
       "Embarked       1\n",
       "dtype: int64"
      ]
     },
     "execution_count": 110,
     "metadata": {},
     "output_type": "execute_result"
    }
   ],
   "source": [
    "df_cabine.loc[df_cabine['Cabin']=='T'].count()"
   ]
  }
 ],
 "metadata": {
  "kernelspec": {
   "display_name": "Python 3",
   "language": "python",
   "name": "python3"
  },
  "language_info": {
   "codemirror_mode": {
    "name": "ipython",
    "version": 3
   },
   "file_extension": ".py",
   "mimetype": "text/x-python",
   "name": "python",
   "nbconvert_exporter": "python",
   "pygments_lexer": "ipython3",
   "version": "3.7.6"
  }
 },
 "nbformat": 4,
 "nbformat_minor": 4
}
