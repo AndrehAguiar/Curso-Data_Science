{
 "cells": [
  {
   "cell_type": "markdown",
   "metadata": {},
   "source": [
    "# Probabilidade\n",
    "* **Espaço Amostral**: todos os resultados possíveis (moeda: K,C)\n",
    "* **Probabilidade**: chance de um evento ocorrer\n",
    "    * Escala de 0 a 1\n",
    "        * 0 ==> certo de que **não vai acontecer**\n",
    "        * 1 ==> certo que **vai acontecer**\n",
    "        * 0.5 ==> **igualmente** possível de acontecer ou de não acontecer\n",
    "        * Ex1: **0.05 provavelmente não** vai acontecer, mas pode acontecer\n",
    "        * Ex2: **0.95 provavelmente vai** acontecer, mas pode não acontecer\n",
    "\n",
    "\n",
    "\n",
    "<br><strong>Probabilidade Teórica</strong>: o que a gente espera que aconteça ou o que deveria acontecer\n",
    "$$P(E) = {\\frac {resultados} {espaço amostral}}$$\n",
    "\n",
    "<center>Ex: Jogar uma moeda pro alto. Se quero cara.</center>\n",
    "$$P(K) = {\\frac {1} {2}}=0.5$$\n",
    "\n",
    "<br><strong>Probabilidade Empírica</strong>: a chance de algo acontecer baseado no que aconteceu em algum experimento\n",
    "\n",
    "<center>Ex: Jogar uma moeda pro alto 100 vezes. Obtenho 56 caras.</center>\n",
    "$$P(K) = {\\frac {56} {100}}=0.56$$"
   ]
  },
  {
   "cell_type": "code",
   "execution_count": 1,
   "metadata": {},
   "outputs": [],
   "source": [
    "import numpy as np"
   ]
  },
  {
   "cell_type": "code",
   "execution_count": 2,
   "metadata": {},
   "outputs": [],
   "source": [
    "# Theoretical Probability\n",
    "# result target\n",
    "# sample space\n",
    "def theor_prob(results:float, sample_space:float)->float:\n",
    "    return results/sample_space"
   ]
  },
  {
   "cell_type": "code",
   "execution_count": 3,
   "metadata": {},
   "outputs": [],
   "source": [
    "def experiment(choices:list, target:str, n_experiment:int)->dict:\n",
    "    dct_results = {choice:0 for choice in choices}\n",
    "    \n",
    "    for _ in range(n_experiment):\n",
    "        dct_results[np.random.choice(choices)]+=1\n",
    "        \n",
    "    dct_results = {'Results':dct_results,\n",
    "                  f'Probability':theor_prob(dct_results[target], n_experiment)}        \n",
    "    return dct_results"
   ]
  },
  {
   "cell_type": "code",
   "execution_count": 4,
   "metadata": {},
   "outputs": [
    {
     "data": {
      "text/plain": [
       "0.5"
      ]
     },
     "execution_count": 4,
     "metadata": {},
     "output_type": "execute_result"
    }
   ],
   "source": [
    "theor_prob(1,2) # coin: h, t"
   ]
  },
  {
   "cell_type": "code",
   "execution_count": 5,
   "metadata": {},
   "outputs": [
    {
     "name": "stdout",
     "output_type": "stream",
     "text": [
      "{'Results': {'H': 54, 'T': 46}, 'Probability': 0.46}\n",
      "{'Results': {'H': 57, 'T': 43}, 'Probability': 0.57}\n",
      "{'Results': {'H': 5014, 'T': 4986}, 'Probability': 0.4986}\n",
      "{'Results': {'H': 5063, 'T': 4937}, 'Probability': 0.5063}\n"
     ]
    }
   ],
   "source": [
    "# Empirical Probability\n",
    "# results targets\n",
    "# number of experiments\n",
    "print(experiment(['H','T'], 'T', 100),\n",
    "      experiment(['H','T'], 'H', 100),\n",
    "      experiment(['H','T'], 'T', 10000),\n",
    "      experiment(['H','T'], 'H', 10000),\n",
    "     sep='\\n')"
   ]
  },
  {
   "cell_type": "code",
   "execution_count": 6,
   "metadata": {},
   "outputs": [
    {
     "name": "stdout",
     "output_type": "stream",
     "text": [
      "{'Results': {1: 2598, 2: 2471, 3: 2423, 4: 2508}, 'Probability': 0.2598}\n",
      "{'Results': {1: 2495, 2: 2520, 3: 2574, 4: 2411}, 'Probability': 0.252}\n",
      "{'Results': {1: 2543, 2: 2470, 3: 2489, 4: 2498}, 'Probability': 0.2489}\n",
      "{'Results': {1: 2521, 2: 2478, 3: 2468, 4: 2533}, 'Probability': 0.2533}\n"
     ]
    }
   ],
   "source": [
    "# Empirical Probability\n",
    "# results choice targets\n",
    "# number of experiments\n",
    "print(experiment([1,2,3,4], 1, 10000),\n",
    "      experiment([1,2,3,4], 2, 10000),\n",
    "      experiment([1,2,3,4], 3, 10000),\n",
    "      experiment([1,2,3,4], 4, 10000),\n",
    "     sep='\\n')"
   ]
  },
  {
   "cell_type": "markdown",
   "metadata": {},
   "source": [
    "<strong>Lei dos grandes números (LGN)</strong>: quanto mais experimentos eu faço, mais perto a probabilidade empírica se aproxima da probabilidade teórica\n",
    "<p>\n",
    "    Ex: Se jogar uma moeda pro alto 10.000 vezes, estará mais perto de 50% de probabilidade de dar cara do que jogando apenas 100 vezes. Se jogar 1.000.000 vezes, mais perto de 50% estará do que 10.000 vezes..."
   ]
  },
  {
   "cell_type": "markdown",
   "metadata": {},
   "source": [
    "<strong>Probabilidade condicional</strong>: P(B|A) >> probabilidade de B considerando que A já ocorreu<br>\n",
    "$$P(B|A) = {\\frac {P(A \\cap B)} {P(A)}}$$\n",
    "\n",
    "<center><strong>e: P(A e B)</strong>: probabilidade dos dois ocorrerem juntos</center><br>\n",
    "$$P(A \\cap B) = {P(A)}\\cdot{P(B|A)}$$\n",
    "\n",
    "<center><strong>ou: P(A ou B)</strong>: probabilidade de A ocorrer ou B ocorrer ou os dois ocorrerem</center><br>\n",
    "$$P(A \\cup B) = {P(A)}+{P(B)}-{P(A \\cap B)}$$\n",
    "\n",
    "<center><strong>Exercícios</strong>: oito cartas de UNO, sendo quatro azul e quatro vermelhas.</center>\n",
    "<img src=\"imagens/redblue.png\"\n",
    "     alt=\"Uno\"\n",
    "     width=300px />\n",
    "     \n",
    "<br>1. Probabilidade de ser Azul <strong>e</strong> Par<br>\n",
    "$$P(Azul \\cap Par) = {\\frac {4} {8}}\\cdot{\\frac {2} {4}} = {\\frac {1} {2}}\\cdot{\\frac {1} {2}}={\\frac {1} {4}}=0.25$$\n",
    "\n",
    "<br>2. Probabilidade de ser Azul sabendo que a carta <strong>é Par</strong><br>\n",
    "$$P(Azul|Par) = {\\frac {P(Azul \\cap Par)} {P(Par)}}={\\frac {2/8} {4/8}}={\\frac {2} {4}}={\\frac {1} {2}}=0.5$$\n",
    "\n",
    "<br>3. Probabilidade de ser Azul <strong>ou</strong> Par<br>\n",
    "$$P(Azul \\cup Par) = P(Azul)+P(Par)-P(Azul \\cap Par)={\\frac {4} {8}}+{\\frac {4} {8}}-{\\frac {2} {8}}={\\frac {6} {8}}={\\frac {3} {4}}=0.75$$\n",
    "\n",
    "<br>4. Probabilidade de pegar aleatoriamente duas cartas Azul <strong>sem substituição</strong><br>\n",
    "$$P(Azul_1 \\cap Azul_2) = P(Azul_1)\\cdot{P(Azul_2)} ={\\frac {4} {8}}\\cdot{\\frac {3} {7}}={\\frac {1} {2}}\\cdot{\\frac {3} {7}}={\\frac {3} {14}}=0.2143$$\n",
    "\n",
    "<br>**Eventos independentes**: quando um evento ocorre não modifica a chance de outro evento ocorrer. <br />\n",
    "Ex: Cara ou Coroa. Podemos representá-los de três formas:\n",
    "* $P(A|B) = P(A)$\n",
    "* $P(B|A) = P(B)$\n",
    "* $P(A \\cap B) = P(A)\\cdot{P(B)}$\n",
    "\n",
    "**Mutuamente Exclusivo**: ambos não podem acontecer ao mesmo tempo.<br />\n",
    "Ex: Ao jogar um cubo, sejam A = números ímpares menores do que 4, B = números maiores do que 3\n",
    "* $A=[1,3]$ \n",
    "* $B=[4,5,6]$\n",
    "* $P(A \\cap B) = 0$"
   ]
  },
  {
   "cell_type": "code",
   "execution_count": 7,
   "metadata": {},
   "outputs": [],
   "source": [
    "from model.Probability import Probability"
   ]
  },
  {
   "cell_type": "code",
   "execution_count": 8,
   "metadata": {},
   "outputs": [],
   "source": [
    "prob = Probability()"
   ]
  },
  {
   "cell_type": "code",
   "execution_count": 9,
   "metadata": {},
   "outputs": [],
   "source": [
    "prob.set_samples({'heads':1,'tails':1})"
   ]
  },
  {
   "cell_type": "code",
   "execution_count": 10,
   "metadata": {},
   "outputs": [
    {
     "data": {
      "text/plain": [
       "0.5"
      ]
     },
     "execution_count": 10,
     "metadata": {},
     "output_type": "execute_result"
    }
   ],
   "source": [
    "prob.set_targets(['heads'])\n",
    "prob.cond_prob(replace=False)"
   ]
  },
  {
   "cell_type": "code",
   "execution_count": 11,
   "metadata": {
    "scrolled": false
   },
   "outputs": [
    {
     "data": {
      "text/plain": [
       "{'Results': {'heads': 44, 'tails': 56}, 'Probability': 22.0}"
      ]
     },
     "execution_count": 11,
     "metadata": {},
     "output_type": "execute_result"
    }
   ],
   "source": [
    "prob.experiment(100)"
   ]
  },
  {
   "cell_type": "code",
   "execution_count": 12,
   "metadata": {},
   "outputs": [
    {
     "data": {
      "text/plain": [
       "{'Results': {'heads': 503, 'tails': 497}, 'Probability': 251.5}"
      ]
     },
     "execution_count": 12,
     "metadata": {},
     "output_type": "execute_result"
    }
   ],
   "source": [
    "prob.experiment(1000)"
   ]
  },
  {
   "cell_type": "code",
   "execution_count": 13,
   "metadata": {},
   "outputs": [
    {
     "data": {
      "text/plain": [
       "{'Blue': {'even': 2, 'odd': 2}, 'Red': {'even': 2, 'odd': 2}}"
      ]
     },
     "execution_count": 13,
     "metadata": {},
     "output_type": "execute_result"
    }
   ],
   "source": [
    "prob.set_samples({'Blue':{'even':2,'odd':2},'Red':{'even':2,'odd':2}})\n",
    "prob.samples"
   ]
  },
  {
   "cell_type": "code",
   "execution_count": 14,
   "metadata": {},
   "outputs": [
    {
     "data": {
      "text/plain": [
       "[{'Blue': {'and': 'even'}}]"
      ]
     },
     "execution_count": 14,
     "metadata": {},
     "output_type": "execute_result"
    }
   ],
   "source": [
    "prob.set_targets([{'Blue':{'and':'even'}}])\n",
    "prob.targets"
   ]
  },
  {
   "cell_type": "code",
   "execution_count": 15,
   "metadata": {},
   "outputs": [
    {
     "data": {
      "text/plain": [
       "0.25"
      ]
     },
     "execution_count": 15,
     "metadata": {},
     "output_type": "execute_result"
    }
   ],
   "source": [
    "prob.cond_prob('and')"
   ]
  },
  {
   "cell_type": "code",
   "execution_count": 16,
   "metadata": {},
   "outputs": [
    {
     "data": {
      "text/plain": [
       "[{'Blue': {'or': 'even'}}]"
      ]
     },
     "execution_count": 16,
     "metadata": {},
     "output_type": "execute_result"
    }
   ],
   "source": [
    "prob.set_targets([{'Blue':{'or':'even'}}])\n",
    "prob.targets"
   ]
  },
  {
   "cell_type": "code",
   "execution_count": 17,
   "metadata": {},
   "outputs": [
    {
     "data": {
      "text/plain": [
       "0.75"
      ]
     },
     "execution_count": 17,
     "metadata": {},
     "output_type": "execute_result"
    }
   ],
   "source": [
    "prob.cond_prob('or')"
   ]
  },
  {
   "cell_type": "code",
   "execution_count": 18,
   "metadata": {},
   "outputs": [
    {
     "data": {
      "text/plain": [
       "[{'Blue': {'known': 'even'}}]"
      ]
     },
     "execution_count": 18,
     "metadata": {},
     "output_type": "execute_result"
    }
   ],
   "source": [
    "prob.set_targets([{'Blue':{'known':'even'}}])\n",
    "prob.targets"
   ]
  },
  {
   "cell_type": "code",
   "execution_count": 19,
   "metadata": {},
   "outputs": [
    {
     "data": {
      "text/plain": [
       "0.5"
      ]
     },
     "execution_count": 19,
     "metadata": {},
     "output_type": "execute_result"
    }
   ],
   "source": [
    "prob.cond_prob('known')"
   ]
  },
  {
   "cell_type": "markdown",
   "metadata": {},
   "source": [
    "<h1> Diagrama de Árvore</h1>\n",
    "Uma maneira de solucionar problemas de Probabilidade Condicional\n",
    "<img src=\"imagens/6cards.png\" alt=\"Uno\" width=200px />\n",
    "\n",
    "Considerando a imagem acima, onde temos um total de 6 cartas, sendo 2 azuis e 4 vermelhas. Ao colocar essas cartas numa bolsa, retiraremos duas cartas em sequência, sem substituição. Responda qual a probabilidade em cada um dos seguintes cenários:\n",
    "    1. Azul na primeira, Azul na segunda.\n",
    "    2. Azul na primeira, Vermelha na segunda.\n",
    "    3. Vermelha na primeira, Azul na segunda.\n",
    "    4. Vermelha na primeira, Vermelha na segunda.\n",
    "    \n",
    "<img src=\"imagens/arvore.png\"  width=900px/>"
   ]
  },
  {
   "cell_type": "code",
   "execution_count": 20,
   "metadata": {},
   "outputs": [
    {
     "data": {
      "text/plain": [
       "{'Blue': 2, 'Red': 4}"
      ]
     },
     "execution_count": 20,
     "metadata": {},
     "output_type": "execute_result"
    }
   ],
   "source": [
    "prob.set_samples({'Blue':2,'Red':4})\n",
    "prob.samples"
   ]
  },
  {
   "cell_type": "code",
   "execution_count": 21,
   "metadata": {},
   "outputs": [
    {
     "name": "stdout",
     "output_type": "stream",
     "text": [
      "Blue Blue  =  0.0667\n"
     ]
    }
   ],
   "source": [
    "prob.set_targets(['Blue','Blue'])\n",
    "print(*prob.targets,' = ', prob.cond_prob())"
   ]
  },
  {
   "cell_type": "code",
   "execution_count": 22,
   "metadata": {},
   "outputs": [
    {
     "name": "stdout",
     "output_type": "stream",
     "text": [
      "Red Blue  =  0.2667\n"
     ]
    }
   ],
   "source": [
    "prob.set_targets(['Red','Blue'])\n",
    "print(*prob.targets,' = ', prob.cond_prob())"
   ]
  },
  {
   "cell_type": "code",
   "execution_count": 23,
   "metadata": {},
   "outputs": [
    {
     "name": "stdout",
     "output_type": "stream",
     "text": [
      "Blue Red  =  0.2667\n"
     ]
    }
   ],
   "source": [
    "prob.set_targets(['Blue','Red'])\n",
    "print(*prob.targets,' = ', prob.cond_prob())"
   ]
  },
  {
   "cell_type": "code",
   "execution_count": 24,
   "metadata": {},
   "outputs": [
    {
     "name": "stdout",
     "output_type": "stream",
     "text": [
      "Red Red  =  0.4\n"
     ]
    }
   ],
   "source": [
    "prob.set_targets(['Red','Red'])\n",
    "print(*prob.targets,' = ', prob.cond_prob())"
   ]
  },
  {
   "cell_type": "markdown",
   "metadata": {},
   "source": [
    "<center><h1>Probabilidade Condicional x Teorema de Bayes</h1></center>\n",
    "\n",
    "<br><center>\n",
    "    <h3>Probabilidade Condicional</h3>  \n",
    "      Probabilidade da carta ser <strong>vermelha</strong> sabendo que a carta <strong>é ímpar</strong>\n",
    "</center>\n",
    "<img src=\"imagens/6cards.png\" alt=\"Uno\" width=200px />\n",
    "<br>\n",
    "$$P(vermelha|ímpar) = {\\frac {P(vermelha \\cap ímpar)} {P(ímpar)}}={\\frac {2/6} {4/6}}={\\frac {1/3} {2/3}}={\\frac {1} {2}}=0.5$$"
   ]
  },
  {
   "cell_type": "code",
   "execution_count": 25,
   "metadata": {},
   "outputs": [
    {
     "data": {
      "text/plain": [
       "{'Blue': {'even': 0, 'odd': 2}, 'Red': {'even': 2, 'odd': 2}}"
      ]
     },
     "execution_count": 25,
     "metadata": {},
     "output_type": "execute_result"
    }
   ],
   "source": [
    "prob.set_samples({'Blue':{'even':0,'odd':2},'Red':{'even':2,'odd':2}})\n",
    "prob.samples"
   ]
  },
  {
   "cell_type": "code",
   "execution_count": 26,
   "metadata": {},
   "outputs": [
    {
     "data": {
      "text/plain": [
       "6"
      ]
     },
     "execution_count": 26,
     "metadata": {},
     "output_type": "execute_result"
    }
   ],
   "source": [
    "prob.count_sample(prob.samples)"
   ]
  },
  {
   "cell_type": "code",
   "execution_count": 27,
   "metadata": {},
   "outputs": [
    {
     "data": {
      "text/plain": [
       "[{'Red': {'known': 'odd'}}]"
      ]
     },
     "execution_count": 27,
     "metadata": {},
     "output_type": "execute_result"
    }
   ],
   "source": [
    "prob.set_targets([{'Red':{'known':'odd'}}])\n",
    "prob.targets"
   ]
  },
  {
   "cell_type": "code",
   "execution_count": 28,
   "metadata": {},
   "outputs": [
    {
     "data": {
      "text/plain": [
       "4"
      ]
     },
     "execution_count": 28,
     "metadata": {},
     "output_type": "execute_result"
    }
   ],
   "source": [
    "prob.count_part(prob.targets, prob.samples, 'known')"
   ]
  },
  {
   "cell_type": "code",
   "execution_count": 29,
   "metadata": {},
   "outputs": [
    {
     "data": {
      "text/plain": [
       "0.5"
      ]
     },
     "execution_count": 29,
     "metadata": {},
     "output_type": "execute_result"
    }
   ],
   "source": [
    "prob.cond_prob('known')"
   ]
  },
  {
   "cell_type": "markdown",
   "metadata": {},
   "source": [
    "<br><center><h1>Teorema de Bayes</h1>\n",
    "Uma forma de calcular probabilidade condicional de uma hipótese dada uma nova evidência. $P(A|B)$\n",
    "</center><br />\n",
    "\n",
    "$$P(A|B) = {\\frac {P(B|A)\\cdot P(A)} {P(B)}}$$\n",
    "\n",
    "<br>O Teorema de Bayes depende de três fatores:\n",
    "1. A probabilidade de um evento ocorrer dada uma Hipótese $P(B|A)$\n",
    "2. Probabilidade anterior da Hipótese $P(A)$\n",
    "3. Probabilidade anterior da Evidência $P(B)$\n",
    "\n",
    "\n",
    "<br>Probabilidade de ter escolhido uma carta vermelha, sabendo que a carta é ímpar.\n",
    "\n",
    "* <strong>A</strong> = carta vermelha\n",
    "* <strong>B</strong> = carta ímpar\n",
    "\n",
    " * $P(A|B) = P(vermelha|ímpar) = ?$ \n",
    " * $P(B|A) = P(ímpar|vermelha) = 1/2$  \n",
    " * $P(A) = P(vermelha) = 4/6 = 2/3$\n",
    " * $P(B) = P(ímpar) = 4/6 = 2/3$\n",
    "\n",
    "$$P(vermelha|ímpar) = {\\frac {{1/2} \\cdot {2/3}} {2/3}}={\\frac {1}{2}}=0.5$$"
   ]
  },
  {
   "cell_type": "code",
   "execution_count": 30,
   "metadata": {},
   "outputs": [
    {
     "data": {
      "text/plain": [
       "0.5"
      ]
     },
     "execution_count": 30,
     "metadata": {},
     "output_type": "execute_result"
    }
   ],
   "source": [
    "sample = prob.count_sample(prob.samples)\n",
    "red = prob.count_part(prob.targets, prob.samples, 'known')\n",
    "red_odd = prob.samples['Red']['odd']\n",
    "sample_odd = prob.count_known('odd')\n",
    "p_red_odd = ((red_odd / red) * (red / sample)) / (sample_odd / sample)\n",
    "p_red_odd"
   ]
  },
  {
   "cell_type": "markdown",
   "metadata": {},
   "source": [
    "<br><h3>Teorema de Bayes</h3>\n",
    "Considere duas moedas em uma bolsa: uma comum, outra viciada (possui cara nos dois lados).\n",
    "Você retira uma moeda sem ver qual está pegando, joga para o alto, dá cara. Qual a probabilidade de você ter escolhido a moeda viciada sabendo que deu cara?\n",
    "\n",
    "* <strong>A</strong> = moeda viciada\n",
    "* <strong>B</strong> = cara\n",
    "\n",
    " * $P(A|B) = P(viciada|cara) = ?$ \n",
    " * $P(B|A) = P(cara|viciada) = 1$ # 100% \n",
    " * $P(A) = P(viciada) = 1/2$\n",
    " * $P(B) = P(cara) = 3/4$ \n",
    " \n",
    "$$P(viciada|cara) = {\\frac {{1} \\cdot {1/2}} {3/4}}={\\frac {1} {2}} \\cdot {\\frac {4} {3}}={\\frac {4} {6}}={\\frac {2}{3}}=0.6666$$\n",
    "\n",
    "<br><center>\n",
    "    <h3>Probabilidade Condicional</h3>  \n",
    "      probabilidade de você ter <strong>escolhido a moeda viciada</strong> sabendo que deu <strong>cara</strong>\n",
    "</center><br>\n",
    "$$P(viciada|cara) = {\\frac {P(viciada \\cdot cara)} {P(cara)}}={\\frac {1/2 \\cdot 1} {3/4}}={\\frac {1} {2}} \\cdot {\\frac {4} {3}}={\\frac {4} {6}}={\\frac {2} {3}}=0.6666$$"
   ]
  },
  {
   "cell_type": "code",
   "execution_count": 31,
   "metadata": {},
   "outputs": [],
   "source": [
    "prob.set_samples({'hooked':{'heads':2,'tails':0},'coin':{'heads':1,'tails':1}})\n",
    "prob.set_targets([{'hooked':{'known':'heads'}}])"
   ]
  },
  {
   "cell_type": "code",
   "execution_count": 32,
   "metadata": {},
   "outputs": [
    {
     "data": {
      "text/plain": [
       "{'hooked': {'heads': 2, 'tails': 0}, 'coin': {'heads': 1, 'tails': 1}}"
      ]
     },
     "execution_count": 32,
     "metadata": {},
     "output_type": "execute_result"
    }
   ],
   "source": [
    "prob.samples"
   ]
  },
  {
   "cell_type": "code",
   "execution_count": 33,
   "metadata": {},
   "outputs": [
    {
     "data": {
      "text/plain": [
       "[{'hooked': {'known': 'heads'}}]"
      ]
     },
     "execution_count": 33,
     "metadata": {},
     "output_type": "execute_result"
    }
   ],
   "source": [
    "prob.targets"
   ]
  },
  {
   "cell_type": "code",
   "execution_count": 34,
   "metadata": {
    "scrolled": true
   },
   "outputs": [
    {
     "data": {
      "text/plain": [
       "0.6666666666666666"
      ]
     },
     "execution_count": 34,
     "metadata": {},
     "output_type": "execute_result"
    }
   ],
   "source": [
    "sample = prob.count_sample(prob.samples)\n",
    "hooked = prob.count_part(prob.targets, prob.samples, 'known')\n",
    "hooked_heads = prob.samples['hooked']['heads']\n",
    "sample_heads = prob.count_known('heads')\n",
    "p_hooked_heads = ((hooked_heads / hooked) * (hooked / sample)) / (sample_heads / sample)\n",
    "p_hooked_heads"
   ]
  },
  {
   "cell_type": "code",
   "execution_count": 35,
   "metadata": {},
   "outputs": [
    {
     "data": {
      "text/plain": [
       "0.6667"
      ]
     },
     "execution_count": 35,
     "metadata": {},
     "output_type": "execute_result"
    }
   ],
   "source": [
    "prob.cond_prob('known')"
   ]
  },
  {
   "cell_type": "code",
   "execution_count": 36,
   "metadata": {},
   "outputs": [],
   "source": [
    "prob.set_samples({'f1':1,'f2':1,'f3':1,'f4':1,'f5':1,'f6':1})\n",
    "prob.set_targets(['f3'])"
   ]
  },
  {
   "cell_type": "code",
   "execution_count": 37,
   "metadata": {},
   "outputs": [
    {
     "data": {
      "text/plain": [
       "{'Results': {'f1': 7, 'f2': 17, 'f3': 18, 'f4': 16, 'f5': 23, 'f6': 19},\n",
       " 'Probability': 3.0}"
      ]
     },
     "execution_count": 37,
     "metadata": {},
     "output_type": "execute_result"
    }
   ],
   "source": [
    "results = prob.experiment(100)\n",
    "results"
   ]
  },
  {
   "cell_type": "code",
   "execution_count": 38,
   "metadata": {},
   "outputs": [],
   "source": [
    "results = results['Results']"
   ]
  },
  {
   "cell_type": "code",
   "execution_count": 39,
   "metadata": {},
   "outputs": [
    {
     "data": {
      "text/plain": [
       "18"
      ]
     },
     "execution_count": 39,
     "metadata": {},
     "output_type": "execute_result"
    }
   ],
   "source": [
    "results[prob.targets[0]]"
   ]
  },
  {
   "cell_type": "code",
   "execution_count": 40,
   "metadata": {},
   "outputs": [
    {
     "data": {
      "text/plain": [
       "0.16666666666666666"
      ]
     },
     "execution_count": 40,
     "metadata": {},
     "output_type": "execute_result"
    }
   ],
   "source": [
    "1/6"
   ]
  },
  {
   "cell_type": "markdown",
   "metadata": {},
   "source": [
    "**Conclusão**: como observado, ambas as fórmulas produzem o mesmo resultado, porém a forma de interpretar é diferente."
   ]
  }
 ],
 "metadata": {
  "kernelspec": {
   "display_name": "Python 3",
   "language": "python",
   "name": "python3"
  },
  "language_info": {
   "codemirror_mode": {
    "name": "ipython",
    "version": 3
   },
   "file_extension": ".py",
   "mimetype": "text/x-python",
   "name": "python",
   "nbconvert_exporter": "python",
   "pygments_lexer": "ipython3",
   "version": "3.7.6"
  }
 },
 "nbformat": 4,
 "nbformat_minor": 4
}
