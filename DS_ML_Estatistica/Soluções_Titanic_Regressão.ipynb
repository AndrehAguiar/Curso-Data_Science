{
 "cells": [
  {
   "cell_type": "markdown",
   "metadata": {},
   "source": [
    "# Regressão Linear - Predição da Idade\n",
    "### Importar Bibliotecas"
   ]
  },
  {
   "cell_type": "code",
   "execution_count": 1,
   "metadata": {},
   "outputs": [],
   "source": [
    "import pandas as pd\n",
    "import numpy as np\n",
    "import seaborn as sns\n",
    "import matplotlib.pyplot as plt\n",
    "%matplotlib inline"
   ]
  },
  {
   "cell_type": "markdown",
   "metadata": {},
   "source": [
    "### Ler os arquivos \".CSV\""
   ]
  },
  {
   "cell_type": "code",
   "execution_count": 2,
   "metadata": {},
   "outputs": [],
   "source": [
    "df_train = pd.read_csv('CSVs/titanic/train.csv')\n",
    "df_test = pd.read_csv('CSVs/titanic/test.csv')"
   ]
  },
  {
   "cell_type": "markdown",
   "metadata": {},
   "source": [
    "### Transformar e definir o ID do Passageiro como Index"
   ]
  },
  {
   "cell_type": "code",
   "execution_count": 3,
   "metadata": {},
   "outputs": [],
   "source": [
    "df_train.set_index('PassengerId', inplace=True)\n",
    "df_test.set_index('PassengerId', inplace=True)"
   ]
  },
  {
   "cell_type": "markdown",
   "metadata": {},
   "source": [
    "### Verificar o Shape dos dois"
   ]
  },
  {
   "cell_type": "code",
   "execution_count": 4,
   "metadata": {},
   "outputs": [
    {
     "data": {
      "text/plain": [
       "((891, 11), (418, 10))"
      ]
     },
     "execution_count": 4,
     "metadata": {},
     "output_type": "execute_result"
    }
   ],
   "source": [
    "df_train.shape, df_test.shape"
   ]
  },
  {
   "cell_type": "markdown",
   "metadata": {},
   "source": [
    "### Criar coluna \"Survived\" no test set"
   ]
  },
  {
   "cell_type": "code",
   "execution_count": 5,
   "metadata": {},
   "outputs": [
    {
     "data": {
      "text/plain": [
       "((891, 11), (418, 11))"
      ]
     },
     "execution_count": 5,
     "metadata": {},
     "output_type": "execute_result"
    }
   ],
   "source": [
    "df_test['Survived'] = np.nan\n",
    "df_train.shape, df_test.shape"
   ]
  },
  {
   "cell_type": "markdown",
   "metadata": {},
   "source": [
    "### Concatenar train e test set"
   ]
  },
  {
   "cell_type": "code",
   "execution_count": 6,
   "metadata": {},
   "outputs": [
    {
     "data": {
      "text/plain": [
       "(1309, 11)"
      ]
     },
     "execution_count": 6,
     "metadata": {},
     "output_type": "execute_result"
    }
   ],
   "source": [
    "df = pd.concat([df_train, df_test], sort=False)\n",
    "df.shape"
   ]
  },
  {
   "cell_type": "code",
   "execution_count": 7,
   "metadata": {},
   "outputs": [],
   "source": [
    "df.columns = ['Sobreviveu', 'Classe', 'Nome', 'Sexo', 'Idade',\n",
    "              'IrmaosConjuge', 'PaisFilhos', 'Bilhete', 'Tarifa', 'Cabine', 'Embarque']"
   ]
  },
  {
   "cell_type": "code",
   "execution_count": 8,
   "metadata": {},
   "outputs": [],
   "source": [
    "df['Sexo'].replace(['male', 'female'],['homem', 'mulher'], inplace=True)"
   ]
  },
  {
   "cell_type": "code",
   "execution_count": 9,
   "metadata": {},
   "outputs": [
    {
     "data": {
      "text/html": [
       "<div>\n",
       "<style scoped>\n",
       "    .dataframe tbody tr th:only-of-type {\n",
       "        vertical-align: middle;\n",
       "    }\n",
       "\n",
       "    .dataframe tbody tr th {\n",
       "        vertical-align: top;\n",
       "    }\n",
       "\n",
       "    .dataframe thead th {\n",
       "        text-align: right;\n",
       "    }\n",
       "</style>\n",
       "<table border=\"1\" class=\"dataframe\">\n",
       "  <thead>\n",
       "    <tr style=\"text-align: right;\">\n",
       "      <th></th>\n",
       "      <th>Sobreviveu</th>\n",
       "      <th>Classe</th>\n",
       "      <th>Nome</th>\n",
       "      <th>Sexo</th>\n",
       "      <th>Idade</th>\n",
       "      <th>IrmaosConjuge</th>\n",
       "      <th>PaisFilhos</th>\n",
       "      <th>Bilhete</th>\n",
       "      <th>Tarifa</th>\n",
       "      <th>Cabine</th>\n",
       "      <th>Embarque</th>\n",
       "    </tr>\n",
       "    <tr>\n",
       "      <th>PassengerId</th>\n",
       "      <th></th>\n",
       "      <th></th>\n",
       "      <th></th>\n",
       "      <th></th>\n",
       "      <th></th>\n",
       "      <th></th>\n",
       "      <th></th>\n",
       "      <th></th>\n",
       "      <th></th>\n",
       "      <th></th>\n",
       "      <th></th>\n",
       "    </tr>\n",
       "  </thead>\n",
       "  <tbody>\n",
       "    <tr>\n",
       "      <th>1</th>\n",
       "      <td>0.0</td>\n",
       "      <td>3</td>\n",
       "      <td>Braund, Mr. Owen Harris</td>\n",
       "      <td>homem</td>\n",
       "      <td>22.0</td>\n",
       "      <td>1</td>\n",
       "      <td>0</td>\n",
       "      <td>A/5 21171</td>\n",
       "      <td>7.2500</td>\n",
       "      <td>NaN</td>\n",
       "      <td>S</td>\n",
       "    </tr>\n",
       "    <tr>\n",
       "      <th>2</th>\n",
       "      <td>1.0</td>\n",
       "      <td>1</td>\n",
       "      <td>Cumings, Mrs. John Bradley (Florence Briggs Th...</td>\n",
       "      <td>mulher</td>\n",
       "      <td>38.0</td>\n",
       "      <td>1</td>\n",
       "      <td>0</td>\n",
       "      <td>PC 17599</td>\n",
       "      <td>71.2833</td>\n",
       "      <td>C85</td>\n",
       "      <td>C</td>\n",
       "    </tr>\n",
       "    <tr>\n",
       "      <th>3</th>\n",
       "      <td>1.0</td>\n",
       "      <td>3</td>\n",
       "      <td>Heikkinen, Miss. Laina</td>\n",
       "      <td>mulher</td>\n",
       "      <td>26.0</td>\n",
       "      <td>0</td>\n",
       "      <td>0</td>\n",
       "      <td>STON/O2. 3101282</td>\n",
       "      <td>7.9250</td>\n",
       "      <td>NaN</td>\n",
       "      <td>S</td>\n",
       "    </tr>\n",
       "    <tr>\n",
       "      <th>4</th>\n",
       "      <td>1.0</td>\n",
       "      <td>1</td>\n",
       "      <td>Futrelle, Mrs. Jacques Heath (Lily May Peel)</td>\n",
       "      <td>mulher</td>\n",
       "      <td>35.0</td>\n",
       "      <td>1</td>\n",
       "      <td>0</td>\n",
       "      <td>113803</td>\n",
       "      <td>53.1000</td>\n",
       "      <td>C123</td>\n",
       "      <td>S</td>\n",
       "    </tr>\n",
       "    <tr>\n",
       "      <th>5</th>\n",
       "      <td>0.0</td>\n",
       "      <td>3</td>\n",
       "      <td>Allen, Mr. William Henry</td>\n",
       "      <td>homem</td>\n",
       "      <td>35.0</td>\n",
       "      <td>0</td>\n",
       "      <td>0</td>\n",
       "      <td>373450</td>\n",
       "      <td>8.0500</td>\n",
       "      <td>NaN</td>\n",
       "      <td>S</td>\n",
       "    </tr>\n",
       "  </tbody>\n",
       "</table>\n",
       "</div>"
      ],
      "text/plain": [
       "             Sobreviveu  Classe  \\\n",
       "PassengerId                       \n",
       "1                   0.0       3   \n",
       "2                   1.0       1   \n",
       "3                   1.0       3   \n",
       "4                   1.0       1   \n",
       "5                   0.0       3   \n",
       "\n",
       "                                                          Nome    Sexo  Idade  \\\n",
       "PassengerId                                                                     \n",
       "1                                      Braund, Mr. Owen Harris   homem   22.0   \n",
       "2            Cumings, Mrs. John Bradley (Florence Briggs Th...  mulher   38.0   \n",
       "3                                       Heikkinen, Miss. Laina  mulher   26.0   \n",
       "4                 Futrelle, Mrs. Jacques Heath (Lily May Peel)  mulher   35.0   \n",
       "5                                     Allen, Mr. William Henry   homem   35.0   \n",
       "\n",
       "             IrmaosConjuge  PaisFilhos           Bilhete   Tarifa Cabine  \\\n",
       "PassengerId                                                                \n",
       "1                        1           0         A/5 21171   7.2500    NaN   \n",
       "2                        1           0          PC 17599  71.2833    C85   \n",
       "3                        0           0  STON/O2. 3101282   7.9250    NaN   \n",
       "4                        1           0            113803  53.1000   C123   \n",
       "5                        0           0            373450   8.0500    NaN   \n",
       "\n",
       "            Embarque  \n",
       "PassengerId           \n",
       "1                  S  \n",
       "2                  C  \n",
       "3                  S  \n",
       "4                  S  \n",
       "5                  S  "
      ]
     },
     "execution_count": 9,
     "metadata": {},
     "output_type": "execute_result"
    }
   ],
   "source": [
    "df.head()"
   ]
  },
  {
   "cell_type": "code",
   "execution_count": 10,
   "metadata": {},
   "outputs": [
    {
     "data": {
      "text/plain": [
       "Sobreviveu        418\n",
       "Classe              0\n",
       "Nome                0\n",
       "Sexo                0\n",
       "Idade             263\n",
       "IrmaosConjuge       0\n",
       "PaisFilhos          0\n",
       "Bilhete             0\n",
       "Tarifa              1\n",
       "Cabine           1014\n",
       "Embarque            2\n",
       "dtype: int64"
      ]
     },
     "execution_count": 10,
     "metadata": {},
     "output_type": "execute_result"
    }
   ],
   "source": [
    "df.isnull().sum()"
   ]
  },
  {
   "cell_type": "code",
   "execution_count": 11,
   "metadata": {},
   "outputs": [
    {
     "data": {
      "text/plain": [
       "Sobreviveu       418\n",
       "Classe             0\n",
       "Nome               0\n",
       "Sexo               0\n",
       "Idade            263\n",
       "IrmaosConjuge      0\n",
       "PaisFilhos         0\n",
       "Bilhete            0\n",
       "Tarifa             1\n",
       "Embarque           2\n",
       "dtype: int64"
      ]
     },
     "execution_count": 11,
     "metadata": {},
     "output_type": "execute_result"
    }
   ],
   "source": [
    "df.drop('Cabine', axis=1, inplace=True)\n",
    "df.isnull().sum()"
   ]
  },
  {
   "cell_type": "code",
   "execution_count": 12,
   "metadata": {},
   "outputs": [
    {
     "data": {
      "text/plain": [
       "Sobreviveu       418\n",
       "Classe             0\n",
       "Nome               0\n",
       "Sexo               0\n",
       "Idade            263\n",
       "IrmaosConjuge      0\n",
       "PaisFilhos         0\n",
       "Bilhete            0\n",
       "Tarifa             1\n",
       "Embarque           0\n",
       "dtype: int64"
      ]
     },
     "execution_count": 12,
     "metadata": {},
     "output_type": "execute_result"
    }
   ],
   "source": [
    "df['Embarque'].fillna(df['Embarque'].mode()[0], inplace=True)\n",
    "df.isnull().sum()"
   ]
  },
  {
   "cell_type": "code",
   "execution_count": 13,
   "metadata": {},
   "outputs": [
    {
     "data": {
      "text/plain": [
       "Sobreviveu       418\n",
       "Classe             0\n",
       "Nome               0\n",
       "Sexo               0\n",
       "Idade            263\n",
       "IrmaosConjuge      0\n",
       "PaisFilhos         0\n",
       "Bilhete            0\n",
       "Tarifa             0\n",
       "Embarque           0\n",
       "dtype: int64"
      ]
     },
     "execution_count": 13,
     "metadata": {},
     "output_type": "execute_result"
    }
   ],
   "source": [
    "df['Tarifa'].fillna(df['Tarifa'].mean(), inplace=True)\n",
    "df.isnull().sum()"
   ]
  },
  {
   "cell_type": "code",
   "execution_count": 14,
   "metadata": {},
   "outputs": [
    {
     "data": {
      "text/html": [
       "<style  type=\"text/css\" >\n",
       "    #T_156231c6_da81_11ea_a0e7_109836fd617drow0_col0 {\n",
       "            background-color:  #7f0000;\n",
       "            color:  #f1f1f1;\n",
       "        }    #T_156231c6_da81_11ea_a0e7_109836fd617drow0_col1 {\n",
       "            background-color:  #fee5c3;\n",
       "            color:  #000000;\n",
       "        }    #T_156231c6_da81_11ea_a0e7_109836fd617drow0_col2 {\n",
       "            background-color:  #fdd6a3;\n",
       "            color:  #000000;\n",
       "        }    #T_156231c6_da81_11ea_a0e7_109836fd617drow0_col3 {\n",
       "            background-color:  #fee2bb;\n",
       "            color:  #000000;\n",
       "        }    #T_156231c6_da81_11ea_a0e7_109836fd617drow0_col4 {\n",
       "            background-color:  #fddcaf;\n",
       "            color:  #000000;\n",
       "        }    #T_156231c6_da81_11ea_a0e7_109836fd617drow0_col5 {\n",
       "            background-color:  #f98556;\n",
       "            color:  #000000;\n",
       "        }    #T_156231c6_da81_11ea_a0e7_109836fd617drow1_col0 {\n",
       "            background-color:  #fff7ec;\n",
       "            color:  #000000;\n",
       "        }    #T_156231c6_da81_11ea_a0e7_109836fd617drow1_col1 {\n",
       "            background-color:  #7f0000;\n",
       "            color:  #f1f1f1;\n",
       "        }    #T_156231c6_da81_11ea_a0e7_109836fd617drow1_col2 {\n",
       "            background-color:  #fff7ec;\n",
       "            color:  #000000;\n",
       "        }    #T_156231c6_da81_11ea_a0e7_109836fd617drow1_col3 {\n",
       "            background-color:  #fdd5a0;\n",
       "            color:  #000000;\n",
       "        }    #T_156231c6_da81_11ea_a0e7_109836fd617drow1_col4 {\n",
       "            background-color:  #fee5c1;\n",
       "            color:  #000000;\n",
       "        }    #T_156231c6_da81_11ea_a0e7_109836fd617drow1_col5 {\n",
       "            background-color:  #fff7ec;\n",
       "            color:  #000000;\n",
       "        }    #T_156231c6_da81_11ea_a0e7_109836fd617drow2_col0 {\n",
       "            background-color:  #fdddb1;\n",
       "            color:  #000000;\n",
       "        }    #T_156231c6_da81_11ea_a0e7_109836fd617drow2_col1 {\n",
       "            background-color:  #feecd1;\n",
       "            color:  #000000;\n",
       "        }    #T_156231c6_da81_11ea_a0e7_109836fd617drow2_col2 {\n",
       "            background-color:  #7f0000;\n",
       "            color:  #f1f1f1;\n",
       "        }    #T_156231c6_da81_11ea_a0e7_109836fd617drow2_col3 {\n",
       "            background-color:  #fff7ec;\n",
       "            color:  #000000;\n",
       "        }    #T_156231c6_da81_11ea_a0e7_109836fd617drow2_col4 {\n",
       "            background-color:  #fff7ec;\n",
       "            color:  #000000;\n",
       "        }    #T_156231c6_da81_11ea_a0e7_109836fd617drow2_col5 {\n",
       "            background-color:  #fc9662;\n",
       "            color:  #000000;\n",
       "        }    #T_156231c6_da81_11ea_a0e7_109836fd617drow3_col0 {\n",
       "            background-color:  #fdd8a7;\n",
       "            color:  #000000;\n",
       "        }    #T_156231c6_da81_11ea_a0e7_109836fd617drow3_col1 {\n",
       "            background-color:  #fdb37d;\n",
       "            color:  #000000;\n",
       "        }    #T_156231c6_da81_11ea_a0e7_109836fd617drow3_col2 {\n",
       "            background-color:  #fee9cb;\n",
       "            color:  #000000;\n",
       "        }    #T_156231c6_da81_11ea_a0e7_109836fd617drow3_col3 {\n",
       "            background-color:  #7f0000;\n",
       "            color:  #f1f1f1;\n",
       "        }    #T_156231c6_da81_11ea_a0e7_109836fd617drow3_col4 {\n",
       "            background-color:  #fc9e69;\n",
       "            color:  #000000;\n",
       "        }    #T_156231c6_da81_11ea_a0e7_109836fd617drow3_col5 {\n",
       "            background-color:  #fc9b66;\n",
       "            color:  #000000;\n",
       "        }    #T_156231c6_da81_11ea_a0e7_109836fd617drow4_col0 {\n",
       "            background-color:  #fdc791;\n",
       "            color:  #000000;\n",
       "        }    #T_156231c6_da81_11ea_a0e7_109836fd617drow4_col1 {\n",
       "            background-color:  #fdbc85;\n",
       "            color:  #000000;\n",
       "        }    #T_156231c6_da81_11ea_a0e7_109836fd617drow4_col2 {\n",
       "            background-color:  #fedfb5;\n",
       "            color:  #000000;\n",
       "        }    #T_156231c6_da81_11ea_a0e7_109836fd617drow4_col3 {\n",
       "            background-color:  #fc8e5a;\n",
       "            color:  #000000;\n",
       "        }    #T_156231c6_da81_11ea_a0e7_109836fd617drow4_col4 {\n",
       "            background-color:  #7f0000;\n",
       "            color:  #f1f1f1;\n",
       "        }    #T_156231c6_da81_11ea_a0e7_109836fd617drow4_col5 {\n",
       "            background-color:  #fc8c59;\n",
       "            color:  #000000;\n",
       "        }    #T_156231c6_da81_11ea_a0e7_109836fd617drow5_col0 {\n",
       "            background-color:  #fca26d;\n",
       "            color:  #000000;\n",
       "        }    #T_156231c6_da81_11ea_a0e7_109836fd617drow5_col1 {\n",
       "            background-color:  #fff7ec;\n",
       "            color:  #000000;\n",
       "        }    #T_156231c6_da81_11ea_a0e7_109836fd617drow5_col2 {\n",
       "            background-color:  #fdac76;\n",
       "            color:  #000000;\n",
       "        }    #T_156231c6_da81_11ea_a0e7_109836fd617drow5_col3 {\n",
       "            background-color:  #fdc58e;\n",
       "            color:  #000000;\n",
       "        }    #T_156231c6_da81_11ea_a0e7_109836fd617drow5_col4 {\n",
       "            background-color:  #fdc68f;\n",
       "            color:  #000000;\n",
       "        }    #T_156231c6_da81_11ea_a0e7_109836fd617drow5_col5 {\n",
       "            background-color:  #7f0000;\n",
       "            color:  #f1f1f1;\n",
       "        }</style><table id=\"T_156231c6_da81_11ea_a0e7_109836fd617d\" ><thead>    <tr>        <th class=\"blank level0\" ></th>        <th class=\"col_heading level0 col0\" >Sobreviveu</th>        <th class=\"col_heading level0 col1\" >Classe</th>        <th class=\"col_heading level0 col2\" >Idade</th>        <th class=\"col_heading level0 col3\" >IrmaosConjuge</th>        <th class=\"col_heading level0 col4\" >PaisFilhos</th>        <th class=\"col_heading level0 col5\" >Tarifa</th>    </tr></thead><tbody>\n",
       "                <tr>\n",
       "                        <th id=\"T_156231c6_da81_11ea_a0e7_109836fd617dlevel0_row0\" class=\"row_heading level0 row0\" >Sobreviveu</th>\n",
       "                        <td id=\"T_156231c6_da81_11ea_a0e7_109836fd617drow0_col0\" class=\"data row0 col0\" >1.000000</td>\n",
       "                        <td id=\"T_156231c6_da81_11ea_a0e7_109836fd617drow0_col1\" class=\"data row0 col1\" >-0.338481</td>\n",
       "                        <td id=\"T_156231c6_da81_11ea_a0e7_109836fd617drow0_col2\" class=\"data row0 col2\" >-0.077221</td>\n",
       "                        <td id=\"T_156231c6_da81_11ea_a0e7_109836fd617drow0_col3\" class=\"data row0 col3\" >-0.035322</td>\n",
       "                        <td id=\"T_156231c6_da81_11ea_a0e7_109836fd617drow0_col4\" class=\"data row0 col4\" >0.081629</td>\n",
       "                        <td id=\"T_156231c6_da81_11ea_a0e7_109836fd617drow0_col5\" class=\"data row0 col5\" >0.257307</td>\n",
       "            </tr>\n",
       "            <tr>\n",
       "                        <th id=\"T_156231c6_da81_11ea_a0e7_109836fd617dlevel0_row1\" class=\"row_heading level0 row1\" >Classe</th>\n",
       "                        <td id=\"T_156231c6_da81_11ea_a0e7_109836fd617drow1_col0\" class=\"data row1 col0\" >-0.338481</td>\n",
       "                        <td id=\"T_156231c6_da81_11ea_a0e7_109836fd617drow1_col1\" class=\"data row1 col1\" >1.000000</td>\n",
       "                        <td id=\"T_156231c6_da81_11ea_a0e7_109836fd617drow1_col2\" class=\"data row1 col2\" >-0.408106</td>\n",
       "                        <td id=\"T_156231c6_da81_11ea_a0e7_109836fd617drow1_col3\" class=\"data row1 col3\" >0.060832</td>\n",
       "                        <td id=\"T_156231c6_da81_11ea_a0e7_109836fd617drow1_col4\" class=\"data row1 col4\" >0.018322</td>\n",
       "                        <td id=\"T_156231c6_da81_11ea_a0e7_109836fd617drow1_col5\" class=\"data row1 col5\" >-0.558477</td>\n",
       "            </tr>\n",
       "            <tr>\n",
       "                        <th id=\"T_156231c6_da81_11ea_a0e7_109836fd617dlevel0_row2\" class=\"row_heading level0 row2\" >Idade</th>\n",
       "                        <td id=\"T_156231c6_da81_11ea_a0e7_109836fd617drow2_col0\" class=\"data row2 col0\" >-0.077221</td>\n",
       "                        <td id=\"T_156231c6_da81_11ea_a0e7_109836fd617drow2_col1\" class=\"data row2 col1\" >-0.408106</td>\n",
       "                        <td id=\"T_156231c6_da81_11ea_a0e7_109836fd617drow2_col2\" class=\"data row2 col2\" >1.000000</td>\n",
       "                        <td id=\"T_156231c6_da81_11ea_a0e7_109836fd617drow2_col3\" class=\"data row2 col3\" >-0.243699</td>\n",
       "                        <td id=\"T_156231c6_da81_11ea_a0e7_109836fd617drow2_col4\" class=\"data row2 col4\" >-0.150917</td>\n",
       "                        <td id=\"T_156231c6_da81_11ea_a0e7_109836fd617drow2_col5\" class=\"data row2 col5\" >0.178229</td>\n",
       "            </tr>\n",
       "            <tr>\n",
       "                        <th id=\"T_156231c6_da81_11ea_a0e7_109836fd617dlevel0_row3\" class=\"row_heading level0 row3\" >IrmaosConjuge</th>\n",
       "                        <td id=\"T_156231c6_da81_11ea_a0e7_109836fd617drow3_col0\" class=\"data row3 col0\" >-0.035322</td>\n",
       "                        <td id=\"T_156231c6_da81_11ea_a0e7_109836fd617drow3_col1\" class=\"data row3 col1\" >0.060832</td>\n",
       "                        <td id=\"T_156231c6_da81_11ea_a0e7_109836fd617drow3_col2\" class=\"data row3 col2\" >-0.243699</td>\n",
       "                        <td id=\"T_156231c6_da81_11ea_a0e7_109836fd617drow3_col3\" class=\"data row3 col3\" >1.000000</td>\n",
       "                        <td id=\"T_156231c6_da81_11ea_a0e7_109836fd617drow3_col4\" class=\"data row3 col4\" >0.373587</td>\n",
       "                        <td id=\"T_156231c6_da81_11ea_a0e7_109836fd617drow3_col5\" class=\"data row3 col5\" >0.160224</td>\n",
       "            </tr>\n",
       "            <tr>\n",
       "                        <th id=\"T_156231c6_da81_11ea_a0e7_109836fd617dlevel0_row4\" class=\"row_heading level0 row4\" >PaisFilhos</th>\n",
       "                        <td id=\"T_156231c6_da81_11ea_a0e7_109836fd617drow4_col0\" class=\"data row4 col0\" >0.081629</td>\n",
       "                        <td id=\"T_156231c6_da81_11ea_a0e7_109836fd617drow4_col1\" class=\"data row4 col1\" >0.018322</td>\n",
       "                        <td id=\"T_156231c6_da81_11ea_a0e7_109836fd617drow4_col2\" class=\"data row4 col2\" >-0.150917</td>\n",
       "                        <td id=\"T_156231c6_da81_11ea_a0e7_109836fd617drow4_col3\" class=\"data row4 col3\" >0.373587</td>\n",
       "                        <td id=\"T_156231c6_da81_11ea_a0e7_109836fd617drow4_col4\" class=\"data row4 col4\" >1.000000</td>\n",
       "                        <td id=\"T_156231c6_da81_11ea_a0e7_109836fd617drow4_col5\" class=\"data row4 col5\" >0.221522</td>\n",
       "            </tr>\n",
       "            <tr>\n",
       "                        <th id=\"T_156231c6_da81_11ea_a0e7_109836fd617dlevel0_row5\" class=\"row_heading level0 row5\" >Tarifa</th>\n",
       "                        <td id=\"T_156231c6_da81_11ea_a0e7_109836fd617drow5_col0\" class=\"data row5 col0\" >0.257307</td>\n",
       "                        <td id=\"T_156231c6_da81_11ea_a0e7_109836fd617drow5_col1\" class=\"data row5 col1\" >-0.558477</td>\n",
       "                        <td id=\"T_156231c6_da81_11ea_a0e7_109836fd617drow5_col2\" class=\"data row5 col2\" >0.178229</td>\n",
       "                        <td id=\"T_156231c6_da81_11ea_a0e7_109836fd617drow5_col3\" class=\"data row5 col3\" >0.160224</td>\n",
       "                        <td id=\"T_156231c6_da81_11ea_a0e7_109836fd617drow5_col4\" class=\"data row5 col4\" >0.221522</td>\n",
       "                        <td id=\"T_156231c6_da81_11ea_a0e7_109836fd617drow5_col5\" class=\"data row5 col5\" >1.000000</td>\n",
       "            </tr>\n",
       "    </tbody></table>"
      ],
      "text/plain": [
       "<pandas.io.formats.style.Styler at 0x200deab71c8>"
      ]
     },
     "execution_count": 14,
     "metadata": {},
     "output_type": "execute_result"
    }
   ],
   "source": [
    "df.corr().style.background_gradient(cmap='OrRd')"
   ]
  },
  {
   "cell_type": "code",
   "execution_count": 15,
   "metadata": {},
   "outputs": [
    {
     "data": {
      "image/png": "[encoded data removed]",
      "text/plain": [
       "<Figure size 720x432 with 2 Axes>"
      ]
     },
     "metadata": {
      "needs_background": "light"
     },
     "output_type": "display_data"
    }
   ],
   "source": [
    "plt.figure(figsize=(10,6))\n",
    "sns.heatmap(df.corr(), annot=True, cmap='OrRd')\n",
    "plt.show()"
   ]
  },
  {
   "cell_type": "code",
   "execution_count": 16,
   "metadata": {
    "scrolled": true
   },
   "outputs": [
    {
     "data": {
      "text/plain": [
       "Classe             0\n",
       "Nome               0\n",
       "Sexo               0\n",
       "Idade            263\n",
       "IrmaosConjuge      0\n",
       "PaisFilhos         0\n",
       "Bilhete            0\n",
       "Tarifa             0\n",
       "Embarque           0\n",
       "dtype: int64"
      ]
     },
     "execution_count": 16,
     "metadata": {},
     "output_type": "execute_result"
    }
   ],
   "source": [
    "df.drop('Sobreviveu', axis=1, inplace=True)\n",
    "df.isnull().sum()"
   ]
  },
  {
   "cell_type": "markdown",
   "metadata": {},
   "source": [
    "## Engenharia de Recursos I"
   ]
  },
  {
   "cell_type": "code",
   "execution_count": 17,
   "metadata": {},
   "outputs": [
    {
     "data": {
      "text/plain": [
       "array(['Mr', 'Mrs', 'Miss', 'Master', 'Don', 'Rev', 'Dr', 'Mme', 'Ms',\n",
       "       'Major', 'Lady', 'Sir', 'Mlle', 'Col', 'Capt', 'Countess',\n",
       "       'Jonkheer', 'Dona'], dtype=object)"
      ]
     },
     "execution_count": 17,
     "metadata": {},
     "output_type": "execute_result"
    }
   ],
   "source": [
    "df['Titulo'] = df['Nome'].str.extract('([a-zA-Z]+)\\.')\n",
    "df['Titulo'].unique()"
   ]
  },
  {
   "cell_type": "code",
   "execution_count": 18,
   "metadata": {},
   "outputs": [
    {
     "data": {
      "text/html": [
       "<style  type=\"text/css\" >\n",
       "    #T_15bcb15c_da81_11ea_8460_109836fd617drow0_col0 {\n",
       "            background-color:  #feeed5;\n",
       "            color:  #000000;\n",
       "        }    #T_15bcb15c_da81_11ea_8460_109836fd617drow0_col1 {\n",
       "            background-color:  #fff7ec;\n",
       "            color:  #000000;\n",
       "        }    #T_15bcb15c_da81_11ea_8460_109836fd617drow1_col0 {\n",
       "            background-color:  #fff7ec;\n",
       "            color:  #000000;\n",
       "        }    #T_15bcb15c_da81_11ea_8460_109836fd617drow1_col1 {\n",
       "            background-color:  #7f0000;\n",
       "            color:  #f1f1f1;\n",
       "        }    #T_15bcb15c_da81_11ea_8460_109836fd617drow2_col0 {\n",
       "            background-color:  #7f0000;\n",
       "            color:  #f1f1f1;\n",
       "        }    #T_15bcb15c_da81_11ea_8460_109836fd617drow2_col1 {\n",
       "            background-color:  #fff7ec;\n",
       "            color:  #000000;\n",
       "        }    #T_15bcb15c_da81_11ea_8460_109836fd617drow3_col0 {\n",
       "            background-color:  #fff7ec;\n",
       "            color:  #000000;\n",
       "        }    #T_15bcb15c_da81_11ea_8460_109836fd617drow3_col1 {\n",
       "            background-color:  #d52d1d;\n",
       "            color:  #f1f1f1;\n",
       "        }    #T_15bcb15c_da81_11ea_8460_109836fd617drow4_col0 {\n",
       "            background-color:  #fff3e3;\n",
       "            color:  #000000;\n",
       "        }    #T_15bcb15c_da81_11ea_8460_109836fd617drow4_col1 {\n",
       "            background-color:  #fff3e3;\n",
       "            color:  #000000;\n",
       "        }</style><table id=\"T_15bcb15c_da81_11ea_8460_109836fd617d\" ><thead>    <tr>        <th class=\"index_name level0\" >Sexo</th>        <th class=\"col_heading level0 col0\" >homem</th>        <th class=\"col_heading level0 col1\" >mulher</th>    </tr>    <tr>        <th class=\"index_name level0\" >Titulo</th>        <th class=\"blank\" ></th>        <th class=\"blank\" ></th>    </tr></thead><tbody>\n",
       "                <tr>\n",
       "                        <th id=\"T_15bcb15c_da81_11ea_8460_109836fd617dlevel0_row0\" class=\"row_heading level0 row0\" >Master</th>\n",
       "                        <td id=\"T_15bcb15c_da81_11ea_8460_109836fd617drow0_col0\" class=\"data row0 col0\" >61</td>\n",
       "                        <td id=\"T_15bcb15c_da81_11ea_8460_109836fd617drow0_col1\" class=\"data row0 col1\" >0</td>\n",
       "            </tr>\n",
       "            <tr>\n",
       "                        <th id=\"T_15bcb15c_da81_11ea_8460_109836fd617dlevel0_row1\" class=\"row_heading level0 row1\" >Miss</th>\n",
       "                        <td id=\"T_15bcb15c_da81_11ea_8460_109836fd617drow1_col0\" class=\"data row1 col0\" >0</td>\n",
       "                        <td id=\"T_15bcb15c_da81_11ea_8460_109836fd617drow1_col1\" class=\"data row1 col1\" >260</td>\n",
       "            </tr>\n",
       "            <tr>\n",
       "                        <th id=\"T_15bcb15c_da81_11ea_8460_109836fd617dlevel0_row2\" class=\"row_heading level0 row2\" >Mr</th>\n",
       "                        <td id=\"T_15bcb15c_da81_11ea_8460_109836fd617drow2_col0\" class=\"data row2 col0\" >757</td>\n",
       "                        <td id=\"T_15bcb15c_da81_11ea_8460_109836fd617drow2_col1\" class=\"data row2 col1\" >0</td>\n",
       "            </tr>\n",
       "            <tr>\n",
       "                        <th id=\"T_15bcb15c_da81_11ea_8460_109836fd617dlevel0_row3\" class=\"row_heading level0 row3\" >Mrs</th>\n",
       "                        <td id=\"T_15bcb15c_da81_11ea_8460_109836fd617drow3_col0\" class=\"data row3 col0\" >0</td>\n",
       "                        <td id=\"T_15bcb15c_da81_11ea_8460_109836fd617drow3_col1\" class=\"data row3 col1\" >197</td>\n",
       "            </tr>\n",
       "            <tr>\n",
       "                        <th id=\"T_15bcb15c_da81_11ea_8460_109836fd617dlevel0_row4\" class=\"row_heading level0 row4\" >Outros</th>\n",
       "                        <td id=\"T_15bcb15c_da81_11ea_8460_109836fd617drow4_col0\" class=\"data row4 col0\" >25</td>\n",
       "                        <td id=\"T_15bcb15c_da81_11ea_8460_109836fd617drow4_col1\" class=\"data row4 col1\" >9</td>\n",
       "            </tr>\n",
       "    </tbody></table>"
      ],
      "text/plain": [
       "<pandas.io.formats.style.Styler at 0x200deea7388>"
      ]
     },
     "execution_count": 18,
     "metadata": {},
     "output_type": "execute_result"
    }
   ],
   "source": [
    "df['Titulo'] = df['Titulo']\\\n",
    ".apply(lambda x: 'Outros' if x not in ['Mr', 'Mrs', 'Miss', 'Master'] else x)\n",
    "pd.crosstab(df['Titulo'], df['Sexo']) \\\n",
    ".style.background_gradient(cmap='OrRd')"
   ]
  },
  {
   "cell_type": "code",
   "execution_count": 19,
   "metadata": {},
   "outputs": [
    {
     "data": {
      "text/html": [
       "<style  type=\"text/css\" >\n",
       "    #T_15c5b20a_da81_11ea_9d58_109836fd617drow0_col0 {\n",
       "            background-color:  #7f0000;\n",
       "            color:  #f1f1f1;\n",
       "        }    #T_15c5b20a_da81_11ea_9d58_109836fd617drow0_col1 {\n",
       "            background-color:  #fff7ec;\n",
       "            color:  #000000;\n",
       "        }    #T_15c5b20a_da81_11ea_9d58_109836fd617drow1_col0 {\n",
       "            background-color:  #fff7ec;\n",
       "            color:  #000000;\n",
       "        }    #T_15c5b20a_da81_11ea_9d58_109836fd617drow1_col1 {\n",
       "            background-color:  #d52d1d;\n",
       "            color:  #f1f1f1;\n",
       "        }    #T_15c5b20a_da81_11ea_9d58_109836fd617drow2_col0 {\n",
       "            background-color:  #feeed5;\n",
       "            color:  #000000;\n",
       "        }    #T_15c5b20a_da81_11ea_9d58_109836fd617drow2_col1 {\n",
       "            background-color:  #fff7ec;\n",
       "            color:  #000000;\n",
       "        }    #T_15c5b20a_da81_11ea_9d58_109836fd617drow3_col0 {\n",
       "            background-color:  #fff7ec;\n",
       "            color:  #000000;\n",
       "        }    #T_15c5b20a_da81_11ea_9d58_109836fd617drow3_col1 {\n",
       "            background-color:  #7f0000;\n",
       "            color:  #f1f1f1;\n",
       "        }</style><table id=\"T_15c5b20a_da81_11ea_9d58_109836fd617d\" ><thead>    <tr>        <th class=\"index_name level0\" >Sexo</th>        <th class=\"col_heading level0 col0\" >homem</th>        <th class=\"col_heading level0 col1\" >mulher</th>    </tr>    <tr>        <th class=\"index_name level0\" >Titulo</th>        <th class=\"blank\" ></th>        <th class=\"blank\" ></th>    </tr></thead><tbody>\n",
       "                <tr>\n",
       "                        <th id=\"T_15c5b20a_da81_11ea_9d58_109836fd617dlevel0_row0\" class=\"row_heading level0 row0\" >Adulto</th>\n",
       "                        <td id=\"T_15c5b20a_da81_11ea_9d58_109836fd617drow0_col0\" class=\"data row0 col0\" >757</td>\n",
       "                        <td id=\"T_15c5b20a_da81_11ea_9d58_109836fd617drow0_col1\" class=\"data row0 col1\" >0</td>\n",
       "            </tr>\n",
       "            <tr>\n",
       "                        <th id=\"T_15c5b20a_da81_11ea_9d58_109836fd617dlevel0_row1\" class=\"row_heading level0 row1\" >Casada</th>\n",
       "                        <td id=\"T_15c5b20a_da81_11ea_9d58_109836fd617drow1_col0\" class=\"data row1 col0\" >0</td>\n",
       "                        <td id=\"T_15c5b20a_da81_11ea_9d58_109836fd617drow1_col1\" class=\"data row1 col1\" >197</td>\n",
       "            </tr>\n",
       "            <tr>\n",
       "                        <th id=\"T_15c5b20a_da81_11ea_9d58_109836fd617dlevel0_row2\" class=\"row_heading level0 row2\" >Menino</th>\n",
       "                        <td id=\"T_15c5b20a_da81_11ea_9d58_109836fd617drow2_col0\" class=\"data row2 col0\" >61</td>\n",
       "                        <td id=\"T_15c5b20a_da81_11ea_9d58_109836fd617drow2_col1\" class=\"data row2 col1\" >0</td>\n",
       "            </tr>\n",
       "            <tr>\n",
       "                        <th id=\"T_15c5b20a_da81_11ea_9d58_109836fd617dlevel0_row3\" class=\"row_heading level0 row3\" >Solteira</th>\n",
       "                        <td id=\"T_15c5b20a_da81_11ea_9d58_109836fd617drow3_col0\" class=\"data row3 col0\" >0</td>\n",
       "                        <td id=\"T_15c5b20a_da81_11ea_9d58_109836fd617drow3_col1\" class=\"data row3 col1\" >260</td>\n",
       "            </tr>\n",
       "    </tbody></table>"
      ],
      "text/plain": [
       "<pandas.io.formats.style.Styler at 0x200deaa8e88>"
      ]
     },
     "execution_count": 19,
     "metadata": {},
     "output_type": "execute_result"
    }
   ],
   "source": [
    "df['Titulo'] = df['Titulo'].map({'Master':'Menino','Miss':'Solteira',\n",
    "                                 'Mr':'Adulto', 'Mrs':'Casada'})\n",
    "\n",
    "pd.crosstab(df['Titulo'], df['Sexo']) \\\n",
    ".style.background_gradient(cmap='OrRd')"
   ]
  },
  {
   "cell_type": "markdown",
   "metadata": {},
   "source": [
    "### Averiguar informações do DataFrame"
   ]
  },
  {
   "cell_type": "code",
   "execution_count": 20,
   "metadata": {},
   "outputs": [
    {
     "name": "stdout",
     "output_type": "stream",
     "text": [
      "<class 'pandas.core.frame.DataFrame'>\n",
      "Int64Index: 1309 entries, 1 to 1309\n",
      "Data columns (total 10 columns):\n",
      " #   Column         Non-Null Count  Dtype  \n",
      "---  ------         --------------  -----  \n",
      " 0   Classe         1309 non-null   int64  \n",
      " 1   Nome           1309 non-null   object \n",
      " 2   Sexo           1309 non-null   object \n",
      " 3   Idade          1046 non-null   float64\n",
      " 4   IrmaosConjuge  1309 non-null   int64  \n",
      " 5   PaisFilhos     1309 non-null   int64  \n",
      " 6   Bilhete        1309 non-null   object \n",
      " 7   Tarifa         1309 non-null   float64\n",
      " 8   Embarque       1309 non-null   object \n",
      " 9   Titulo         1275 non-null   object \n",
      "dtypes: float64(2), int64(3), object(5)\n",
      "memory usage: 112.5+ KB\n"
     ]
    }
   ],
   "source": [
    "df.info()"
   ]
  },
  {
   "cell_type": "code",
   "execution_count": 21,
   "metadata": {},
   "outputs": [
    {
     "data": {
      "text/html": [
       "<div>\n",
       "<style scoped>\n",
       "    .dataframe tbody tr th:only-of-type {\n",
       "        vertical-align: middle;\n",
       "    }\n",
       "\n",
       "    .dataframe tbody tr th {\n",
       "        vertical-align: top;\n",
       "    }\n",
       "\n",
       "    .dataframe thead th {\n",
       "        text-align: right;\n",
       "    }\n",
       "</style>\n",
       "<table border=\"1\" class=\"dataframe\">\n",
       "  <thead>\n",
       "    <tr style=\"text-align: right;\">\n",
       "      <th></th>\n",
       "      <th>Classe</th>\n",
       "      <th>Sexo</th>\n",
       "      <th>Idade</th>\n",
       "      <th>IrmaosConjuge</th>\n",
       "      <th>PaisFilhos</th>\n",
       "      <th>Tarifa</th>\n",
       "      <th>Embarque</th>\n",
       "      <th>Titulo</th>\n",
       "    </tr>\n",
       "    <tr>\n",
       "      <th>PassengerId</th>\n",
       "      <th></th>\n",
       "      <th></th>\n",
       "      <th></th>\n",
       "      <th></th>\n",
       "      <th></th>\n",
       "      <th></th>\n",
       "      <th></th>\n",
       "      <th></th>\n",
       "    </tr>\n",
       "  </thead>\n",
       "  <tbody>\n",
       "    <tr>\n",
       "      <th>1</th>\n",
       "      <td>3</td>\n",
       "      <td>homem</td>\n",
       "      <td>22.0</td>\n",
       "      <td>1</td>\n",
       "      <td>0</td>\n",
       "      <td>7.2500</td>\n",
       "      <td>S</td>\n",
       "      <td>Adulto</td>\n",
       "    </tr>\n",
       "    <tr>\n",
       "      <th>2</th>\n",
       "      <td>1</td>\n",
       "      <td>mulher</td>\n",
       "      <td>38.0</td>\n",
       "      <td>1</td>\n",
       "      <td>0</td>\n",
       "      <td>71.2833</td>\n",
       "      <td>C</td>\n",
       "      <td>Casada</td>\n",
       "    </tr>\n",
       "    <tr>\n",
       "      <th>3</th>\n",
       "      <td>3</td>\n",
       "      <td>mulher</td>\n",
       "      <td>26.0</td>\n",
       "      <td>0</td>\n",
       "      <td>0</td>\n",
       "      <td>7.9250</td>\n",
       "      <td>S</td>\n",
       "      <td>Solteira</td>\n",
       "    </tr>\n",
       "    <tr>\n",
       "      <th>4</th>\n",
       "      <td>1</td>\n",
       "      <td>mulher</td>\n",
       "      <td>35.0</td>\n",
       "      <td>1</td>\n",
       "      <td>0</td>\n",
       "      <td>53.1000</td>\n",
       "      <td>S</td>\n",
       "      <td>Casada</td>\n",
       "    </tr>\n",
       "    <tr>\n",
       "      <th>5</th>\n",
       "      <td>3</td>\n",
       "      <td>homem</td>\n",
       "      <td>35.0</td>\n",
       "      <td>0</td>\n",
       "      <td>0</td>\n",
       "      <td>8.0500</td>\n",
       "      <td>S</td>\n",
       "      <td>Adulto</td>\n",
       "    </tr>\n",
       "  </tbody>\n",
       "</table>\n",
       "</div>"
      ],
      "text/plain": [
       "             Classe    Sexo  Idade  IrmaosConjuge  PaisFilhos   Tarifa  \\\n",
       "PassengerId                                                              \n",
       "1                 3   homem   22.0              1           0   7.2500   \n",
       "2                 1  mulher   38.0              1           0  71.2833   \n",
       "3                 3  mulher   26.0              0           0   7.9250   \n",
       "4                 1  mulher   35.0              1           0  53.1000   \n",
       "5                 3   homem   35.0              0           0   8.0500   \n",
       "\n",
       "            Embarque    Titulo  \n",
       "PassengerId                     \n",
       "1                  S    Adulto  \n",
       "2                  C    Casada  \n",
       "3                  S  Solteira  \n",
       "4                  S    Casada  \n",
       "5                  S    Adulto  "
      ]
     },
     "execution_count": 21,
     "metadata": {},
     "output_type": "execute_result"
    }
   ],
   "source": [
    "df.drop(['Bilhete','Nome'], axis=1, inplace=True)\n",
    "df.head()"
   ]
  },
  {
   "cell_type": "markdown",
   "metadata": {},
   "source": [
    "## Engenharia de Recursos II\n",
    "### Estudar a possibilidade de identificar \"meninas\" similar aos \"meninos\"\n",
    "Através da combinação: \"Solteira\" e está com os \"pais\""
   ]
  },
  {
   "cell_type": "code",
   "execution_count": 22,
   "metadata": {},
   "outputs": [
    {
     "data": {
      "text/plain": [
       "12.178815789473683"
      ]
     },
     "execution_count": 22,
     "metadata": {},
     "output_type": "execute_result"
    }
   ],
   "source": [
    "df.loc[(df['Titulo'] == 'Solteira') & (df['PaisFilhos'] >= 1)]['Idade'].mean()"
   ]
  },
  {
   "cell_type": "code",
   "execution_count": 23,
   "metadata": {},
   "outputs": [
    {
     "data": {
      "text/plain": [
       "27.21641791044776"
      ]
     },
     "execution_count": 23,
     "metadata": {},
     "output_type": "execute_result"
    }
   ],
   "source": [
    "df.loc[(df['Titulo'] == 'Solteira') & (df['PaisFilhos'] == 0)]['Idade'].mean()"
   ]
  },
  {
   "cell_type": "code",
   "execution_count": 24,
   "metadata": {},
   "outputs": [
    {
     "data": {
      "text/plain": [
       "36.99411764705882"
      ]
     },
     "execution_count": 24,
     "metadata": {},
     "output_type": "execute_result"
    }
   ],
   "source": [
    "df.loc[(df['Titulo'] == 'Casada')]['Idade'].mean()"
   ]
  },
  {
   "cell_type": "markdown",
   "metadata": {},
   "source": [
    "### Verificar distribuição da idade"
   ]
  },
  {
   "cell_type": "code",
   "execution_count": 25,
   "metadata": {},
   "outputs": [
    {
     "name": "stderr",
     "output_type": "stream",
     "text": [
      "C:\\ProgramData\\Anaconda3\\lib\\site-packages\\numpy\\lib\\histograms.py:839: RuntimeWarning: invalid value encountered in greater_equal\n",
      "  keep = (tmp_a >= first_edge)\n",
      "C:\\ProgramData\\Anaconda3\\lib\\site-packages\\numpy\\lib\\histograms.py:840: RuntimeWarning: invalid value encountered in less_equal\n",
      "  keep &= (tmp_a <= last_edge)\n"
     ]
    },
    {
     "data": {
      "image/png": "[encoded data removed]",
      "text/plain": [
       "<Figure size 2250x750 with 3 Axes>"
      ]
     },
     "metadata": {
      "needs_background": "light"
     },
     "output_type": "display_data"
    }
   ],
   "source": [
    "f, ax = plt.subplots(1,3, figsize=(15,5), dpi=150, sharey=True, sharex=True)\n",
    "\n",
    "ax[0].hist(df.loc[(df['Titulo'] == 'Solteira') & (df['PaisFilhos'] >= 1)]['Idade'],\n",
    "        bins=15)\n",
    "ax[0].set(title='Distribuição de Idade das Solteiras c/ Pais',\n",
    "         xlabel='Idade', ylabel='Frequência')\n",
    "ax[0].grid()\n",
    "\n",
    "ax[1].hist(df.loc[(df['Titulo'] == 'Solteira') & (df['PaisFilhos'] == 0)]['Idade'],\n",
    "        bins=15)\n",
    "ax[1].set(title='Distribuição de Idade das Solteiras c/ Pais',\n",
    "         xlabel='Idade')\n",
    "ax[1].grid()\n",
    "\n",
    "ax[2].hist(df.loc[(df['Titulo'] == 'Casada')]['Idade'],\n",
    "        bins=15)\n",
    "ax[2].set(title='Distribuição de Idade das Casadas',\n",
    "         xlabel='Idade')\n",
    "ax[2].grid()\n",
    "\n",
    "plt.tight_layout()\n",
    "plt.show()"
   ]
  },
  {
   "cell_type": "code",
   "execution_count": 26,
   "metadata": {},
   "outputs": [
    {
     "data": {
      "text/html": [
       "<div>\n",
       "<style scoped>\n",
       "    .dataframe tbody tr th:only-of-type {\n",
       "        vertical-align: middle;\n",
       "    }\n",
       "\n",
       "    .dataframe tbody tr th {\n",
       "        vertical-align: top;\n",
       "    }\n",
       "\n",
       "    .dataframe thead th {\n",
       "        text-align: right;\n",
       "    }\n",
       "</style>\n",
       "<table border=\"1\" class=\"dataframe\">\n",
       "  <thead>\n",
       "    <tr style=\"text-align: right;\">\n",
       "      <th></th>\n",
       "      <th>Classe</th>\n",
       "      <th>Sexo</th>\n",
       "      <th>Idade</th>\n",
       "      <th>IrmaosConjuge</th>\n",
       "      <th>PaisFilhos</th>\n",
       "      <th>Tarifa</th>\n",
       "      <th>Embarque</th>\n",
       "      <th>Titulo</th>\n",
       "      <th>SolteiraPais</th>\n",
       "    </tr>\n",
       "    <tr>\n",
       "      <th>PassengerId</th>\n",
       "      <th></th>\n",
       "      <th></th>\n",
       "      <th></th>\n",
       "      <th></th>\n",
       "      <th></th>\n",
       "      <th></th>\n",
       "      <th></th>\n",
       "      <th></th>\n",
       "      <th></th>\n",
       "    </tr>\n",
       "  </thead>\n",
       "  <tbody>\n",
       "    <tr>\n",
       "      <th>11</th>\n",
       "      <td>3</td>\n",
       "      <td>mulher</td>\n",
       "      <td>4.0</td>\n",
       "      <td>1</td>\n",
       "      <td>1</td>\n",
       "      <td>16.7000</td>\n",
       "      <td>S</td>\n",
       "      <td>Solteira</td>\n",
       "      <td>1</td>\n",
       "    </tr>\n",
       "    <tr>\n",
       "      <th>25</th>\n",
       "      <td>3</td>\n",
       "      <td>mulher</td>\n",
       "      <td>8.0</td>\n",
       "      <td>3</td>\n",
       "      <td>1</td>\n",
       "      <td>21.0750</td>\n",
       "      <td>S</td>\n",
       "      <td>Solteira</td>\n",
       "      <td>1</td>\n",
       "    </tr>\n",
       "    <tr>\n",
       "      <th>44</th>\n",
       "      <td>2</td>\n",
       "      <td>mulher</td>\n",
       "      <td>3.0</td>\n",
       "      <td>1</td>\n",
       "      <td>2</td>\n",
       "      <td>41.5792</td>\n",
       "      <td>C</td>\n",
       "      <td>Solteira</td>\n",
       "      <td>1</td>\n",
       "    </tr>\n",
       "    <tr>\n",
       "      <th>59</th>\n",
       "      <td>2</td>\n",
       "      <td>mulher</td>\n",
       "      <td>5.0</td>\n",
       "      <td>1</td>\n",
       "      <td>2</td>\n",
       "      <td>27.7500</td>\n",
       "      <td>S</td>\n",
       "      <td>Solteira</td>\n",
       "      <td>1</td>\n",
       "    </tr>\n",
       "    <tr>\n",
       "      <th>69</th>\n",
       "      <td>3</td>\n",
       "      <td>mulher</td>\n",
       "      <td>17.0</td>\n",
       "      <td>4</td>\n",
       "      <td>2</td>\n",
       "      <td>7.9250</td>\n",
       "      <td>S</td>\n",
       "      <td>Solteira</td>\n",
       "      <td>1</td>\n",
       "    </tr>\n",
       "  </tbody>\n",
       "</table>\n",
       "</div>"
      ],
      "text/plain": [
       "             Classe    Sexo  Idade  IrmaosConjuge  PaisFilhos   Tarifa  \\\n",
       "PassengerId                                                              \n",
       "11                3  mulher    4.0              1           1  16.7000   \n",
       "25                3  mulher    8.0              3           1  21.0750   \n",
       "44                2  mulher    3.0              1           2  41.5792   \n",
       "59                2  mulher    5.0              1           2  27.7500   \n",
       "69                3  mulher   17.0              4           2   7.9250   \n",
       "\n",
       "            Embarque    Titulo  SolteiraPais  \n",
       "PassengerId                                   \n",
       "11                 S  Solteira             1  \n",
       "25                 S  Solteira             1  \n",
       "44                 C  Solteira             1  \n",
       "59                 S  Solteira             1  \n",
       "69                 S  Solteira             1  "
      ]
     },
     "execution_count": 26,
     "metadata": {},
     "output_type": "execute_result"
    }
   ],
   "source": [
    "df['SolteiraPais'] = 0\n",
    "for idx, _ in df.iterrows():\n",
    "    if idx in df.loc[(df['Titulo'] == 'Solteira') & (df['PaisFilhos'] >= 1)].index.values:\n",
    "        df['SolteiraPais'].at[idx] = 1\n",
    "        \n",
    "df[df['SolteiraPais']==1].head()"
   ]
  },
  {
   "cell_type": "code",
   "execution_count": 27,
   "metadata": {},
   "outputs": [
    {
     "data": {
      "text/plain": [
       "12.178815789473683"
      ]
     },
     "execution_count": 27,
     "metadata": {},
     "output_type": "execute_result"
    }
   ],
   "source": [
    "df.loc[(df['SolteiraPais'] == 1)]['Idade'].mean()"
   ]
  },
  {
   "cell_type": "code",
   "execution_count": 28,
   "metadata": {},
   "outputs": [
    {
     "data": {
      "text/plain": [
       "31.26812371134021"
      ]
     },
     "execution_count": 28,
     "metadata": {},
     "output_type": "execute_result"
    }
   ],
   "source": [
    "df.loc[(df['SolteiraPais'] == 0)]['Idade'].mean()"
   ]
  },
  {
   "cell_type": "code",
   "execution_count": 29,
   "metadata": {},
   "outputs": [
    {
     "name": "stderr",
     "output_type": "stream",
     "text": [
      "C:\\ProgramData\\Anaconda3\\lib\\site-packages\\numpy\\lib\\histograms.py:839: RuntimeWarning: invalid value encountered in greater_equal\n",
      "  keep = (tmp_a >= first_edge)\n",
      "C:\\ProgramData\\Anaconda3\\lib\\site-packages\\numpy\\lib\\histograms.py:840: RuntimeWarning: invalid value encountered in less_equal\n",
      "  keep &= (tmp_a <= last_edge)\n"
     ]
    },
    {
     "data": {
      "image/png": "[encoded data removed]",
      "text/plain": [
       "<Figure size 2250x750 with 2 Axes>"
      ]
     },
     "metadata": {
      "needs_background": "light"
     },
     "output_type": "display_data"
    }
   ],
   "source": [
    "f, ax = plt.subplots(1,2, figsize=(15,5), dpi=150, sharey=True, sharex=True)\n",
    "\n",
    "ax[0].hist(df.loc[(df['SolteiraPais'] == 1)]['Idade'],\n",
    "        bins=15)\n",
    "ax[0].set(title='Distribuição de Idade das Solteiras c/ Pais',\n",
    "         xlabel='Idade', ylabel='Frequência')\n",
    "ax[0].grid()\n",
    "\n",
    "ax[1].hist(df.loc[(df['SolteiraPais'] == 0)]['Idade'],\n",
    "        bins=15)\n",
    "ax[1].set(title='Distribuição de Idade das Solteiras s/ Pais',\n",
    "         xlabel='Idade')\n",
    "ax[1].grid()\n",
    "\n",
    "plt.tight_layout()\n",
    "plt.show()"
   ]
  },
  {
   "cell_type": "markdown",
   "metadata": {},
   "source": [
    "### Transformar recursos categórios em \"dummies\""
   ]
  },
  {
   "cell_type": "code",
   "execution_count": 30,
   "metadata": {},
   "outputs": [],
   "source": [
    "df['Sexo'] = df['Sexo'].map({'homem':0,'mulher':1})"
   ]
  },
  {
   "cell_type": "code",
   "execution_count": 31,
   "metadata": {},
   "outputs": [
    {
     "data": {
      "text/html": [
       "<div>\n",
       "<style scoped>\n",
       "    .dataframe tbody tr th:only-of-type {\n",
       "        vertical-align: middle;\n",
       "    }\n",
       "\n",
       "    .dataframe tbody tr th {\n",
       "        vertical-align: top;\n",
       "    }\n",
       "\n",
       "    .dataframe thead th {\n",
       "        text-align: right;\n",
       "    }\n",
       "</style>\n",
       "<table border=\"1\" class=\"dataframe\">\n",
       "  <thead>\n",
       "    <tr style=\"text-align: right;\">\n",
       "      <th></th>\n",
       "      <th>Classe</th>\n",
       "      <th>Sexo</th>\n",
       "      <th>Idade</th>\n",
       "      <th>IrmaosConjuge</th>\n",
       "      <th>PaisFilhos</th>\n",
       "      <th>Tarifa</th>\n",
       "      <th>Embarque</th>\n",
       "      <th>Titulo</th>\n",
       "      <th>SolteiraPais</th>\n",
       "    </tr>\n",
       "    <tr>\n",
       "      <th>PassengerId</th>\n",
       "      <th></th>\n",
       "      <th></th>\n",
       "      <th></th>\n",
       "      <th></th>\n",
       "      <th></th>\n",
       "      <th></th>\n",
       "      <th></th>\n",
       "      <th></th>\n",
       "      <th></th>\n",
       "    </tr>\n",
       "  </thead>\n",
       "  <tbody>\n",
       "    <tr>\n",
       "      <th>1</th>\n",
       "      <td>3</td>\n",
       "      <td>0</td>\n",
       "      <td>22.0</td>\n",
       "      <td>1</td>\n",
       "      <td>0</td>\n",
       "      <td>7.2500</td>\n",
       "      <td>S</td>\n",
       "      <td>Adulto</td>\n",
       "      <td>0</td>\n",
       "    </tr>\n",
       "    <tr>\n",
       "      <th>2</th>\n",
       "      <td>1</td>\n",
       "      <td>1</td>\n",
       "      <td>38.0</td>\n",
       "      <td>1</td>\n",
       "      <td>0</td>\n",
       "      <td>71.2833</td>\n",
       "      <td>C</td>\n",
       "      <td>Casada</td>\n",
       "      <td>0</td>\n",
       "    </tr>\n",
       "    <tr>\n",
       "      <th>3</th>\n",
       "      <td>3</td>\n",
       "      <td>1</td>\n",
       "      <td>26.0</td>\n",
       "      <td>0</td>\n",
       "      <td>0</td>\n",
       "      <td>7.9250</td>\n",
       "      <td>S</td>\n",
       "      <td>Solteira</td>\n",
       "      <td>0</td>\n",
       "    </tr>\n",
       "    <tr>\n",
       "      <th>4</th>\n",
       "      <td>1</td>\n",
       "      <td>1</td>\n",
       "      <td>35.0</td>\n",
       "      <td>1</td>\n",
       "      <td>0</td>\n",
       "      <td>53.1000</td>\n",
       "      <td>S</td>\n",
       "      <td>Casada</td>\n",
       "      <td>0</td>\n",
       "    </tr>\n",
       "    <tr>\n",
       "      <th>5</th>\n",
       "      <td>3</td>\n",
       "      <td>0</td>\n",
       "      <td>35.0</td>\n",
       "      <td>0</td>\n",
       "      <td>0</td>\n",
       "      <td>8.0500</td>\n",
       "      <td>S</td>\n",
       "      <td>Adulto</td>\n",
       "      <td>0</td>\n",
       "    </tr>\n",
       "  </tbody>\n",
       "</table>\n",
       "</div>"
      ],
      "text/plain": [
       "             Classe  Sexo  Idade  IrmaosConjuge  PaisFilhos   Tarifa Embarque  \\\n",
       "PassengerId                                                                     \n",
       "1                 3     0   22.0              1           0   7.2500        S   \n",
       "2                 1     1   38.0              1           0  71.2833        C   \n",
       "3                 3     1   26.0              0           0   7.9250        S   \n",
       "4                 1     1   35.0              1           0  53.1000        S   \n",
       "5                 3     0   35.0              0           0   8.0500        S   \n",
       "\n",
       "               Titulo  SolteiraPais  \n",
       "PassengerId                          \n",
       "1              Adulto             0  \n",
       "2              Casada             0  \n",
       "3            Solteira             0  \n",
       "4              Casada             0  \n",
       "5              Adulto             0  "
      ]
     },
     "execution_count": 31,
     "metadata": {},
     "output_type": "execute_result"
    }
   ],
   "source": [
    "df.head()"
   ]
  },
  {
   "cell_type": "code",
   "execution_count": 32,
   "metadata": {},
   "outputs": [
    {
     "data": {
      "text/plain": [
       "array(['Embarque', 'Titulo'], dtype=object)"
      ]
     },
     "execution_count": 32,
     "metadata": {},
     "output_type": "execute_result"
    }
   ],
   "source": [
    "df.describe(include='O').columns.values"
   ]
  },
  {
   "cell_type": "code",
   "execution_count": 33,
   "metadata": {
    "scrolled": true
   },
   "outputs": [
    {
     "data": {
      "text/html": [
       "<div>\n",
       "<style scoped>\n",
       "    .dataframe tbody tr th:only-of-type {\n",
       "        vertical-align: middle;\n",
       "    }\n",
       "\n",
       "    .dataframe tbody tr th {\n",
       "        vertical-align: top;\n",
       "    }\n",
       "\n",
       "    .dataframe thead th {\n",
       "        text-align: right;\n",
       "    }\n",
       "</style>\n",
       "<table border=\"1\" class=\"dataframe\">\n",
       "  <thead>\n",
       "    <tr style=\"text-align: right;\">\n",
       "      <th></th>\n",
       "      <th>Sexo</th>\n",
       "      <th>Idade</th>\n",
       "      <th>IrmaosConjuge</th>\n",
       "      <th>PaisFilhos</th>\n",
       "      <th>Tarifa</th>\n",
       "      <th>SolteiraPais</th>\n",
       "      <th>Classe_2</th>\n",
       "      <th>Classe_3</th>\n",
       "      <th>Embarque_Q</th>\n",
       "      <th>Embarque_S</th>\n",
       "      <th>Titulo_Casada</th>\n",
       "      <th>Titulo_Menino</th>\n",
       "      <th>Titulo_Solteira</th>\n",
       "    </tr>\n",
       "    <tr>\n",
       "      <th>PassengerId</th>\n",
       "      <th></th>\n",
       "      <th></th>\n",
       "      <th></th>\n",
       "      <th></th>\n",
       "      <th></th>\n",
       "      <th></th>\n",
       "      <th></th>\n",
       "      <th></th>\n",
       "      <th></th>\n",
       "      <th></th>\n",
       "      <th></th>\n",
       "      <th></th>\n",
       "      <th></th>\n",
       "    </tr>\n",
       "  </thead>\n",
       "  <tbody>\n",
       "    <tr>\n",
       "      <th>1</th>\n",
       "      <td>0</td>\n",
       "      <td>22.0</td>\n",
       "      <td>1</td>\n",
       "      <td>0</td>\n",
       "      <td>7.2500</td>\n",
       "      <td>0</td>\n",
       "      <td>0</td>\n",
       "      <td>1</td>\n",
       "      <td>0</td>\n",
       "      <td>1</td>\n",
       "      <td>0</td>\n",
       "      <td>0</td>\n",
       "      <td>0</td>\n",
       "    </tr>\n",
       "    <tr>\n",
       "      <th>2</th>\n",
       "      <td>1</td>\n",
       "      <td>38.0</td>\n",
       "      <td>1</td>\n",
       "      <td>0</td>\n",
       "      <td>71.2833</td>\n",
       "      <td>0</td>\n",
       "      <td>0</td>\n",
       "      <td>0</td>\n",
       "      <td>0</td>\n",
       "      <td>0</td>\n",
       "      <td>1</td>\n",
       "      <td>0</td>\n",
       "      <td>0</td>\n",
       "    </tr>\n",
       "    <tr>\n",
       "      <th>3</th>\n",
       "      <td>1</td>\n",
       "      <td>26.0</td>\n",
       "      <td>0</td>\n",
       "      <td>0</td>\n",
       "      <td>7.9250</td>\n",
       "      <td>0</td>\n",
       "      <td>0</td>\n",
       "      <td>1</td>\n",
       "      <td>0</td>\n",
       "      <td>1</td>\n",
       "      <td>0</td>\n",
       "      <td>0</td>\n",
       "      <td>1</td>\n",
       "    </tr>\n",
       "    <tr>\n",
       "      <th>4</th>\n",
       "      <td>1</td>\n",
       "      <td>35.0</td>\n",
       "      <td>1</td>\n",
       "      <td>0</td>\n",
       "      <td>53.1000</td>\n",
       "      <td>0</td>\n",
       "      <td>0</td>\n",
       "      <td>0</td>\n",
       "      <td>0</td>\n",
       "      <td>1</td>\n",
       "      <td>1</td>\n",
       "      <td>0</td>\n",
       "      <td>0</td>\n",
       "    </tr>\n",
       "    <tr>\n",
       "      <th>5</th>\n",
       "      <td>0</td>\n",
       "      <td>35.0</td>\n",
       "      <td>0</td>\n",
       "      <td>0</td>\n",
       "      <td>8.0500</td>\n",
       "      <td>0</td>\n",
       "      <td>0</td>\n",
       "      <td>1</td>\n",
       "      <td>0</td>\n",
       "      <td>1</td>\n",
       "      <td>0</td>\n",
       "      <td>0</td>\n",
       "      <td>0</td>\n",
       "    </tr>\n",
       "  </tbody>\n",
       "</table>\n",
       "</div>"
      ],
      "text/plain": [
       "             Sexo  Idade  IrmaosConjuge  PaisFilhos   Tarifa  SolteiraPais  \\\n",
       "PassengerId                                                                  \n",
       "1               0   22.0              1           0   7.2500             0   \n",
       "2               1   38.0              1           0  71.2833             0   \n",
       "3               1   26.0              0           0   7.9250             0   \n",
       "4               1   35.0              1           0  53.1000             0   \n",
       "5               0   35.0              0           0   8.0500             0   \n",
       "\n",
       "             Classe_2  Classe_3  Embarque_Q  Embarque_S  Titulo_Casada  \\\n",
       "PassengerId                                                              \n",
       "1                   0         1           0           1              0   \n",
       "2                   0         0           0           0              1   \n",
       "3                   0         1           0           1              0   \n",
       "4                   0         0           0           1              1   \n",
       "5                   0         1           0           1              0   \n",
       "\n",
       "             Titulo_Menino  Titulo_Solteira  \n",
       "PassengerId                                  \n",
       "1                        0                0  \n",
       "2                        0                0  \n",
       "3                        0                1  \n",
       "4                        0                0  \n",
       "5                        0                0  "
      ]
     },
     "execution_count": 33,
     "metadata": {},
     "output_type": "execute_result"
    }
   ],
   "source": [
    "df = pd.get_dummies(df, columns=['Classe']+list(df.describe(include='O').columns.values),\n",
    "                    drop_first=True)\n",
    "df.head()"
   ]
  },
  {
   "cell_type": "code",
   "execution_count": 34,
   "metadata": {},
   "outputs": [
    {
     "data": {
      "text/plain": [
       "(1309, 13)"
      ]
     },
     "execution_count": 34,
     "metadata": {},
     "output_type": "execute_result"
    }
   ],
   "source": [
    "df.shape"
   ]
  },
  {
   "cell_type": "markdown",
   "metadata": {},
   "source": [
    "### Separar train e test para idades\n",
    "* treinar com dados não nulos\n",
    "* aplicar modelo em dados nulos"
   ]
  },
  {
   "cell_type": "code",
   "execution_count": 35,
   "metadata": {},
   "outputs": [
    {
     "data": {
      "text/plain": [
       "Sexo                 0\n",
       "Idade              263\n",
       "IrmaosConjuge        0\n",
       "PaisFilhos           0\n",
       "Tarifa               0\n",
       "SolteiraPais         0\n",
       "Classe_2             0\n",
       "Classe_3             0\n",
       "Embarque_Q           0\n",
       "Embarque_S           0\n",
       "Titulo_Casada        0\n",
       "Titulo_Menino        0\n",
       "Titulo_Solteira      0\n",
       "dtype: int64"
      ]
     },
     "execution_count": 35,
     "metadata": {},
     "output_type": "execute_result"
    }
   ],
   "source": [
    "df.isnull().sum()"
   ]
  },
  {
   "cell_type": "code",
   "execution_count": 36,
   "metadata": {},
   "outputs": [
    {
     "data": {
      "text/plain": [
       "((1046, 13), (263, 12))"
      ]
     },
     "execution_count": 36,
     "metadata": {},
     "output_type": "execute_result"
    }
   ],
   "source": [
    "train_idade = df.dropna()\n",
    "test_idade = df.loc[df['Idade'].isnull()].drop('Idade', axis=1)\n",
    "train_idade.shape, test_idade.shape"
   ]
  },
  {
   "cell_type": "markdown",
   "metadata": {},
   "source": [
    "### Definir X e y para treinar o modelo"
   ]
  },
  {
   "cell_type": "code",
   "execution_count": 37,
   "metadata": {},
   "outputs": [
    {
     "data": {
      "text/plain": [
       "((1046, 12), (1046,))"
      ]
     },
     "execution_count": 37,
     "metadata": {},
     "output_type": "execute_result"
    }
   ],
   "source": [
    "X = train_idade.drop('Idade', axis=1)\n",
    "y = train_idade['Idade']\n",
    "X.shape, y.shape"
   ]
  },
  {
   "cell_type": "code",
   "execution_count": 38,
   "metadata": {},
   "outputs": [],
   "source": [
    "from sklearn.linear_model import LinearRegression\n",
    "from sklearn.model_selection import train_test_split\n",
    "from sklearn.metrics import mean_squared_error"
   ]
  },
  {
   "cell_type": "code",
   "execution_count": 39,
   "metadata": {},
   "outputs": [],
   "source": [
    "regressor = LinearRegression()"
   ]
  },
  {
   "cell_type": "code",
   "execution_count": 40,
   "metadata": {},
   "outputs": [],
   "source": [
    "X_train, X_test, y_train, y_test = train_test_split(\n",
    "    X, y, test_size=0.30, random_state=123)"
   ]
  },
  {
   "cell_type": "markdown",
   "metadata": {},
   "source": [
    "### Treinar modelo"
   ]
  },
  {
   "cell_type": "code",
   "execution_count": 41,
   "metadata": {},
   "outputs": [
    {
     "data": {
      "text/plain": [
       "((732, 12), (732,))"
      ]
     },
     "execution_count": 41,
     "metadata": {},
     "output_type": "execute_result"
    }
   ],
   "source": [
    "X_train.shape, y_train.shape"
   ]
  },
  {
   "cell_type": "code",
   "execution_count": 42,
   "metadata": {},
   "outputs": [
    {
     "data": {
      "text/plain": [
       "((314, 12), (314,))"
      ]
     },
     "execution_count": 42,
     "metadata": {},
     "output_type": "execute_result"
    }
   ],
   "source": [
    "X_test.shape, y_test.shape"
   ]
  },
  {
   "cell_type": "code",
   "execution_count": 43,
   "metadata": {},
   "outputs": [
    {
     "data": {
      "text/plain": [
       "106.99112001968994"
      ]
     },
     "execution_count": 43,
     "metadata": {},
     "output_type": "execute_result"
    }
   ],
   "source": [
    "regressor.fit(X_train, y_train)\n",
    "prediction = regressor.predict(X_test)\n",
    "mse = mean_squared_error(prediction, y_test)\n",
    "mse"
   ]
  },
  {
   "cell_type": "code",
   "execution_count": 44,
   "metadata": {},
   "outputs": [
    {
     "data": {
      "text/plain": [
       "10.343651193833344"
      ]
     },
     "execution_count": 44,
     "metadata": {},
     "output_type": "execute_result"
    }
   ],
   "source": [
    "rmse = mse**0.5\n",
    "rmse"
   ]
  },
  {
   "cell_type": "code",
   "execution_count": 45,
   "metadata": {},
   "outputs": [
    {
     "data": {
      "text/plain": [
       "0.48256715982918497"
      ]
     },
     "execution_count": 45,
     "metadata": {},
     "output_type": "execute_result"
    }
   ],
   "source": [
    "regressor.score(X_test, y_test)"
   ]
  },
  {
   "cell_type": "code",
   "execution_count": 46,
   "metadata": {},
   "outputs": [
    {
     "data": {
      "image/png": "[encoded data removed]",
      "text/plain": [
       "<Figure size 1050x1050 with 1 Axes>"
      ]
     },
     "metadata": {
      "needs_background": "light"
     },
     "output_type": "display_data"
    }
   ],
   "source": [
    "from model.Regression import Regression\n",
    "reg = Regression()\n",
    "reg.set_data(y_test, prediction)\n",
    "reg.plot_regression('Regressão Idades TITANIC',['Targets', 'Predictions'],1)"
   ]
  },
  {
   "cell_type": "code",
   "execution_count": 47,
   "metadata": {},
   "outputs": [
    {
     "data": {
      "text/plain": [
       "16.07731582091399"
      ]
     },
     "execution_count": 47,
     "metadata": {},
     "output_type": "execute_result"
    }
   ],
   "source": [
    "const = reg.b\n",
    "const"
   ]
  },
  {
   "cell_type": "code",
   "execution_count": 48,
   "metadata": {},
   "outputs": [
    {
     "data": {
      "text/plain": [
       "0.470386954974518"
      ]
     },
     "execution_count": 48,
     "metadata": {},
     "output_type": "execute_result"
    }
   ],
   "source": [
    "x1 = reg.m\n",
    "x1"
   ]
  },
  {
   "cell_type": "code",
   "execution_count": 49,
   "metadata": {},
   "outputs": [
    {
     "data": {
      "image/png": "[encoded data removed]",
      "text/plain": [
       "<Figure size 1050x1050 with 1 Axes>"
      ]
     },
     "metadata": {
      "needs_background": "light"
     },
     "output_type": "display_data"
    }
   ],
   "source": [
    "yhat =  x1 * y_test + const\n",
    "fig = plt.gcf()\n",
    "fig.set_size_inches(7,7)\n",
    "fig.set_dpi(150)\n",
    "\n",
    "plt.scatter(y_test, prediction, s=10)\n",
    "plt.plot(y_test, yhat, color='orange')\n",
    "plt.xlim(0,80)\n",
    "plt.ylim(0,80)\n",
    "plt.xlabel('Targets')\n",
    "plt.ylabel('Predictions')\n",
    "plt.title('Targets Vs Predictions')\n",
    "plt.grid()\n",
    "plt.show()"
   ]
  },
  {
   "cell_type": "code",
   "execution_count": 50,
   "metadata": {},
   "outputs": [],
   "source": [
    "test_idade['Idade'] = regressor.predict(test_idade)"
   ]
  },
  {
   "cell_type": "code",
   "execution_count": 51,
   "metadata": {},
   "outputs": [
    {
     "data": {
      "text/plain": [
       "Sexo               0\n",
       "IrmaosConjuge      0\n",
       "PaisFilhos         0\n",
       "Tarifa             0\n",
       "SolteiraPais       0\n",
       "Classe_2           0\n",
       "Classe_3           0\n",
       "Embarque_Q         0\n",
       "Embarque_S         0\n",
       "Titulo_Casada      0\n",
       "Titulo_Menino      0\n",
       "Titulo_Solteira    0\n",
       "Idade              0\n",
       "dtype: int64"
      ]
     },
     "execution_count": 51,
     "metadata": {},
     "output_type": "execute_result"
    }
   ],
   "source": [
    "test_idade.isnull().sum()"
   ]
  },
  {
   "cell_type": "markdown",
   "metadata": {},
   "source": [
    "### Concatenar dados"
   ]
  },
  {
   "cell_type": "code",
   "execution_count": 52,
   "metadata": {},
   "outputs": [
    {
     "data": {
      "text/plain": [
       "((263, 13), (1046, 13))"
      ]
     },
     "execution_count": 52,
     "metadata": {},
     "output_type": "execute_result"
    }
   ],
   "source": [
    "test_idade.shape, train_idade.shape"
   ]
  },
  {
   "cell_type": "code",
   "execution_count": 54,
   "metadata": {},
   "outputs": [],
   "source": [
    "idade = pd.concat([train_idade, test_idade], sort=False)"
   ]
  },
  {
   "cell_type": "code",
   "execution_count": 55,
   "metadata": {},
   "outputs": [
    {
     "data": {
      "text/plain": [
       "Sexo               0\n",
       "Idade              0\n",
       "IrmaosConjuge      0\n",
       "PaisFilhos         0\n",
       "Tarifa             0\n",
       "SolteiraPais       0\n",
       "Classe_2           0\n",
       "Classe_3           0\n",
       "Embarque_Q         0\n",
       "Embarque_S         0\n",
       "Titulo_Casada      0\n",
       "Titulo_Menino      0\n",
       "Titulo_Solteira    0\n",
       "dtype: int64"
      ]
     },
     "execution_count": 55,
     "metadata": {},
     "output_type": "execute_result"
    }
   ],
   "source": [
    "idade.isnull().sum()"
   ]
  },
  {
   "cell_type": "code",
   "execution_count": 56,
   "metadata": {},
   "outputs": [
    {
     "data": {
      "text/plain": [
       "(1309, 13)"
      ]
     },
     "execution_count": 56,
     "metadata": {},
     "output_type": "execute_result"
    }
   ],
   "source": [
    "idade.shape"
   ]
  },
  {
   "cell_type": "code",
   "execution_count": 57,
   "metadata": {},
   "outputs": [
    {
     "data": {
      "text/html": [
       "<div>\n",
       "<style scoped>\n",
       "    .dataframe tbody tr th:only-of-type {\n",
       "        vertical-align: middle;\n",
       "    }\n",
       "\n",
       "    .dataframe tbody tr th {\n",
       "        vertical-align: top;\n",
       "    }\n",
       "\n",
       "    .dataframe thead th {\n",
       "        text-align: right;\n",
       "    }\n",
       "</style>\n",
       "<table border=\"1\" class=\"dataframe\">\n",
       "  <thead>\n",
       "    <tr style=\"text-align: right;\">\n",
       "      <th></th>\n",
       "      <th>IdPassageiro</th>\n",
       "      <th>Idade</th>\n",
       "    </tr>\n",
       "    <tr>\n",
       "      <th>PassengerId</th>\n",
       "      <th></th>\n",
       "      <th></th>\n",
       "    </tr>\n",
       "  </thead>\n",
       "  <tbody>\n",
       "    <tr>\n",
       "      <th>1</th>\n",
       "      <td>1</td>\n",
       "      <td>22.000000</td>\n",
       "    </tr>\n",
       "    <tr>\n",
       "      <th>2</th>\n",
       "      <td>2</td>\n",
       "      <td>38.000000</td>\n",
       "    </tr>\n",
       "    <tr>\n",
       "      <th>3</th>\n",
       "      <td>3</td>\n",
       "      <td>26.000000</td>\n",
       "    </tr>\n",
       "    <tr>\n",
       "      <th>4</th>\n",
       "      <td>4</td>\n",
       "      <td>35.000000</td>\n",
       "    </tr>\n",
       "    <tr>\n",
       "      <th>5</th>\n",
       "      <td>5</td>\n",
       "      <td>35.000000</td>\n",
       "    </tr>\n",
       "    <tr>\n",
       "      <th>...</th>\n",
       "      <td>...</td>\n",
       "      <td>...</td>\n",
       "    </tr>\n",
       "    <tr>\n",
       "      <th>1300</th>\n",
       "      <td>1300</td>\n",
       "      <td>25.371726</td>\n",
       "    </tr>\n",
       "    <tr>\n",
       "      <th>1302</th>\n",
       "      <td>1302</td>\n",
       "      <td>25.371370</td>\n",
       "    </tr>\n",
       "    <tr>\n",
       "      <th>1305</th>\n",
       "      <td>1305</td>\n",
       "      <td>29.153974</td>\n",
       "    </tr>\n",
       "    <tr>\n",
       "      <th>1308</th>\n",
       "      <td>1308</td>\n",
       "      <td>29.153974</td>\n",
       "    </tr>\n",
       "    <tr>\n",
       "      <th>1309</th>\n",
       "      <td>1309</td>\n",
       "      <td>0.819206</td>\n",
       "    </tr>\n",
       "  </tbody>\n",
       "</table>\n",
       "<p>1309 rows × 2 columns</p>\n",
       "</div>"
      ],
      "text/plain": [
       "             IdPassageiro      Idade\n",
       "PassengerId                         \n",
       "1                       1  22.000000\n",
       "2                       2  38.000000\n",
       "3                       3  26.000000\n",
       "4                       4  35.000000\n",
       "5                       5  35.000000\n",
       "...                   ...        ...\n",
       "1300                 1300  25.371726\n",
       "1302                 1302  25.371370\n",
       "1305                 1305  29.153974\n",
       "1308                 1308  29.153974\n",
       "1309                 1309   0.819206\n",
       "\n",
       "[1309 rows x 2 columns]"
      ]
     },
     "execution_count": 57,
     "metadata": {},
     "output_type": "execute_result"
    }
   ],
   "source": [
    "idade_completa = pd.DataFrame({'IdPassageiro':idade.index, 'Idade':idade['Idade']})\n",
    "idade_completa"
   ]
  },
  {
   "cell_type": "code",
   "execution_count": 58,
   "metadata": {},
   "outputs": [],
   "source": [
    "idade_completa.to_csv('CSVs/titanic/idade_comleta.csv', index=False)"
   ]
  }
 ],
 "metadata": {
  "kernelspec": {
   "display_name": "Python 3",
   "language": "python",
   "name": "python3"
  },
  "language_info": {
   "codemirror_mode": {
    "name": "ipython",
    "version": 3
   },
   "file_extension": ".py",
   "mimetype": "text/x-python",
   "name": "python",
   "nbconvert_exporter": "python",
   "pygments_lexer": "ipython3",
   "version": "3.7.6"
  }
 },
 "nbformat": 4,
 "nbformat_minor": 4
}
